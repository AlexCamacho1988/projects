{
 "cells": [
  {
   "cell_type": "markdown",
   "metadata": {},
   "source": [
    "# Hola &#x1F600;,\n",
    "\n",
    "Soy **Hesus Garcia** – **\"Soy el único Hesus que conoces (y probablemente conocerás) 🌟\"** – Sí, como \"Jesús\", pero con una H que me hace único. Puede sonar raro, pero créeme, ¡no lo olvidarás! Como tu revisor en Triple-Ten, estoy aquí para guiarte y ayudarte a mejorar tu código. Si algo necesita un ajuste, no hay de qué preocuparse; ¡aquí estoy para hacer que tu trabajo brille con todo su potencial! ✨\n",
    "\n",
    "Cada vez que encuentre un detalle importante en tu código, te lo señalaré para que puedas corregirlo y así te prepares para un ambiente de trabajo real, donde el líder de tu equipo actuaría de manera similar. Si en algún momento no logras solucionar el problema, te daré más detalles para ayudarte en nuestra próxima oportunidad de revisión.\n",
    "\n",
    "Es importante que cuando encuentres un comentario, **no los muevas, no los modifiques, ni los borres**.\n",
    "\n",
    "---\n",
    "\n",
    "### Formato de Comentarios\n",
    "\n",
    "Revisaré cuidadosamente cada implementación en tu notebook para asegurar que cumpla con los requisitos y te daré comentarios de acuerdo al siguiente formato:\n",
    "\n",
    "\n",
    "<div class=\"alert alert-block alert-success\">\n",
    "<b>Comentario del revisor</b> <a class=\"tocSkip\"></a><br>\n",
    "    \n",
    "<b>Éxito</b> - ¡Excelente trabajo! Esta parte está bien implementada y contribuye significativamente al análisis de datos o al proyecto. Continúa aplicando estas buenas prácticas en futuras secciones.\n",
    "    \n",
    "</div>\n",
    "\n",
    "<div class=\"alert alert-block alert-warning\">\n",
    "<b>Comentario del revisor</b> <a class=\"tocSkip\"></a><br>\n",
    "    \n",
    "<b>Atención</b> ⚠️ - Este código está correcto, pero se puede optimizar. Considera implementar mejoras para que sea más eficiente y fácil de leer. Esto fortalecerá la calidad de tu proyecto.\n",
    "    \n",
    "</div>\n",
    "\n",
    "<div class=\"alert alert-block alert-danger\">\n",
    "<b>Comentario del revisor</b> <a class=\"tocSkip\"></a><br>\n",
    "    \n",
    "<b>A resolver</b> ❗ - Aquí hay un problema o error en el código que es necesario corregir para aprobar esta sección. Por favor, revisa y corrige este punto, ya que es fundamental para la validez del análisis y la precisión de los resultados.\n",
    "    \n",
    "</div>\n",
    "\n",
    "---\n",
    "\n",
    "Al final de cada revisión, recibirás un **Comentario General del Revisor** que incluirá:\n",
    "\n",
    "- **Aspectos positivos:** Un resumen de los puntos fuertes de tu proyecto.\n",
    "- **Áreas de mejora:** Sugerencias sobre aspectos donde puedes mejorar.\n",
    "- **Temas adicionales para investigar:** Ideas de temas opcionales que puedes explorar por tu cuenta para desarrollar aún más tus habilidades.\n",
    "\n",
    "Estos temas adicionales no son obligatorios en esta etapa, pero pueden serte útiles para profundizar en el futuro.\n",
    "\n",
    "---\n",
    "\n",
    "\n",
    "Esta estructura en viñetas facilita la lectura y comprensión de cada parte del comentario final.\n",
    "\n",
    "También puedes responderme de la siguiente manera si tienes alguna duda o quieres aclarar algo específico:\n",
    "\n",
    "\n",
    "<div class=\"alert alert-block alert-info\">\n",
    "<b>Respuesta del estudiante</b> <a class=\"tocSkip\"></a>\n",
    "    \n",
    "Aquí puedes escribir tu respuesta o pregunta sobre el comentario.\n",
    "    \n",
    "</div>\n",
    "\n",
    "\n",
    "**¡Empecemos!** &#x1F680;\n",
    "\n",
    "\n",
    "\n",
    "\n",
    "\n",
    "\n",
    "\n",
    "\n",
    "\n",
    "\n",
    "\n",
    "\n"
   ]
  },
  {
   "cell_type": "markdown",
   "metadata": {},
   "source": [
    "## Objetivo del proyecto ##"
   ]
  },
  {
   "cell_type": "markdown",
   "metadata": {},
   "source": [
    "El presente proyecto tiene como objetivo analizar y proponer los libros y editoriales que mayores ventas han tenido en un plazo determinado, para sí promover aquellos más propensos a que sean adquiridos por nuevos clientes y a su vez, pueda servir de base para que otros autores o escritores dediquen sus esfuerzos en la creación de nuevas historias basándose en los gustos de los lectores, basándonos en reseñas y calificaciones otorgadas por diversos usuarios.\n",
    "\n",
    "La obtención de estos datos los obtenderemos por medio de una base de datos descargada en línea utilizando el lenguaje SQL y exponiendo en cada paso del proyecto los resultados obtenidos. "
   ]
  },
  {
   "cell_type": "code",
   "execution_count": 1,
   "metadata": {},
   "outputs": [],
   "source": [
    "\n",
    "\n",
    "# import libraries\n",
    "import pandas as pd\n",
    "from sqlalchemy import create_engine\n",
    "\n",
    "db_config = {\n",
    " 'user': 'practicum_student', # username\n",
    " 'pwd': 'QnmDH8Sc2TQLvy2G3Vvh7', # password\n",
    " 'host': 'yp-trainers-practicum.cluster-czs0gxyx2d8w.us-east-1.rds.amazonaws.com',\n",
    " 'port': 5432, # connection port\n",
    " 'db': 'data-analyst-final-project-db' # the name of the database\n",
    " }\n",
    "connection_string = 'postgresql://{}:{}@{}:{}/{}'.format(db_config['user'], db_config['pwd'], db_config['host'], db_config['port'], db_config['db'])\n",
    "\n",
    "engine = create_engine(connection_string, connect_args={'sslmode':'require'})\n"
   ]
  },
  {
   "cell_type": "markdown",
   "metadata": {},
   "source": [
    "\n",
    "<div class=\"alert alert-block alert-danger\">\n",
    "\n",
    "<b>Comentario del revisor</b> <a class=\"tocSkip\"></a><br>\n",
    "\n",
    "<b>A resolver</b> ❗ - Muy bien logrado el paso de conexión a la base de datos, se nota que comprendes cómo usar `SQLAlchemy`. Sin embargo, es importante **no incluir datos sensibles como contraseñas o usuarios directamente en el código**.\n",
    "\n",
    "Te recomiendo que uses **variables de entorno (`env`)** o archivos de configuración (como `.env`) para proteger esta información. Esto no solo mejora la seguridad, sino que también es una buena práctica profesional para proyectos colaborativos o de producción.\n",
    "\n",
    "¡Sigue así! Este tipo de ajustes te hará escribir código más seguro y reutilizable. 💻🔐\n",
    "\n",
    "</div>\n",
    "\n"
   ]
  },
  {
   "cell_type": "code",
   "execution_count": 2,
   "metadata": {},
   "outputs": [],
   "source": [
    "# Apartado solo para ver todas las tablas disponibles para su descarga de la fuente\n",
    "query = ''' SELECT *\n",
    "FROM information_schema.tables \n",
    "WHERE table_schema = 'public';'''\n",
    "\n",
    "data_raw = pd.io.sql.read_sql(query, con = engine)\n",
    "\n"
   ]
  },
  {
   "cell_type": "code",
   "execution_count": 3,
   "metadata": {},
   "outputs": [
    {
     "name": "stdout",
     "output_type": "stream",
     "text": [
      "<bound method NDFrame.head of                    table_catalog table_schema          table_name  table_type  \\\n",
      "0  data-analyst-final-project-db       public             ratings  BASE TABLE   \n",
      "1  data-analyst-final-project-db       public  advertisment_costs  BASE TABLE   \n",
      "2  data-analyst-final-project-db       public             authors  BASE TABLE   \n",
      "3  data-analyst-final-project-db       public              orders  BASE TABLE   \n",
      "4  data-analyst-final-project-db       public             reviews  BASE TABLE   \n",
      "5  data-analyst-final-project-db       public              visits  BASE TABLE   \n",
      "6  data-analyst-final-project-db       public               books  BASE TABLE   \n",
      "7  data-analyst-final-project-db       public               users  BASE TABLE   \n",
      "8  data-analyst-final-project-db       public          publishers  BASE TABLE   \n",
      "\n",
      "  self_referencing_column_name reference_generation user_defined_type_catalog  \\\n",
      "0                         None                 None                      None   \n",
      "1                         None                 None                      None   \n",
      "2                         None                 None                      None   \n",
      "3                         None                 None                      None   \n",
      "4                         None                 None                      None   \n",
      "5                         None                 None                      None   \n",
      "6                         None                 None                      None   \n",
      "7                         None                 None                      None   \n",
      "8                         None                 None                      None   \n",
      "\n",
      "  user_defined_type_schema user_defined_type_name is_insertable_into is_typed  \\\n",
      "0                     None                   None                YES       NO   \n",
      "1                     None                   None                YES       NO   \n",
      "2                     None                   None                YES       NO   \n",
      "3                     None                   None                YES       NO   \n",
      "4                     None                   None                YES       NO   \n",
      "5                     None                   None                YES       NO   \n",
      "6                     None                   None                YES       NO   \n",
      "7                     None                   None                YES       NO   \n",
      "8                     None                   None                YES       NO   \n",
      "\n",
      "  commit_action  \n",
      "0          None  \n",
      "1          None  \n",
      "2          None  \n",
      "3          None  \n",
      "4          None  \n",
      "5          None  \n",
      "6          None  \n",
      "7          None  \n",
      "8          None  >\n"
     ]
    }
   ],
   "source": [
    "print(data_raw.head)"
   ]
  },
  {
   "cell_type": "code",
   "execution_count": 4,
   "metadata": {},
   "outputs": [
    {
     "name": "stdout",
     "output_type": "stream",
     "text": [
      "     book_id  author_id                                              title  \\\n",
      "0          1        546                                       'Salem's Lot   \n",
      "1          2        465                 1 000 Places to See Before You Die   \n",
      "2          3        407  13 Little Blue Envelopes (Little Blue Envelope...   \n",
      "3          4         82  1491: New Revelations of the Americas Before C...   \n",
      "4          5        125                                               1776   \n",
      "..       ...        ...                                                ...   \n",
      "995      996        571           Wyrd Sisters (Discworld  #6; Witches #2)   \n",
      "996      997        454                        Xenocide (Ender's Saga  #3)   \n",
      "997      998        201                                    Year of Wonders   \n",
      "998      999         94                        You Suck (A Love Story  #2)   \n",
      "999     1000        509  Zen and the Art of Motorcycle Maintenance: An ...   \n",
      "\n",
      "     num_pages publication_date  publisher_id  \n",
      "0          594       2005-11-01            93  \n",
      "1          992       2003-05-22           336  \n",
      "2          322       2010-12-21           135  \n",
      "3          541       2006-10-10           309  \n",
      "4          386       2006-07-04           268  \n",
      "..         ...              ...           ...  \n",
      "995        265       2001-02-06           147  \n",
      "996        592       1996-07-15           297  \n",
      "997        358       2002-04-30           212  \n",
      "998        328       2007-01-16           331  \n",
      "999        540       2006-04-25           143  \n",
      "\n",
      "[1000 rows x 6 columns]\n",
      "     author_id                                author\n",
      "0            1                            A.S. Byatt\n",
      "1            2        Aesop/Laura Harris/Laura Gibbs\n",
      "2            3                       Agatha Christie\n",
      "3            4                         Alan Brennert\n",
      "4            5              Alan Moore/David   Lloyd\n",
      "..         ...                                   ...\n",
      "631        632         William Strunk Jr./E.B. White\n",
      "632        633                           Zadie Smith\n",
      "633        634                 Zilpha Keatley Snyder\n",
      "634        635                    Zora Neale Hurston\n",
      "635        636  Åsne Seierstad/Ingrid Christopherson\n",
      "\n",
      "[636 rows x 2 columns]\n",
      "     publisher_id                          publisher\n",
      "0               1                                Ace\n",
      "1               2                           Ace Book\n",
      "2               3                          Ace Books\n",
      "3               4                      Ace Hardcover\n",
      "4               5  Addison Wesley Publishing Company\n",
      "..            ...                                ...\n",
      "335           336         Workman Publishing Company\n",
      "336           337                         Wyatt Book\n",
      "337           338              Yale University Press\n",
      "338           339                           Yearling\n",
      "339           340                     Yearling Books\n",
      "\n",
      "[340 rows x 2 columns]\n",
      "      rating_id  book_id        username  rating\n",
      "0             1        1      ryanfranco       4\n",
      "1             2        1   grantpatricia       2\n",
      "2             3        1    brandtandrea       5\n",
      "3             4        2        lorichen       3\n",
      "4             5        2     mariokeller       2\n",
      "...         ...      ...             ...     ...\n",
      "6451       6452     1000  carolrodriguez       4\n",
      "6452       6453     1000         wendy18       4\n",
      "6453       6454     1000      jarvispaul       5\n",
      "6454       6455     1000           zross       2\n",
      "6455       6456     1000         fharris       5\n",
      "\n",
      "[6456 rows x 4 columns]\n",
      "      review_id  book_id        username  \\\n",
      "0             1        1    brandtandrea   \n",
      "1             2        1      ryanfranco   \n",
      "2             3        2        lorichen   \n",
      "3             4        3   johnsonamanda   \n",
      "4             5        3     scotttamara   \n",
      "...         ...      ...             ...   \n",
      "2788       2789      999      martinadam   \n",
      "2789       2790     1000         wknight   \n",
      "2790       2791     1000  carolrodriguez   \n",
      "2791       2792     1000         wendy18   \n",
      "2792       2793     1000      jarvispaul   \n",
      "\n",
      "                                                   text  \n",
      "0     Mention society tell send professor analysis. ...  \n",
      "1     Foot glass pretty audience hit themselves. Amo...  \n",
      "2     Listen treat keep worry. Miss husband tax but ...  \n",
      "3     Finally month interesting blue could nature cu...  \n",
      "4     Nation purpose heavy give wait song will. List...  \n",
      "...                                                 ...  \n",
      "2788  Later hospital turn easy community. Fact same ...  \n",
      "2789   Change lose answer close pressure. Spend so now.  \n",
      "2790  Authority go who television entire hair guy po...  \n",
      "2791  Or western offer wonder ask. More hear phone f...  \n",
      "2792  Republican staff bit eat material measure plan...  \n",
      "\n",
      "[2793 rows x 4 columns]\n"
     ]
    }
   ],
   "source": [
    "# Comprobación de que se descargaron los archivos correctamente\n",
    "\n",
    "query1 = ''' SELECT *\n",
    "FROM books'''\n",
    "\n",
    "books_df = pd.io.sql.read_sql(query1, con = engine)\n",
    "\n",
    "query2 = ''' SELECT *\n",
    "FROM authors'''\n",
    "\n",
    "authors_df = pd.io.sql.read_sql(query2, con = engine)\n",
    "\n",
    "query3 = ''' SELECT *\n",
    "FROM publishers'''\n",
    "\n",
    "publishers_df = pd.io.sql.read_sql(query3, con = engine)\n",
    "\n",
    "query4 = ''' SELECT *\n",
    "FROM ratings'''\n",
    "\n",
    "ratings_df = pd.io.sql.read_sql(query4, con = engine)\n",
    "\n",
    "query5 = ''' SELECT *\n",
    "FROM reviews'''\n",
    "\n",
    "reviews_df = pd.io.sql.read_sql(query5, con = engine)\n",
    "\n",
    "print(books_df)\n",
    "print(authors_df)\n",
    "print(publishers_df)\n",
    "print(ratings_df)\n",
    "print(reviews_df)"
   ]
  },
  {
   "cell_type": "markdown",
   "metadata": {},
   "source": [
    "### Número de libros publicados después del 1 de enero de 2000 ###"
   ]
  },
  {
   "cell_type": "code",
   "execution_count": 5,
   "metadata": {},
   "outputs": [
    {
     "name": "stdout",
     "output_type": "stream",
     "text": [
      "<class 'pandas.core.frame.DataFrame'>\n",
      "RangeIndex: 1000 entries, 0 to 999\n",
      "Data columns (total 7 columns):\n",
      " #   Column                      Non-Null Count  Dtype \n",
      "---  ------                      --------------  ----- \n",
      " 0   publication_date_converted  1000 non-null   object\n",
      " 1   book_id                     1000 non-null   int64 \n",
      " 2   author_id                   1000 non-null   int64 \n",
      " 3   title                       1000 non-null   object\n",
      " 4   num_pages                   1000 non-null   int64 \n",
      " 5   publication_date            1000 non-null   object\n",
      " 6   publisher_id                1000 non-null   int64 \n",
      "dtypes: int64(4), object(3)\n",
      "memory usage: 54.8+ KB\n",
      "None\n"
     ]
    }
   ],
   "source": [
    "query = '''\n",
    "SELECT \n",
    "    CAST(publication_date as date) as publication_date_converted,\n",
    "    *\n",
    "FROM\n",
    "    books\n",
    "'''\n",
    "\n",
    "result = pd.io.sql.read_sql(query, con = engine)\n",
    "print(result.info())"
   ]
  },
  {
   "cell_type": "code",
   "execution_count": 6,
   "metadata": {},
   "outputs": [
    {
     "name": "stdout",
     "output_type": "stream",
     "text": [
      "     max_date    min_date\n",
      "0  2020-03-31  1952-12-01\n"
     ]
    }
   ],
   "source": [
    "query_count2 = '''SELECT\n",
    "    MAX(CAST(publication_date AS date)) AS max_date,\n",
    "    MIN(CAST(publication_date AS date)) AS min_date\n",
    "    FROM\n",
    "        books\n",
    "'''\n",
    "\n",
    "result_count2 = pd.io.sql.read_sql(query_count2, con = engine)\n",
    "print(result_count2)"
   ]
  },
  {
   "cell_type": "code",
   "execution_count": 7,
   "metadata": {},
   "outputs": [
    {
     "name": "stdout",
     "output_type": "stream",
     "text": [
      "   libros_despues_2000  libros_antes_2000\n",
      "0                  821                179\n"
     ]
    }
   ],
   "source": [
    "query_count_ambos = '''\n",
    "SELECT \n",
    "    COUNT(CASE WHEN CAST(publication_date as date) >= '2000-01-01' THEN 1 END) as libros_despues_2000,\n",
    "    COUNT(CASE WHEN CAST(publication_date as date) < '2000-01-01' THEN 1 END) as libros_antes_2000\n",
    "FROM\n",
    "    books\n",
    "'''\n",
    "\n",
    "result_count_ambos = pd.io.sql.read_sql(query_count_ambos, con = engine)\n",
    "print(result_count_ambos)"
   ]
  },
  {
   "cell_type": "markdown",
   "metadata": {},
   "source": [
    "Vemos que la cantidad de libros publicados después del año 2000 hasta el 31 de marzo de 2020 fue mucho mayor que antes del año 2000, comprendiendo la base de datos desde el 1 de diciembre de 1952, a pesar de que es un plazo mucho menor. Esto puede deberse a que la tecnología no era tan avanzada como para publicar libros tan seguido o tal vez no había tantas editoriales que pudieran costear los costos de producción de los libros por ser la imprenta un método que no estaba tan avanzado ya a principios de los año 2000."
   ]
  },
  {
   "cell_type": "markdown",
   "metadata": {},
   "source": [
    "### Números de reseñas por usuario y calificación promedio por libro ###"
   ]
  },
  {
   "cell_type": "code",
   "execution_count": 8,
   "metadata": {},
   "outputs": [
    {
     "name": "stdout",
     "output_type": "stream",
     "text": [
      "    cnt\n",
      "0  2793\n"
     ]
    }
   ],
   "source": [
    "query_count_review = '''\n",
    "SELECT \n",
    "    COUNT(review_id) as cnt\n",
    "FROM\n",
    "    reviews\n",
    "'''\n",
    "\n",
    "result_count_reseñas = pd.io.sql.read_sql(query_count_review, con = engine)\n",
    "print(result_count_reseñas)"
   ]
  },
  {
   "cell_type": "code",
   "execution_count": 9,
   "metadata": {},
   "outputs": [
    {
     "name": "stdout",
     "output_type": "stream",
     "text": [
      "   book_id                                  title publication_date  \\\n",
      "0       57        Act of Treason (Mitch Rapp  #9)       2006-10-10   \n",
      "1       17          A Dirty Job (Grim Reaper  #1)       2006-03-21   \n",
      "2       20  A Fistful of Charms (The Hollows  #4)       2006-06-27   \n",
      "3       62                          Alas  Babylon       2005-07-05   \n",
      "4       76                            Angels Fall       2006-07-11   \n",
      "\n",
      "              author  avg_rating  \n",
      "0        Vince Flynn         5.0  \n",
      "1  Christopher Moore         5.0  \n",
      "2       Kim Harrison         5.0  \n",
      "3          Pat Frank         5.0  \n",
      "4       Nora Roberts         5.0  \n"
     ]
    }
   ],
   "source": [
    "query_count_ratings_avg = '''\n",
    "SELECT \n",
    "    ratings.book_id AS book_id, \n",
    "    books.title AS title,\n",
    "    books.publication_date AS publication_date,\n",
    "    authors.author,\n",
    "    AVG(ratings.rating) as avg_rating\n",
    "FROM\n",
    "    books\n",
    "INNER JOIN ratings ON ratings.book_id=books.book_id\n",
    "INNER JOIN authors ON authors.author_id=books.author_id\n",
    "GROUP BY\n",
    "    ratings.book_id,\n",
    "    books.title,\n",
    "    books.publication_date,\n",
    "    authors.author\n",
    "ORDER BY\n",
    "    avg_rating DESC,\n",
    "    title ASC\n",
    "\n",
    "'''\n",
    "\n",
    "result_avg_rating = pd.io.sql.read_sql(query_count_ratings_avg, con = engine)\n",
    "print(result_avg_rating.head())"
   ]
  },
  {
   "cell_type": "markdown",
   "metadata": {},
   "source": [
    "Encontramos una cantidad de 2,793 reseñas de usuarios, así como la calificación promedio de cada libro, en la que una gran cantidad de libros de años recientes obtuvieron una calificación de 5 estrellas, la calificación perfecta. Esto puede deberse a que es más probable que los usuarios que que tienen acceso a dar calificaciones hayan leído libros más recientes que a los que son más antiguos."
   ]
  },
  {
   "cell_type": "markdown",
   "metadata": {},
   "source": [
    "### Editorial con mayor cantidad de libros publicados de más de 50 páginas ### "
   ]
  },
  {
   "cell_type": "code",
   "execution_count": 10,
   "metadata": {},
   "outputs": [
    {
     "name": "stdout",
     "output_type": "stream",
     "text": [
      "                  publisher  cnt\n",
      "0             Penguin Books   42\n",
      "1                   Vintage   31\n",
      "2  Grand Central Publishing   25\n",
      "3          Penguin Classics   24\n",
      "4          Ballantine Books   19\n"
     ]
    }
   ],
   "source": [
    "query_top_publisher = '''\n",
    "SELECT  \n",
    "    publishers.publisher AS publisher,\n",
    "    COUNT(publishers.publisher) as cnt\n",
    "FROM\n",
    "    books\n",
    "INNER JOIN publishers ON publishers.publisher_id=books.publisher_id\n",
    "WHERE \n",
    "    books.num_pages > 50\n",
    "GROUP BY\n",
    "    publisher\n",
    "ORDER BY\n",
    "    cnt DESC\n",
    "'''\n",
    "\n",
    "result_top_publisher = pd.io.sql.read_sql(query_top_publisher, con = engine)\n",
    "print(result_top_publisher.head())"
   ]
  },
  {
   "cell_type": "markdown",
   "metadata": {},
   "source": [
    "La editorial 'Penguin Books' ha sido la editorial que más libros arriba de 50 páginas ha publicado, con 42 libros en total, seguido de la editorial 'Vintage' con 31 libros y en tercer lugar la editorial 'Grand Central Publishing' con 25 libros publicados. "
   ]
  },
  {
   "cell_type": "markdown",
   "metadata": {},
   "source": [
    "### Identifica el autor con más alta calificación ###"
   ]
  },
  {
   "cell_type": "code",
   "execution_count": 11,
   "metadata": {},
   "outputs": [
    {
     "name": "stdout",
     "output_type": "stream",
     "text": [
      "                              author  avg_rating\n",
      "0         J.K. Rowling/Mary GrandPré    4.288462\n",
      "1                    Agatha Christie    4.283019\n",
      "2  Markus Zusak/Cao Xuân Việt Khương    4.264151\n",
      "3                     J.R.R. Tolkien    4.240964\n",
      "4           Roald Dahl/Quentin Blake    4.209677\n"
     ]
    }
   ],
   "source": [
    "query_top_author = '''\n",
    "SELECT  \n",
    "    authors.author AS author,\n",
    "    AVG(ratings.rating) AS avg_rating\n",
    "FROM\n",
    "    books\n",
    "INNER JOIN ratings ON ratings.book_id=books.book_id\n",
    "INNER JOIN authors ON authors.author_id=books.author_id\n",
    "GROUP BY\n",
    "    author\n",
    "HAVING\n",
    "    COUNT(ratings.rating) > 50\n",
    "ORDER BY\n",
    "    avg_rating DESC\n",
    "    \n",
    "'''\n",
    "\n",
    "result_top_author = pd.io.sql.read_sql(query_top_author, con = engine)\n",
    "print(result_top_author.head())"
   ]
  },
  {
   "cell_type": "markdown",
   "metadata": {},
   "source": [
    "No es de extrañar que la autora de Harry Potter, J.K Rowling, sea la que mayor calificación promedio le otorgaron los usuarios, ya que por algo es de los libros más vendidos de todos los tiempos y con al menos más de 50 calificaciones de los lectores."
   ]
  },
  {
   "cell_type": "markdown",
   "metadata": {},
   "source": [
    "### Número promedio de reseñas de texto que calificaron más de 50 libros ###"
   ]
  },
  {
   "cell_type": "code",
   "execution_count": 12,
   "metadata": {},
   "outputs": [
    {
     "name": "stdout",
     "output_type": "stream",
     "text": [
      "Empty DataFrame\n",
      "Columns: [username, count]\n",
      "Index: []\n"
     ]
    }
   ],
   "source": [
    "query_avg_reviews = '''\n",
    "SELECT  \n",
    "    reviews.username AS username,\n",
    "    COUNT(books.book_id) AS count\n",
    "FROM\n",
    "    books\n",
    "INNER JOIN reviews ON reviews.book_id=books.book_id\n",
    "GROUP BY\n",
    "    username\n",
    "HAVING\n",
    "    COUNT(reviews.text) > 50\n",
    "'''\n",
    "\n",
    "result_avg_reviews = pd.io.sql.read_sql(query_avg_reviews, con = engine)\n",
    "print(result_avg_reviews)"
   ]
  },
  {
   "cell_type": "markdown",
   "metadata": {},
   "source": [
    "Para este ejercicio, no se encontraron usuarios que hayan dejado reseñas a más de 50 libros, por lo que sería buena idea incentivar a los lectores a dejar reseñas para así más usuarios nuevos tengan información para comprar más libros.\n"
   ]
  },
  {
   "cell_type": "markdown",
   "metadata": {},
   "source": [
    "## Conclusión general ## "
   ]
  },
  {
   "cell_type": "markdown",
   "metadata": {},
   "source": [
    "Al término de las consultas en SQL para los libros, podemos aportar una sugerencia tanto para los nuevos autores como para que el equipo de marketing de cualquier tienda en línea pueda enfocar sus esfuerzos en promover ciertos libros con qué editorial.\n",
    "\n",
    "La editorial con mayor cantidad de libros fue Penguin Books, la autora con mayor calificación fue J.K Rowling, autora de Harry Potter, y podemos observar también que los libros más recientes fueron los que mayor cantidad de reseñas y calificaciones obtuvieron, por lo que se sugiere no lanzar nuevamente libros que haya sido publicados hace mucho, o sea, no hacer reediciones ya que al público actual no se ve muy interesado en leer libros con mucho tiempo de publicación, así como enfocarse en temas de fantasía y misterios, como lo vimos con los autores como J.K Rowling, Agatha Christie y J.R.R. Tolkien, quiens han sido los autores mejor calificados y los resultados vistos en el cine hablan por sí mismos de sus libros. \n",
    "\n",
    "De igual manera, vimos que aún falta seguir promoviendo el hábito de la lectura, ya que ningún usuario ha escrito más de 50 reseñas. Esto igual podría deberse por la proliferación de las redes sociales, el uso de streaming, los videojuegos, que otorgan un entretenimiento más 'inmediato'. Esto puede resultar en que cada vez habrá menos usuarios que escriban tantas reseñas."
   ]
  },
  {
   "cell_type": "markdown",
   "metadata": {},
   "source": [
    "\n",
    "\n",
    "### # Comentario General del Revisor\n",
    "\n",
    "<div class=\"alert alert-block alert-success\">\n",
    "\n",
    "<b>Comentario del revisor</b> <a class=\"tocSkip\"></a>\n",
    "\n",
    "\n",
    "Quiero felicitarte por el esfuerzo que pusiste en este trabajo. Lograste conectarte correctamente a la base de datos, ejecutar múltiples consultas SQL relevantes, y presentar conclusiones claras que responden al objetivo del proyecto: entender qué libros y editoriales tienen mejor recepción entre los lectores. ¡Gran trabajo! 📚✨\n",
    "\n",
    "---\n",
    "\n",
    "### ✅ **Aspectos Positivos:**\n",
    "\n",
    "* **Conexión a base de datos funcional**: Pudiste conectarte a PostgreSQL con SQLAlchemy y descargar todas las tablas correctamente.\n",
    "* **Consultas SQL claras y bien estructuradas**: Usaste `JOIN`, `GROUP BY`, `HAVING`, y funciones agregadas de forma precisa para responder a las preguntas de negocio.\n",
    "* **Enfoque estratégico**: El análisis muestra una buena comprensión del negocio editorial, considerando variables como número de páginas, calificaciones promedio y antigüedad del libro.\n",
    "* **Conclusiones bien redactadas**: Interpretaste los resultados con criterio y lógica, proponiendo ideas accionables para marketing y nuevos autores.\n",
    "\n",
    "---\n",
    "\n",
    "### ⚠️ **Áreas de Mejora:**\n",
    "\n",
    "* **Seguridad en el código**: Recuerda **no incluir directamente usuarios y contraseñas en el código**. Es mejor usar variables de entorno o un archivo `.env`. Esto es una práctica estándar en proyectos reales.\n",
    "* **Conversión de fechas**: Aunque hiciste el casteo en SQL, también podrías trabajar las fechas con `pd.to_datetime()` para mayor flexibilidad en pandas.\n",
    "* **Análisis estadístico adicional**: Te animamos a sumar visualizaciones más detalladas o métricas de dispersión para enriquecer los insights (por ejemplo, correlación entre páginas y ratings).\n",
    "\n",
    "---\n",
    "\n",
    "\n",
    "Nos vemos en el próximo proyecto.\n",
    "— *Hesus García* ✌️😎\n",
    "\n",
    "</div>\n",
    "\n",
    "\n"
   ]
  },
  {
   "cell_type": "code",
   "execution_count": null,
   "metadata": {},
   "outputs": [],
   "source": []
  }
 ],
 "metadata": {
  "kernelspec": {
   "display_name": "Python 3 (ipykernel)",
   "language": "python",
   "name": "python3"
  },
  "language_info": {
   "codemirror_mode": {
    "name": "ipython",
    "version": 3
   },
   "file_extension": ".py",
   "mimetype": "text/x-python",
   "name": "python",
   "nbconvert_exporter": "python",
   "pygments_lexer": "ipython3",
   "version": "3.9.23"
  }
 },
 "nbformat": 4,
 "nbformat_minor": 4
}
