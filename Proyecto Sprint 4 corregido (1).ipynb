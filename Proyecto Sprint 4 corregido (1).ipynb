{
 "cells": [
  {
   "cell_type": "markdown",
   "id": "a4c5472d",
   "metadata": {},
   "source": [
    "Hola **Alejandro**!\n",
    "\n",
    "Soy **Patricio Requena** 👋. Es un placer ser el revisor de tu proyecto el día de hoy!\n",
    "\n",
    "Revisaré tu proyecto detenidamente con el objetivo de ayudarte a mejorar y perfeccionar tus habilidades. Durante mi revisión, identificaré áreas donde puedas hacer mejoras en tu código, señalando específicamente qué y cómo podrías ajustar para optimizar el rendimiento y la claridad de tu proyecto. Además, es importante para mí destacar los aspectos que has manejado excepcionalmente bien. Reconocer tus fortalezas te ayudará a entender qué técnicas y métodos están funcionando a tu favor y cómo puedes aplicarlos en futuras tareas.\n",
    "\n",
    "_**Recuerda que al final de este notebook encontrarás un comentario general de mi parte**_, empecemos!\n",
    "\n",
    "Encontrarás mis comentarios dentro de cajas verdes, amarillas o rojas, ⚠️ **por favor, no muevas, modifiques o borres mis comentarios** ⚠️:\n",
    "\n",
    "\n",
    "<div class=\"alert alert-block alert-success\">\n",
    "<b>Comentario del revisor</b> <a class=“tocSkip”></a>\n",
    "Si todo está perfecto.\n",
    "</div>\n",
    "\n",
    "<div class=\"alert alert-block alert-warning\">\n",
    "<b>Comentario del revisor</b> <a class=“tocSkip”></a>\n",
    "Si tu código está bien pero se puede mejorar o hay algún detalle que le hace falta.\n",
    "</div>\n",
    "\n",
    "<div class=\"alert alert-block alert-danger\">\n",
    "<b>Comentario del revisor</b> <a class=“tocSkip”></a>\n",
    "Si de pronto hace falta algo o existe algún problema con tu código o conclusiones.\n",
    "</div>\n",
    "\n",
    "Puedes responderme de esta forma:\n",
    "<div class=\"alert alert-block alert-info\">\n",
    "<b>Respuesta del estudiante</b> <a class=“tocSkip”></a>\n",
    "</div>"
   ]
  },
  {
   "cell_type": "markdown",
   "id": "4b33db23",
   "metadata": {},
   "source": [
    "<div class=\"alert alert-block alert-danger\">\n",
    "<b>Comentario general (2da Iteracion)</b> <a class=“tocSkip”></a>\n",
    "\n",
    "Hola Alejandro, a partir del ejercicio B2 no se han realizado las correcciones solicitadas en la iteración anterior. Por favor, revisa todos los comentarios y realiza los cambios necesarios y antes de enviar para revisión asegúrate que se guarde tu proceso. \n",
    "</div>"
   ]
  },
  {
   "cell_type": "markdown",
   "id": "3Xg_RQfnafXz",
   "metadata": {
    "id": "3Xg_RQfnafXz"
   },
   "source": [
    "# ¡Llena ese carrito!"
   ]
  },
  {
   "cell_type": "markdown",
   "id": "mhIvmmkW414q",
   "metadata": {
    "id": "mhIvmmkW414q"
   },
   "source": [
    "# Introducción\n",
    "\n",
    "Instacart es una plataforma de entregas de comestibles donde la clientela puede registrar un pedido y hacer que se lo entreguen, similar a Uber Eats y Door Dash.\n",
    "El conjunto de datos que te hemos proporcionado tiene modificaciones del original. Redujimos el tamaño del conjunto para que tus cálculos se hicieran más rápido e introdujimos valores ausentes y duplicados. Tuvimos cuidado de conservar las distribuciones de los datos originales cuando hicimos los cambios.\n",
    "\n",
    "Debes completar tres pasos. Para cada uno de ellos, escribe una breve introducción que refleje con claridad cómo pretendes resolver cada paso, y escribe párrafos explicatorios que justifiquen tus decisiones al tiempo que avanzas en tu solución.  También escribe una conclusión que resuma tus hallazgos y elecciones.\n"
   ]
  },
  {
   "cell_type": "markdown",
   "id": "3MbyzpOQZ5Or",
   "metadata": {
    "id": "3MbyzpOQZ5Or"
   },
   "source": [
    "## Diccionario de datos\n",
    "\n",
    "Hay cinco tablas en el conjunto de datos, y tendrás que usarlas todas para hacer el preprocesamiento de datos y el análisis exploratorio de datos. A continuación se muestra un diccionario de datos que enumera las columnas de cada tabla y describe los datos que contienen.\n",
    "\n",
    "- `instacart_orders.csv`: cada fila corresponde a un pedido en la aplicación Instacart.\n",
    "    - `'order_id'`: número de ID que identifica de manera única cada pedido.\n",
    "    - `'user_id'`: número de ID que identifica de manera única la cuenta de cada cliente.\n",
    "    - `'order_number'`: el número de veces que este cliente ha hecho un pedido.\n",
    "    - `'order_dow'`: día de la semana en que se hizo el pedido (0 si es domingo).\n",
    "    - `'order_hour_of_day'`: hora del día en que se hizo el pedido.\n",
    "    - `'days_since_prior_order'`: número de días transcurridos desde que este cliente hizo su pedido anterior.\n",
    "- `products.csv`: cada fila corresponde a un producto único que pueden comprar los clientes.\n",
    "    - `'product_id'`: número ID que identifica de manera única cada producto.\n",
    "    - `'product_name'`: nombre del producto.\n",
    "    - `'aisle_id'`: número ID que identifica de manera única cada categoría de pasillo de víveres.\n",
    "    - `'department_id'`: número ID que identifica de manera única cada departamento de víveres.\n",
    "- `order_products.csv`: cada fila corresponde a un artículo pedido en un pedido.\n",
    "    - `'order_id'`: número de ID que identifica de manera única cada pedido.\n",
    "    - `'product_id'`: número ID que identifica de manera única cada producto.\n",
    "    - `'add_to_cart_order'`: el orden secuencial en el que se añadió cada artículo en el carrito.\n",
    "    - `'reordered'`: 0 si el cliente nunca ha pedido este producto antes, 1 si lo ha pedido.\n",
    "- `aisles.csv`\n",
    "    - `'aisle_id'`: número ID que identifica de manera única cada categoría de pasillo de víveres.\n",
    "    - `'aisle'`: nombre del pasillo.\n",
    "- `departments.csv`\n",
    "    - `'department_id'`: número ID que identifica de manera única cada departamento de víveres.\n",
    "    - `'department'`: nombre del departamento."
   ]
  },
  {
   "cell_type": "markdown",
   "id": "n3Ha_cNSZ8lK",
   "metadata": {
    "id": "n3Ha_cNSZ8lK"
   },
   "source": [
    "# Paso 1. Descripción de los datos\n",
    "\n",
    "Lee los archivos de datos (`/datasets/instacart_orders.csv`, `/datasets/products.csv`, `/datasets/aisles.csv`, `/datasets/departments.csv` y `/datasets/order_products.csv`) con `pd.read_csv()` usando los parámetros adecuados para leer los datos correctamente. Verifica la información para cada DataFrame creado.\n"
   ]
  },
  {
   "cell_type": "markdown",
   "id": "OmlQPLlyaAfR",
   "metadata": {
    "id": "OmlQPLlyaAfR"
   },
   "source": [
    "## Plan de solución\n",
    "\n",
    "Escribe aquí tu plan de solución para el Paso 1. Descripción de los datos."
   ]
  },
  {
   "cell_type": "code",
   "execution_count": 1,
   "id": "fbf1adab",
   "metadata": {
    "id": "fbf1adab"
   },
   "outputs": [],
   "source": [
    "import pandas as pd# importar librerías"
   ]
  },
  {
   "cell_type": "code",
   "execution_count": 2,
   "id": "ad36396d",
   "metadata": {
    "id": "ad36396d"
   },
   "outputs": [],
   "source": [
    "df_instacart_orders = pd.read_csv('/datasets/instacart_orders.csv', sep = ';')# leer conjuntos de datos en los DataFrames\n",
    "df_products = pd.read_csv('/datasets/products.csv', sep = ';')\n",
    "df_aisles = pd.read_csv('/datasets/aisles.csv', sep = ';')\n",
    "df_departments = pd.read_csv('/datasets/departments.csv', sep = ';')\n",
    "df_order_products = pd.read_csv('/datasets/order_products.csv', sep = ';')"
   ]
  },
  {
   "cell_type": "markdown",
   "id": "0a80da4e",
   "metadata": {},
   "source": [
    "<div class=\"alert alert-block alert-success\">\n",
    "<b>Comentario del revisor (1ra Iteracion)</b> <a class=“tocSkip”></a>\n",
    "\n",
    "Muy bien, cargaste correctamente los datos con el separador adecuado\n",
    "</div>"
   ]
  },
  {
   "cell_type": "code",
   "execution_count": 3,
   "id": "ad6a1efa",
   "metadata": {
    "id": "ad6a1efa"
   },
   "outputs": [
    {
     "name": "stdout",
     "output_type": "stream",
     "text": [
      "<class 'pandas.core.frame.DataFrame'>\n",
      "RangeIndex: 478967 entries, 0 to 478966\n",
      "Data columns (total 6 columns):\n",
      " #   Column                  Non-Null Count   Dtype  \n",
      "---  ------                  --------------   -----  \n",
      " 0   order_id                478967 non-null  int64  \n",
      " 1   user_id                 478967 non-null  int64  \n",
      " 2   order_number            478967 non-null  int64  \n",
      " 3   order_dow               478967 non-null  int64  \n",
      " 4   order_hour_of_day       478967 non-null  int64  \n",
      " 5   days_since_prior_order  450148 non-null  float64\n",
      "dtypes: float64(1), int64(5)\n",
      "memory usage: 21.9 MB\n"
     ]
    }
   ],
   "source": [
    "df_instacart_orders.info()# mostrar información del DataFrame"
   ]
  },
  {
   "cell_type": "code",
   "execution_count": 4,
   "id": "5130e05e",
   "metadata": {
    "id": "5130e05e"
   },
   "outputs": [
    {
     "name": "stdout",
     "output_type": "stream",
     "text": [
      "<class 'pandas.core.frame.DataFrame'>\n",
      "RangeIndex: 49694 entries, 0 to 49693\n",
      "Data columns (total 4 columns):\n",
      " #   Column         Non-Null Count  Dtype \n",
      "---  ------         --------------  ----- \n",
      " 0   product_id     49694 non-null  int64 \n",
      " 1   product_name   48436 non-null  object\n",
      " 2   aisle_id       49694 non-null  int64 \n",
      " 3   department_id  49694 non-null  int64 \n",
      "dtypes: int64(3), object(1)\n",
      "memory usage: 1.5+ MB\n"
     ]
    }
   ],
   "source": [
    "df_products.info()# mostrar información del DataFrame"
   ]
  },
  {
   "cell_type": "code",
   "execution_count": 5,
   "id": "d8370c05",
   "metadata": {
    "id": "d8370c05"
   },
   "outputs": [
    {
     "name": "stdout",
     "output_type": "stream",
     "text": [
      "<class 'pandas.core.frame.DataFrame'>\n",
      "RangeIndex: 134 entries, 0 to 133\n",
      "Data columns (total 2 columns):\n",
      " #   Column    Non-Null Count  Dtype \n",
      "---  ------    --------------  ----- \n",
      " 0   aisle_id  134 non-null    int64 \n",
      " 1   aisle     134 non-null    object\n",
      "dtypes: int64(1), object(1)\n",
      "memory usage: 2.2+ KB\n"
     ]
    }
   ],
   "source": [
    "df_aisles.info()# mostrar información del DataFrame"
   ]
  },
  {
   "cell_type": "code",
   "execution_count": 6,
   "id": "59e2090f",
   "metadata": {
    "id": "59e2090f"
   },
   "outputs": [
    {
     "name": "stdout",
     "output_type": "stream",
     "text": [
      "<class 'pandas.core.frame.DataFrame'>\n",
      "RangeIndex: 21 entries, 0 to 20\n",
      "Data columns (total 2 columns):\n",
      " #   Column         Non-Null Count  Dtype \n",
      "---  ------         --------------  ----- \n",
      " 0   department_id  21 non-null     int64 \n",
      " 1   department     21 non-null     object\n",
      "dtypes: int64(1), object(1)\n",
      "memory usage: 464.0+ bytes\n"
     ]
    }
   ],
   "source": [
    "df_departments.info()# mostrar información del DataFrame\n"
   ]
  },
  {
   "cell_type": "code",
   "execution_count": 7,
   "id": "6fc81694",
   "metadata": {
    "id": "6fc81694"
   },
   "outputs": [
    {
     "name": "stdout",
     "output_type": "stream",
     "text": [
      "<class 'pandas.core.frame.DataFrame'>\n",
      "RangeIndex: 4545007 entries, 0 to 4545006\n",
      "Data columns (total 4 columns):\n",
      " #   Column             Non-Null Count    Dtype  \n",
      "---  ------             --------------    -----  \n",
      " 0   order_id           4545007 non-null  int64  \n",
      " 1   product_id         4545007 non-null  int64  \n",
      " 2   add_to_cart_order  4544171 non-null  float64\n",
      " 3   reordered          4545007 non-null  int64  \n",
      "dtypes: float64(1), int64(3)\n",
      "memory usage: 138.7 MB\n"
     ]
    }
   ],
   "source": [
    "df_order_products.info(show_counts = True)\n",
    "\n",
    "# mostrar información del DataFrame"
   ]
  },
  {
   "cell_type": "markdown",
   "id": "b5df0254",
   "metadata": {},
   "source": [
    "<div class=\"alert alert-block alert-danger\">\n",
    "<b>Comentario del revisor (1ra Iteracion)</b> <a class=“tocSkip”></a>\n",
    "\n",
    "Cómo se menciona en la descripción del proyecto, debes incluir `show_counts=True` para que en datasets grandes cómo el último mostrado no se omita el conteo de las filas\n",
    "</div>"
   ]
  },
  {
   "cell_type": "markdown",
   "id": "b9918dd2",
   "metadata": {},
   "source": [
    "<div class=\"alert alert-block alert-success\">\n",
    "<b>Comentario del revisor (2da Iteracion)</b> <a class=“tocSkip”></a>\n",
    "\n",
    "Buen trabajo con el cambio! Con esto se muestran los datos completos\n",
    "</div>"
   ]
  },
  {
   "cell_type": "markdown",
   "id": "t75BD19oaR5f",
   "metadata": {
    "id": "t75BD19oaR5f"
   },
   "source": [
    "## Conclusiones\n",
    "\n",
    "Se ocupa poner un argumento extra en la lectura de los archivos, ya que si no se ponía el separador, solo nos arrojaba una sola columna.\n"
   ]
  },
  {
   "cell_type": "markdown",
   "id": "8RJHqxVmaVsF",
   "metadata": {
    "id": "8RJHqxVmaVsF"
   },
   "source": [
    "# Paso 2. Preprocesamiento de los datos\n",
    "\n",
    "Preprocesa los datos de la siguiente manera:\n",
    "\n",
    "- Verifica y corrige los tipos de datos (por ejemplo, asegúrate de que las columnas de ID sean números enteros).\n",
    "- Identifica y completa los valores ausentes.\n",
    "- Identifica y elimina los valores duplicados.\n",
    "\n",
    "Asegúrate de explicar qué tipos de valores ausentes y duplicados encontraste, cómo los completaste o eliminaste y por qué usaste esos métodos. ¿Por qué crees que estos valores ausentes y duplicados pueden haber estado presentes en el conjunto de datos?"
   ]
  },
  {
   "cell_type": "markdown",
   "id": "p6poABZQaZYb",
   "metadata": {
    "id": "p6poABZQaZYb"
   },
   "source": [
    "## Plan de solución\n",
    "\n",
    "Se convertirán las columnas que contengan números de identificación a enteros con el comando 'int()'. Para los valores ausentes, se usará 'fillna()'y para identificar los valores duplicados se utilizará el comando 'duplicated()' y para eliminarlos se usará 'drop_duplicates()'."
   ]
  },
  {
   "cell_type": "markdown",
   "id": "07357848-dc64-4156-9cc3-01ff4365226d",
   "metadata": {
    "id": "07357848-dc64-4156-9cc3-01ff4365226d"
   },
   "source": [
    "## Encuentra y elimina los valores duplicados (y describe cómo tomaste tus decisiones)."
   ]
  },
  {
   "cell_type": "markdown",
   "id": "f179f0a9",
   "metadata": {
    "id": "f179f0a9"
   },
   "source": [
    "### `orders` data frame"
   ]
  },
  {
   "cell_type": "code",
   "execution_count": 8,
   "id": "b99297a5-405a-463d-8535-9adc3da4ad74",
   "metadata": {
    "id": "b99297a5-405a-463d-8535-9adc3da4ad74"
   },
   "outputs": [
    {
     "name": "stdout",
     "output_type": "stream",
     "text": [
      "15\n"
     ]
    }
   ],
   "source": [
    "print(df_instacart_orders.duplicated().sum())# Revisa si hay pedidos duplicados\n",
    "\n",
    "#print(df_instacart_orders[df_instacart_orders.duplicated(keep = 'first')])\n",
    "#print('----------------------')\n",
    "#print(df_instacart_orders[df_instacart_orders['order_id'] == 2845099])\n"
   ]
  },
  {
   "cell_type": "markdown",
   "id": "PEkwUX_gvt5A",
   "metadata": {
    "id": "PEkwUX_gvt5A"
   },
   "source": [
    "¿Tienes líneas duplicadas? Si sí, ¿qué tienen en común? Que las líneas duplicadas se hicieron el día miércoles a las 2. "
   ]
  },
  {
   "cell_type": "code",
   "execution_count": 9,
   "id": "0d44de5d",
   "metadata": {
    "id": "0d44de5d"
   },
   "outputs": [
    {
     "name": "stdout",
     "output_type": "stream",
     "text": [
      "        order_id  user_id  order_number  order_dow  order_hour_of_day  \\\n",
      "107581   2061573   113852            11          3                  2   \n",
      "318152   2893503    29103            26          3                  2   \n",
      "450906   1171914    81860            29          3                  2   \n",
      "410100   2934579   105857             4          3                  2   \n",
      "441694    508008    82399             3          3                  2   \n",
      "395002   1090993    30945             5          3                  2   \n",
      "321100    408114    68324             4          3                  2   \n",
      "189211    738145    37225             4          3                  2   \n",
      "172697   3149961    65466             5          3                  2   \n",
      "316583    272079   121263             7          3                  2   \n",
      "\n",
      "        days_since_prior_order  \n",
      "107581                    23.0  \n",
      "318152                    19.0  \n",
      "450906                     5.0  \n",
      "410100                     8.0  \n",
      "441694                     4.0  \n",
      "395002                     9.0  \n",
      "321100                    18.0  \n",
      "189211                     9.0  \n",
      "172697                    19.0  \n",
      "316583                     3.0  \n"
     ]
    }
   ],
   "source": [
    "# Basándote en tus hallazgos,\n",
    "# Verifica todos los pedidos que se hicieron el miércoles a las 2:00 a.m.\n",
    "\n",
    "pedidos = df_instacart_orders[(df_instacart_orders['order_dow'] == 3) & (df_instacart_orders['order_hour_of_day'] == 2)]\n",
    "print(pedidos.sample(10))\n"
   ]
  },
  {
   "cell_type": "markdown",
   "id": "vu2OWyoqwOx5",
   "metadata": {
    "id": "vu2OWyoqwOx5"
   },
   "source": [
    "¿Qué sugiere este resultado? Los días miércoles a las 2 fueron los momentos en los que hubo un duplicado de valores. "
   ]
  },
  {
   "cell_type": "markdown",
   "id": "d6c40978",
   "metadata": {},
   "source": [
    "<div class=\"alert alert-block alert-success\">\n",
    "<b>Comentario del revisor (1ra Iteracion)</b> <a class=“tocSkip”></a>\n",
    "\n",
    "Correcto! Muy bien aplicado el filtro y el análisis redactado\n",
    "</div>"
   ]
  },
  {
   "cell_type": "code",
   "execution_count": 10,
   "id": "480563c7",
   "metadata": {
    "id": "480563c7"
   },
   "outputs": [],
   "source": [
    "df_instacart_orders.drop_duplicates(inplace= True)# Elimina los pedidos duplicados\n"
   ]
  },
  {
   "cell_type": "code",
   "execution_count": 11,
   "id": "0b2396a2",
   "metadata": {
    "id": "0b2396a2"
   },
   "outputs": [
    {
     "name": "stdout",
     "output_type": "stream",
     "text": [
      "0\n"
     ]
    }
   ],
   "source": [
    "print(df_instacart_orders.duplicated().sum())# Vuelve a verificar si hay filas duplicadas\n"
   ]
  },
  {
   "cell_type": "code",
   "execution_count": 12,
   "id": "f6113ef1",
   "metadata": {
    "id": "f6113ef1"
   },
   "outputs": [
    {
     "name": "stdout",
     "output_type": "stream",
     "text": [
      "0\n"
     ]
    }
   ],
   "source": [
    "print(df_instacart_orders['order_id'].duplicated().sum())# Vuelve a verificar únicamente si hay IDs duplicados de pedidos\n"
   ]
  },
  {
   "cell_type": "markdown",
   "id": "5e8905ae",
   "metadata": {
    "id": "5e8905ae"
   },
   "source": [
    "Describe brevemente tus hallazgos y lo que hiciste con ellos.\n",
    "\n",
    "Se localizaron 15 filas duplicadas en el dataframe de order y ninguno en el 'order_id'. Se eliminaron estas 15 filas y por no haber duplicados en 'order_id' se puede trabajar con total confianza de que no habrá pedidos repetidos."
   ]
  },
  {
   "cell_type": "markdown",
   "id": "45e6bc46",
   "metadata": {
    "id": "45e6bc46"
   },
   "source": [
    "### `products` data frame"
   ]
  },
  {
   "cell_type": "code",
   "execution_count": 13,
   "id": "5f526b5b-8175-46fa-a0fd-441767d50e64",
   "metadata": {
    "id": "5f526b5b-8175-46fa-a0fd-441767d50e64"
   },
   "outputs": [
    {
     "name": "stdout",
     "output_type": "stream",
     "text": [
      "0\n"
     ]
    }
   ],
   "source": [
    "df_products['product_name'] = df_products['product_name'].str.upper()\n",
    "print(df_products.duplicated().sum())# Verifica si hay filas totalmente duplicadas\n",
    "\n"
   ]
  },
  {
   "cell_type": "code",
   "execution_count": 14,
   "id": "88daa4f4",
   "metadata": {
    "id": "88daa4f4"
   },
   "outputs": [
    {
     "name": "stdout",
     "output_type": "stream",
     "text": [
      "49673\n"
     ]
    }
   ],
   "source": [
    "print(df_products['department_id'].duplicated().sum())# Revisa únicamente si hay ID de departamentos duplicados\n"
   ]
  },
  {
   "cell_type": "code",
   "execution_count": 15,
   "id": "c773f0bf",
   "metadata": {
    "id": "c773f0bf"
   },
   "outputs": [
    {
     "name": "stdout",
     "output_type": "stream",
     "text": [
      "1361\n"
     ]
    }
   ],
   "source": [
    "print(df_products['product_name'].duplicated().sum())# Revisa únicamente si hay nombres duplicados de productos (convierte los nombres a letras mayúsculas para compararlos mejor)\n"
   ]
  },
  {
   "cell_type": "code",
   "execution_count": 16,
   "id": "01efd02e",
   "metadata": {
    "id": "01efd02e"
   },
   "outputs": [
    {
     "name": "stdout",
     "output_type": "stream",
     "text": [
      "104\n"
     ]
    }
   ],
   "source": [
    "# Revisa si hay nombres duplicados de productos no faltantes\n",
    "print(df_products[~df_products['product_name'].isna()]['product_name'].duplicated().sum())\n"
   ]
  },
  {
   "cell_type": "markdown",
   "id": "f0f6e445",
   "metadata": {},
   "source": [
    "<div class=\"alert alert-block alert-danger\">\n",
    "<b>Comentario del revisor (1ra Iteracion)</b> <a class=“tocSkip”></a>\n",
    "\n",
    "Aquí primero deberías hacer la transformación de los nombres a mayúscula y guardarlo sobre la misma columna product_name, así no tendrás problemas más adelante por que un producto está escrito `Banana` en una orden y en otra `BANANA`\n",
    "</div>"
   ]
  },
  {
   "cell_type": "markdown",
   "id": "5ca92927",
   "metadata": {},
   "source": [
    "<div class=\"alert alert-block alert-success\">\n",
    "<b>Comentario del revisor (2da Iteracion)</b> <a class=“tocSkip”></a>\n",
    "\n",
    "Correcto, así se evitan problemas por la forma en la que se escriben los nombres\n",
    "</div>"
   ]
  },
  {
   "cell_type": "markdown",
   "id": "9da8d293",
   "metadata": {
    "id": "9da8d293"
   },
   "source": [
    "Describe brevemente tus hallazgos y lo que hiciste con ellos.\n",
    "\n",
    "No se encontraron filas completamente iguales; ID de departamentos hubo varios duplicados, lo que es de esperarse ya que hay muchos productos que se encuentran en un mismo departamento. Por los datos arrojados en nombres duplicados, se puede intuir que hay muchos datos ausentes NaN, ya que salen muchos duplicados al revisar los nombres de los productos sin filtrar los datos ausentes, pero cuando solo se revisan los productos no faltantes, arrojan solo 104 nombres de productos duplicados."
   ]
  },
  {
   "cell_type": "markdown",
   "id": "60f30db1",
   "metadata": {
    "id": "60f30db1"
   },
   "source": [
    "### `departments` data frame"
   ]
  },
  {
   "cell_type": "code",
   "execution_count": 17,
   "id": "fb410ad4-0fbf-4b80-bb09-23fdea79afe3",
   "metadata": {
    "id": "fb410ad4-0fbf-4b80-bb09-23fdea79afe3"
   },
   "outputs": [
    {
     "name": "stdout",
     "output_type": "stream",
     "text": [
      "0\n"
     ]
    }
   ],
   "source": [
    "# Revisa si hay filas totalmente duplicadas\n",
    "print(df_departments.duplicated().sum())"
   ]
  },
  {
   "cell_type": "code",
   "execution_count": 18,
   "id": "332b12bb",
   "metadata": {
    "id": "332b12bb"
   },
   "outputs": [
    {
     "name": "stdout",
     "output_type": "stream",
     "text": [
      "0\n"
     ]
    }
   ],
   "source": [
    "# Revisa únicamente si hay IDs duplicadas de productos\n",
    "print(df_departments['department_id'].duplicated().sum())"
   ]
  },
  {
   "cell_type": "markdown",
   "id": "bd30d78e",
   "metadata": {
    "id": "bd30d78e"
   },
   "source": [
    "Describe brevemente tus hallazgos y lo que hiciste con ellos.\n",
    "\n",
    "En ninguna de las columnas se encuentran duplicados. Sin embargo, creo que los requsitos que piden revisar únicamente los IDs duplicados de productos no corresponde a este dataframe, ya que solo hay 2 columnas: \"department\" y \"department_id\""
   ]
  },
  {
   "cell_type": "markdown",
   "id": "889349c1",
   "metadata": {
    "id": "889349c1"
   },
   "source": [
    "### `aisles` data frame"
   ]
  },
  {
   "cell_type": "code",
   "execution_count": 19,
   "id": "9da89fb9-4679-40f5-ad0d-c34df753a3f8",
   "metadata": {
    "id": "9da89fb9-4679-40f5-ad0d-c34df753a3f8"
   },
   "outputs": [
    {
     "name": "stdout",
     "output_type": "stream",
     "text": [
      "0\n"
     ]
    }
   ],
   "source": [
    "# Revisa si hay filas totalmente duplicadas\n",
    "print(df_aisles.duplicated().sum())"
   ]
  },
  {
   "cell_type": "code",
   "execution_count": 20,
   "id": "da7c2822",
   "metadata": {
    "id": "da7c2822"
   },
   "outputs": [
    {
     "name": "stdout",
     "output_type": "stream",
     "text": [
      "0\n"
     ]
    }
   ],
   "source": [
    "# Revisa únicamente si hay IDs duplicadas de pasillos\n",
    "print(df_aisles['aisle_id'].duplicated().sum())"
   ]
  },
  {
   "cell_type": "markdown",
   "id": "ac63826f",
   "metadata": {
    "id": "ac63826f"
   },
   "source": [
    "Describe brevemente tus hallazgos y lo que hiciste con ellos.\n",
    "\n",
    "No se encontraron datos duplicados en el dataframe y en la columna 'aisle_id'"
   ]
  },
  {
   "cell_type": "markdown",
   "id": "274cd06a",
   "metadata": {
    "id": "274cd06a"
   },
   "source": [
    "### `order_products` data frame"
   ]
  },
  {
   "cell_type": "code",
   "execution_count": 21,
   "id": "52326689-84a8-4b8f-a881-7c68780f62c9",
   "metadata": {
    "id": "52326689-84a8-4b8f-a881-7c68780f62c9"
   },
   "outputs": [
    {
     "name": "stdout",
     "output_type": "stream",
     "text": [
      "0\n"
     ]
    }
   ],
   "source": [
    "# Revisa si hay filas totalmente duplicadas\n",
    "print(df_order_products.duplicated().sum())"
   ]
  },
  {
   "cell_type": "code",
   "execution_count": 22,
   "id": "7b861391",
   "metadata": {
    "id": "7b861391"
   },
   "outputs": [
    {
     "name": "stdout",
     "output_type": "stream",
     "text": [
      "4544942\n"
     ]
    }
   ],
   "source": [
    "# Vuelve a verificar si hay cualquier otro duplicado engañoso\n",
    "print(df_order_products['add_to_cart_order'].duplicated().sum())\n",
    "\n"
   ]
  },
  {
   "cell_type": "markdown",
   "id": "0b890492",
   "metadata": {
    "id": "0b890492"
   },
   "source": [
    "Describe brevemente tus hallazgos y lo que hiciste con ellos.\n",
    "\n",
    "Por la descripción del data frame inicial en el que explican qué son los valores contenidos en cada columna, se concluye que la columna que no debería de tener datos duplicados sería el de 'add_to_cart_order', ya que explica que es un orden secuencial en el que se añadió cada artículo en el carrito, por lo que no debería de haber ninguna repetición por que no se pueden pedir 2 productos exactamente al mismo tiempo."
   ]
  },
  {
   "cell_type": "markdown",
   "id": "562ce20a",
   "metadata": {},
   "source": [
    "<div class=\"alert alert-block alert-success\">\n",
    "<b>Comentario del revisor (1ra Iteracion)</b> <a class=“tocSkip”></a>\n",
    "\n",
    "Buen trabajo con la revisión de estos últimos datasets!\n",
    "</div>"
   ]
  },
  {
   "cell_type": "markdown",
   "id": "1e46de76",
   "metadata": {
    "id": "1e46de76"
   },
   "source": [
    "## Encuentra y elimina los valores ausentes\n",
    "\n",
    "Al trabajar con valores duplicados, pudimos observar que también nos falta investigar valores ausentes:\n",
    "\n",
    "* La columna `'product_name'` de la tabla products.\n",
    "* La columna `'days_since_prior_order'` de la tabla orders.\n",
    "* La columna `'add_to_cart_order'` de la tabla order_productos."
   ]
  },
  {
   "cell_type": "markdown",
   "id": "c0aebd78",
   "metadata": {
    "id": "c0aebd78"
   },
   "source": [
    "### `products` data frame"
   ]
  },
  {
   "cell_type": "code",
   "execution_count": 23,
   "id": "fe4a8b0f",
   "metadata": {
    "id": "fe4a8b0f"
   },
   "outputs": [
    {
     "name": "stdout",
     "output_type": "stream",
     "text": [
      "       product_id product_name  aisle_id  department_id\n",
      "45913       45914          NaN       100             21\n",
      "15060       15061          NaN       100             21\n",
      "24072       24073          NaN       100             21\n",
      "44255       44256          NaN       100             21\n",
      "23262       23263          NaN       100             21\n",
      "14404       14405          NaN       100             21\n",
      "47053       47054          NaN       100             21\n",
      "16391       16392          NaN       100             21\n",
      "29259       29260          NaN       100             21\n",
      "33895       33896          NaN       100             21\n",
      "27538       27539          NaN       100             21\n",
      "39899       39900          NaN       100             21\n",
      "3445         3446          NaN       100             21\n",
      "11801       11802          NaN       100             21\n",
      "21826       21827          NaN       100             21\n",
      "6512         6513          NaN       100             21\n",
      "7287         7288          NaN       100             21\n",
      "31352       31353          NaN       100             21\n",
      "11373       11374          NaN       100             21\n",
      "12951       12952          NaN       100             21\n"
     ]
    }
   ],
   "source": [
    "# Encuentra los valores ausentes en la columna 'product_name'\n",
    "print(df_products[df_products['product_name'].isna()].sample(20))"
   ]
  },
  {
   "cell_type": "markdown",
   "id": "-A6x1AbJhjkp",
   "metadata": {
    "id": "-A6x1AbJhjkp"
   },
   "source": [
    "Describe brevemente cuáles son tus hallazgos.\n",
    "\n",
    "Todos los valores ausentes son de la columna 'aisle_id' con el valor '100' y el 'department_id' con el valor '21' "
   ]
  },
  {
   "cell_type": "code",
   "execution_count": 24,
   "id": "e96167bc",
   "metadata": {
    "id": "e96167bc"
   },
   "outputs": [
    {
     "name": "stdout",
     "output_type": "stream",
     "text": [
      "Empty DataFrame\n",
      "Columns: [product_id, product_name, aisle_id, department_id]\n",
      "Index: []\n"
     ]
    }
   ],
   "source": [
    "#  ¿Todos los nombres de productos ausentes están relacionados con el pasillo con ID 100?\n",
    "print(df_products[(df_products['aisle_id'] == 100) & ~(df_products['product_name'].isna())]) # comprobación de que el pasillo 100 no contiene ningún valor no nulo en 'product_name'"
   ]
  },
  {
   "cell_type": "markdown",
   "id": "WRpIfXRphpSL",
   "metadata": {
    "id": "WRpIfXRphpSL"
   },
   "source": [
    "Describe brevemente cuáles son tus hallazgos.\n",
    "\n",
    "Todos los productos que están en la columna de 'aisle_id' 100 contienen valores no nulos en la columna 'product_name'"
   ]
  },
  {
   "cell_type": "code",
   "execution_count": 25,
   "id": "8fd0a541",
   "metadata": {
    "id": "8fd0a541"
   },
   "outputs": [
    {
     "name": "stdout",
     "output_type": "stream",
     "text": [
      "Empty DataFrame\n",
      "Columns: [product_id, product_name, aisle_id, department_id]\n",
      "Index: []\n"
     ]
    }
   ],
   "source": [
    "# ¿Todos los nombres de productos ausentes están relacionados con el departamento con ID 21?\n",
    "print(df_products[(df_products['department_id'] == 21) & ~(df_products['product_name'].isna())]) # comprobación de que el pasillo 100 no contiene ningún valor no nulo en 'product_name'"
   ]
  },
  {
   "cell_type": "markdown",
   "id": "qDpdYn1Fht_I",
   "metadata": {
    "id": "qDpdYn1Fht_I"
   },
   "source": [
    "Describe brevemente cuáles son tus hallazgos.\n",
    "\n",
    "Todos los productos que están en la columna de 'department_id' 21 contienen valores no nulos en la columna 'product_name'"
   ]
  },
  {
   "cell_type": "code",
   "execution_count": 26,
   "id": "325c3464",
   "metadata": {
    "id": "325c3464"
   },
   "outputs": [
    {
     "name": "stdout",
     "output_type": "stream",
     "text": [
      "    department_id department\n",
      "20             21    missing\n",
      "----------------\n",
      "    aisle_id    aisle\n",
      "99       100  missing\n"
     ]
    }
   ],
   "source": [
    "# Usa las tablas department y aisle para revisar los datos del pasillo con ID 100 y el departamento con ID 21.\n",
    "print(df_departments[df_departments['department_id'] == 21])\n",
    "print('----------------')\n",
    "print(df_aisles[df_aisles['aisle_id'] == 100])\n"
   ]
  },
  {
   "cell_type": "markdown",
   "id": "nqhSTUPhhvEJ",
   "metadata": {
    "id": "nqhSTUPhhvEJ"
   },
   "source": [
    "Describe brevemente cuáles son tus hallazgos.\n",
    "\n",
    "En la tabla de 'departments' en su columna 'department_id' número 21  y en la tabla 'aisles' en su columna 'aisle_id' número 100 se encontró que en ambos caso está la leyenda 'missing'."
   ]
  },
  {
   "cell_type": "markdown",
   "id": "9d58860a",
   "metadata": {},
   "source": [
    "<div class=\"alert alert-block alert-success\">\n",
    "<b>Comentario del revisor (1ra Iteracion)</b> <a class=“tocSkip”></a>\n",
    "\n",
    "Perfecto! Revisaste en los datasets adecuados y con esto se puede entender mejor el por qué de los valores ausentes. Siempre hay que tratar de entender la razón de estos valores antes de aplicar cualquier proceso\n",
    "</div>"
   ]
  },
  {
   "cell_type": "code",
   "execution_count": 27,
   "id": "6b295120",
   "metadata": {
    "id": "6b295120"
   },
   "outputs": [
    {
     "name": "stdout",
     "output_type": "stream",
     "text": [
      "Empty DataFrame\n",
      "Columns: [product_id, product_name, aisle_id, department_id]\n",
      "Index: []\n",
      "--------------------------------------------------------------\n",
      "Empty DataFrame\n",
      "Columns: [product_id, product_name, aisle_id, department_id]\n",
      "Index: []\n"
     ]
    }
   ],
   "source": [
    "# Completa los nombres de productos ausentes con 'Unknown'\n",
    "df_products['product_name'].fillna('unknown', inplace= True)# se hace cambio a 'unknown' a aquellos valores ausentes en la columna 'product_name'\n",
    "print(df_products[(df_products['aisle_id'] == 100) & (df_products['product_name'] != 'unknown')])# comprobación de que 'product_name' contenga 'unknown' cuando sea 'aisle_id' == 100\n",
    "print('--------------------------------------------------------------')\n",
    "print(df_products[(df_products['department_id'] == 21) & (df_products['product_name'] != 'unknown')]) # comprobación de que 'product_name' contenga 'unknown' cuando sea 'department_id' == 21\n"
   ]
  },
  {
   "cell_type": "markdown",
   "id": "fc70e5ad",
   "metadata": {
    "id": "fc70e5ad"
   },
   "source": [
    "Describe brevemente tus hallazgos y lo que hiciste con ellos."
   ]
  },
  {
   "cell_type": "markdown",
   "id": "7eb45c86",
   "metadata": {
    "id": "7eb45c86"
   },
   "source": [
    "### `orders` data frame"
   ]
  },
  {
   "cell_type": "code",
   "execution_count": 28,
   "id": "93e41d96",
   "metadata": {
    "id": "93e41d96"
   },
   "outputs": [
    {
     "name": "stdout",
     "output_type": "stream",
     "text": [
      "<class 'pandas.core.frame.DataFrame'>\n",
      "Int64Index: 478952 entries, 0 to 478966\n",
      "Data columns (total 6 columns):\n",
      " #   Column                  Non-Null Count   Dtype  \n",
      "---  ------                  --------------   -----  \n",
      " 0   order_id                478952 non-null  int64  \n",
      " 1   user_id                 478952 non-null  int64  \n",
      " 2   order_number            478952 non-null  int64  \n",
      " 3   order_dow               478952 non-null  int64  \n",
      " 4   order_hour_of_day       478952 non-null  int64  \n",
      " 5   days_since_prior_order  450135 non-null  float64\n",
      "dtypes: float64(1), int64(5)\n",
      "memory usage: 25.6 MB\n",
      "        order_id  user_id  order_number  order_dow  order_hour_of_day  \\\n",
      "28        133707   182261             1          3                 10   \n",
      "96        787445    25685             1          6                 18   \n",
      "100       294410   111449             1          0                 19   \n",
      "103      2869915   123958             1          4                 16   \n",
      "104      2521921    42286             1          3                 18   \n",
      "...          ...      ...           ...        ...                ...   \n",
      "478895   2589657   205028             1          0                 16   \n",
      "478896   2222353   141211             1          2                 13   \n",
      "478922   2272807   204154             1          1                 15   \n",
      "478926   2499542    68810             1          4                 19   \n",
      "478945   1387033    22496             1          5                 14   \n",
      "\n",
      "        days_since_prior_order  \n",
      "28                         NaN  \n",
      "96                         NaN  \n",
      "100                        NaN  \n",
      "103                        NaN  \n",
      "104                        NaN  \n",
      "...                        ...  \n",
      "478895                     NaN  \n",
      "478896                     NaN  \n",
      "478922                     NaN  \n",
      "478926                     NaN  \n",
      "478945                     NaN  \n",
      "\n",
      "[28817 rows x 6 columns]\n"
     ]
    }
   ],
   "source": [
    "# Encuentra los valores ausentes\n",
    "df_instacart_orders.info()\n",
    "absent =df_instacart_orders[df_instacart_orders['days_since_prior_order'].isna()] \n",
    "print(absent)"
   ]
  },
  {
   "cell_type": "code",
   "execution_count": 29,
   "id": "166e5a86",
   "metadata": {
    "id": "166e5a86"
   },
   "outputs": [
    {
     "name": "stdout",
     "output_type": "stream",
     "text": [
      "order_id                      0\n",
      "user_id                       0\n",
      "order_number                  0\n",
      "order_dow                     0\n",
      "order_hour_of_day             0\n",
      "days_since_prior_order    28817\n",
      "dtype: int64\n",
      "----------------------------------------\n",
      "Empty DataFrame\n",
      "Columns: [order_id, user_id, order_number, order_dow, order_hour_of_day, days_since_prior_order]\n",
      "Index: []\n"
     ]
    }
   ],
   "source": [
    "# ¿Hay algún valor ausente que no sea el primer pedido del cliente?\n",
    "print(df_instacart_orders.isna().sum())\n",
    "print('----------------------------------------')\n",
    "print(absent[absent['order_number'] != 1])\n"
   ]
  },
  {
   "cell_type": "markdown",
   "id": "4e23d089",
   "metadata": {
    "id": "4e23d089"
   },
   "source": [
    "Describe brevemente tus hallazgos y lo que hiciste con ellos.\n",
    "\n",
    "Solamente se encontraron valores ausentes en las ocasiones cuando fue el primer pedido del cliente."
   ]
  },
  {
   "cell_type": "markdown",
   "id": "69dc9ca4",
   "metadata": {
    "id": "69dc9ca4"
   },
   "source": [
    "### `order_products` data frame"
   ]
  },
  {
   "cell_type": "code",
   "execution_count": 30,
   "id": "b8240253",
   "metadata": {
    "id": "b8240253"
   },
   "outputs": [
    {
     "name": "stdout",
     "output_type": "stream",
     "text": [
      "order_id               0\n",
      "product_id             0\n",
      "add_to_cart_order    836\n",
      "reordered              0\n",
      "dtype: int64\n"
     ]
    }
   ],
   "source": [
    "# Encuentra los valores ausentes\n",
    "print(df_order_products.isna().sum())"
   ]
  },
  {
   "cell_type": "code",
   "execution_count": 31,
   "id": "9a78e5ee",
   "metadata": {
    "id": "9a78e5ee"
   },
   "outputs": [
    {
     "name": "stdout",
     "output_type": "stream",
     "text": [
      "El valor mínimo en la columna \"add_to_cart_order\" es: 1.0\n",
      "El valor máximo en la columna \"add_to_cart_order\" es: 64.0\n"
     ]
    }
   ],
   "source": [
    "# ¿Cuáles son los valores mínimos y máximos en esta columna?\n",
    "min_add_to_cart_order = df_order_products['add_to_cart_order'].min()\n",
    "max_add_to_cart_order = df_order_products['add_to_cart_order'].max()\n",
    "print(f'El valor mínimo en la columna \"add_to_cart_order\" es:', min_add_to_cart_order)\n",
    "print(f'El valor máximo en la columna \"add_to_cart_order\" es:', max_add_to_cart_order)\n",
    "#print(df_order_products)"
   ]
  },
  {
   "cell_type": "markdown",
   "id": "-Z2Ja215jW78",
   "metadata": {
    "id": "-Z2Ja215jW78"
   },
   "source": [
    "Describe brevemente cuáles son tus hallazgos.\n",
    "\n",
    "Se encontraron 836 datos ausentes en la columna 'add_to_cart_order', siendo el mínimo 1 y el máximo 64"
   ]
  },
  {
   "cell_type": "markdown",
   "id": "7dada41d",
   "metadata": {},
   "source": [
    "<div class=\"alert alert-block alert-success\">\n",
    "<b>Comentario del revisor (1ra Iteracion)</b> <a class=“tocSkip”></a>\n",
    "\n",
    "Buen trabajo buscando el máximo y mínimo en la columna!\n",
    "</div>"
   ]
  },
  {
   "cell_type": "code",
   "execution_count": 32,
   "id": "ab9d0c2b",
   "metadata": {
    "id": "ab9d0c2b"
   },
   "outputs": [
    {
     "name": "stdout",
     "output_type": "stream",
     "text": [
      "737        2449164\n",
      "9926       1968313\n",
      "14394      2926893\n",
      "16418      1717990\n",
      "30114      1959075\n",
      "            ...   \n",
      "4505662    1800005\n",
      "4511400    1633337\n",
      "4517562     404157\n",
      "4534112    1673227\n",
      "4535739    1832957\n",
      "Name: order_id, Length: 836, dtype: int64\n"
     ]
    }
   ],
   "source": [
    "# Guarda todas las IDs de pedidos que tengan un valor ausente en 'add_to_cart_order'\n",
    "\"\"\"order_id_saved = []# aqui almaceno los ID de los pedidos que tienen valores ausente en 'add_to_cart_order' \n",
    "    \n",
    "for number in df_order_products[df_order_products['add_to_cart_order'].isna()]['order_id']:\n",
    "    order_id_saved.append(number)\n",
    "        \n",
    "print(df_order_products[df_order_products['add_to_cart_order'].isna()])\n",
    "print((order_id_saved))\"\"\"\n",
    "\n",
    "absent_add = df_order_products[df_order_products['add_to_cart_order'].isna()]# filtrado de tablas donde estarán los que tienen valores ausentes en add_to_cart\n",
    "order_id_saved = absent_add['order_id']# aqui almaceno los ID de los pedidos que tienen valores ausente en 'add_to_cart_order'\n",
    "print(order_id_saved)\n"
   ]
  },
  {
   "cell_type": "code",
   "execution_count": 33,
   "id": "54c31695",
   "metadata": {
    "id": "54c31695"
   },
   "outputs": [
    {
     "name": "stdout",
     "output_type": "stream",
     "text": [
      "          product_id  add_to_cart_order  reordered\n",
      "order_id                                          \n",
      "9310              65                 64         65\n",
      "61355            127                 64        127\n",
      "102236            95                 64         95\n",
      "129627            69                 64         69\n",
      "165801            70                 64         70\n",
      "...              ...                ...        ...\n",
      "2999801           70                 64         70\n",
      "3125735           86                 64         86\n",
      "3308010          115                 64        115\n",
      "3347453           71                 64         71\n",
      "3383594           69                 64         69\n",
      "\n",
      "[70 rows x 3 columns]\n",
      "El número mínimo de \"product_id\" por orden es de: 65\n"
     ]
    }
   ],
   "source": [
    "# ¿Todos los pedidos con valores ausentes tienen más de 64 productos?\n",
    "# Agrupa todos los pedidos con datos ausentes por su ID de pedido.\n",
    "# Cuenta el número de 'product_id' en cada pedido y revisa el valor mínimo del conteo.\n",
    "\n",
    "\"\"\"print(df_order_products[df_order_products['add_to_cart_order'].isna()].groupby('order_id').count())\n",
    "print('-----------------------------')\n",
    "min_value = df_order_products[df_order_products['add_to_cart_order'].isna()].groupby('order_id').count()['product_id'].min() \n",
    "max_value = df_order_products[df_order_products['add_to_cart_order'].isna()].groupby('order_id').count()['product_id'].max()\n",
    "print(f'El número mínimo de \"product_id\" por orden es de:', min_value)\n",
    "print(f'El número máximo de \"product_id\" por orden es de:', max_value)\"\"\"\n",
    "\n",
    "\n",
    "filtered_absent = df_order_products[df_order_products['order_id'].isin(order_id_saved)].groupby('order_id').count()\n",
    "print(filtered_absent)\n",
    "print(f'El número mínimo de \"product_id\" por orden es de:', filtered_absent['product_id'].min())\n",
    "\n",
    "#print('-----------------------')\n",
    "#print(absent_values[absent_values['order_id'] == 165801].sort_values(by='product_id') )"
   ]
  },
  {
   "cell_type": "markdown",
   "id": "b05f58da",
   "metadata": {},
   "source": [
    "<div class=\"alert alert-block alert-danger\">\n",
    "<b>Comentario del revisor (1ra Iteracion)</b> <a class=“tocSkip”></a>\n",
    "\n",
    "Para revisar si los pedidos con valores ausentes tienen o no más de 64 pedidos primero deberías buscar los valores NaN sobre la columna add_to_cart_order y luego deberías usar las order_id que que tienes en la variable `order_id_saved` suponiendo que sea donde guardas el resultado anterior (Solo toma los valores de la columna order_id) y filtrar en el dataset original utilizando `isin()` y luego si agrupar por order_id y contar en product_id, ya que de la forma en que lo estás haciendo solo cuenta cuantos valores ausentes hay por órden pero puede que tengas órdenes que tiene valores ausentes y también valores que no lo son y lo que interesa es contar todos estos datos.\n",
    "</div>"
   ]
  },
  {
   "cell_type": "markdown",
   "id": "p9V6pddtjglj",
   "metadata": {
    "id": "p9V6pddtjglj"
   },
   "source": [
    "Describe brevemente cuáles son tus hallazgos.\n",
    "\n",
    "El número mínimo de productos pedidos en una orden fue de 65."
   ]
  },
  {
   "cell_type": "markdown",
   "id": "0c9d3d58",
   "metadata": {},
   "source": [
    "<div class=\"alert alert-block alert-danger\">\n",
    "<b>Comentario del revisor (2da Iteracion)</b> <a class=“tocSkip”></a>\n",
    "\n",
    "Bien! El resultado ahora es distinto pero haz dejado la misma conclusión de la iteración anterior que no es correcta con el nuevo resultado\n",
    "</div>"
   ]
  },
  {
   "cell_type": "code",
   "execution_count": 34,
   "id": "7a987d08",
   "metadata": {
    "id": "7a987d08"
   },
   "outputs": [
    {
     "name": "stdout",
     "output_type": "stream",
     "text": [
      "order_id             0\n",
      "product_id           0\n",
      "add_to_cart_order    0\n",
      "reordered            0\n",
      "dtype: int64\n",
      "<class 'pandas.core.frame.DataFrame'>\n",
      "RangeIndex: 4545007 entries, 0 to 4545006\n",
      "Data columns (total 4 columns):\n",
      " #   Column             Dtype\n",
      "---  ------             -----\n",
      " 0   order_id           int64\n",
      " 1   product_id         int64\n",
      " 2   add_to_cart_order  int64\n",
      " 3   reordered          int64\n",
      "dtypes: int64(4)\n",
      "memory usage: 138.7 MB\n"
     ]
    }
   ],
   "source": [
    "# Remplaza los valores ausentes en la columna 'add_to_cart? con 999 y convierte la columna al tipo entero.\n",
    "\n",
    "df_order_products['add_to_cart_order'].fillna(999, inplace = True)\n",
    "df_order_products['add_to_cart_order'] = df_order_products['add_to_cart_order'].astype(int)\n",
    "\n",
    "print(df_order_products.isna().sum())\n",
    "\n",
    "df_order_products.info()\n"
   ]
  },
  {
   "cell_type": "markdown",
   "id": "fea4bcc7",
   "metadata": {
    "id": "fea4bcc7"
   },
   "source": [
    "Describe brevemente tus hallazgos y lo que hiciste con ellos.\n",
    "\n",
    "Los valores de 'add_to_cart_order' eran inicialmente valores flotantes, por lo que se llenaron los valores ausentes con el número 999 y se convirtió toda la columna a tipo entero."
   ]
  },
  {
   "cell_type": "markdown",
   "id": "RnplPFY1gSrb",
   "metadata": {
    "id": "RnplPFY1gSrb"
   },
   "source": [
    "## Conclusiones\n",
    "\n",
    "Escribe aquí tus conclusiones intermedias sobre el Paso 2. Preprocesamiento de los datos\n",
    "\n",
    "En cualquier Dataframe o base de datos se tiene que hacer un pre análisis sobre el contenido de los valores de las columnas y ver qué datos son permitidos que sean duplicados y cuáles otros no. También, para agilizar el procesamiento de datos, es necesario que todos los valores de la columna sean de un solo tipo, para un mejor manejo de la información, lo cual se pudo corroborar y procesar por medio de los pasos anteriores."
   ]
  },
  {
   "cell_type": "markdown",
   "id": "UjrOIwTcz3ri",
   "metadata": {
    "id": "UjrOIwTcz3ri"
   },
   "source": [
    "# Paso 3. Análisis de los datos\n",
    "\n",
    "Una vez los datos estén procesados y listos, haz el siguiente análisis:"
   ]
  },
  {
   "cell_type": "markdown",
   "id": "turkish-kidney",
   "metadata": {
    "id": "turkish-kidney"
   },
   "source": [
    "# [A] Fácil (deben completarse todos para aprobar)\n",
    "\n",
    "1. Verifica que los valores en las columnas `'order_hour_of_day'` y `'order_dow'` en la tabla orders sean razonables (es decir, `'order_hour_of_day'` oscile entre 0 y 23 y `'order_dow'` oscile entre 0 y 6).\n",
    "2. Crea un gráfico que muestre el número de personas que hacen pedidos dependiendo de la hora del día.\n",
    "3. Crea un gráfico que muestre qué día de la semana la gente hace sus compras.\n",
    "4. Crea un gráfico que muestre el tiempo que la gente espera hasta hacer su siguiente pedido, y comenta sobre los valores mínimos y máximos."
   ]
  },
  {
   "cell_type": "markdown",
   "id": "short-capability",
   "metadata": {
    "id": "short-capability"
   },
   "source": [
    "### [A1] Verifica que los valores sean sensibles"
   ]
  },
  {
   "cell_type": "code",
   "execution_count": 35,
   "id": "growing-fruit",
   "metadata": {
    "id": "growing-fruit"
   },
   "outputs": [
    {
     "name": "stdout",
     "output_type": "stream",
     "text": [
      "    order_hour_of_day  order_id  user_id  order_number  order_dow  \\\n",
      "0                   0      3180     3180          3180       3180   \n",
      "1                   1      1763     1763          1763       1763   \n",
      "2                   2       989      989           989        989   \n",
      "3                   3       770      770           770        770   \n",
      "4                   4       765      765           765        765   \n",
      "5                   5      1371     1371          1371       1371   \n",
      "6                   6      4215     4215          4215       4215   \n",
      "7                   7     13043    13043         13043      13043   \n",
      "8                   8     25024    25024         25024      25024   \n",
      "9                   9     35896    35896         35896      35896   \n",
      "10                 10     40578    40578         40578      40578   \n",
      "11                 11     40032    40032         40032      40032   \n",
      "12                 12     38034    38034         38034      38034   \n",
      "13                 13     39007    39007         39007      39007   \n",
      "14                 14     39631    39631         39631      39631   \n",
      "15                 15     39789    39789         39789      39789   \n",
      "16                 16     38112    38112         38112      38112   \n",
      "17                 17     31930    31930         31930      31930   \n",
      "18                 18     25510    25510         25510      25510   \n",
      "19                 19     19547    19547         19547      19547   \n",
      "20                 20     14624    14624         14624      14624   \n",
      "21                 21     11019    11019         11019      11019   \n",
      "22                 22      8512     8512          8512       8512   \n",
      "23                 23      5611     5611          5611       5611   \n",
      "\n",
      "    days_since_prior_order  \n",
      "0                     2963  \n",
      "1                     1673  \n",
      "2                      928  \n",
      "3                      719  \n",
      "4                      711  \n",
      "5                     1282  \n",
      "6                     3997  \n",
      "7                    12402  \n",
      "8                    23717  \n",
      "9                    33865  \n",
      "10                   38271  \n",
      "11                   37589  \n",
      "12                   35706  \n",
      "13                   36643  \n",
      "14                   37339  \n",
      "15                   37340  \n",
      "16                   35647  \n",
      "17                   29897  \n",
      "18                   23851  \n",
      "19                   18267  \n",
      "20                   13718  \n",
      "21                   10341  \n",
      "22                    8012  \n",
      "23                    5257  \n"
     ]
    }
   ],
   "source": [
    "instacart_grouped_hour = df_instacart_orders.groupby('order_hour_of_day').count().reset_index()\n",
    "print(instacart_grouped_hour)"
   ]
  },
  {
   "cell_type": "code",
   "execution_count": 36,
   "id": "accessory-malaysia",
   "metadata": {
    "id": "accessory-malaysia"
   },
   "outputs": [
    {
     "name": "stdout",
     "output_type": "stream",
     "text": [
      "   order_dow  order_id  user_id  order_number  order_hour_of_day  \\\n",
      "0          0     84090    84090         84090              84090   \n",
      "1          1     82185    82185         82185              82185   \n",
      "2          2     65833    65833         65833              65833   \n",
      "3          3     60897    60897         60897              60897   \n",
      "4          4     59810    59810         59810              59810   \n",
      "5          5     63488    63488         63488              63488   \n",
      "6          6     62649    62649         62649              62649   \n",
      "\n",
      "   days_since_prior_order  \n",
      "0                   78749  \n",
      "1                   77269  \n",
      "2                   61925  \n",
      "3                   57271  \n",
      "4                   56395  \n",
      "5                   59907  \n",
      "6                   58619  \n"
     ]
    }
   ],
   "source": [
    "instacart_grouped_dow = df_instacart_orders.groupby('order_dow').count().reset_index()\n",
    "print(instacart_grouped_dow)"
   ]
  },
  {
   "cell_type": "markdown",
   "id": "hmR2GNQ6lCsX",
   "metadata": {
    "id": "hmR2GNQ6lCsX"
   },
   "source": [
    "Escribe aquí tus conclusiones\n",
    "\n",
    "Los valores de 'order_hour_of_day' y de 'order_dow' se encuentran en los límites razonables lo cual fue corroborado por medio de una agrupación de datos"
   ]
  },
  {
   "cell_type": "markdown",
   "id": "a6743a70",
   "metadata": {
    "id": "a6743a70"
   },
   "source": [
    "### [A2] Para cada hora del día, ¿cuántas personas hacen órdenes?"
   ]
  },
  {
   "cell_type": "code",
   "execution_count": 37,
   "id": "a36cca27",
   "metadata": {
    "id": "a36cca27"
   },
   "outputs": [
    {
     "data": {
      "image/png": "[encoded data removed]",
      "text/plain": [
       "<Figure size 640x480 with 1 Axes>"
      ]
     },
     "metadata": {},
     "output_type": "display_data"
    }
   ],
   "source": [
    "from matplotlib import pyplot as plt\n",
    "\n",
    "instacart_grouped_hour.plot(x='order_hour_of_day',y='order_id', kind='bar', title = 'Órdenes por hora del día', xlabel='Hora del día', ylabel='Número de órdenes', legend = False, grid=True)\n",
    "plt.show()"
   ]
  },
  {
   "cell_type": "markdown",
   "id": "11270eed",
   "metadata": {
    "id": "11270eed"
   },
   "source": [
    "Escribe aquí tus conclusiones\n",
    "\n",
    "Entre las 10 y 16 horas es cuando hay más actividad en el número de órdenes."
   ]
  },
  {
   "cell_type": "markdown",
   "id": "documented-command",
   "metadata": {
    "id": "documented-command"
   },
   "source": [
    "### [A3] ¿Qué día de la semana compran víveres las personas?"
   ]
  },
  {
   "cell_type": "code",
   "execution_count": 38,
   "id": "chief-digit",
   "metadata": {
    "id": "chief-digit"
   },
   "outputs": [
    {
     "data": {
      "image/png": "[encoded data removed]",
      "text/plain": [
       "<Figure size 640x480 with 1 Axes>"
      ]
     },
     "metadata": {},
     "output_type": "display_data"
    }
   ],
   "source": [
    "instacart_grouped_dow.plot(x='order_dow',y='order_id', kind='bar', title = 'Órdenes por día de la semana', xlabel='Día de la semana', ylabel='Número de órdenes', legend = False, grid=True)\n",
    "plt.show()"
   ]
  },
  {
   "cell_type": "markdown",
   "id": "dominant-lightning",
   "metadata": {
    "id": "dominant-lightning"
   },
   "source": [
    "Escribe aquí tus conclusiones\n",
    "\n",
    "Los días en los que hay más compras son los días domingo, seguido por el día lunes."
   ]
  },
  {
   "cell_type": "markdown",
   "id": "cutting-concert",
   "metadata": {
    "id": "cutting-concert"
   },
   "source": [
    "### [A4] ¿Cuánto tiempo esperan las personas hasta hacer otro pedido? Comenta sobre los valores mínimos y máximos."
   ]
  },
  {
   "cell_type": "code",
   "execution_count": 39,
   "id": "c231f523",
   "metadata": {
    "id": "c231f523"
   },
   "outputs": [
    {
     "name": "stdout",
     "output_type": "stream",
     "text": [
      "    days_since_prior_order  order_id  user_id  order_number  order_dow  \\\n",
      "0                      0.0      9589     9589          9589       9589   \n",
      "1                      1.0     20179    20179         20179      20179   \n",
      "2                      2.0     27138    27138         27138      27138   \n",
      "3                      3.0     30224    30224         30224      30224   \n",
      "4                      4.0     31006    31006         31006      31006   \n",
      "5                      5.0     30096    30096         30096      30096   \n",
      "6                      6.0     33930    33930         33930      33930   \n",
      "7                      7.0     44577    44577         44577      44577   \n",
      "8                      8.0     25361    25361         25361      25361   \n",
      "9                      9.0     16753    16753         16753      16753   \n",
      "10                    10.0     13309    13309         13309      13309   \n",
      "11                    11.0     11467    11467         11467      11467   \n",
      "12                    12.0     10658    10658         10658      10658   \n",
      "13                    13.0     11737    11737         11737      11737   \n",
      "14                    14.0     13992    13992         13992      13992   \n",
      "15                    15.0      9416     9416          9416       9416   \n",
      "16                    16.0      6587     6587          6587       6587   \n",
      "17                    17.0      5498     5498          5498       5498   \n",
      "18                    18.0      4971     4971          4971       4971   \n",
      "19                    19.0      4939     4939          4939       4939   \n",
      "20                    20.0      5302     5302          5302       5302   \n",
      "21                    21.0      6448     6448          6448       6448   \n",
      "22                    22.0      4514     4514          4514       4514   \n",
      "23                    23.0      3337     3337          3337       3337   \n",
      "24                    24.0      3015     3015          3015       3015   \n",
      "25                    25.0      2711     2711          2711       2711   \n",
      "26                    26.0      2640     2640          2640       2640   \n",
      "27                    27.0      2986     2986          2986       2986   \n",
      "28                    28.0      3745     3745          3745       3745   \n",
      "29                    29.0      2673     2673          2673       2673   \n",
      "30                    30.0     51337    51337         51337      51337   \n",
      "\n",
      "    order_hour_of_day  \n",
      "0                9589  \n",
      "1               20179  \n",
      "2               27138  \n",
      "3               30224  \n",
      "4               31006  \n",
      "5               30096  \n",
      "6               33930  \n",
      "7               44577  \n",
      "8               25361  \n",
      "9               16753  \n",
      "10              13309  \n",
      "11              11467  \n",
      "12              10658  \n",
      "13              11737  \n",
      "14              13992  \n",
      "15               9416  \n",
      "16               6587  \n",
      "17               5498  \n",
      "18               4971  \n",
      "19               4939  \n",
      "20               5302  \n",
      "21               6448  \n",
      "22               4514  \n",
      "23               3337  \n",
      "24               3015  \n",
      "25               2711  \n",
      "26               2640  \n",
      "27               2986  \n",
      "28               3745  \n",
      "29               2673  \n",
      "30              51337  \n"
     ]
    },
    {
     "data": {
      "image/png": "[encoded data removed]",
      "text/plain": [
       "<Figure size 640x480 with 1 Axes>"
      ]
     },
     "metadata": {},
     "output_type": "display_data"
    }
   ],
   "source": [
    "instacart_grouped_prior_order = df_instacart_orders.groupby('days_since_prior_order').count().reset_index()\n",
    "print(instacart_grouped_prior_order)\n",
    "\n",
    "\n",
    "instacart_grouped_prior_order.plot(x='days_since_prior_order',y='order_id', kind='bar', title = 'Días de espera para nueva compra', xlabel='Días desde la última compra', ylabel='Número de órdenes', legend = False, grid=True)\n",
    "plt.show()\n",
    "\n",
    " "
   ]
  },
  {
   "cell_type": "markdown",
   "id": "discrete-vertex",
   "metadata": {
    "id": "discrete-vertex"
   },
   "source": [
    "Escribe aquí tus conclusiones\n",
    "\n",
    "Por medio de la gráfica, podemos concluir que la mayoría de los clientes esperan 30 días en hacer un nuevo pedido, y casi nadie compra a los 26 días de hacer su último pedido."
   ]
  },
  {
   "cell_type": "markdown",
   "id": "1be8bbe4",
   "metadata": {},
   "source": [
    "<div class=\"alert alert-block alert-success\">\n",
    "<b>Comentario del revisor (1ra Iteracion)</b> <a class=“tocSkip”></a>\n",
    "\n",
    "Correcto, esta sección quedó muy bien analizada complementando las gráficas con cada conclusión de las mismas\n",
    "</div>"
   ]
  },
  {
   "cell_type": "markdown",
   "id": "tight-staff",
   "metadata": {
    "id": "tight-staff"
   },
   "source": [
    "# [B] Intermedio (deben completarse todos para aprobar)\n",
    "\n",
    "1. ¿Existe alguna diferencia entre las distribuciones `'order_hour_of_day'` de los miércoles y los sábados? Traza gráficos de barra de `'order_hour_of_day'` para ambos días en la misma figura y describe las diferencias que observes.\n",
    "2. Grafica la distribución para el número de órdenes que hacen los clientes (es decir, cuántos clientes hicieron solo 1 pedido, cuántos hicieron 2, cuántos 3, y así sucesivamente...).\n",
    "3. ¿Cuáles son los 20 principales productos que se piden con más frecuencia (muestra su identificación y nombre)?"
   ]
  },
  {
   "cell_type": "markdown",
   "id": "packed-classic",
   "metadata": {
    "id": "packed-classic"
   },
   "source": [
    "### [B1] Diferencia entre miércoles y sábados para  `'order_hour_of_day'`. Traza gráficos de barra para los dos días y describe las diferencias que veas."
   ]
  },
  {
   "cell_type": "code",
   "execution_count": 40,
   "id": "d89b8403",
   "metadata": {
    "id": "d89b8403"
   },
   "outputs": [
    {
     "name": "stdout",
     "output_type": "stream",
     "text": [
      "    order_hour_of_day  order_id  user_id  order_number  order_dow  \\\n",
      "0                   0       373      373           373        373   \n",
      "1                   1       215      215           215        215   \n",
      "2                   2       106      106           106        106   \n",
      "3                   3       101      101           101        101   \n",
      "4                   4       108      108           108        108   \n",
      "5                   5       170      170           170        170   \n",
      "6                   6       643      643           643        643   \n",
      "7                   7      1732     1732          1732       1732   \n",
      "8                   8      3125     3125          3125       3125   \n",
      "9                   9      4490     4490          4490       4490   \n",
      "10                 10      5026     5026          5026       5026   \n",
      "11                 11      5004     5004          5004       5004   \n",
      "12                 12      4688     4688          4688       4688   \n",
      "13                 13      4674     4674          4674       4674   \n",
      "14                 14      4774     4774          4774       4774   \n",
      "15                 15      5163     5163          5163       5163   \n",
      "16                 16      4976     4976          4976       4976   \n",
      "17                 17      4175     4175          4175       4175   \n",
      "18                 18      3463     3463          3463       3463   \n",
      "19                 19      2652     2652          2652       2652   \n",
      "20                 20      1917     1917          1917       1917   \n",
      "21                 21      1450     1450          1450       1450   \n",
      "22                 22      1154     1154          1154       1154   \n",
      "23                 23       718      718           718        718   \n",
      "\n",
      "    days_since_prior_order  \n",
      "0                      339  \n",
      "1                      202  \n",
      "2                      101  \n",
      "3                       93  \n",
      "4                       97  \n",
      "5                      155  \n",
      "6                      615  \n",
      "7                     1640  \n",
      "8                     2957  \n",
      "9                     4240  \n",
      "10                    4733  \n",
      "11                    4700  \n",
      "12                    4400  \n",
      "13                    4423  \n",
      "14                    4488  \n",
      "15                    4863  \n",
      "16                    4676  \n",
      "17                    3912  \n",
      "18                    3237  \n",
      "19                    2483  \n",
      "20                    1803  \n",
      "21                    1349  \n",
      "22                    1096  \n",
      "23                     669  \n"
     ]
    },
    {
     "data": {
      "image/png": "[encoded data removed]",
      "text/plain": [
       "<Figure size 640x480 with 1 Axes>"
      ]
     },
     "metadata": {},
     "output_type": "display_data"
    }
   ],
   "source": [
    "wednesday = df_instacart_orders[(df_instacart_orders['order_dow'] == 3)].groupby('order_hour_of_day').count().reset_index()\n",
    "print(wednesday)\n",
    "\n",
    "\n",
    "wednesday.plot(x='order_hour_of_day',y='order_dow', kind='bar', title = 'Compras en día miércoles por hora', xlabel='Hora del día', ylabel='Número de órdenes', legend = False, grid=True)\n",
    "plt.show()"
   ]
  },
  {
   "cell_type": "code",
   "execution_count": 41,
   "id": "94e54e8a",
   "metadata": {
    "id": "94e54e8a"
   },
   "outputs": [
    {
     "name": "stdout",
     "output_type": "stream",
     "text": [
      "    order_hour_of_day  order_id  user_id  order_number  order_dow  \\\n",
      "0                   0       464      464           464        464   \n",
      "1                   1       254      254           254        254   \n",
      "2                   2       177      177           177        177   \n",
      "3                   3       125      125           125        125   \n",
      "4                   4       118      118           118        118   \n",
      "5                   5       161      161           161        161   \n",
      "6                   6       451      451           451        451   \n",
      "7                   7      1619     1619          1619       1619   \n",
      "8                   8      3246     3246          3246       3246   \n",
      "9                   9      4311     4311          4311       4311   \n",
      "10                 10      4919     4919          4919       4919   \n",
      "11                 11      5116     5116          5116       5116   \n",
      "12                 12      5132     5132          5132       5132   \n",
      "13                 13      5323     5323          5323       5323   \n",
      "14                 14      5375     5375          5375       5375   \n",
      "15                 15      5188     5188          5188       5188   \n",
      "16                 16      5029     5029          5029       5029   \n",
      "17                 17      4295     4295          4295       4295   \n",
      "18                 18      3338     3338          3338       3338   \n",
      "19                 19      2610     2610          2610       2610   \n",
      "20                 20      1847     1847          1847       1847   \n",
      "21                 21      1473     1473          1473       1473   \n",
      "22                 22      1185     1185          1185       1185   \n",
      "23                 23       893      893           893        893   \n",
      "\n",
      "    days_since_prior_order  \n",
      "0                      429  \n",
      "1                      240  \n",
      "2                      165  \n",
      "3                      116  \n",
      "4                      114  \n",
      "5                      149  \n",
      "6                      424  \n",
      "7                     1535  \n",
      "8                     3063  \n",
      "9                     4050  \n",
      "10                    4622  \n",
      "11                    4767  \n",
      "12                    4808  \n",
      "13                    4971  \n",
      "14                    5044  \n",
      "15                    4841  \n",
      "16                    4663  \n",
      "17                    3999  \n",
      "18                    3113  \n",
      "19                    2447  \n",
      "20                    1731  \n",
      "21                    1383  \n",
      "22                    1111  \n",
      "23                     834  \n"
     ]
    },
    {
     "data": {
      "image/png": "[encoded data removed]",
      "text/plain": [
       "<Figure size 640x480 with 1 Axes>"
      ]
     },
     "metadata": {},
     "output_type": "display_data"
    }
   ],
   "source": [
    "saturday = df_instacart_orders[(df_instacart_orders['order_dow'] == 6)].groupby('order_hour_of_day').count().reset_index()\n",
    "\n",
    "print(saturday)\n",
    "\n",
    "saturday.plot(x='order_hour_of_day',y='order_id', kind='bar', title = 'Compras en día sábado por hora', xlabel='Hora del día sábado', ylabel='Número de órdenes', legend = False, grid=True)\n",
    "plt.show()"
   ]
  },
  {
   "cell_type": "code",
   "execution_count": 42,
   "id": "797c90a8",
   "metadata": {
    "id": "797c90a8"
   },
   "outputs": [
    {
     "name": "stdout",
     "output_type": "stream",
     "text": [
      "    order_hour_of_day  Miércoles  Sábado\n",
      "0                   0        373     464\n",
      "1                   1        215     254\n",
      "2                   2        106     177\n",
      "3                   3        101     125\n",
      "4                   4        108     118\n",
      "5                   5        170     161\n",
      "6                   6        643     451\n",
      "7                   7       1732    1619\n",
      "8                   8       3125    3246\n",
      "9                   9       4490    4311\n",
      "10                 10       5026    4919\n",
      "11                 11       5004    5116\n",
      "12                 12       4688    5132\n",
      "13                 13       4674    5323\n",
      "14                 14       4774    5375\n",
      "15                 15       5163    5188\n",
      "16                 16       4976    5029\n",
      "17                 17       4175    4295\n",
      "18                 18       3463    3338\n",
      "19                 19       2652    2610\n",
      "20                 20       1917    1847\n",
      "21                 21       1450    1473\n",
      "22                 22       1154    1185\n",
      "23                 23        718     893\n"
     ]
    }
   ],
   "source": [
    "days = ['order_hour_of_day','Miércoles','Sábado']# declaración de nuevas columnas para el nuevo data frame con los datos ordenados\n",
    "col_wednesday=[]\n",
    "col_saturday=[]\n",
    "col_order_hour=[]\n",
    "fused = []\n",
    "\n",
    "for hour_wed in wednesday['order_dow']: #los siguientes for los utilicé para almacenar los datos de cada uno de las horas por día, para posteriormente hacer un nuevo data frame \n",
    "    col_wednesday.append(hour_wed)\n",
    "    \n",
    "for hour_sat in saturday['order_dow']:\n",
    "    col_saturday.append(hour_sat)\n",
    "    \n",
    "for hour_both in wednesday['order_hour_of_day']:\n",
    "    col_order_hour.append(hour_both)\n",
    "    fused.append([col_order_hour[hour_both], col_wednesday[hour_both], col_saturday[hour_both]])\n",
    "    \n",
    "both_days = pd.DataFrame(data=fused, columns=days)# creación del nuevo dataframe y comprobación de que los datos fueron ordenados correctamente\n",
    "print(both_days)\n",
    "\n",
    "\n"
   ]
  },
  {
   "cell_type": "code",
   "execution_count": 43,
   "id": "35bcea30",
   "metadata": {
    "id": "35bcea30"
   },
   "outputs": [
    {
     "data": {
      "image/png": "[encoded data removed]",
      "text/plain": [
       "<Figure size 640x480 with 1 Axes>"
      ]
     },
     "metadata": {},
     "output_type": "display_data"
    }
   ],
   "source": [
    "both_days.plot(x='order_hour_of_day', y=['Miércoles', 'Sábado'], kind='bar', title = 'Comparativo de compras por hora en Miércoles y Sábado', xlabel='Hora del día', ylabel='Número de órdenes', grid=True)\n",
    "plt.show()"
   ]
  },
  {
   "cell_type": "markdown",
   "id": "charitable-congo",
   "metadata": {
    "id": "charitable-congo"
   },
   "source": [
    "Escribe aquí tus conclusiones\n",
    "\n",
    "Los días sábados hay más actividad de compra entre las 10 de la mañana y 4 de la tarde. Hay pocas horas en las que los miércoles tiene más actividad que el sábado."
   ]
  },
  {
   "cell_type": "markdown",
   "id": "3b44e2c1",
   "metadata": {},
   "source": [
    "<div class=\"alert alert-block alert-success\">\n",
    "<b>Comentario del revisor (1ra Iteracion)</b> <a class=“tocSkip”></a>\n",
    "\n",
    "Muy bien, la forma en la que se presentó la gráfica facilita la comparación de cada hora entre los dos días. Siempre hay que tratar de dejar las gráficas lo más sencillo de entender y comparar\n",
    "</div>"
   ]
  },
  {
   "cell_type": "markdown",
   "id": "e3891143",
   "metadata": {
    "id": "e3891143"
   },
   "source": [
    "### [B2] ¿Cuál es la distribución para el número de pedidos por cliente?"
   ]
  },
  {
   "cell_type": "code",
   "execution_count": 44,
   "id": "d8c26c23",
   "metadata": {
    "id": "d8c26c23"
   },
   "outputs": [
    {
     "name": "stdout",
     "output_type": "stream",
     "text": [
      "        user_id  order_id  order_number  order_dow  order_hour_of_day  \\\n",
      "0             2         2             2          2                  2   \n",
      "1             4         2             2          2                  2   \n",
      "2             5         1             1          1                  1   \n",
      "3             6         2             2          2                  2   \n",
      "4             7         2             2          2                  2   \n",
      "...         ...       ...           ...        ...                ...   \n",
      "157432   206203         1             1          1                  1   \n",
      "157433   206206         7             7          7                  7   \n",
      "157434   206207         5             5          5                  5   \n",
      "157435   206208         9             9          9                  9   \n",
      "157436   206209         2             2          2                  2   \n",
      "\n",
      "        days_since_prior_order  \n",
      "0                            1  \n",
      "1                            2  \n",
      "2                            1  \n",
      "3                            1  \n",
      "4                            2  \n",
      "...                        ...  \n",
      "157432                       1  \n",
      "157433                       7  \n",
      "157434                       5  \n",
      "157435                       9  \n",
      "157436                       2  \n",
      "\n",
      "[157437 rows x 6 columns]\n"
     ]
    }
   ],
   "source": [
    "customer_orders = df_instacart_orders.groupby('user_id').count().reset_index()\n",
    "print(customer_orders)\n",
    "\n",
    "#print(df_instacart_orders[(df_instacart_orders['user_id'] ==206208)])   este renglón solo se hizo para comprobación de que cada id de usuario si haya hecho cierto número de pedidos como mostraban las líneas de más arriba"
   ]
  },
  {
   "cell_type": "code",
   "execution_count": 45,
   "id": "00e69a66",
   "metadata": {
    "id": "00e69a66"
   },
   "outputs": [
    {
     "data": {
      "image/png": "[encoded data removed]",
      "text/plain": [
       "<Figure size 640x480 with 1 Axes>"
      ]
     },
     "metadata": {},
     "output_type": "display_data"
    }
   ],
   "source": [
    "customer_orders.hist(column ='order_id', bins = 30)\n",
    "plt.show()"
   ]
  },
  {
   "cell_type": "markdown",
   "id": "d2eff7d5",
   "metadata": {
    "id": "d2eff7d5"
   },
   "source": [
    "Escribe aquí tus conclusiones\n",
    "\n",
    "La gráfica de histograma muestra que la mayoría de los clientes realizan un solo pedido a la semana, y  va descendiendo el número de clientes que hacen más pedidos de manera gradual."
   ]
  },
  {
   "cell_type": "markdown",
   "id": "5fa615db",
   "metadata": {},
   "source": [
    "<div class=\"alert alert-block alert-danger\">\n",
    "<b>Comentario del revisor (1ra Iteracion)</b> <a class=“tocSkip”></a>\n",
    "\n",
    "Para analizar la distribución de una variable lo correcto es usar una gráfica tipo histograma. La gráfica de scatter se utiliza para analizar correlación entre variables numéricas\n",
    "</div>"
   ]
  },
  {
   "cell_type": "markdown",
   "id": "944c8547",
   "metadata": {},
   "source": [
    "<div class=\"alert alert-block alert-danger\">\n",
    "<b>Comentario del revisor (2da Iteracion)</b> <a class=“tocSkip”></a>\n",
    "\n",
    "A partir de aquí no se han realizado las correcciones mencionadas en la iteración anterior.\n",
    "</div>"
   ]
  },
  {
   "cell_type": "markdown",
   "id": "54a0319c",
   "metadata": {
    "id": "54a0319c"
   },
   "source": [
    "### [B3] ¿Cuáles son los 20 productos más populares (muestra su ID y nombre)?"
   ]
  },
  {
   "cell_type": "code",
   "execution_count": 46,
   "id": "exterior-arizona",
   "metadata": {
    "id": "exterior-arizona",
    "scrolled": false
   },
   "outputs": [
    {
     "name": "stdout",
     "output_type": "stream",
     "text": [
      "       product_id  order_id  add_to_cart_order  reordered\n",
      "22808       24852     66050              66050      66050\n",
      "12025       13176     53297              53297      53297\n",
      "19370       21137     37039              37039      37039\n",
      "20077       21903     33971              33971      33971\n",
      "43271       47209     29773              29773      29773\n",
      "43788       47766     24689              24689      24689\n",
      "43663       47626     21495              21495      21495\n",
      "15364       16797     20018              20018      20018\n",
      "24047       26209     19690              19690      19690\n",
      "25556       27845     19600              19600      19600\n",
      "25666       27966     19197              19197      19197\n",
      "21025       22935     15898              15898      15898\n",
      "22908       24964     15292              15292      15292\n",
      "41244       45007     14584              14584      14584\n",
      "35996       39275     13879              13879      13879\n",
      "45561       49683     13675              13675      13675\n",
      "25889       28204     12544              12544      12544\n",
      "5375         5876     12232              12232      12232\n",
      "7543         8277     11993              11993      11993\n",
      "37301       40706     11781              11781      11781\n"
     ]
    }
   ],
   "source": [
    "best_seller= df_order_products.groupby('product_id').count().reset_index()\n",
    "best_seller_sorted = best_seller.sort_values('order_id', ascending = False).head(20)\n",
    "print(best_seller_sorted)"
   ]
  },
  {
   "cell_type": "code",
   "execution_count": 47,
   "id": "universal-facial",
   "metadata": {
    "id": "universal-facial"
   },
   "outputs": [],
   "source": [
    "combined=[] #arreglo para guardar tanto id del producto como su nombre\\n\",\n",
    "temp_store= []\n",
    "for product in best_seller_sorted['product_id']: #bucle llamando a los códigos de los productos más vendidos del bloque de códigos anterior\n",
    "    new_temporal = df_products[df_products['product_id'] == product] #aqui se obtiene la fila que concuerde con el id del producto \n",
    "    to_store = best_seller_sorted[best_seller_sorted['product_id'] == product]\n",
    "    combined.append([product, new_temporal.iloc[0,1]]) #se manda a almacenar el id del producto y el nombre solamente\n",
    "    temp_store.append(to_store.iloc[0,2])\n",
    "    \n",
    "\n",
    "\n"
   ]
  },
  {
   "cell_type": "code",
   "execution_count": 48,
   "id": "bbcdd20b",
   "metadata": {
    "id": "bbcdd20b"
   },
   "outputs": [
    {
     "name": "stdout",
     "output_type": "stream",
     "text": [
      "    product_id              product_name  times_purchased\n",
      "0        24852                    BANANA            66050\n",
      "1        13176    BAG OF ORGANIC BANANAS            53297\n",
      "2        21137      ORGANIC STRAWBERRIES            37039\n",
      "3        21903      ORGANIC BABY SPINACH            33971\n",
      "4        47209      ORGANIC HASS AVOCADO            29773\n",
      "5        47766           ORGANIC AVOCADO            24689\n",
      "6        47626               LARGE LEMON            21495\n",
      "7        16797              STRAWBERRIES            20018\n",
      "8        26209                     LIMES            19690\n",
      "9        27845        ORGANIC WHOLE MILK            19600\n",
      "10       27966       ORGANIC RASPBERRIES            19197\n",
      "11       22935      ORGANIC YELLOW ONION            15898\n",
      "12       24964            ORGANIC GARLIC            15292\n",
      "13       45007          ORGANIC ZUCCHINI            14584\n",
      "14       39275       ORGANIC BLUEBERRIES            13879\n",
      "15       49683            CUCUMBER KIRBY            13675\n",
      "16       28204        ORGANIC FUJI APPLE            12544\n",
      "17        5876             ORGANIC LEMON            12232\n",
      "18        8277  APPLE HONEYCRISP ORGANIC            11993\n",
      "19       40706    ORGANIC GRAPE TOMATOES            11781\n"
     ]
    },
    {
     "data": {
      "image/png": "[encoded data removed]",
      "text/plain": [
       "<Figure size 800x600 with 1 Axes>"
      ]
     },
     "metadata": {},
     "output_type": "display_data"
    }
   ],
   "source": [
    "id_and_name = pd.DataFrame(data=combined, columns=['product_id', 'product_name']) #se crea un dataframe para mostrar de mejor los resultados\n",
    "id_and_name['times_purchased'] = temp_store\n",
    "print(id_and_name )\n",
    "\n",
    "id_and_name.plot(x='product_name', y='times_purchased', kind='bar', figsize=[8,6], xlabel=\"Productos\", ylabel=\"Pedidos\", title = 'Productos más vendidos', legend = False)\n",
    "plt.show()"
   ]
  },
  {
   "cell_type": "markdown",
   "id": "7df00f47",
   "metadata": {
    "id": "7df00f47"
   },
   "source": [
    "Escribe aquí tus conclusiones\n",
    "\n",
    "Por medio del procesamiento, se puede concluir que las personas buscan una vida más sana, ya que los productos más vendidos son frutas y verduras sin procesamiento industrial y orgánicos."
   ]
  },
  {
   "cell_type": "markdown",
   "id": "d79179fa",
   "metadata": {},
   "source": [
    "<div class=\"alert alert-block alert-warning\">\n",
    "<b>Comentario del revisor (1ra Iteracion)</b> <a class=“tocSkip”></a>\n",
    "\n",
    "Muy bien, el cálculo del conteo se realizó adecuadamente, pero para complementar el análisis sería mejor mostrar una gráfica de barras \n",
    "</div>"
   ]
  },
  {
   "cell_type": "markdown",
   "id": "gross-theme",
   "metadata": {
    "id": "gross-theme"
   },
   "source": [
    "# [C] Difícil (deben completarse todos para aprobar)\n",
    "\n",
    "1. ¿Cuántos artículos suelen comprar las personas en un pedido? ¿Cómo es la distribución?\n",
    "2. ¿Cuáles son los 20 principales artículos que vuelven a pedirse con mayor frecuencia (muestra sus nombres e IDs de los productos)?\n",
    "3. Para cada producto, ¿cuál es la tasa de repetición del pedido (número de repeticiones de pedido/total de pedidos?\n",
    "4. Para cada cliente, ¿qué proporción de los productos que pidió ya los había pedido? Calcula la tasa de repetición de pedido para cada usuario en lugar de para cada producto.\n",
    "5. ¿Cuáles son los 20 principales artículos que la gente pone primero en sus carritos (muestra las IDs de los productos, sus nombres, y el número de veces en que fueron el primer artículo en añadirse al carrito)?"
   ]
  },
  {
   "cell_type": "markdown",
   "id": "romantic-deposit",
   "metadata": {
    "id": "romantic-deposit"
   },
   "source": [
    "### [C1] ¿Cuántos artículos compran normalmente las personas en un pedido? ¿Cómo es la distribución?"
   ]
  },
  {
   "cell_type": "code",
   "execution_count": 49,
   "id": "virtual-punch",
   "metadata": {
    "id": "virtual-punch"
   },
   "outputs": [
    {
     "name": "stdout",
     "output_type": "stream",
     "text": [
      "        order_id  times\n",
      "0          61355    127\n",
      "1        3308010    115\n",
      "2        2136777    108\n",
      "3         171934    104\n",
      "4        1959075     98\n",
      "...          ...    ...\n",
      "450041     54659      1\n",
      "450042    210431      1\n",
      "450043   1717983      1\n",
      "450044   1136563      1\n",
      "450045      8196      1\n",
      "\n",
      "[450046 rows x 2 columns]\n",
      "          product_id  add_to_cart_order  reordered\n",
      "order_id                                          \n",
      "4                 13                 13         13\n",
      "9                 15                 15         15\n",
      "11                 5                  5          5\n",
      "19                 3                  3          3\n",
      "20                 8                  8          8\n",
      "...              ...                ...        ...\n",
      "3421034           17                 17         17\n",
      "3421053            9                  9          9\n",
      "3421071            5                  5          5\n",
      "3421077            4                  4          4\n",
      "3421079            1                  1          1\n",
      "\n",
      "[450046 rows x 3 columns]\n"
     ]
    }
   ],
   "source": [
    "item_per_order = df_order_products['order_id'].value_counts().reset_index()\n",
    "item_per_order.columns = ['order_id', 'times']\n",
    "print(item_per_order)\\\n",
    "#print(df_order_products[df_order_products['order_id']==1959075])  renglón para comprobación de que al poner un order_id si arroje el número correcto de filas de cuando se llamó value_counts\\n\",\n",
    "\n",
    "\n",
    "item_per_order1 = df_order_products.groupby('order_id').count()\n",
    "print(item_per_order1)\n",
    "#print(df_order_products[df_order_products['order_id'] == 3421053]) renglon para comprobacion"
   ]
  },
  {
   "cell_type": "code",
   "execution_count": 50,
   "id": "sensitive-breathing",
   "metadata": {
    "id": "sensitive-breathing"
   },
   "outputs": [
    {
     "name": "stdout",
     "output_type": "stream",
     "text": [
      "5      31923\n",
      "6      31698\n",
      "4      31054\n",
      "7      30822\n",
      "3      29046\n",
      "       ...  \n",
      "80         1\n",
      "87         1\n",
      "85         1\n",
      "72         1\n",
      "127        1\n",
      "Name: product_id, Length: 90, dtype: int64\n"
     ]
    }
   ],
   "source": [
    "items_per_order = item_per_order1['product_id'].value_counts()\n",
    "print(items_per_order)"
   ]
  },
  {
   "cell_type": "code",
   "execution_count": 51,
   "id": "completed-frank",
   "metadata": {
    "id": "completed-frank"
   },
   "outputs": [
    {
     "data": {
      "image/png": "[encoded data removed]",
      "text/plain": [
       "<Figure size 640x480 with 1 Axes>"
      ]
     },
     "metadata": {},
     "output_type": "display_data"
    }
   ],
   "source": [
    "item_per_order1.hist(column ='product_id', bins = 300)\n",
    "plt.show()\n"
   ]
  },
  {
   "cell_type": "markdown",
   "id": "designed-mortality",
   "metadata": {
    "id": "designed-mortality"
   },
   "source": [
    "Escribe aquí tus conclusiones\n",
    "\n",
    "Las personas generalmente compran 5, 6, 4, y 7 artículos en un solo pedido en ese orden."
   ]
  },
  {
   "cell_type": "markdown",
   "id": "15a69539",
   "metadata": {},
   "source": [
    "<div class=\"alert alert-block alert-danger\">\n",
    "<b>Comentario del revisor (1ra Iteracion)</b> <a class=“tocSkip”></a>\n",
    "\n",
    "La pregunta es sobre la distribución de compras por las personas, deberías agrupar por order_id y aplicar un conteo del total de productos (product_id) y ese resultado mostrarlo en un histograma\n",
    "</div>"
   ]
  },
  {
   "cell_type": "markdown",
   "id": "5e6b5537",
   "metadata": {
    "id": "5e6b5537"
   },
   "source": [
    "### [C2] ¿Cuáles son los 20 principales artículos que vuelven a pedirse con mayor frecuencia (muestra sus nombres e IDs de los productos)?"
   ]
  },
  {
   "cell_type": "code",
   "execution_count": 52,
   "id": "9374e55a",
   "metadata": {
    "id": "9374e55a",
    "scrolled": false
   },
   "outputs": [
    {
     "name": "stdout",
     "output_type": "stream",
     "text": [
      "       product_id  order_id  add_to_cart_order  reordered\n",
      "18104       24852     55763              55763      55763\n",
      "9528        13176     44450              44450      44450\n",
      "15368       21137     28639              28639      28639\n",
      "15936       21903     26233              26233      26233\n",
      "34407       47209     23629              23629      23629\n",
      "34828       47766     18743              18743      18743\n",
      "20285       27845     16251              16251      16251\n",
      "34725       47626     15044              15044      15044\n",
      "20375       27966     14748              14748      14748\n",
      "12193       16797     13945              13945      13945\n",
      "19088       26209     13327              13327      13327\n",
      "16700       22935     11145              11145      11145\n",
      "18186       24964     10411              10411      10411\n",
      "32792       45007     10076              10076      10076\n",
      "36219       49683      9538               9538       9538\n",
      "20543       28204      8989               8989       8989\n",
      "5978         8277      8836               8836       8836\n",
      "28607       39275      8799               8799       8799\n",
      "4267         5876      8412               8412       8412\n",
      "35905       49235      8389               8389       8389\n"
     ]
    }
   ],
   "source": [
    "only_reorders= df_order_products[df_order_products['reordered'] == 1]# filtrado de dataframe que tengan reordenes\n",
    "top_reorders = only_reorders.groupby('product_id').count().reset_index().sort_values('order_id', ascending = False).head(20)\n",
    "print(top_reorders)\n",
    "\n",
    "#print(df_order_products[(df_order_products['product_id'] == 47209) & (df_order_products['reordered'] == 1) ]) renglon solo para comprobación\n"
   ]
  },
  {
   "cell_type": "code",
   "execution_count": 53,
   "id": "possible-change",
   "metadata": {
    "id": "possible-change",
    "scrolled": true
   },
   "outputs": [
    {
     "name": "stdout",
     "output_type": "stream",
     "text": [
      "[55763, 44450, 28639, 26233, 23629, 18743, 16251, 15044, 14748, 13945, 13327, 11145, 10411, 10076, 9538, 8989, 8836, 8799, 8412, 8389]\n"
     ]
    }
   ],
   "source": [
    "new_combined=[] #arreglo para guardar tanto id del producto como su nombre\n",
    "new_storage=[]\n",
    "for product1 in top_reorders['product_id']: #bucle llamando a los códigos de los productos más vendidos del bloque de códigos anterior\n",
    "    new_temporal1 = df_products[df_products['product_id'] == product1] #aqui se obtiene la fila que concuerde con el id del producto  \n",
    "    new_temp_storage = top_reorders[top_reorders['product_id'] == product1]\n",
    "    new_combined.append([product1, new_temporal1.iloc[0,1]]) #se manda a almacenar el id del producto y el nombre solamente\n",
    "    new_storage.append(new_temp_storage.iloc[0,1])\n",
    "\n",
    "print(new_storage)"
   ]
  },
  {
   "cell_type": "code",
   "execution_count": 54,
   "id": "professional-surfing",
   "metadata": {
    "id": "professional-surfing",
    "scrolled": false
   },
   "outputs": [],
   "source": [
    "id_and_name2 = pd.DataFrame(data=new_combined, columns=['product_id', 'product_name']) #se crea un dataframe para mostrar de mejor los resultados\n",
    "id_and_name2['frequently_purchased'] = new_storage"
   ]
  },
  {
   "cell_type": "code",
   "execution_count": 55,
   "id": "48dd3658",
   "metadata": {
    "id": "48dd3658"
   },
   "outputs": [
    {
     "name": "stdout",
     "output_type": "stream",
     "text": [
      "    product_id              product_name  frequently_purchased\n",
      "0        24852                    BANANA                 55763\n",
      "1        13176    BAG OF ORGANIC BANANAS                 44450\n",
      "2        21137      ORGANIC STRAWBERRIES                 28639\n",
      "3        21903      ORGANIC BABY SPINACH                 26233\n",
      "4        47209      ORGANIC HASS AVOCADO                 23629\n",
      "5        47766           ORGANIC AVOCADO                 18743\n",
      "6        27845        ORGANIC WHOLE MILK                 16251\n",
      "7        47626               LARGE LEMON                 15044\n",
      "8        27966       ORGANIC RASPBERRIES                 14748\n",
      "9        16797              STRAWBERRIES                 13945\n",
      "10       26209                     LIMES                 13327\n",
      "11       22935      ORGANIC YELLOW ONION                 11145\n",
      "12       24964            ORGANIC GARLIC                 10411\n",
      "13       45007          ORGANIC ZUCCHINI                 10076\n",
      "14       49683            CUCUMBER KIRBY                  9538\n",
      "15       28204        ORGANIC FUJI APPLE                  8989\n",
      "16        8277  APPLE HONEYCRISP ORGANIC                  8836\n",
      "17       39275       ORGANIC BLUEBERRIES                  8799\n",
      "18        5876             ORGANIC LEMON                  8412\n",
      "19       49235       ORGANIC HALF & HALF                  8389\n"
     ]
    },
    {
     "data": {
      "image/png": "[encoded data removed]",
      "text/plain": [
       "<Figure size 800x600 with 1 Axes>"
      ]
     },
     "metadata": {},
     "output_type": "display_data"
    }
   ],
   "source": [
    "print(id_and_name2)\n",
    "id_and_name2.plot(x='product_name', y='frequently_purchased', kind='bar', figsize=[8,6], xlabel=\"Productos\", ylabel=\"Pedidos\", title = 'Productos más reordenados', legend = False)\n",
    "plt.show()"
   ]
  },
  {
   "cell_type": "markdown",
   "id": "80e70c74",
   "metadata": {
    "id": "80e70c74"
   },
   "source": [
    "Escribe aquí tus conclusiones\n",
    "\n",
    "Se corrobora que los productos con más reórdenes son los productos orgánicos. Hay muy pocos productos que varían con respecto a los más pedidos sin reorden, pero los plátanos y las fresas siguen los productos más comprados tanto para clientes nuevos como para clientes frecuentes. "
   ]
  },
  {
   "cell_type": "markdown",
   "id": "446b10be",
   "metadata": {},
   "source": [
    "<div class=\"alert alert-block alert-warning\">\n",
    "<b>Comentario del revisor (1ra Iteracion)</b> <a class=“tocSkip”></a>\n",
    "\n",
    "Similar al ejercicio B3, aquí también deberías tener una gráfica para complementar de manera visual el análisis\n",
    "</div>"
   ]
  },
  {
   "cell_type": "markdown",
   "id": "9d312b14",
   "metadata": {
    "id": "9d312b14"
   },
   "source": [
    "### [C3] Para cada producto, ¿cuál es la proporción de las veces que se pide y que se vuelve a pedir?"
   ]
  },
  {
   "cell_type": "code",
   "execution_count": 56,
   "id": "8ae9f4b1",
   "metadata": {
    "id": "8ae9f4b1"
   },
   "outputs": [
    {
     "name": "stdout",
     "output_type": "stream",
     "text": [
      "       product_id  total_times\n",
      "0           24852        66050\n",
      "1           13176        53297\n",
      "2           21137        37039\n",
      "3           21903        33971\n",
      "4           47209        29773\n",
      "...           ...          ...\n",
      "45568       10543            1\n",
      "45569        5222            1\n",
      "45570        2347            1\n",
      "45571       11893            1\n",
      "45572       32074            1\n",
      "\n",
      "[45573 rows x 2 columns]\n"
     ]
    }
   ],
   "source": [
    "total_product_order = df_order_products['product_id'].value_counts().reset_index()#filtrado de tablas que muestra las veces que el product_id ha sido ordenado\n",
    "total_product_order.columns = ['product_id', 'total_times']\n",
    "print(total_product_order)\n",
    "\n",
    "\n",
    "\n"
   ]
  },
  {
   "cell_type": "code",
   "execution_count": 57,
   "id": "103e7fe1",
   "metadata": {
    "id": "103e7fe1",
    "scrolled": false
   },
   "outputs": [
    {
     "name": "stdout",
     "output_type": "stream",
     "text": [
      "       product_id  reorder_times\n",
      "0           24852          55763\n",
      "1           13176          44450\n",
      "2           21137          28639\n",
      "3           21903          26233\n",
      "4           47209          23629\n",
      "...           ...            ...\n",
      "36223        2591              1\n",
      "36224       29201              1\n",
      "36225       27154              1\n",
      "36226       10789              1\n",
      "36227        2049              1\n",
      "\n",
      "[36228 rows x 2 columns]\n"
     ]
    }
   ],
   "source": [
    "product_reorder= df_order_products[df_order_products['reordered'] == 1]['product_id'].value_counts().reset_index()# filtrado de tabla que contiene solo productos con reordenes.\n",
    "product_reorder.columns = ['product_id', 'reorder_times']\n",
    "print(product_reorder)\n",
    "         "
   ]
  },
  {
   "cell_type": "code",
   "execution_count": 58,
   "id": "social-individual",
   "metadata": {
    "id": "social-individual"
   },
   "outputs": [
    {
     "name": "stdout",
     "output_type": "stream",
     "text": [
      "       product_id  total_times  order_rate\n",
      "0           24852        66050        84.4\n",
      "1           13176        53297        83.4\n",
      "2           21137        37039        77.3\n",
      "3           21903        33971        77.2\n",
      "4           47209        29773        79.4\n",
      "...           ...          ...         ...\n",
      "45568       10543            1         0.0\n",
      "45569        5222            1         0.0\n",
      "45570        2347            1         0.0\n",
      "45571       11893            1         0.0\n",
      "45572       32074            1         0.0\n",
      "\n",
      "[45573 rows x 3 columns]\n"
     ]
    }
   ],
   "source": [
    "rate=[] # aqui se almacenan los resultados de las divisiones entre el total de reordenes sobre el total de pedidos\n",
    "for calc in total_product_order['product_id']: # bucle para evaluar cada uno de los id de los productos en el dataframe de productos totales\n",
    "    temp_reorder = product_reorder[product_reorder['product_id'] == calc]# se almacena la fila de la tabla de reordenes que concuerde con id del producto\n",
    "    temp_total_order = total_product_order[total_product_order['product_id'] == calc] #se almacena la fila de la tabla de productos totales que concuerde con el id del producto\n",
    "    if len(temp_reorder) == 0:# condición donde si no existe ninguna fila de la tabla de reordenes con el id de producto actual, regresa un 0 en donde se almacenan las divisiones/rate\n",
    "        rate.append(0)\n",
    "    else:\n",
    "        div = (temp_reorder.iloc[0,1] / temp_total_order.iloc[0,1])*100 #si existe una fila tanto en la tabla de reordenes como de productos totales, realiza la división de las veces que se reordenó sobre las veces que se ha comprado dicho artículo\n",
    "        redondeado = round(div, ndigits = 1)# se redondea la división\n",
    "        rate.append(redondeado)# se almacena el resultado de las divisiones de dicho id del artículo\n",
    "        \n",
    "total_product_order['order_rate'] = rate   # se crea una columna nueva 'order_rate'  \n",
    "   \n",
    "print(total_product_order)"
   ]
  },
  {
   "cell_type": "markdown",
   "id": "I10dEIAyldcO",
   "metadata": {
    "id": "I10dEIAyldcO"
   },
   "source": [
    "Escribe aquí tus conclusiones\n",
    "\n",
    "Hay una recompra recurrente en los productos orgánicos, lo que explica porqué son los productos más vendidos. Es de notar que habrá productos con frecuencia de compra 0, ya que puede ser solamente la primera vez que se ha comprado dicho producto o es de recién puesta en venta. "
   ]
  },
  {
   "cell_type": "markdown",
   "id": "subject-boxing",
   "metadata": {
    "id": "subject-boxing"
   },
   "source": [
    "### [C4] Para cada cliente, ¿qué proporción de sus productos ya los había pedido?"
   ]
  },
  {
   "cell_type": "code",
   "execution_count": 59,
   "id": "medical-couple",
   "metadata": {
    "id": "medical-couple",
    "scrolled": false
   },
   "outputs": [],
   "source": [
    "temp_order_products = df_order_products.drop('add_to_cart_order', axis = 1)# elimino columnas innecesarias\n",
    "temp_instacart = df_instacart_orders.drop('order_number', axis = 1).drop('order_dow', axis = 1).drop('order_hour_of_day', axis = 1).drop('days_since_prior_order', axis = 1)# elimino columnas innecesarias\\\n",
    "merged_dataframe = temp_instacart.merge(temp_order_products, on='order_id').drop('product_id', axis = 1)# fusiono dataframes que concuerden con 'order_id'\\n\n",
    "only_reorders = merged_dataframe[merged_dataframe['reordered'] == 1]# hago filtrado de filas que tengan solo reordenes\n"
   ]
  },
  {
   "cell_type": "code",
   "execution_count": 60,
   "id": "8892e4b4",
   "metadata": {
    "id": "8892e4b4"
   },
   "outputs": [
    {
     "name": "stdout",
     "output_type": "stream",
     "text": [
      "              user_id  reorders_done  total_purchases\n",
      "reorder_rate                                         \n",
      "0.00            16635          16635            16635\n",
      "100.00           8102           8102             8102\n",
      "50.00            6524           6524             6524\n",
      "33.33            3896           3896             3896\n",
      "66.67            3864           3864             3864\n",
      "25.00            2536           2536             2536\n",
      "75.00            2413           2413             2413\n",
      "40.00            2152           2152             2152\n",
      "60.00            2062           2062             2062\n",
      "20.00            1874           1874             1874\n",
      "80.00            1686           1686             1686\n",
      "16.67            1430           1430             1430\n",
      "42.86            1393           1393             1393\n",
      "57.14            1368           1368             1368\n",
      "28.57            1286           1286             1286\n",
      "83.33            1230           1230             1230\n",
      "71.43            1201           1201             1201\n",
      "37.50            1157           1157             1157\n",
      "62.50            1072           1072             1072\n",
      "14.29            1020           1020             1020\n"
     ]
    }
   ],
   "source": [
    "grouped_merged = merged_dataframe.groupby('user_id').count().reset_index().drop('order_id', axis = 1).rename(columns = {'reordered' :'total_purchases'})# agrupo la fusion del dataframe para 'user_id', elimina más columnas innecesarias y renombro columna de 'reordered' a 'total_purchases' para mejor comprensión\\n\",\n",
    "grouped_only_reorders = only_reorders.groupby('user_id').count().reset_index().drop('order_id', axis = 1).rename(columns = {'reordered' :'reorders_done'})# agrupo la fusión de dataframe que contiene solo reordenes , elimino más columnas innecesarias y renombro columna 'reordered' a 'reorders_done' para mejor comprensión\\n\",\n",
    "sorted_merged = grouped_only_reorders.merge(grouped_merged, on = 'user_id', how = 'outer')# fusiono nuevamente las columnas que SÍ hicieron una reorden y con el dataframe que contiene todos los productos tanto con y sin reorden. Se mantienen todas las filas aunque no haya coincidencias en el 'user_id' con el parámetro 'how_outer'\\n\",\n",
    "sorted_merged['reorders_done'] = sorted_merged['reorders_done'].fillna(0).astype(int)# relleno las celdas con valores nulos con 0 para hacer su respectiva división\\n\",\n",
    "sorted_merged['reorder_rate'] = round((sorted_merged['reorders_done']/sorted_merged['total_purchases'])*100, ndigits = 2) #realizo divisón celda por celda y se almacena en nueva columna 'reorder_rate'\\n\",\n",
    "\n",
    "grouped_sorted_merged= sorted_merged.groupby('reorder_rate').count()\n",
    "print(grouped_sorted_merged.sort_values('user_id', ascending = False).head(20))"
   ]
  },
  {
   "cell_type": "markdown",
   "id": "BgJSvXDsleXz",
   "metadata": {
    "id": "BgJSvXDsleXz"
   },
   "source": [
    "Escribe aquí tus conclusiones\n",
    "\n",
    "Hay un número muy alto de usuarios que tienen un porcentaje del 0% de recompra de sus productos, que son 16635 usuarios los que siempre compran productos nuevos. Y 8102 usuarios siempre compran los mismos productos."
   ]
  },
  {
   "cell_type": "markdown",
   "id": "74960e40",
   "metadata": {},
   "source": [
    "<div class=\"alert alert-block alert-danger\">\n",
    "<b>Comentario del revisor (1ra Iteracion)</b> <a class=“tocSkip”></a>\n",
    "\n",
    "El cálculo de las proporciones debes realizarlo agrupando por usuario o producto (según sea el enunciado) y aplicando sobre la columna reordered un `.mean()` ya que al ser valores de 1 y 0 puedes obtener la proporción calculando el promedio ya que si tienes 20 valores de 1 de un total de 100, el promedio te dará 20/100 que es 0.2 o el 20%\n",
    "</div>"
   ]
  },
  {
   "cell_type": "markdown",
   "id": "92d35137",
   "metadata": {
    "id": "92d35137"
   },
   "source": [
    "### [C5] ¿Cuáles son los 20 principales artículos que las personas ponen primero en sus carritos?"
   ]
  },
  {
   "cell_type": "code",
   "execution_count": 61,
   "id": "0ae57274",
   "metadata": {
    "id": "0ae57274",
    "scrolled": false
   },
   "outputs": [],
   "source": [
    "#print(df_order_products)\n",
    "new_combined2 = [] #aqui almaceno los nombres de los productos\n",
    "\n",
    "#en el siguiente renglón hago un filtrado de los productos que fueron elegidos primero para sus carritos y después agrupo por numero de producto . Uso sort_values para que me ponga los valores que más se repitieron hasta arriba y agarro las primeras 20 muestras\n",
    "first_item_times = df_order_products[df_order_products['add_to_cart_order']== 1].groupby('product_id').count().reset_index().sort_values('order_id', ascending = False).head(20)\n"
   ]
  },
  {
   "cell_type": "code",
   "execution_count": 62,
   "id": "forty-netherlands",
   "metadata": {
    "id": "forty-netherlands",
    "scrolled": false
   },
   "outputs": [],
   "source": [
    "for calc2 in first_item_times['product_id']:# bucle donde se obtiene el número del artículo\n",
    "    temp_first_item = df_products[df_products['product_id'] == calc2]# se busca la fila que contenga el número del artículo y así obtener el nombre del producto\n",
    "    new_combined2.append(temp_first_item.iloc[0,1])# se almacena el nombre en la lista para posteriormente adjuntarla en una nueva columna"
   ]
  },
  {
   "cell_type": "code",
   "execution_count": 63,
   "id": "08e41ec2",
   "metadata": {
    "id": "08e41ec2"
   },
   "outputs": [
    {
     "name": "stdout",
     "output_type": "stream",
     "text": [
      "    product_id                 product_name  first_item_times\n",
      "0        24852                       BANANA             15562\n",
      "1        13176       BAG OF ORGANIC BANANAS             11026\n",
      "2        27845           ORGANIC WHOLE MILK              4363\n",
      "3        21137         ORGANIC STRAWBERRIES              3946\n",
      "4        47209         ORGANIC HASS AVOCADO              3390\n",
      "5        21903         ORGANIC BABY SPINACH              3336\n",
      "6        47766              ORGANIC AVOCADO              3044\n",
      "7        19660                 SPRING WATER              2336\n",
      "8        16797                 STRAWBERRIES              2308\n",
      "9        27966          ORGANIC RASPBERRIES              2024\n",
      "10       44632   SPARKLING WATER GRAPEFRUIT              1914\n",
      "11       49235          ORGANIC HALF & HALF              1797\n",
      "12       47626                  LARGE LEMON              1737\n",
      "13         196                         SODA              1733\n",
      "14       38689     ORGANIC REDUCED FAT MILK              1397\n",
      "15       26209                        LIMES              1370\n",
      "16       12341                HASS AVOCADOS              1340\n",
      "17        5785  ORGANIC REDUCED FAT 2% MILK              1310\n",
      "18       27086                  HALF & HALF              1309\n",
      "19       43352                  RASPBERRIES              1246\n"
     ]
    },
    {
     "data": {
      "image/png": "[encoded data removed]",
      "text/plain": [
       "<Figure size 800x600 with 1 Axes>"
      ]
     },
     "metadata": {},
     "output_type": "display_data"
    }
   ],
   "source": [
    "first_item_times['product_name'] = new_combined2 # se crea una nueva columna con los nombres almacenados.\n",
    "first_item_times['first_item_times'] = first_item_times['order_id']# se crea la columna con los números de repeticiones del producto que fue puesto primero en el carrito\n",
    "final_result = first_item_times.drop('order_id', axis = 1).drop('add_to_cart_order', axis = 1).drop('reordered', axis = 1)# elimino las columnas que no son necesarias para mostrar\n",
    "print(final_result.reset_index(drop = True))\n",
    "\n",
    "final_result.plot(x='product_name', y='first_item_times', kind='bar', figsize=[8,6], xlabel=\"Productos\", ylabel=\"Pedidos\", title = 'Productos como primera elección', legend = False)\n",
    "plt.show()"
   ]
  },
  {
   "cell_type": "markdown",
   "id": "28ce9872",
   "metadata": {
    "id": "28ce9872"
   },
   "source": [
    "Escribe aquí tus conclusiones\n",
    "\n",
    "Como se vio en ejercicios anteriores, los productos que siguen siendo los más solicitados son las bananas en todas sus presentaciones, así como productos orgánicos, ya que en esta ejercicio fueron los productos que los clientes eligieron primero para su compra."
   ]
  },
  {
   "cell_type": "markdown",
   "id": "3e1bc2cb",
   "metadata": {},
   "source": [
    "<div class=\"alert alert-block alert-warning\">\n",
    "<b>Comentario del revisor (1ra Iteracion)</b> <a class=“tocSkip”></a>\n",
    "\n",
    "Cómo en los ejercicios anteriores del top 20, también deberías incluir una gráfica \n",
    "</div>"
   ]
  },
  {
   "cell_type": "markdown",
   "id": "uITbFCEoDosC",
   "metadata": {
    "id": "uITbFCEoDosC"
   },
   "source": [
    "### Conclusion general del proyecto:\n",
    "\n",
    "En base a los resultados obtenidos en estos análisis, los productos más vendidos, más recomprados y los que son los primero en ponerse en el carrito virtual de compras son los productos orgánicos y frutas, en especial las bananas y las fresas. También podemos observar que muchos clientes no vuelven a comprar productos, lo que indica que puede no haber productos de calidad que inciten a recomprar o que hay mucha competencia, lo que hace que los clientes hagan sus compras en otros lugares."
   ]
  },
  {
   "cell_type": "code",
   "execution_count": null,
   "id": "Nk-4GS7mDwqY",
   "metadata": {
    "id": "Nk-4GS7mDwqY"
   },
   "outputs": [],
   "source": [
    "\n"
   ]
  },
  {
   "cell_type": "markdown",
   "id": "928bb693",
   "metadata": {},
   "source": [
    "<div class=\"alert alert-block alert-danger\">\n",
    "<b>Comentario del revisor (1ra Iteracion)</b> <a class=“tocSkip”></a>\n",
    "\n",
    "Las conclusiones generales del proyecto deben ser redactadas en base a los hallazgos encontrados en las distintas gráficas y cálculos realizados. Siempre tratando de comunicar hallazgos que sirvan a la empresa. Además, debes hacerlo en una celda tipo Markdown y no en una de código.\n",
    "</div>"
   ]
  }
 ],
 "metadata": {
  "ExecuteTimeLog": [
   {
    "duration": 302,
    "start_time": "2025-04-18T06:11:01.457Z"
   },
   {
    "duration": 3681,
    "start_time": "2025-04-18T06:11:03.029Z"
   },
   {
    "duration": 7,
    "start_time": "2025-04-18T06:11:29.915Z"
   },
   {
    "duration": 22,
    "start_time": "2025-04-18T06:13:53.881Z"
   },
   {
    "duration": 10,
    "start_time": "2025-04-18T06:14:22.300Z"
   },
   {
    "duration": 174,
    "start_time": "2025-04-18T06:15:46.126Z"
   },
   {
    "duration": 8,
    "start_time": "2025-04-18T06:15:56.707Z"
   },
   {
    "duration": 9,
    "start_time": "2025-04-18T06:16:37.002Z"
   },
   {
    "duration": 7,
    "start_time": "2025-04-18T06:17:19.993Z"
   },
   {
    "duration": 161,
    "start_time": "2025-04-20T03:20:13.758Z"
   },
   {
    "duration": 328,
    "start_time": "2025-04-20T03:20:23.941Z"
   },
   {
    "duration": 1006,
    "start_time": "2025-04-20T03:20:25.647Z"
   },
   {
    "duration": 11,
    "start_time": "2025-04-20T03:20:28.242Z"
   },
   {
    "duration": 12,
    "start_time": "2025-04-20T03:20:33.080Z"
   },
   {
    "duration": 10,
    "start_time": "2025-04-20T03:20:35.442Z"
   },
   {
    "duration": 10,
    "start_time": "2025-04-20T03:20:37.670Z"
   },
   {
    "duration": 7,
    "start_time": "2025-04-20T03:20:39.813Z"
   },
   {
    "duration": 11,
    "start_time": "2025-04-20T03:37:13.111Z"
   },
   {
    "duration": 9,
    "start_time": "2025-04-20T03:37:17.613Z"
   },
   {
    "duration": 10,
    "start_time": "2025-04-20T03:37:19.892Z"
   },
   {
    "duration": 9,
    "start_time": "2025-04-20T03:37:24.711Z"
   },
   {
    "duration": 7,
    "start_time": "2025-04-20T03:37:30.703Z"
   },
   {
    "duration": 11,
    "start_time": "2025-04-20T03:37:44.869Z"
   },
   {
    "duration": 42,
    "start_time": "2025-04-20T03:39:18.498Z"
   },
   {
    "duration": 20,
    "start_time": "2025-04-20T03:39:39.145Z"
   },
   {
    "duration": 13,
    "start_time": "2025-04-20T03:39:52.895Z"
   },
   {
    "duration": 12,
    "start_time": "2025-04-20T03:40:21.382Z"
   },
   {
    "duration": 20,
    "start_time": "2025-04-20T03:41:18.176Z"
   },
   {
    "duration": 7,
    "start_time": "2025-04-20T03:41:34.110Z"
   },
   {
    "duration": 12,
    "start_time": "2025-04-20T03:42:15.805Z"
   },
   {
    "duration": 7,
    "start_time": "2025-04-20T03:43:30.916Z"
   },
   {
    "duration": 10,
    "start_time": "2025-04-20T03:48:02.570Z"
   },
   {
    "duration": 103,
    "start_time": "2025-04-20T04:01:40.792Z"
   },
   {
    "duration": 943,
    "start_time": "2025-04-20T04:05:45.901Z"
   },
   {
    "duration": 172,
    "start_time": "2025-04-20T04:08:17.219Z"
   },
   {
    "duration": 394,
    "start_time": "2025-04-20T04:08:28.715Z"
   },
   {
    "duration": 191,
    "start_time": "2025-04-20T04:09:07.505Z"
   },
   {
    "duration": 173,
    "start_time": "2025-04-20T04:12:59.605Z"
   },
   {
    "duration": 172,
    "start_time": "2025-04-20T04:13:13.644Z"
   },
   {
    "duration": 179,
    "start_time": "2025-04-20T04:13:40.023Z"
   },
   {
    "duration": 176,
    "start_time": "2025-04-20T04:14:14.927Z"
   },
   {
    "duration": 173,
    "start_time": "2025-04-20T04:15:11.859Z"
   },
   {
    "duration": 191,
    "start_time": "2025-04-20T04:16:16.205Z"
   },
   {
    "duration": 175,
    "start_time": "2025-04-20T04:17:04.489Z"
   },
   {
    "duration": 172,
    "start_time": "2025-04-20T04:17:30.801Z"
   },
   {
    "duration": 173,
    "start_time": "2025-04-20T04:19:23.969Z"
   },
   {
    "duration": 172,
    "start_time": "2025-04-20T04:20:22.814Z"
   },
   {
    "duration": 176,
    "start_time": "2025-04-20T04:20:44.555Z"
   },
   {
    "duration": 179,
    "start_time": "2025-04-20T04:21:11.192Z"
   },
   {
    "duration": 180,
    "start_time": "2025-04-20T04:21:35.956Z"
   },
   {
    "duration": 171,
    "start_time": "2025-04-20T04:25:15.842Z"
   },
   {
    "duration": 169,
    "start_time": "2025-04-20T04:25:45.522Z"
   },
   {
    "duration": 164,
    "start_time": "2025-04-20T04:26:06.778Z"
   },
   {
    "duration": 156,
    "start_time": "2025-04-20T04:26:56.627Z"
   },
   {
    "duration": 183,
    "start_time": "2025-04-20T04:27:05.233Z"
   },
   {
    "duration": 876,
    "start_time": "2025-04-20T04:32:00.434Z"
   },
   {
    "duration": 187,
    "start_time": "2025-04-20T04:32:35.633Z"
   },
   {
    "duration": 186,
    "start_time": "2025-04-20T04:33:06.198Z"
   },
   {
    "duration": 982,
    "start_time": "2025-04-20T04:37:01.602Z"
   },
   {
    "duration": 9,
    "start_time": "2025-04-20T04:38:29.200Z"
   },
   {
    "duration": 7,
    "start_time": "2025-04-20T04:39:24.041Z"
   },
   {
    "duration": 8,
    "start_time": "2025-04-20T04:40:29.732Z"
   },
   {
    "duration": 8,
    "start_time": "2025-04-20T04:40:35.750Z"
   },
   {
    "duration": 7,
    "start_time": "2025-04-20T04:40:51.362Z"
   },
   {
    "duration": 7,
    "start_time": "2025-04-20T04:40:57.974Z"
   },
   {
    "duration": 13,
    "start_time": "2025-04-20T04:45:36.822Z"
   },
   {
    "duration": 101,
    "start_time": "2025-04-20T04:45:48.696Z"
   },
   {
    "duration": 88,
    "start_time": "2025-04-20T04:46:23.835Z"
   },
   {
    "duration": 28,
    "start_time": "2025-04-20T04:49:41.172Z"
   },
   {
    "duration": 6,
    "start_time": "2025-04-20T04:50:06.890Z"
   },
   {
    "duration": 12,
    "start_time": "2025-04-20T04:51:37.671Z"
   },
   {
    "duration": 9,
    "start_time": "2025-04-20T04:52:10.472Z"
   },
   {
    "duration": 8,
    "start_time": "2025-04-20T04:52:38.144Z"
   },
   {
    "duration": 28,
    "start_time": "2025-04-20T04:52:53.058Z"
   },
   {
    "duration": 95,
    "start_time": "2025-04-20T04:54:09.625Z"
   },
   {
    "duration": 93,
    "start_time": "2025-04-20T04:54:14.679Z"
   },
   {
    "duration": 828,
    "start_time": "2025-04-20T04:54:48.161Z"
   },
   {
    "duration": 108,
    "start_time": "2025-04-20T04:57:45.059Z"
   },
   {
    "duration": 164,
    "start_time": "2025-04-20T04:58:41.373Z"
   },
   {
    "duration": 954,
    "start_time": "2025-04-20T04:59:01.329Z"
   },
   {
    "duration": 3,
    "start_time": "2025-04-20T04:59:15.636Z"
   },
   {
    "duration": 831,
    "start_time": "2025-04-20T04:59:16.540Z"
   },
   {
    "duration": 10,
    "start_time": "2025-04-20T04:59:19.280Z"
   },
   {
    "duration": 10,
    "start_time": "2025-04-20T04:59:24.612Z"
   },
   {
    "duration": 10,
    "start_time": "2025-04-20T04:59:26.369Z"
   },
   {
    "duration": 8,
    "start_time": "2025-04-20T04:59:30.487Z"
   },
   {
    "duration": 11,
    "start_time": "2025-04-20T04:59:32.241Z"
   },
   {
    "duration": 7,
    "start_time": "2025-04-20T05:00:00.194Z"
   },
   {
    "duration": 950,
    "start_time": "2025-04-20T05:00:11.853Z"
   },
   {
    "duration": 167,
    "start_time": "2025-04-20T05:00:28.293Z"
   },
   {
    "duration": 71,
    "start_time": "2025-04-20T05:00:53.485Z"
   },
   {
    "duration": 8,
    "start_time": "2025-04-20T05:01:01.517Z"
   },
   {
    "duration": 78,
    "start_time": "2025-04-20T05:01:18.635Z"
   },
   {
    "duration": 73,
    "start_time": "2025-04-20T05:01:28.126Z"
   },
   {
    "duration": 8,
    "start_time": "2025-04-20T05:03:40.879Z"
   },
   {
    "duration": 79,
    "start_time": "2025-04-20T05:03:58.440Z"
   },
   {
    "duration": 71,
    "start_time": "2025-04-20T05:04:00.461Z"
   },
   {
    "duration": 32,
    "start_time": "2025-04-20T05:04:15.791Z"
   },
   {
    "duration": 12,
    "start_time": "2025-04-20T05:07:10.087Z"
   },
   {
    "duration": 11,
    "start_time": "2025-04-20T05:07:21.615Z"
   },
   {
    "duration": 4,
    "start_time": "2025-04-20T05:08:58.624Z"
   },
   {
    "duration": 12,
    "start_time": "2025-04-20T05:11:16.799Z"
   },
   {
    "duration": 12,
    "start_time": "2025-04-20T05:11:26.472Z"
   },
   {
    "duration": 11,
    "start_time": "2025-04-20T05:11:32.362Z"
   },
   {
    "duration": 10,
    "start_time": "2025-04-20T05:11:45.524Z"
   },
   {
    "duration": 8,
    "start_time": "2025-04-20T05:12:07.931Z"
   },
   {
    "duration": 12,
    "start_time": "2025-04-20T05:12:13.926Z"
   },
   {
    "duration": 11,
    "start_time": "2025-04-20T05:13:28.367Z"
   },
   {
    "duration": 11,
    "start_time": "2025-04-20T05:13:42.320Z"
   },
   {
    "duration": 18,
    "start_time": "2025-04-20T05:15:22.907Z"
   },
   {
    "duration": 18,
    "start_time": "2025-04-20T05:16:00.577Z"
   },
   {
    "duration": 3,
    "start_time": "2025-04-20T05:19:25.413Z"
   },
   {
    "duration": 3,
    "start_time": "2025-04-20T05:19:32.046Z"
   },
   {
    "duration": 5,
    "start_time": "2025-04-20T05:19:37.356Z"
   },
   {
    "duration": 6,
    "start_time": "2025-04-20T05:19:53.655Z"
   },
   {
    "duration": 6,
    "start_time": "2025-04-20T05:20:09.729Z"
   },
   {
    "duration": 6,
    "start_time": "2025-04-20T05:20:13.723Z"
   },
   {
    "duration": 6,
    "start_time": "2025-04-20T05:20:14.884Z"
   },
   {
    "duration": 6,
    "start_time": "2025-04-20T05:20:15.567Z"
   },
   {
    "duration": 6,
    "start_time": "2025-04-20T05:20:16.163Z"
   },
   {
    "duration": 6,
    "start_time": "2025-04-20T05:21:03.406Z"
   },
   {
    "duration": 14,
    "start_time": "2025-04-20T05:26:34.278Z"
   },
   {
    "duration": 13,
    "start_time": "2025-04-20T05:26:42.663Z"
   },
   {
    "duration": 10,
    "start_time": "2025-04-20T05:29:55.269Z"
   },
   {
    "duration": 9,
    "start_time": "2025-04-20T05:30:10.680Z"
   },
   {
    "duration": 327,
    "start_time": "2025-04-20T05:31:22.836Z"
   },
   {
    "duration": 3,
    "start_time": "2025-04-20T05:33:32.087Z"
   },
   {
    "duration": 3,
    "start_time": "2025-04-20T05:33:48.623Z"
   },
   {
    "duration": 5,
    "start_time": "2025-04-20T05:34:03.999Z"
   },
   {
    "duration": 37,
    "start_time": "2025-04-20T05:34:17.950Z"
   },
   {
    "duration": 10,
    "start_time": "2025-04-20T05:34:32.344Z"
   },
   {
    "duration": 25,
    "start_time": "2025-04-20T05:37:10.625Z"
   },
   {
    "duration": 27,
    "start_time": "2025-04-20T05:39:31.375Z"
   },
   {
    "duration": 26,
    "start_time": "2025-04-20T05:40:20.530Z"
   },
   {
    "duration": 21,
    "start_time": "2025-04-20T05:41:24.569Z"
   },
   {
    "duration": 156,
    "start_time": "2025-04-21T00:22:03.249Z"
   },
   {
    "duration": 13,
    "start_time": "2025-04-21T00:22:10.233Z"
   },
   {
    "duration": 293,
    "start_time": "2025-04-21T00:22:25.008Z"
   },
   {
    "duration": 1002,
    "start_time": "2025-04-21T00:22:26.493Z"
   },
   {
    "duration": 12,
    "start_time": "2025-04-21T00:22:28.441Z"
   },
   {
    "duration": 10,
    "start_time": "2025-04-21T00:22:30.802Z"
   },
   {
    "duration": 8,
    "start_time": "2025-04-21T00:22:32.886Z"
   },
   {
    "duration": 8,
    "start_time": "2025-04-21T00:22:35.138Z"
   },
   {
    "duration": 7,
    "start_time": "2025-04-21T00:22:36.731Z"
   },
   {
    "duration": 93,
    "start_time": "2025-04-21T00:22:41.752Z"
   },
   {
    "duration": 15,
    "start_time": "2025-04-21T00:22:46.760Z"
   },
   {
    "duration": 7,
    "start_time": "2025-04-21T00:23:16.811Z"
   },
   {
    "duration": 7,
    "start_time": "2025-04-21T00:23:41.352Z"
   },
   {
    "duration": 103,
    "start_time": "2025-04-21T00:23:49.898Z"
   },
   {
    "duration": 82,
    "start_time": "2025-04-21T00:23:51.426Z"
   },
   {
    "duration": 27,
    "start_time": "2025-04-21T00:23:53.748Z"
   },
   {
    "duration": 14,
    "start_time": "2025-04-21T00:24:12.271Z"
   },
   {
    "duration": 4,
    "start_time": "2025-04-21T00:24:13.607Z"
   },
   {
    "duration": 20,
    "start_time": "2025-04-21T00:24:16.665Z"
   },
   {
    "duration": 22,
    "start_time": "2025-04-21T00:24:17.962Z"
   },
   {
    "duration": 3,
    "start_time": "2025-04-21T00:24:26.673Z"
   },
   {
    "duration": 3,
    "start_time": "2025-04-21T00:28:04.485Z"
   },
   {
    "duration": 4,
    "start_time": "2025-04-21T00:30:48.877Z"
   },
   {
    "duration": 3,
    "start_time": "2025-04-21T00:33:25.097Z"
   },
   {
    "duration": 3,
    "start_time": "2025-04-21T00:33:27.794Z"
   },
   {
    "duration": 4,
    "start_time": "2025-04-21T00:34:01.092Z"
   },
   {
    "duration": 4,
    "start_time": "2025-04-21T00:34:24.017Z"
   },
   {
    "duration": 3,
    "start_time": "2025-04-21T00:37:46.462Z"
   },
   {
    "duration": 3,
    "start_time": "2025-04-21T00:37:50.964Z"
   },
   {
    "duration": 9,
    "start_time": "2025-04-21T00:38:24.244Z"
   },
   {
    "duration": 9,
    "start_time": "2025-04-21T00:38:55.275Z"
   },
   {
    "duration": 4,
    "start_time": "2025-04-21T00:39:10.327Z"
   },
   {
    "duration": 709,
    "start_time": "2025-04-21T00:41:31.304Z"
   },
   {
    "duration": 73,
    "start_time": "2025-04-21T00:45:49.071Z"
   },
   {
    "duration": 36,
    "start_time": "2025-04-21T00:46:16.102Z"
   },
   {
    "duration": 41,
    "start_time": "2025-04-21T00:46:47.704Z"
   },
   {
    "duration": 38,
    "start_time": "2025-04-21T00:46:55.423Z"
   },
   {
    "duration": 25,
    "start_time": "2025-04-21T00:47:12.218Z"
   },
   {
    "duration": 7,
    "start_time": "2025-04-21T00:49:32.060Z"
   },
   {
    "duration": 25,
    "start_time": "2025-04-21T00:49:38.690Z"
   },
   {
    "duration": 25,
    "start_time": "2025-04-21T00:50:13.995Z"
   },
   {
    "duration": 157,
    "start_time": "2025-04-21T02:56:23.811Z"
   },
   {
    "duration": 292,
    "start_time": "2025-04-21T02:56:33.976Z"
   },
   {
    "duration": 1264,
    "start_time": "2025-04-21T02:56:35.376Z"
   },
   {
    "duration": 11,
    "start_time": "2025-04-21T02:56:38.253Z"
   },
   {
    "duration": 10,
    "start_time": "2025-04-21T02:56:40.509Z"
   },
   {
    "duration": 7,
    "start_time": "2025-04-21T02:56:42.036Z"
   },
   {
    "duration": 8,
    "start_time": "2025-04-21T02:56:44.396Z"
   },
   {
    "duration": 7,
    "start_time": "2025-04-21T02:56:46.304Z"
   },
   {
    "duration": 98,
    "start_time": "2025-04-21T02:56:53.510Z"
   },
   {
    "duration": 10,
    "start_time": "2025-04-21T02:57:08.010Z"
   },
   {
    "duration": 108,
    "start_time": "2025-04-21T02:57:51.409Z"
   },
   {
    "duration": 90,
    "start_time": "2025-04-21T02:57:56.177Z"
   },
   {
    "duration": 27,
    "start_time": "2025-04-21T02:57:59.661Z"
   },
   {
    "duration": 13,
    "start_time": "2025-04-21T02:58:08.669Z"
   },
   {
    "duration": 4,
    "start_time": "2025-04-21T02:58:11.555Z"
   },
   {
    "duration": 19,
    "start_time": "2025-04-21T02:58:12.970Z"
   },
   {
    "duration": 25,
    "start_time": "2025-04-21T02:58:14.405Z"
   },
   {
    "duration": 3,
    "start_time": "2025-04-21T02:58:41.951Z"
   },
   {
    "duration": 4,
    "start_time": "2025-04-21T02:58:43.386Z"
   },
   {
    "duration": 4,
    "start_time": "2025-04-21T02:59:27.859Z"
   },
   {
    "duration": 4,
    "start_time": "2025-04-21T02:59:29.158Z"
   },
   {
    "duration": 761,
    "start_time": "2025-04-21T02:59:47.749Z"
   },
   {
    "duration": 38,
    "start_time": "2025-04-21T02:59:50.967Z"
   },
   {
    "duration": 119,
    "start_time": "2025-04-21T03:00:25.578Z"
   },
   {
    "duration": 60,
    "start_time": "2025-04-21T03:02:16.069Z"
   },
   {
    "duration": 58,
    "start_time": "2025-04-21T03:02:40.337Z"
   },
   {
    "duration": 6,
    "start_time": "2025-04-21T03:19:25.394Z"
   },
   {
    "duration": 23,
    "start_time": "2025-04-21T03:22:42.617Z"
   },
   {
    "duration": 15,
    "start_time": "2025-04-21T03:23:19.626Z"
   },
   {
    "duration": 31,
    "start_time": "2025-04-21T03:23:48.497Z"
   },
   {
    "duration": 7,
    "start_time": "2025-04-21T03:23:52.761Z"
   },
   {
    "duration": 13,
    "start_time": "2025-04-21T03:23:54.197Z"
   },
   {
    "duration": 9,
    "start_time": "2025-04-21T03:23:55.226Z"
   },
   {
    "duration": 10,
    "start_time": "2025-04-21T03:23:55.934Z"
   },
   {
    "duration": 6,
    "start_time": "2025-04-21T03:23:56.654Z"
   },
   {
    "duration": 8,
    "start_time": "2025-04-21T03:23:58.497Z"
   },
   {
    "duration": 8,
    "start_time": "2025-04-21T03:24:00.647Z"
   },
   {
    "duration": 8,
    "start_time": "2025-04-21T03:24:01.569Z"
   },
   {
    "duration": 10,
    "start_time": "2025-04-21T03:24:02.282Z"
   },
   {
    "duration": 10,
    "start_time": "2025-04-21T03:24:03.022Z"
   },
   {
    "duration": 19,
    "start_time": "2025-04-21T03:24:03.621Z"
   },
   {
    "duration": 16,
    "start_time": "2025-04-21T03:24:04.438Z"
   },
   {
    "duration": 7,
    "start_time": "2025-04-21T03:24:05.155Z"
   },
   {
    "duration": 7,
    "start_time": "2025-04-21T03:24:06.074Z"
   },
   {
    "duration": 8,
    "start_time": "2025-04-21T03:24:07.095Z"
   },
   {
    "duration": 7,
    "start_time": "2025-04-21T03:28:34.086Z"
   },
   {
    "duration": 6,
    "start_time": "2025-04-21T03:32:13.495Z"
   },
   {
    "duration": 439,
    "start_time": "2025-04-21T03:37:08.307Z"
   },
   {
    "duration": 10,
    "start_time": "2025-04-21T03:40:07.201Z"
   },
   {
    "duration": 9,
    "start_time": "2025-04-21T03:40:22.250Z"
   },
   {
    "duration": 31,
    "start_time": "2025-04-21T03:40:32.177Z"
   },
   {
    "duration": 18,
    "start_time": "2025-04-21T03:40:44.618Z"
   },
   {
    "duration": 9,
    "start_time": "2025-04-21T03:41:01.062Z"
   },
   {
    "duration": 8,
    "start_time": "2025-04-21T03:42:44.384Z"
   },
   {
    "duration": 17,
    "start_time": "2025-04-21T03:56:49.703Z"
   },
   {
    "duration": 9,
    "start_time": "2025-04-21T03:57:10.690Z"
   },
   {
    "duration": 7,
    "start_time": "2025-04-21T03:57:21.547Z"
   },
   {
    "duration": 12,
    "start_time": "2025-04-21T04:06:25.801Z"
   },
   {
    "duration": 5,
    "start_time": "2025-04-21T04:06:35.799Z"
   },
   {
    "duration": 5,
    "start_time": "2025-04-21T04:06:50.577Z"
   },
   {
    "duration": 4,
    "start_time": "2025-04-21T04:07:38.349Z"
   },
   {
    "duration": 5,
    "start_time": "2025-04-21T04:07:58.577Z"
   },
   {
    "duration": 6,
    "start_time": "2025-04-21T04:09:32.681Z"
   },
   {
    "duration": 6,
    "start_time": "2025-04-21T04:09:42.616Z"
   },
   {
    "duration": 7,
    "start_time": "2025-04-21T04:21:46.209Z"
   },
   {
    "duration": 10,
    "start_time": "2025-04-21T04:23:15.265Z"
   },
   {
    "duration": 9,
    "start_time": "2025-04-21T04:23:34.922Z"
   },
   {
    "duration": 10,
    "start_time": "2025-04-21T04:35:48.541Z"
   },
   {
    "duration": 142,
    "start_time": "2025-04-21T04:38:01.706Z"
   },
   {
    "duration": 6,
    "start_time": "2025-04-21T04:38:24.828Z"
   },
   {
    "duration": 13,
    "start_time": "2025-04-21T04:41:02.029Z"
   },
   {
    "duration": 12,
    "start_time": "2025-04-21T04:41:33.615Z"
   },
   {
    "duration": 8,
    "start_time": "2025-04-21T04:42:23.064Z"
   },
   {
    "duration": 8,
    "start_time": "2025-04-21T04:42:35.819Z"
   },
   {
    "duration": 10,
    "start_time": "2025-04-21T04:43:15.889Z"
   },
   {
    "duration": 5,
    "start_time": "2025-04-21T04:44:52.550Z"
   },
   {
    "duration": 9,
    "start_time": "2025-04-21T04:44:59.565Z"
   },
   {
    "duration": 11,
    "start_time": "2025-04-21T04:45:07.286Z"
   },
   {
    "duration": 9,
    "start_time": "2025-04-21T04:45:37.768Z"
   },
   {
    "duration": 9,
    "start_time": "2025-04-21T04:46:00.513Z"
   },
   {
    "duration": 12,
    "start_time": "2025-04-21T04:47:00.979Z"
   },
   {
    "duration": 12,
    "start_time": "2025-04-21T04:47:18.032Z"
   },
   {
    "duration": 12,
    "start_time": "2025-04-21T04:55:29.737Z"
   },
   {
    "duration": 6,
    "start_time": "2025-04-21T04:55:36.391Z"
   },
   {
    "duration": 7,
    "start_time": "2025-04-21T04:56:17.606Z"
   },
   {
    "duration": 6,
    "start_time": "2025-04-21T04:56:26.950Z"
   },
   {
    "duration": 5,
    "start_time": "2025-04-21T04:56:35.511Z"
   },
   {
    "duration": 11,
    "start_time": "2025-04-21T04:58:51.960Z"
   },
   {
    "duration": 12,
    "start_time": "2025-04-21T04:59:15.568Z"
   },
   {
    "duration": 11,
    "start_time": "2025-04-21T05:01:08.188Z"
   },
   {
    "duration": 8,
    "start_time": "2025-04-21T05:10:01.136Z"
   },
   {
    "duration": 7,
    "start_time": "2025-04-21T05:10:21.402Z"
   },
   {
    "duration": 15,
    "start_time": "2025-04-21T05:12:49.977Z"
   },
   {
    "duration": 4,
    "start_time": "2025-04-21T05:17:07.730Z"
   },
   {
    "duration": 32,
    "start_time": "2025-04-21T05:17:23.296Z"
   },
   {
    "duration": 36,
    "start_time": "2025-04-21T05:17:31.067Z"
   },
   {
    "duration": 32,
    "start_time": "2025-04-21T05:18:26.877Z"
   },
   {
    "duration": 32,
    "start_time": "2025-04-21T05:18:58.125Z"
   },
   {
    "duration": 31,
    "start_time": "2025-04-21T05:26:00.070Z"
   },
   {
    "duration": 46,
    "start_time": "2025-04-21T05:36:14.570Z"
   },
   {
    "duration": 39,
    "start_time": "2025-04-21T05:37:01.495Z"
   },
   {
    "duration": 716,
    "start_time": "2025-04-21T05:38:41.715Z"
   },
   {
    "duration": 38,
    "start_time": "2025-04-21T05:38:52.574Z"
   },
   {
    "duration": 7,
    "start_time": "2025-04-21T05:39:10.987Z"
   },
   {
    "duration": 38,
    "start_time": "2025-04-21T05:39:18.739Z"
   },
   {
    "duration": 819,
    "start_time": "2025-04-21T05:39:58.958Z"
   },
   {
    "duration": 66,
    "start_time": "2025-04-21T05:40:17.408Z"
   },
   {
    "duration": 43,
    "start_time": "2025-04-21T05:40:30.872Z"
   },
   {
    "duration": 4,
    "start_time": "2025-04-21T06:06:22.939Z"
   },
   {
    "duration": 13,
    "start_time": "2025-04-21T06:06:29.600Z"
   },
   {
    "duration": 13,
    "start_time": "2025-04-21T06:06:43.175Z"
   },
   {
    "duration": 17131,
    "start_time": "2025-04-21T06:07:25.007Z"
   },
   {
    "duration": 36,
    "start_time": "2025-04-21T06:07:57.267Z"
   },
   {
    "duration": 3,
    "start_time": "2025-04-21T06:09:09.188Z"
   },
   {
    "duration": 16,
    "start_time": "2025-04-21T06:09:20.563Z"
   },
   {
    "duration": 12,
    "start_time": "2025-04-21T06:10:37.053Z"
   },
   {
    "duration": 14,
    "start_time": "2025-04-21T06:16:06.692Z"
   },
   {
    "duration": 4,
    "start_time": "2025-04-21T06:16:37.687Z"
   },
   {
    "duration": 14,
    "start_time": "2025-04-21T06:17:03.113Z"
   },
   {
    "duration": 12,
    "start_time": "2025-04-21T06:17:13.759Z"
   },
   {
    "duration": 4,
    "start_time": "2025-04-21T06:18:06.441Z"
   },
   {
    "duration": 16864,
    "start_time": "2025-04-21T06:18:20.752Z"
   },
   {
    "duration": 13,
    "start_time": "2025-04-21T06:23:08.047Z"
   },
   {
    "duration": 12,
    "start_time": "2025-04-21T06:26:04.865Z"
   },
   {
    "duration": 13,
    "start_time": "2025-04-21T06:26:24.463Z"
   },
   {
    "duration": 3,
    "start_time": "2025-04-21T06:26:51.859Z"
   },
   {
    "duration": 9,
    "start_time": "2025-04-21T06:28:48.909Z"
   },
   {
    "duration": 7,
    "start_time": "2025-04-21T06:30:24.840Z"
   },
   {
    "duration": 10,
    "start_time": "2025-04-21T06:30:59.184Z"
   },
   {
    "duration": 15,
    "start_time": "2025-04-21T06:31:20.538Z"
   },
   {
    "duration": 12,
    "start_time": "2025-04-21T06:33:29.990Z"
   },
   {
    "duration": 5,
    "start_time": "2025-04-21T06:34:05.758Z"
   },
   {
    "duration": 13,
    "start_time": "2025-04-21T06:34:12.734Z"
   },
   {
    "duration": 14,
    "start_time": "2025-04-21T06:34:55.602Z"
   },
   {
    "duration": 15,
    "start_time": "2025-04-21T06:44:19.580Z"
   },
   {
    "duration": 14,
    "start_time": "2025-04-21T06:45:09.386Z"
   },
   {
    "duration": 15,
    "start_time": "2025-04-21T06:45:46.607Z"
   },
   {
    "duration": 3,
    "start_time": "2025-04-21T06:47:29.113Z"
   },
   {
    "duration": 21,
    "start_time": "2025-04-21T06:47:38.869Z"
   },
   {
    "duration": 20,
    "start_time": "2025-04-21T06:49:20.109Z"
   },
   {
    "duration": 22,
    "start_time": "2025-04-21T06:49:49.394Z"
   },
   {
    "duration": 27,
    "start_time": "2025-04-21T06:50:44.127Z"
   },
   {
    "duration": 14,
    "start_time": "2025-04-21T06:51:57.090Z"
   },
   {
    "duration": 24,
    "start_time": "2025-04-21T06:52:29.555Z"
   },
   {
    "duration": 15,
    "start_time": "2025-04-21T06:52:55.870Z"
   },
   {
    "duration": 16,
    "start_time": "2025-04-21T06:55:22.707Z"
   },
   {
    "duration": 15,
    "start_time": "2025-04-21T06:56:52.314Z"
   },
   {
    "duration": 15,
    "start_time": "2025-04-21T06:57:40.232Z"
   },
   {
    "duration": 15,
    "start_time": "2025-04-21T06:57:51.758Z"
   },
   {
    "duration": 14,
    "start_time": "2025-04-21T06:59:21.609Z"
   },
   {
    "duration": 15,
    "start_time": "2025-04-21T07:06:01.281Z"
   },
   {
    "duration": 14,
    "start_time": "2025-04-21T07:06:31.691Z"
   },
   {
    "duration": 10,
    "start_time": "2025-04-21T07:06:57.700Z"
   },
   {
    "duration": 11,
    "start_time": "2025-04-21T07:12:03.771Z"
   },
   {
    "duration": 11,
    "start_time": "2025-04-21T07:14:13.252Z"
   },
   {
    "duration": 11,
    "start_time": "2025-04-21T07:15:07.686Z"
   },
   {
    "duration": 17,
    "start_time": "2025-04-21T07:16:54.284Z"
   },
   {
    "duration": 14,
    "start_time": "2025-04-21T07:18:16.490Z"
   },
   {
    "duration": 13,
    "start_time": "2025-04-21T07:18:56.651Z"
   },
   {
    "duration": 13,
    "start_time": "2025-04-21T07:19:42.016Z"
   },
   {
    "duration": 14,
    "start_time": "2025-04-21T07:20:24.513Z"
   },
   {
    "duration": 14,
    "start_time": "2025-04-21T07:21:23.393Z"
   },
   {
    "duration": 15,
    "start_time": "2025-04-21T07:22:05.684Z"
   },
   {
    "duration": 14,
    "start_time": "2025-04-21T07:22:37.629Z"
   },
   {
    "duration": 14,
    "start_time": "2025-04-21T07:23:15.517Z"
   },
   {
    "duration": 14,
    "start_time": "2025-04-21T07:28:32.547Z"
   },
   {
    "duration": 425,
    "start_time": "2025-04-21T07:31:14.544Z"
   },
   {
    "duration": 15,
    "start_time": "2025-04-21T07:31:57.654Z"
   },
   {
    "duration": 14,
    "start_time": "2025-04-21T07:32:34.807Z"
   },
   {
    "duration": 12,
    "start_time": "2025-04-21T07:33:05.651Z"
   },
   {
    "duration": 16,
    "start_time": "2025-04-21T07:33:31.251Z"
   },
   {
    "duration": 12,
    "start_time": "2025-04-21T07:34:03.608Z"
   },
   {
    "duration": 12,
    "start_time": "2025-04-21T07:34:20.092Z"
   },
   {
    "duration": 12,
    "start_time": "2025-04-21T07:37:58.183Z"
   },
   {
    "duration": 13,
    "start_time": "2025-04-21T07:38:15.102Z"
   },
   {
    "duration": 12,
    "start_time": "2025-04-21T07:39:56.172Z"
   },
   {
    "duration": 10,
    "start_time": "2025-04-21T07:40:43.683Z"
   },
   {
    "duration": 10,
    "start_time": "2025-04-21T07:48:57.869Z"
   },
   {
    "duration": 14,
    "start_time": "2025-04-21T07:50:00.639Z"
   },
   {
    "duration": 11,
    "start_time": "2025-04-21T07:50:19.687Z"
   },
   {
    "duration": 14,
    "start_time": "2025-04-21T07:52:22.249Z"
   },
   {
    "duration": 18,
    "start_time": "2025-04-21T07:53:05.677Z"
   },
   {
    "duration": 10,
    "start_time": "2025-04-21T07:56:35.087Z"
   },
   {
    "duration": 22,
    "start_time": "2025-04-21T07:56:52.803Z"
   },
   {
    "duration": 30,
    "start_time": "2025-04-21T07:58:32.313Z"
   },
   {
    "duration": 22,
    "start_time": "2025-04-21T07:58:39.909Z"
   },
   {
    "duration": 30,
    "start_time": "2025-04-21T07:58:45.883Z"
   },
   {
    "duration": 21,
    "start_time": "2025-04-21T07:59:03.051Z"
   },
   {
    "duration": 27,
    "start_time": "2025-04-21T07:59:49.644Z"
   },
   {
    "duration": 29,
    "start_time": "2025-04-21T08:00:26.955Z"
   },
   {
    "duration": 27,
    "start_time": "2025-04-21T08:00:45.452Z"
   },
   {
    "duration": 10,
    "start_time": "2025-04-21T08:02:03.381Z"
   },
   {
    "duration": 28,
    "start_time": "2025-04-21T08:02:34.098Z"
   },
   {
    "duration": 43,
    "start_time": "2025-04-21T08:03:24.682Z"
   },
   {
    "duration": 35,
    "start_time": "2025-04-21T08:03:57.965Z"
   },
   {
    "duration": 38,
    "start_time": "2025-04-21T08:04:37.080Z"
   },
   {
    "duration": 30,
    "start_time": "2025-04-21T08:05:11.824Z"
   },
   {
    "duration": 30,
    "start_time": "2025-04-21T08:05:33.711Z"
   },
   {
    "duration": 165,
    "start_time": "2025-04-21T08:10:16.741Z"
   },
   {
    "duration": 137,
    "start_time": "2025-04-21T08:10:22.680Z"
   },
   {
    "duration": 162,
    "start_time": "2025-04-21T08:10:24.730Z"
   },
   {
    "duration": 146,
    "start_time": "2025-04-21T08:10:28.622Z"
   },
   {
    "duration": 123,
    "start_time": "2025-04-21T08:10:30.770Z"
   },
   {
    "duration": 135,
    "start_time": "2025-04-21T08:10:33.332Z"
   },
   {
    "duration": 128,
    "start_time": "2025-04-21T08:10:35.584Z"
   },
   {
    "duration": 129,
    "start_time": "2025-04-21T08:10:37.733Z"
   },
   {
    "duration": 142,
    "start_time": "2025-04-21T08:10:39.374Z"
   },
   {
    "duration": 129,
    "start_time": "2025-04-21T08:10:41.423Z"
   },
   {
    "duration": 143,
    "start_time": "2025-04-21T08:10:44.390Z"
   },
   {
    "duration": 126,
    "start_time": "2025-04-21T08:10:51.072Z"
   },
   {
    "duration": 127,
    "start_time": "2025-04-21T08:10:52.892Z"
   },
   {
    "duration": 134,
    "start_time": "2025-04-21T08:10:55.246Z"
   },
   {
    "duration": 139,
    "start_time": "2025-04-21T08:10:56.576Z"
   },
   {
    "duration": 134,
    "start_time": "2025-04-21T08:10:57.910Z"
   },
   {
    "duration": 134,
    "start_time": "2025-04-21T08:10:59.037Z"
   },
   {
    "duration": 141,
    "start_time": "2025-04-21T08:11:00.160Z"
   },
   {
    "duration": 167,
    "start_time": "2025-04-21T08:11:03.950Z"
   },
   {
    "duration": 139,
    "start_time": "2025-04-21T08:11:08.970Z"
   },
   {
    "duration": 139,
    "start_time": "2025-04-21T08:11:10.304Z"
   },
   {
    "duration": 132,
    "start_time": "2025-04-21T08:11:13.266Z"
   },
   {
    "duration": 138,
    "start_time": "2025-04-21T08:11:16.144Z"
   },
   {
    "duration": 128,
    "start_time": "2025-04-21T08:11:17.363Z"
   },
   {
    "duration": 136,
    "start_time": "2025-04-21T08:11:18.697Z"
   },
   {
    "duration": 130,
    "start_time": "2025-04-21T08:11:19.717Z"
   },
   {
    "duration": 127,
    "start_time": "2025-04-21T08:11:20.641Z"
   },
   {
    "duration": 139,
    "start_time": "2025-04-21T08:11:21.665Z"
   },
   {
    "duration": 136,
    "start_time": "2025-04-21T08:11:22.789Z"
   },
   {
    "duration": 142,
    "start_time": "2025-04-21T08:11:25.149Z"
   },
   {
    "duration": 123,
    "start_time": "2025-04-21T08:11:26.885Z"
   },
   {
    "duration": 143,
    "start_time": "2025-04-21T08:11:28.121Z"
   },
   {
    "duration": 140,
    "start_time": "2025-04-21T08:11:29.246Z"
   },
   {
    "duration": 125,
    "start_time": "2025-04-21T08:11:30.575Z"
   },
   {
    "duration": 130,
    "start_time": "2025-04-21T08:11:31.905Z"
   },
   {
    "duration": 138,
    "start_time": "2025-04-21T08:11:36.925Z"
   },
   {
    "duration": 134,
    "start_time": "2025-04-21T08:11:39.586Z"
   },
   {
    "duration": 136,
    "start_time": "2025-04-21T08:11:41.053Z"
   },
   {
    "duration": 127,
    "start_time": "2025-04-21T08:11:45.712Z"
   },
   {
    "duration": 145,
    "start_time": "2025-04-21T08:11:47.877Z"
   },
   {
    "duration": 131,
    "start_time": "2025-04-21T08:11:50.265Z"
   },
   {
    "duration": 146,
    "start_time": "2025-04-21T08:11:51.976Z"
   },
   {
    "duration": 191,
    "start_time": "2025-04-21T08:11:55.255Z"
   },
   {
    "duration": 160,
    "start_time": "2025-04-21T08:11:57.402Z"
   },
   {
    "duration": 128,
    "start_time": "2025-04-21T08:12:02.522Z"
   },
   {
    "duration": 143,
    "start_time": "2025-04-21T08:12:04.267Z"
   },
   {
    "duration": 123,
    "start_time": "2025-04-21T08:12:05.574Z"
   },
   {
    "duration": 129,
    "start_time": "2025-04-21T08:12:07.032Z"
   },
   {
    "duration": 139,
    "start_time": "2025-04-21T08:12:08.462Z"
   },
   {
    "duration": 145,
    "start_time": "2025-04-21T08:12:09.792Z"
   },
   {
    "duration": 135,
    "start_time": "2025-04-21T08:12:12.049Z"
   },
   {
    "duration": 124,
    "start_time": "2025-04-21T08:12:13.683Z"
   },
   {
    "duration": 125,
    "start_time": "2025-04-21T08:12:17.268Z"
   },
   {
    "duration": 149,
    "start_time": "2025-04-21T08:12:19.159Z"
   },
   {
    "duration": 138,
    "start_time": "2025-04-21T08:12:20.440Z"
   },
   {
    "duration": 138,
    "start_time": "2025-04-21T08:12:21.677Z"
   },
   {
    "duration": 137,
    "start_time": "2025-04-21T08:12:22.694Z"
   },
   {
    "duration": 146,
    "start_time": "2025-04-21T08:12:24.437Z"
   },
   {
    "duration": 157,
    "start_time": "2025-04-21T08:12:25.854Z"
   },
   {
    "duration": 135,
    "start_time": "2025-04-21T08:12:27.405Z"
   },
   {
    "duration": 130,
    "start_time": "2025-04-21T08:12:29.250Z"
   },
   {
    "duration": 133,
    "start_time": "2025-04-21T08:12:31.810Z"
   },
   {
    "duration": 131,
    "start_time": "2025-04-21T08:12:35.032Z"
   },
   {
    "duration": 125,
    "start_time": "2025-04-21T08:12:36.268Z"
   },
   {
    "duration": 150,
    "start_time": "2025-04-21T08:12:37.849Z"
   },
   {
    "duration": 139,
    "start_time": "2025-04-21T08:12:55.460Z"
   },
   {
    "duration": 125,
    "start_time": "2025-04-21T08:12:57.408Z"
   },
   {
    "duration": 133,
    "start_time": "2025-04-21T08:12:59.254Z"
   },
   {
    "duration": 130,
    "start_time": "2025-04-21T08:13:00.537Z"
   },
   {
    "duration": 151,
    "start_time": "2025-04-21T08:13:01.609Z"
   },
   {
    "duration": 155,
    "start_time": "2025-04-21T08:13:02.634Z"
   },
   {
    "duration": 145,
    "start_time": "2025-04-21T08:13:03.964Z"
   },
   {
    "duration": 161,
    "start_time": "2025-04-21T08:13:04.987Z"
   },
   {
    "duration": 131,
    "start_time": "2025-04-21T08:13:06.040Z"
   },
   {
    "duration": 145,
    "start_time": "2025-04-21T08:13:06.935Z"
   },
   {
    "duration": 136,
    "start_time": "2025-04-21T08:13:07.753Z"
   },
   {
    "duration": 184,
    "start_time": "2025-04-21T08:13:08.879Z"
   },
   {
    "duration": 144,
    "start_time": "2025-04-21T08:13:09.901Z"
   },
   {
    "duration": 135,
    "start_time": "2025-04-21T08:13:10.959Z"
   },
   {
    "duration": 216,
    "start_time": "2025-04-21T08:13:11.954Z"
   },
   {
    "duration": 122,
    "start_time": "2025-04-21T08:13:13.079Z"
   },
   {
    "duration": 134,
    "start_time": "2025-04-21T08:13:13.997Z"
   },
   {
    "duration": 120,
    "start_time": "2025-04-21T08:13:15.122Z"
   },
   {
    "duration": 133,
    "start_time": "2025-04-21T08:13:16.012Z"
   },
   {
    "duration": 143,
    "start_time": "2025-04-21T08:13:16.969Z"
   },
   {
    "duration": 125,
    "start_time": "2025-04-21T08:13:17.888Z"
   },
   {
    "duration": 148,
    "start_time": "2025-04-21T08:13:18.911Z"
   },
   {
    "duration": 125,
    "start_time": "2025-04-21T08:13:20.044Z"
   },
   {
    "duration": 134,
    "start_time": "2025-04-21T08:13:20.976Z"
   },
   {
    "duration": 130,
    "start_time": "2025-04-21T08:13:21.984Z"
   },
   {
    "duration": 130,
    "start_time": "2025-04-21T08:13:23.008Z"
   },
   {
    "duration": 149,
    "start_time": "2025-04-21T08:13:24.032Z"
   },
   {
    "duration": 142,
    "start_time": "2025-04-21T08:13:25.239Z"
   },
   {
    "duration": 125,
    "start_time": "2025-04-21T08:13:26.797Z"
   },
   {
    "duration": 143,
    "start_time": "2025-04-21T08:13:27.615Z"
   },
   {
    "duration": 127,
    "start_time": "2025-04-21T08:13:28.846Z"
   },
   {
    "duration": 132,
    "start_time": "2025-04-21T08:13:29.870Z"
   },
   {
    "duration": 147,
    "start_time": "2025-04-21T08:13:30.894Z"
   },
   {
    "duration": 124,
    "start_time": "2025-04-21T08:13:32.123Z"
   },
   {
    "duration": 124,
    "start_time": "2025-04-21T08:13:33.555Z"
   },
   {
    "duration": 128,
    "start_time": "2025-04-21T08:13:35.808Z"
   },
   {
    "duration": 131,
    "start_time": "2025-04-21T08:13:36.937Z"
   },
   {
    "duration": 42,
    "start_time": "2025-04-21T08:15:13.599Z"
   },
   {
    "duration": 39,
    "start_time": "2025-04-21T08:15:57.738Z"
   },
   {
    "duration": 19,
    "start_time": "2025-04-21T08:23:38.640Z"
   },
   {
    "duration": 13,
    "start_time": "2025-04-21T08:24:15.912Z"
   },
   {
    "duration": 13,
    "start_time": "2025-04-21T08:25:37.648Z"
   },
   {
    "duration": 13,
    "start_time": "2025-04-21T08:46:47.817Z"
   },
   {
    "duration": 1967,
    "start_time": "2025-04-21T08:47:40.017Z"
   },
   {
    "duration": 193,
    "start_time": "2025-04-21T08:48:48.942Z"
   },
   {
    "duration": 48,
    "start_time": "2025-04-21T08:50:08.946Z"
   },
   {
    "duration": 0,
    "start_time": "2025-04-21T08:53:20.742Z"
   },
   {
    "duration": 47,
    "start_time": "2025-04-21T08:53:38.726Z"
   },
   {
    "duration": 22,
    "start_time": "2025-04-21T08:53:46.717Z"
   },
   {
    "duration": 49,
    "start_time": "2025-04-21T08:54:13.544Z"
   },
   {
    "duration": 10,
    "start_time": "2025-04-21T08:54:32.894Z"
   },
   {
    "duration": 3,
    "start_time": "2025-04-21T08:54:39.316Z"
   },
   {
    "duration": 827,
    "start_time": "2025-04-21T08:54:40.574Z"
   },
   {
    "duration": 10,
    "start_time": "2025-04-21T08:54:42.832Z"
   },
   {
    "duration": 10,
    "start_time": "2025-04-21T08:54:45.797Z"
   },
   {
    "duration": 9,
    "start_time": "2025-04-21T08:54:47.438Z"
   },
   {
    "duration": 8,
    "start_time": "2025-04-21T08:54:49.809Z"
   },
   {
    "duration": 7,
    "start_time": "2025-04-21T08:54:51.229Z"
   },
   {
    "duration": 72,
    "start_time": "2025-04-21T08:54:54.711Z"
   },
   {
    "duration": 7,
    "start_time": "2025-04-21T08:54:56.295Z"
   },
   {
    "duration": 78,
    "start_time": "2025-04-21T08:54:59.417Z"
   },
   {
    "duration": 77,
    "start_time": "2025-04-21T08:55:00.547Z"
   },
   {
    "duration": 33,
    "start_time": "2025-04-21T08:55:01.671Z"
   },
   {
    "duration": 14,
    "start_time": "2025-04-21T08:55:04.025Z"
   },
   {
    "duration": 4,
    "start_time": "2025-04-21T08:55:05.277Z"
   },
   {
    "duration": 20,
    "start_time": "2025-04-21T08:55:06.585Z"
   },
   {
    "duration": 22,
    "start_time": "2025-04-21T08:55:08.327Z"
   },
   {
    "duration": 4,
    "start_time": "2025-04-21T08:55:10.286Z"
   },
   {
    "duration": 4,
    "start_time": "2025-04-21T08:55:11.399Z"
   },
   {
    "duration": 4,
    "start_time": "2025-04-21T08:55:13.241Z"
   },
   {
    "duration": 3,
    "start_time": "2025-04-21T08:55:14.360Z"
   },
   {
    "duration": 728,
    "start_time": "2025-04-21T08:55:17.337Z"
   },
   {
    "duration": 37,
    "start_time": "2025-04-21T08:55:19.431Z"
   },
   {
    "duration": 7,
    "start_time": "2025-04-21T08:55:22.875Z"
   },
   {
    "duration": 6,
    "start_time": "2025-04-21T08:55:25.640Z"
   },
   {
    "duration": 6,
    "start_time": "2025-04-21T08:55:27.688Z"
   },
   {
    "duration": 5,
    "start_time": "2025-04-21T08:55:29.219Z"
   },
   {
    "duration": 13,
    "start_time": "2025-04-21T08:55:31.778Z"
   },
   {
    "duration": 8,
    "start_time": "2025-04-21T08:55:33.827Z"
   },
   {
    "duration": 6,
    "start_time": "2025-04-21T08:55:36.587Z"
   },
   {
    "duration": 15,
    "start_time": "2025-04-21T08:55:46.726Z"
   },
   {
    "duration": 33,
    "start_time": "2025-04-21T08:55:50.314Z"
   },
   {
    "duration": 19,
    "start_time": "2025-04-21T08:55:55.762Z"
   },
   {
    "duration": 18,
    "start_time": "2025-04-21T08:55:58.811Z"
   },
   {
    "duration": 37,
    "start_time": "2025-04-21T08:56:02.601Z"
   },
   {
    "duration": 13,
    "start_time": "2025-04-21T08:56:07.719Z"
   },
   {
    "duration": 13,
    "start_time": "2025-04-21T08:56:11.507Z"
   },
   {
    "duration": 49,
    "start_time": "2025-04-21T08:56:13.967Z"
   },
   {
    "duration": 157,
    "start_time": "2025-04-21T08:59:17.959Z"
   },
   {
    "duration": 287,
    "start_time": "2025-04-21T08:59:27.771Z"
   },
   {
    "duration": 869,
    "start_time": "2025-04-21T08:59:28.060Z"
   },
   {
    "duration": 10,
    "start_time": "2025-04-21T08:59:28.931Z"
   },
   {
    "duration": 9,
    "start_time": "2025-04-21T08:59:28.944Z"
   },
   {
    "duration": 7,
    "start_time": "2025-04-21T08:59:28.955Z"
   },
   {
    "duration": 7,
    "start_time": "2025-04-21T08:59:28.964Z"
   },
   {
    "duration": 35,
    "start_time": "2025-04-21T08:59:28.973Z"
   },
   {
    "duration": 103,
    "start_time": "2025-04-21T08:59:29.011Z"
   },
   {
    "duration": 8,
    "start_time": "2025-04-21T08:59:29.117Z"
   },
   {
    "duration": 112,
    "start_time": "2025-04-21T08:59:29.129Z"
   },
   {
    "duration": 90,
    "start_time": "2025-04-21T08:59:29.243Z"
   },
   {
    "duration": 27,
    "start_time": "2025-04-21T08:59:29.334Z"
   },
   {
    "duration": 12,
    "start_time": "2025-04-21T08:59:29.362Z"
   },
   {
    "duration": 3,
    "start_time": "2025-04-21T08:59:29.376Z"
   },
   {
    "duration": 21,
    "start_time": "2025-04-21T08:59:29.405Z"
   },
   {
    "duration": 19,
    "start_time": "2025-04-21T08:59:29.428Z"
   },
   {
    "duration": 3,
    "start_time": "2025-04-21T08:59:29.449Z"
   },
   {
    "duration": 3,
    "start_time": "2025-04-21T08:59:29.454Z"
   },
   {
    "duration": 4,
    "start_time": "2025-04-21T08:59:29.458Z"
   },
   {
    "duration": 3,
    "start_time": "2025-04-21T08:59:29.464Z"
   },
   {
    "duration": 740,
    "start_time": "2025-04-21T08:59:29.468Z"
   },
   {
    "duration": 37,
    "start_time": "2025-04-21T08:59:30.210Z"
   },
   {
    "duration": 7,
    "start_time": "2025-04-21T08:59:30.248Z"
   },
   {
    "duration": 6,
    "start_time": "2025-04-21T08:59:30.256Z"
   },
   {
    "duration": 5,
    "start_time": "2025-04-21T08:59:30.264Z"
   },
   {
    "duration": 37,
    "start_time": "2025-04-21T08:59:30.270Z"
   },
   {
    "duration": 12,
    "start_time": "2025-04-21T08:59:30.309Z"
   },
   {
    "duration": 8,
    "start_time": "2025-04-21T08:59:30.324Z"
   },
   {
    "duration": 5,
    "start_time": "2025-04-21T08:59:30.334Z"
   },
   {
    "duration": 15,
    "start_time": "2025-04-21T08:59:30.340Z"
   },
   {
    "duration": 62,
    "start_time": "2025-04-21T08:59:30.357Z"
   },
   {
    "duration": 18,
    "start_time": "2025-04-21T08:59:30.421Z"
   },
   {
    "duration": 18,
    "start_time": "2025-04-21T08:59:30.441Z"
   },
   {
    "duration": 61,
    "start_time": "2025-04-21T08:59:30.461Z"
   },
   {
    "duration": 13,
    "start_time": "2025-04-21T08:59:30.524Z"
   },
   {
    "duration": 13,
    "start_time": "2025-04-21T08:59:30.538Z"
   },
   {
    "duration": 48871,
    "start_time": "2025-04-21T08:59:30.553Z"
   },
   {
    "duration": 0,
    "start_time": "2025-04-21T09:00:19.427Z"
   },
   {
    "duration": 20,
    "start_time": "2025-04-21T09:00:23.823Z"
   },
   {
    "duration": 14,
    "start_time": "2025-04-21T09:01:11.540Z"
   },
   {
    "duration": 361,
    "start_time": "2025-04-21T09:01:30.445Z"
   },
   {
    "duration": 25,
    "start_time": "2025-04-21T09:04:47.879Z"
   },
   {
    "duration": 23,
    "start_time": "2025-04-21T09:04:56.161Z"
   },
   {
    "duration": 32,
    "start_time": "2025-04-21T09:05:05.440Z"
   },
   {
    "duration": 41,
    "start_time": "2025-04-21T09:05:24.313Z"
   },
   {
    "duration": 15,
    "start_time": "2025-04-21T09:05:58.780Z"
   },
   {
    "duration": 15,
    "start_time": "2025-04-21T09:06:37.234Z"
   },
   {
    "duration": 14,
    "start_time": "2025-04-21T09:08:07.015Z"
   },
   {
    "duration": 195,
    "start_time": "2025-04-21T09:08:42.057Z"
   },
   {
    "duration": 178,
    "start_time": "2025-04-21T09:15:50.655Z"
   },
   {
    "duration": 187,
    "start_time": "2025-04-21T09:17:01.643Z"
   },
   {
    "duration": 123,
    "start_time": "2025-04-21T09:21:57.369Z"
   },
   {
    "duration": 18,
    "start_time": "2025-04-21T09:27:42.647Z"
   },
   {
    "duration": 225,
    "start_time": "2025-04-21T09:30:59.855Z"
   },
   {
    "duration": 4,
    "start_time": "2025-04-21T09:39:29.083Z"
   },
   {
    "duration": 213,
    "start_time": "2025-04-21T09:39:42.908Z"
   },
   {
    "duration": 219,
    "start_time": "2025-04-21T09:42:06.017Z"
   },
   {
    "duration": 241,
    "start_time": "2025-04-21T09:42:34.672Z"
   },
   {
    "duration": 222,
    "start_time": "2025-04-21T09:43:17.990Z"
   },
   {
    "duration": 215,
    "start_time": "2025-04-21T09:44:33.248Z"
   },
   {
    "duration": 211,
    "start_time": "2025-04-21T09:45:26.724Z"
   },
   {
    "duration": 214,
    "start_time": "2025-04-21T09:46:56.465Z"
   },
   {
    "duration": 210,
    "start_time": "2025-04-21T09:50:00.717Z"
   },
   {
    "duration": 213,
    "start_time": "2025-04-21T09:50:07.926Z"
   },
   {
    "duration": 15,
    "start_time": "2025-04-21T09:56:21.926Z"
   },
   {
    "duration": 14,
    "start_time": "2025-04-21T10:10:24.147Z"
   },
   {
    "duration": 47808,
    "start_time": "2025-04-21T10:15:46.421Z"
   },
   {
    "duration": 11,
    "start_time": "2025-04-21T10:18:04.662Z"
   },
   {
    "duration": 184,
    "start_time": "2025-04-21T10:18:44.431Z"
   },
   {
    "duration": 175,
    "start_time": "2025-04-21T10:18:57.043Z"
   },
   {
    "duration": 184,
    "start_time": "2025-04-21T10:20:39.206Z"
   },
   {
    "duration": 182,
    "start_time": "2025-04-21T10:21:00.305Z"
   },
   {
    "duration": 178,
    "start_time": "2025-04-21T10:21:49.809Z"
   },
   {
    "duration": 177,
    "start_time": "2025-04-21T10:22:07.122Z"
   },
   {
    "duration": 6,
    "start_time": "2025-04-21T10:28:38.786Z"
   },
   {
    "duration": 12,
    "start_time": "2025-04-21T10:31:57.809Z"
   },
   {
    "duration": 11,
    "start_time": "2025-04-21T10:32:52.616Z"
   },
   {
    "duration": 15,
    "start_time": "2025-04-21T10:33:35.713Z"
   },
   {
    "duration": 13,
    "start_time": "2025-04-21T10:34:26.385Z"
   },
   {
    "duration": 10,
    "start_time": "2025-04-21T10:35:56.510Z"
   },
   {
    "duration": 0,
    "start_time": "2025-04-21T10:39:47.808Z"
   },
   {
    "duration": 13,
    "start_time": "2025-04-21T10:40:07.647Z"
   },
   {
    "duration": 15,
    "start_time": "2025-04-21T10:41:07.532Z"
   },
   {
    "duration": 3,
    "start_time": "2025-04-21T10:43:38.906Z"
   },
   {
    "duration": 16,
    "start_time": "2025-04-21T10:43:48.538Z"
   },
   {
    "duration": 11,
    "start_time": "2025-04-21T10:45:48.137Z"
   },
   {
    "duration": 168,
    "start_time": "2025-04-21T10:48:34.500Z"
   },
   {
    "duration": 347,
    "start_time": "2025-04-21T10:48:46.513Z"
   },
   {
    "duration": 1004,
    "start_time": "2025-04-21T10:48:46.863Z"
   },
   {
    "duration": 12,
    "start_time": "2025-04-21T10:48:47.869Z"
   },
   {
    "duration": 10,
    "start_time": "2025-04-21T10:48:47.882Z"
   },
   {
    "duration": 18,
    "start_time": "2025-04-21T10:48:47.894Z"
   },
   {
    "duration": 8,
    "start_time": "2025-04-21T10:48:47.913Z"
   },
   {
    "duration": 8,
    "start_time": "2025-04-21T10:48:47.922Z"
   },
   {
    "duration": 129,
    "start_time": "2025-04-21T10:48:47.931Z"
   },
   {
    "duration": 8,
    "start_time": "2025-04-21T10:48:48.062Z"
   },
   {
    "duration": 118,
    "start_time": "2025-04-21T10:48:48.072Z"
   },
   {
    "duration": 99,
    "start_time": "2025-04-21T10:48:48.192Z"
   },
   {
    "duration": 35,
    "start_time": "2025-04-21T10:48:48.293Z"
   },
   {
    "duration": 12,
    "start_time": "2025-04-21T10:48:48.330Z"
   },
   {
    "duration": 3,
    "start_time": "2025-04-21T10:48:48.346Z"
   },
   {
    "duration": 19,
    "start_time": "2025-04-21T10:48:48.350Z"
   },
   {
    "duration": 50,
    "start_time": "2025-04-21T10:48:48.371Z"
   },
   {
    "duration": 4,
    "start_time": "2025-04-21T10:48:48.423Z"
   },
   {
    "duration": 4,
    "start_time": "2025-04-21T10:48:48.429Z"
   },
   {
    "duration": 5,
    "start_time": "2025-04-21T10:48:48.434Z"
   },
   {
    "duration": 4,
    "start_time": "2025-04-21T10:48:48.440Z"
   },
   {
    "duration": 850,
    "start_time": "2025-04-21T10:48:48.445Z"
   },
   {
    "duration": 41,
    "start_time": "2025-04-21T10:48:49.297Z"
   },
   {
    "duration": 7,
    "start_time": "2025-04-21T10:48:49.340Z"
   },
   {
    "duration": 6,
    "start_time": "2025-04-21T10:48:49.349Z"
   },
   {
    "duration": 6,
    "start_time": "2025-04-21T10:48:49.357Z"
   },
   {
    "duration": 6,
    "start_time": "2025-04-21T10:48:49.365Z"
   },
   {
    "duration": 44,
    "start_time": "2025-04-21T10:48:49.372Z"
   },
   {
    "duration": 9,
    "start_time": "2025-04-21T10:48:49.417Z"
   },
   {
    "duration": 5,
    "start_time": "2025-04-21T10:48:49.427Z"
   },
   {
    "duration": 15,
    "start_time": "2025-04-21T10:48:49.434Z"
   },
   {
    "duration": 60,
    "start_time": "2025-04-21T10:48:49.450Z"
   },
   {
    "duration": 18,
    "start_time": "2025-04-21T10:48:49.511Z"
   },
   {
    "duration": 19,
    "start_time": "2025-04-21T10:48:49.531Z"
   },
   {
    "duration": 62,
    "start_time": "2025-04-21T10:48:49.552Z"
   },
   {
    "duration": 14,
    "start_time": "2025-04-21T10:48:49.616Z"
   },
   {
    "duration": 14,
    "start_time": "2025-04-21T10:48:49.632Z"
   },
   {
    "duration": 395,
    "start_time": "2025-04-21T10:48:49.648Z"
   },
   {
    "duration": 132,
    "start_time": "2025-04-21T10:48:50.046Z"
   },
   {
    "duration": 228,
    "start_time": "2025-04-21T10:48:50.181Z"
   },
   {
    "duration": 44161,
    "start_time": "2025-04-21T10:48:50.411Z"
   },
   {
    "duration": 0,
    "start_time": "2025-04-21T10:49:34.574Z"
   },
   {
    "duration": 324,
    "start_time": "2025-04-21T10:54:24.311Z"
   },
   {
    "duration": 1074,
    "start_time": "2025-04-21T10:54:24.638Z"
   },
   {
    "duration": 11,
    "start_time": "2025-04-21T10:54:25.714Z"
   },
   {
    "duration": 10,
    "start_time": "2025-04-21T10:54:25.726Z"
   },
   {
    "duration": 7,
    "start_time": "2025-04-21T10:54:25.739Z"
   },
   {
    "duration": 7,
    "start_time": "2025-04-21T10:54:25.748Z"
   },
   {
    "duration": 7,
    "start_time": "2025-04-21T10:54:25.757Z"
   },
   {
    "duration": 131,
    "start_time": "2025-04-21T10:54:25.767Z"
   },
   {
    "duration": 9,
    "start_time": "2025-04-21T10:54:25.906Z"
   },
   {
    "duration": 113,
    "start_time": "2025-04-21T10:54:25.916Z"
   },
   {
    "duration": 97,
    "start_time": "2025-04-21T10:54:26.031Z"
   },
   {
    "duration": 28,
    "start_time": "2025-04-21T10:54:26.130Z"
   },
   {
    "duration": 11,
    "start_time": "2025-04-21T10:54:26.160Z"
   },
   {
    "duration": 2,
    "start_time": "2025-04-21T10:54:26.175Z"
   },
   {
    "duration": 43,
    "start_time": "2025-04-21T10:54:26.179Z"
   },
   {
    "duration": 21,
    "start_time": "2025-04-21T10:54:26.224Z"
   },
   {
    "duration": 3,
    "start_time": "2025-04-21T10:54:26.247Z"
   },
   {
    "duration": 3,
    "start_time": "2025-04-21T10:54:26.252Z"
   },
   {
    "duration": 4,
    "start_time": "2025-04-21T10:54:26.257Z"
   },
   {
    "duration": 3,
    "start_time": "2025-04-21T10:54:26.263Z"
   },
   {
    "duration": 786,
    "start_time": "2025-04-21T10:54:26.268Z"
   },
   {
    "duration": 38,
    "start_time": "2025-04-21T10:54:27.055Z"
   },
   {
    "duration": 7,
    "start_time": "2025-04-21T10:54:27.105Z"
   },
   {
    "duration": 5,
    "start_time": "2025-04-21T10:54:27.114Z"
   },
   {
    "duration": 6,
    "start_time": "2025-04-21T10:54:27.120Z"
   },
   {
    "duration": 6,
    "start_time": "2025-04-21T10:54:27.128Z"
   },
   {
    "duration": 12,
    "start_time": "2025-04-21T10:54:27.135Z"
   },
   {
    "duration": 8,
    "start_time": "2025-04-21T10:54:27.149Z"
   },
   {
    "duration": 6,
    "start_time": "2025-04-21T10:54:27.158Z"
   },
   {
    "duration": 51,
    "start_time": "2025-04-21T10:54:27.166Z"
   },
   {
    "duration": 36,
    "start_time": "2025-04-21T10:54:27.219Z"
   },
   {
    "duration": 18,
    "start_time": "2025-04-21T10:54:27.257Z"
   },
   {
    "duration": 48,
    "start_time": "2025-04-21T10:54:27.277Z"
   },
   {
    "duration": 37,
    "start_time": "2025-04-21T10:54:27.327Z"
   },
   {
    "duration": 14,
    "start_time": "2025-04-21T10:54:27.365Z"
   },
   {
    "duration": 34,
    "start_time": "2025-04-21T10:54:27.380Z"
   },
   {
    "duration": 374,
    "start_time": "2025-04-21T10:54:27.415Z"
   },
   {
    "duration": 136,
    "start_time": "2025-04-21T10:54:27.791Z"
   },
   {
    "duration": 230,
    "start_time": "2025-04-21T10:54:27.930Z"
   },
   {
    "duration": 316,
    "start_time": "2025-04-21T10:58:46.651Z"
   },
   {
    "duration": 1115,
    "start_time": "2025-04-21T10:58:46.970Z"
   },
   {
    "duration": 21,
    "start_time": "2025-04-21T10:58:48.088Z"
   },
   {
    "duration": 13,
    "start_time": "2025-04-21T10:58:48.111Z"
   },
   {
    "duration": 10,
    "start_time": "2025-04-21T10:58:48.126Z"
   },
   {
    "duration": 8,
    "start_time": "2025-04-21T10:58:48.137Z"
   },
   {
    "duration": 6,
    "start_time": "2025-04-21T10:58:48.147Z"
   },
   {
    "duration": 131,
    "start_time": "2025-04-21T10:58:48.155Z"
   },
   {
    "duration": 16,
    "start_time": "2025-04-21T10:58:48.289Z"
   },
   {
    "duration": 107,
    "start_time": "2025-04-21T10:58:48.310Z"
   },
   {
    "duration": 97,
    "start_time": "2025-04-21T10:58:48.419Z"
   },
   {
    "duration": 29,
    "start_time": "2025-04-21T10:58:48.518Z"
   },
   {
    "duration": 12,
    "start_time": "2025-04-21T10:58:48.550Z"
   },
   {
    "duration": 4,
    "start_time": "2025-04-21T10:58:48.564Z"
   },
   {
    "duration": 45,
    "start_time": "2025-04-21T10:58:48.570Z"
   },
   {
    "duration": 33,
    "start_time": "2025-04-21T10:58:48.617Z"
   },
   {
    "duration": 3,
    "start_time": "2025-04-21T10:58:48.652Z"
   },
   {
    "duration": 3,
    "start_time": "2025-04-21T10:58:48.657Z"
   },
   {
    "duration": 4,
    "start_time": "2025-04-21T10:58:48.662Z"
   },
   {
    "duration": 4,
    "start_time": "2025-04-21T10:58:48.668Z"
   },
   {
    "duration": 840,
    "start_time": "2025-04-21T10:58:48.673Z"
   },
   {
    "duration": 38,
    "start_time": "2025-04-21T10:58:49.515Z"
   },
   {
    "duration": 8,
    "start_time": "2025-04-21T10:58:49.555Z"
   },
   {
    "duration": 7,
    "start_time": "2025-04-21T10:58:49.565Z"
   },
   {
    "duration": 33,
    "start_time": "2025-04-21T10:58:49.573Z"
   },
   {
    "duration": 7,
    "start_time": "2025-04-21T10:58:49.608Z"
   },
   {
    "duration": 17,
    "start_time": "2025-04-21T10:58:49.617Z"
   },
   {
    "duration": 9,
    "start_time": "2025-04-21T10:58:49.638Z"
   },
   {
    "duration": 7,
    "start_time": "2025-04-21T10:58:49.650Z"
   },
   {
    "duration": 50,
    "start_time": "2025-04-21T10:58:49.659Z"
   },
   {
    "duration": 37,
    "start_time": "2025-04-21T10:58:49.711Z"
   },
   {
    "duration": 25,
    "start_time": "2025-04-21T10:58:49.751Z"
   },
   {
    "duration": 46,
    "start_time": "2025-04-21T10:58:49.778Z"
   },
   {
    "duration": 58,
    "start_time": "2025-04-21T10:58:49.826Z"
   },
   {
    "duration": 29,
    "start_time": "2025-04-21T10:58:49.886Z"
   },
   {
    "duration": 14,
    "start_time": "2025-04-21T10:58:49.917Z"
   },
   {
    "duration": 374,
    "start_time": "2025-04-21T10:58:49.933Z"
   },
   {
    "duration": 130,
    "start_time": "2025-04-21T10:58:50.310Z"
   },
   {
    "duration": 227,
    "start_time": "2025-04-21T10:58:50.442Z"
   },
   {
    "duration": 8,
    "start_time": "2025-04-21T10:58:50.672Z"
   },
   {
    "duration": 230,
    "start_time": "2025-04-21T10:58:50.682Z"
   },
   {
    "duration": 9,
    "start_time": "2025-04-21T10:58:54.462Z"
   },
   {
    "duration": 137,
    "start_time": "2025-04-21T10:59:37.995Z"
   },
   {
    "duration": 115,
    "start_time": "2025-04-21T11:00:52.997Z"
   },
   {
    "duration": 119,
    "start_time": "2025-04-21T11:02:00.362Z"
   },
   {
    "duration": 29309,
    "start_time": "2025-04-21T11:03:35.461Z"
   },
   {
    "duration": 9,
    "start_time": "2025-04-21T11:04:37.766Z"
   },
   {
    "duration": 12,
    "start_time": "2025-04-21T11:05:49.442Z"
   },
   {
    "duration": 12,
    "start_time": "2025-04-21T11:06:09.508Z"
   },
   {
    "duration": 14,
    "start_time": "2025-04-21T11:06:53.650Z"
   },
   {
    "duration": 184,
    "start_time": "2025-04-21T11:08:52.623Z"
   },
   {
    "duration": 206,
    "start_time": "2025-04-21T11:09:48.121Z"
   },
   {
    "duration": 21,
    "start_time": "2025-04-21T11:20:39.126Z"
   },
   {
    "duration": 162,
    "start_time": "2025-04-21T16:39:48.188Z"
   },
   {
    "duration": 335,
    "start_time": "2025-04-21T16:39:54.463Z"
   },
   {
    "duration": 1279,
    "start_time": "2025-04-21T16:39:54.799Z"
   },
   {
    "duration": 12,
    "start_time": "2025-04-21T16:39:56.080Z"
   },
   {
    "duration": 11,
    "start_time": "2025-04-21T16:39:56.094Z"
   },
   {
    "duration": 25,
    "start_time": "2025-04-21T16:39:56.106Z"
   },
   {
    "duration": 10,
    "start_time": "2025-04-21T16:39:56.133Z"
   },
   {
    "duration": 7,
    "start_time": "2025-04-21T16:39:56.144Z"
   },
   {
    "duration": 117,
    "start_time": "2025-04-21T16:39:56.153Z"
   },
   {
    "duration": 9,
    "start_time": "2025-04-21T16:39:56.271Z"
   },
   {
    "duration": 125,
    "start_time": "2025-04-21T16:39:56.283Z"
   },
   {
    "duration": 99,
    "start_time": "2025-04-21T16:39:56.410Z"
   },
   {
    "duration": 40,
    "start_time": "2025-04-21T16:39:56.512Z"
   },
   {
    "duration": 14,
    "start_time": "2025-04-21T16:39:56.554Z"
   },
   {
    "duration": 3,
    "start_time": "2025-04-21T16:39:56.570Z"
   },
   {
    "duration": 19,
    "start_time": "2025-04-21T16:39:56.575Z"
   },
   {
    "duration": 41,
    "start_time": "2025-04-21T16:39:56.597Z"
   },
   {
    "duration": 4,
    "start_time": "2025-04-21T16:39:56.640Z"
   },
   {
    "duration": 4,
    "start_time": "2025-04-21T16:39:56.645Z"
   },
   {
    "duration": 4,
    "start_time": "2025-04-21T16:39:56.650Z"
   },
   {
    "duration": 3,
    "start_time": "2025-04-21T16:39:56.656Z"
   },
   {
    "duration": 806,
    "start_time": "2025-04-21T16:39:56.661Z"
   },
   {
    "duration": 37,
    "start_time": "2025-04-21T16:39:57.469Z"
   },
   {
    "duration": 7,
    "start_time": "2025-04-21T16:39:57.508Z"
   },
   {
    "duration": 6,
    "start_time": "2025-04-21T16:39:57.532Z"
   },
   {
    "duration": 7,
    "start_time": "2025-04-21T16:39:57.540Z"
   },
   {
    "duration": 5,
    "start_time": "2025-04-21T16:39:57.549Z"
   },
   {
    "duration": 12,
    "start_time": "2025-04-21T16:39:57.556Z"
   },
   {
    "duration": 8,
    "start_time": "2025-04-21T16:39:57.571Z"
   },
   {
    "duration": 5,
    "start_time": "2025-04-21T16:39:57.581Z"
   },
   {
    "duration": 56,
    "start_time": "2025-04-21T16:39:57.588Z"
   },
   {
    "duration": 34,
    "start_time": "2025-04-21T16:39:57.646Z"
   },
   {
    "duration": 19,
    "start_time": "2025-04-21T16:39:57.682Z"
   },
   {
    "duration": 44,
    "start_time": "2025-04-21T16:39:57.703Z"
   },
   {
    "duration": 38,
    "start_time": "2025-04-21T16:39:57.749Z"
   },
   {
    "duration": 15,
    "start_time": "2025-04-21T16:39:57.789Z"
   },
   {
    "duration": 34,
    "start_time": "2025-04-21T16:39:57.805Z"
   },
   {
    "duration": 2124,
    "start_time": "2025-04-21T16:39:57.841Z"
   },
   {
    "duration": 131,
    "start_time": "2025-04-21T16:39:59.967Z"
   },
   {
    "duration": 235,
    "start_time": "2025-04-21T16:40:00.099Z"
   },
   {
    "duration": 198,
    "start_time": "2025-04-21T16:40:00.338Z"
   },
   {
    "duration": 193,
    "start_time": "2025-04-21T16:40:00.539Z"
   },
   {
    "duration": 6,
    "start_time": "2025-04-21T16:40:00.734Z"
   },
   {
    "duration": 3,
    "start_time": "2025-04-21T16:41:07.633Z"
   },
   {
    "duration": 465,
    "start_time": "2025-04-21T16:41:50.032Z"
   },
   {
    "duration": 3,
    "start_time": "2025-04-21T16:42:07.132Z"
   },
   {
    "duration": 18,
    "start_time": "2025-04-21T16:42:15.839Z"
   },
   {
    "duration": 13,
    "start_time": "2025-04-21T16:43:39.301Z"
   },
   {
    "duration": 11,
    "start_time": "2025-04-21T16:45:48.112Z"
   },
   {
    "duration": 10,
    "start_time": "2025-04-21T16:46:28.149Z"
   },
   {
    "duration": 10,
    "start_time": "2025-04-21T16:46:41.971Z"
   },
   {
    "duration": 73,
    "start_time": "2025-04-21T16:50:00.832Z"
   },
   {
    "duration": 15,
    "start_time": "2025-04-21T16:50:22.662Z"
   },
   {
    "duration": 9,
    "start_time": "2025-04-21T16:56:45.290Z"
   },
   {
    "duration": 11,
    "start_time": "2025-04-21T16:56:59.759Z"
   },
   {
    "duration": 12,
    "start_time": "2025-04-21T16:59:02.427Z"
   },
   {
    "duration": 72,
    "start_time": "2025-04-21T16:59:17.655Z"
   },
   {
    "duration": 10,
    "start_time": "2025-04-21T16:59:43.488Z"
   },
   {
    "duration": 9,
    "start_time": "2025-04-21T17:00:09.091Z"
   },
   {
    "duration": 16,
    "start_time": "2025-04-21T17:02:06.337Z"
   },
   {
    "duration": 212,
    "start_time": "2025-04-21T17:25:00.520Z"
   },
   {
    "duration": 12,
    "start_time": "2025-04-21T17:30:11.074Z"
   },
   {
    "duration": 26,
    "start_time": "2025-04-21T17:30:28.128Z"
   },
   {
    "duration": 16,
    "start_time": "2025-04-21T17:30:47.790Z"
   },
   {
    "duration": 53,
    "start_time": "2025-04-21T17:31:31.616Z"
   },
   {
    "duration": 16,
    "start_time": "2025-04-21T17:31:45.133Z"
   },
   {
    "duration": 26,
    "start_time": "2025-04-21T17:32:01.556Z"
   },
   {
    "duration": 22,
    "start_time": "2025-04-21T17:32:53.127Z"
   },
   {
    "duration": 350,
    "start_time": "2025-04-21T19:22:12.401Z"
   },
   {
    "duration": 1208,
    "start_time": "2025-04-21T19:22:12.754Z"
   },
   {
    "duration": 14,
    "start_time": "2025-04-21T19:22:13.965Z"
   },
   {
    "duration": 9,
    "start_time": "2025-04-21T19:22:13.982Z"
   },
   {
    "duration": 8,
    "start_time": "2025-04-21T19:22:13.992Z"
   },
   {
    "duration": 30,
    "start_time": "2025-04-21T19:22:14.001Z"
   },
   {
    "duration": 8,
    "start_time": "2025-04-21T19:22:14.036Z"
   },
   {
    "duration": 128,
    "start_time": "2025-04-21T19:22:14.046Z"
   },
   {
    "duration": 9,
    "start_time": "2025-04-21T19:22:14.176Z"
   },
   {
    "duration": 140,
    "start_time": "2025-04-21T19:22:14.189Z"
   },
   {
    "duration": 123,
    "start_time": "2025-04-21T19:22:14.331Z"
   },
   {
    "duration": 35,
    "start_time": "2025-04-21T19:22:14.456Z"
   },
   {
    "duration": 12,
    "start_time": "2025-04-21T19:22:14.493Z"
   },
   {
    "duration": 4,
    "start_time": "2025-04-21T19:22:14.524Z"
   },
   {
    "duration": 28,
    "start_time": "2025-04-21T19:22:14.533Z"
   },
   {
    "duration": 24,
    "start_time": "2025-04-21T19:22:14.563Z"
   },
   {
    "duration": 3,
    "start_time": "2025-04-21T19:22:14.589Z"
   },
   {
    "duration": 4,
    "start_time": "2025-04-21T19:22:14.594Z"
   },
   {
    "duration": 4,
    "start_time": "2025-04-21T19:22:14.623Z"
   },
   {
    "duration": 3,
    "start_time": "2025-04-21T19:22:14.629Z"
   },
   {
    "duration": 1014,
    "start_time": "2025-04-21T19:22:14.634Z"
   },
   {
    "duration": 41,
    "start_time": "2025-04-21T19:22:15.652Z"
   },
   {
    "duration": 7,
    "start_time": "2025-04-21T19:22:15.695Z"
   },
   {
    "duration": 6,
    "start_time": "2025-04-21T19:22:15.704Z"
   },
   {
    "duration": 17,
    "start_time": "2025-04-21T19:22:15.712Z"
   },
   {
    "duration": 8,
    "start_time": "2025-04-21T19:22:15.731Z"
   },
   {
    "duration": 16,
    "start_time": "2025-04-21T19:22:15.741Z"
   },
   {
    "duration": 9,
    "start_time": "2025-04-21T19:22:15.762Z"
   },
   {
    "duration": 6,
    "start_time": "2025-04-21T19:22:15.773Z"
   },
   {
    "duration": 51,
    "start_time": "2025-04-21T19:22:15.781Z"
   },
   {
    "duration": 48,
    "start_time": "2025-04-21T19:22:15.834Z"
   },
   {
    "duration": 19,
    "start_time": "2025-04-21T19:22:15.884Z"
   },
   {
    "duration": 46,
    "start_time": "2025-04-21T19:22:15.905Z"
   },
   {
    "duration": 43,
    "start_time": "2025-04-21T19:22:15.954Z"
   },
   {
    "duration": 31,
    "start_time": "2025-04-21T19:22:15.999Z"
   },
   {
    "duration": 18,
    "start_time": "2025-04-21T19:22:16.032Z"
   },
   {
    "duration": 2529,
    "start_time": "2025-04-21T19:22:16.052Z"
   },
   {
    "duration": 143,
    "start_time": "2025-04-21T19:22:18.583Z"
   },
   {
    "duration": 335,
    "start_time": "2025-04-21T19:22:18.728Z"
   },
   {
    "duration": 212,
    "start_time": "2025-04-21T19:22:19.067Z"
   },
   {
    "duration": 193,
    "start_time": "2025-04-21T19:22:19.281Z"
   },
   {
    "duration": 21,
    "start_time": "2025-04-21T19:22:19.475Z"
   },
   {
    "duration": 594,
    "start_time": "2025-04-21T19:23:12.095Z"
   },
   {
    "duration": 21,
    "start_time": "2025-04-21T19:23:51.819Z"
   },
   {
    "duration": 397,
    "start_time": "2025-04-21T19:28:21.331Z"
   },
   {
    "duration": 419,
    "start_time": "2025-04-21T19:29:50.885Z"
   },
   {
    "duration": 449,
    "start_time": "2025-04-21T19:32:26.287Z"
   },
   {
    "duration": 381,
    "start_time": "2025-04-21T19:34:31.390Z"
   },
   {
    "duration": 395,
    "start_time": "2025-04-21T19:37:22.446Z"
   },
   {
    "duration": 434,
    "start_time": "2025-04-21T19:39:31.110Z"
   },
   {
    "duration": 19,
    "start_time": "2025-04-21T19:39:40.995Z"
   },
   {
    "duration": 7,
    "start_time": "2025-04-21T19:40:53.371Z"
   },
   {
    "duration": 11,
    "start_time": "2025-04-21T19:41:09.016Z"
   },
   {
    "duration": 0,
    "start_time": "2025-04-21T19:43:04.334Z"
   },
   {
    "duration": 22,
    "start_time": "2025-04-21T19:43:14.042Z"
   },
   {
    "duration": 316,
    "start_time": "2025-04-21T19:44:58.231Z"
   },
   {
    "duration": 1256,
    "start_time": "2025-04-21T19:44:58.549Z"
   },
   {
    "duration": 25,
    "start_time": "2025-04-21T19:44:59.807Z"
   },
   {
    "duration": 13,
    "start_time": "2025-04-21T19:44:59.835Z"
   },
   {
    "duration": 7,
    "start_time": "2025-04-21T19:44:59.851Z"
   },
   {
    "duration": 7,
    "start_time": "2025-04-21T19:44:59.860Z"
   },
   {
    "duration": 7,
    "start_time": "2025-04-21T19:44:59.869Z"
   },
   {
    "duration": 121,
    "start_time": "2025-04-21T19:44:59.878Z"
   },
   {
    "duration": 10,
    "start_time": "2025-04-21T19:45:00.000Z"
   },
   {
    "duration": 106,
    "start_time": "2025-04-21T19:45:00.023Z"
   },
   {
    "duration": 83,
    "start_time": "2025-04-21T19:45:00.132Z"
   },
   {
    "duration": 38,
    "start_time": "2025-04-21T19:45:00.216Z"
   },
   {
    "duration": 11,
    "start_time": "2025-04-21T19:45:00.256Z"
   },
   {
    "duration": 3,
    "start_time": "2025-04-21T19:45:00.269Z"
   },
   {
    "duration": 18,
    "start_time": "2025-04-21T19:45:00.274Z"
   },
   {
    "duration": 51,
    "start_time": "2025-04-21T19:45:00.294Z"
   },
   {
    "duration": 4,
    "start_time": "2025-04-21T19:45:00.346Z"
   },
   {
    "duration": 4,
    "start_time": "2025-04-21T19:45:00.351Z"
   },
   {
    "duration": 4,
    "start_time": "2025-04-21T19:45:00.356Z"
   },
   {
    "duration": 4,
    "start_time": "2025-04-21T19:45:00.362Z"
   },
   {
    "duration": 745,
    "start_time": "2025-04-21T19:45:00.367Z"
   },
   {
    "duration": 41,
    "start_time": "2025-04-21T19:45:01.115Z"
   },
   {
    "duration": 7,
    "start_time": "2025-04-21T19:45:01.158Z"
   },
   {
    "duration": 7,
    "start_time": "2025-04-21T19:45:01.167Z"
   },
   {
    "duration": 9,
    "start_time": "2025-04-21T19:45:01.176Z"
   },
   {
    "duration": 9,
    "start_time": "2025-04-21T19:45:01.187Z"
   },
   {
    "duration": 12,
    "start_time": "2025-04-21T19:45:01.224Z"
   },
   {
    "duration": 7,
    "start_time": "2025-04-21T19:45:01.241Z"
   },
   {
    "duration": 5,
    "start_time": "2025-04-21T19:45:01.250Z"
   },
   {
    "duration": 14,
    "start_time": "2025-04-21T19:45:01.257Z"
   },
   {
    "duration": 66,
    "start_time": "2025-04-21T19:45:01.273Z"
   },
   {
    "duration": 19,
    "start_time": "2025-04-21T19:45:01.341Z"
   },
   {
    "duration": 21,
    "start_time": "2025-04-21T19:45:01.361Z"
   },
   {
    "duration": 68,
    "start_time": "2025-04-21T19:45:01.383Z"
   },
   {
    "duration": 13,
    "start_time": "2025-04-21T19:45:01.454Z"
   },
   {
    "duration": 13,
    "start_time": "2025-04-21T19:45:01.469Z"
   },
   {
    "duration": 374,
    "start_time": "2025-04-21T19:45:01.484Z"
   },
   {
    "duration": 129,
    "start_time": "2025-04-21T19:45:01.859Z"
   },
   {
    "duration": 222,
    "start_time": "2025-04-21T19:45:01.990Z"
   },
   {
    "duration": 190,
    "start_time": "2025-04-21T19:45:02.215Z"
   },
   {
    "duration": 191,
    "start_time": "2025-04-21T19:45:02.406Z"
   },
   {
    "duration": 25,
    "start_time": "2025-04-21T19:45:02.600Z"
   },
   {
    "duration": 21,
    "start_time": "2025-04-21T19:45:24.488Z"
   },
   {
    "duration": 409,
    "start_time": "2025-04-21T19:45:51.737Z"
   },
   {
    "duration": 296,
    "start_time": "2025-04-21T21:49:06.406Z"
   },
   {
    "duration": 1009,
    "start_time": "2025-04-21T21:49:06.704Z"
   },
   {
    "duration": 12,
    "start_time": "2025-04-21T21:49:07.715Z"
   },
   {
    "duration": 9,
    "start_time": "2025-04-21T21:49:07.729Z"
   },
   {
    "duration": 8,
    "start_time": "2025-04-21T21:49:07.742Z"
   },
   {
    "duration": 7,
    "start_time": "2025-04-21T21:49:07.751Z"
   },
   {
    "duration": 6,
    "start_time": "2025-04-21T21:49:07.760Z"
   },
   {
    "duration": 122,
    "start_time": "2025-04-21T21:49:07.769Z"
   },
   {
    "duration": 9,
    "start_time": "2025-04-21T21:49:07.893Z"
   },
   {
    "duration": 112,
    "start_time": "2025-04-21T21:49:07.903Z"
   },
   {
    "duration": 104,
    "start_time": "2025-04-21T21:49:08.017Z"
   },
   {
    "duration": 30,
    "start_time": "2025-04-21T21:49:08.122Z"
   },
   {
    "duration": 13,
    "start_time": "2025-04-21T21:49:08.153Z"
   },
   {
    "duration": 3,
    "start_time": "2025-04-21T21:49:08.169Z"
   },
   {
    "duration": 38,
    "start_time": "2025-04-21T21:49:08.174Z"
   },
   {
    "duration": 20,
    "start_time": "2025-04-21T21:49:08.213Z"
   },
   {
    "duration": 3,
    "start_time": "2025-04-21T21:49:08.235Z"
   },
   {
    "duration": 3,
    "start_time": "2025-04-21T21:49:08.240Z"
   },
   {
    "duration": 4,
    "start_time": "2025-04-21T21:49:08.245Z"
   },
   {
    "duration": 4,
    "start_time": "2025-04-21T21:49:08.250Z"
   },
   {
    "duration": 788,
    "start_time": "2025-04-21T21:49:08.256Z"
   },
   {
    "duration": 37,
    "start_time": "2025-04-21T21:49:09.046Z"
   },
   {
    "duration": 6,
    "start_time": "2025-04-21T21:49:09.085Z"
   },
   {
    "duration": 25,
    "start_time": "2025-04-21T21:49:09.093Z"
   },
   {
    "duration": 6,
    "start_time": "2025-04-21T21:49:09.120Z"
   },
   {
    "duration": 6,
    "start_time": "2025-04-21T21:49:09.127Z"
   },
   {
    "duration": 18,
    "start_time": "2025-04-21T21:49:09.135Z"
   },
   {
    "duration": 7,
    "start_time": "2025-04-21T21:49:09.155Z"
   },
   {
    "duration": 6,
    "start_time": "2025-04-21T21:49:09.164Z"
   },
   {
    "duration": 44,
    "start_time": "2025-04-21T21:49:09.172Z"
   },
   {
    "duration": 32,
    "start_time": "2025-04-21T21:49:09.218Z"
   },
   {
    "duration": 17,
    "start_time": "2025-04-21T21:49:09.252Z"
   },
   {
    "duration": 43,
    "start_time": "2025-04-21T21:49:09.271Z"
   },
   {
    "duration": 37,
    "start_time": "2025-04-21T21:49:09.316Z"
   },
   {
    "duration": 13,
    "start_time": "2025-04-21T21:49:09.355Z"
   },
   {
    "duration": 14,
    "start_time": "2025-04-21T21:49:09.370Z"
   },
   {
    "duration": 2038,
    "start_time": "2025-04-21T21:49:09.411Z"
   },
   {
    "duration": 122,
    "start_time": "2025-04-21T21:49:11.450Z"
   },
   {
    "duration": 230,
    "start_time": "2025-04-21T21:49:11.574Z"
   },
   {
    "duration": 182,
    "start_time": "2025-04-21T21:49:11.812Z"
   },
   {
    "duration": 187,
    "start_time": "2025-04-21T21:49:11.998Z"
   },
   {
    "duration": 442,
    "start_time": "2025-04-21T21:49:12.187Z"
   },
   {
    "duration": 21,
    "start_time": "2025-04-21T21:50:02.329Z"
   },
   {
    "duration": 561,
    "start_time": "2025-04-21T22:02:14.269Z"
   },
   {
    "duration": 4,
    "start_time": "2025-04-21T22:03:34.425Z"
   },
   {
    "duration": 3,
    "start_time": "2025-04-21T22:03:40.838Z"
   },
   {
    "duration": 3,
    "start_time": "2025-04-21T22:09:20.893Z"
   },
   {
    "duration": 5,
    "start_time": "2025-04-21T22:21:55.609Z"
   },
   {
    "duration": 131,
    "start_time": "2025-04-21T22:22:34.957Z"
   },
   {
    "duration": 6,
    "start_time": "2025-04-21T22:23:10.282Z"
   },
   {
    "duration": 6,
    "start_time": "2025-04-21T22:24:14.545Z"
   },
   {
    "duration": 4,
    "start_time": "2025-04-21T22:25:27.271Z"
   },
   {
    "duration": 5,
    "start_time": "2025-04-21T22:26:04.547Z"
   },
   {
    "duration": 5,
    "start_time": "2025-04-21T22:26:10.128Z"
   },
   {
    "duration": 6,
    "start_time": "2025-04-21T22:26:17.391Z"
   },
   {
    "duration": 51,
    "start_time": "2025-04-21T22:27:46.680Z"
   },
   {
    "duration": 54,
    "start_time": "2025-04-21T22:32:18.720Z"
   },
   {
    "duration": 327,
    "start_time": "2025-04-21T22:32:44.172Z"
   },
   {
    "duration": 17,
    "start_time": "2025-04-21T22:38:07.415Z"
   },
   {
    "duration": 4,
    "start_time": "2025-04-21T22:38:54.613Z"
   },
   {
    "duration": 5,
    "start_time": "2025-04-21T22:39:38.255Z"
   },
   {
    "duration": 4,
    "start_time": "2025-04-21T22:40:01.100Z"
   },
   {
    "duration": 4,
    "start_time": "2025-04-21T22:40:30.955Z"
   },
   {
    "duration": 7,
    "start_time": "2025-04-21T22:41:08.670Z"
   },
   {
    "duration": 470,
    "start_time": "2025-04-21T22:46:27.226Z"
   },
   {
    "duration": 6,
    "start_time": "2025-04-21T22:49:57.338Z"
   },
   {
    "duration": 7,
    "start_time": "2025-04-21T22:54:15.835Z"
   },
   {
    "duration": 6,
    "start_time": "2025-04-21T22:54:36.387Z"
   },
   {
    "duration": 7,
    "start_time": "2025-04-21T22:55:36.699Z"
   },
   {
    "duration": 60,
    "start_time": "2025-04-21T22:56:29.935Z"
   },
   {
    "duration": 16,
    "start_time": "2025-04-21T22:59:07.435Z"
   },
   {
    "duration": 6,
    "start_time": "2025-04-21T23:01:07.671Z"
   },
   {
    "duration": 7,
    "start_time": "2025-04-21T23:05:23.387Z"
   },
   {
    "duration": 211,
    "start_time": "2025-04-21T23:06:34.940Z"
   },
   {
    "duration": 227,
    "start_time": "2025-04-21T23:08:05.562Z"
   },
   {
    "duration": 258,
    "start_time": "2025-04-21T23:09:03.703Z"
   },
   {
    "duration": 324,
    "start_time": "2025-04-21T23:09:38.443Z"
   },
   {
    "duration": 253,
    "start_time": "2025-04-21T23:10:49.677Z"
   },
   {
    "duration": 249,
    "start_time": "2025-04-21T23:11:52.229Z"
   },
   {
    "duration": 7,
    "start_time": "2025-04-21T23:15:36.999Z"
   },
   {
    "duration": 214,
    "start_time": "2025-04-21T23:15:42.821Z"
   },
   {
    "duration": 6,
    "start_time": "2025-04-21T23:21:42.958Z"
   },
   {
    "duration": 55,
    "start_time": "2025-04-21T23:22:27.035Z"
   },
   {
    "duration": 54,
    "start_time": "2025-04-21T23:24:18.750Z"
   },
   {
    "duration": 56,
    "start_time": "2025-04-21T23:25:16.639Z"
   },
   {
    "duration": 55,
    "start_time": "2025-04-21T23:26:05.224Z"
   },
   {
    "duration": 55,
    "start_time": "2025-04-21T23:27:11.238Z"
   },
   {
    "duration": 52,
    "start_time": "2025-04-21T23:29:01.044Z"
   },
   {
    "duration": 70,
    "start_time": "2025-04-21T23:30:45.988Z"
   },
   {
    "duration": 344,
    "start_time": "2025-04-21T23:32:12.224Z"
   },
   {
    "duration": 407,
    "start_time": "2025-04-21T23:34:51.980Z"
   },
   {
    "duration": 12,
    "start_time": "2025-04-21T23:40:01.655Z"
   },
   {
    "duration": 6,
    "start_time": "2025-04-21T23:40:08.517Z"
   },
   {
    "duration": 6,
    "start_time": "2025-04-21T23:43:54.290Z"
   },
   {
    "duration": 3,
    "start_time": "2025-04-21T23:46:46.423Z"
   },
   {
    "duration": 160,
    "start_time": "2025-04-21T23:46:54.886Z"
   },
   {
    "duration": 101,
    "start_time": "2025-04-21T23:47:23.155Z"
   },
   {
    "duration": 89,
    "start_time": "2025-04-21T23:47:38.361Z"
   },
   {
    "duration": 89,
    "start_time": "2025-04-21T23:48:31.765Z"
   },
   {
    "duration": 4,
    "start_time": "2025-04-21T23:49:21.025Z"
   },
   {
    "duration": 90,
    "start_time": "2025-04-21T23:49:26.473Z"
   },
   {
    "duration": 92,
    "start_time": "2025-04-21T23:50:22.228Z"
   },
   {
    "duration": 91,
    "start_time": "2025-04-21T23:51:05.570Z"
   },
   {
    "duration": 93,
    "start_time": "2025-04-21T23:51:32.110Z"
   },
   {
    "duration": 99,
    "start_time": "2025-04-21T23:51:58.570Z"
   },
   {
    "duration": 96,
    "start_time": "2025-04-21T23:53:59.390Z"
   },
   {
    "duration": 127,
    "start_time": "2025-04-21T23:55:12.310Z"
   },
   {
    "duration": 94,
    "start_time": "2025-04-21T23:56:23.124Z"
   },
   {
    "duration": 94,
    "start_time": "2025-04-21T23:56:36.172Z"
   },
   {
    "duration": 93,
    "start_time": "2025-04-21T23:58:02.304Z"
   },
   {
    "duration": 94,
    "start_time": "2025-04-21T23:58:19.693Z"
   },
   {
    "duration": 99,
    "start_time": "2025-04-21T23:58:35.771Z"
   },
   {
    "duration": 114,
    "start_time": "2025-04-22T00:00:34.984Z"
   },
   {
    "duration": 3,
    "start_time": "2025-04-22T00:01:16.331Z"
   },
   {
    "duration": 198,
    "start_time": "2025-04-22T00:01:45.122Z"
   },
   {
    "duration": 292,
    "start_time": "2025-04-22T03:50:50.961Z"
   },
   {
    "duration": 1233,
    "start_time": "2025-04-22T03:50:51.256Z"
   },
   {
    "duration": 12,
    "start_time": "2025-04-22T03:50:52.491Z"
   },
   {
    "duration": 9,
    "start_time": "2025-04-22T03:50:52.504Z"
   },
   {
    "duration": 7,
    "start_time": "2025-04-22T03:50:52.515Z"
   },
   {
    "duration": 7,
    "start_time": "2025-04-22T03:50:52.524Z"
   },
   {
    "duration": 6,
    "start_time": "2025-04-22T03:50:52.533Z"
   },
   {
    "duration": 132,
    "start_time": "2025-04-22T03:50:52.540Z"
   },
   {
    "duration": 9,
    "start_time": "2025-04-22T03:50:52.673Z"
   },
   {
    "duration": 115,
    "start_time": "2025-04-22T03:50:52.684Z"
   },
   {
    "duration": 92,
    "start_time": "2025-04-22T03:50:52.801Z"
   },
   {
    "duration": 28,
    "start_time": "2025-04-22T03:50:52.895Z"
   },
   {
    "duration": 12,
    "start_time": "2025-04-22T03:50:52.925Z"
   },
   {
    "duration": 3,
    "start_time": "2025-04-22T03:50:52.940Z"
   },
   {
    "duration": 39,
    "start_time": "2025-04-22T03:50:52.945Z"
   },
   {
    "duration": 20,
    "start_time": "2025-04-22T03:50:52.986Z"
   },
   {
    "duration": 3,
    "start_time": "2025-04-22T03:50:53.009Z"
   },
   {
    "duration": 5,
    "start_time": "2025-04-22T03:50:53.014Z"
   },
   {
    "duration": 4,
    "start_time": "2025-04-22T03:50:53.020Z"
   },
   {
    "duration": 4,
    "start_time": "2025-04-22T03:50:53.025Z"
   },
   {
    "duration": 809,
    "start_time": "2025-04-22T03:50:53.030Z"
   },
   {
    "duration": 46,
    "start_time": "2025-04-22T03:50:53.840Z"
   },
   {
    "duration": 9,
    "start_time": "2025-04-22T03:50:53.889Z"
   },
   {
    "duration": 8,
    "start_time": "2025-04-22T03:50:53.908Z"
   },
   {
    "duration": 6,
    "start_time": "2025-04-22T03:50:53.919Z"
   },
   {
    "duration": 6,
    "start_time": "2025-04-22T03:50:53.926Z"
   },
   {
    "duration": 11,
    "start_time": "2025-04-22T03:50:53.934Z"
   },
   {
    "duration": 33,
    "start_time": "2025-04-22T03:50:53.947Z"
   },
   {
    "duration": 7,
    "start_time": "2025-04-22T03:50:53.982Z"
   },
   {
    "duration": 15,
    "start_time": "2025-04-22T03:50:53.991Z"
   },
   {
    "duration": 33,
    "start_time": "2025-04-22T03:50:54.008Z"
   },
   {
    "duration": 46,
    "start_time": "2025-04-22T03:50:54.043Z"
   },
   {
    "duration": 18,
    "start_time": "2025-04-22T03:50:54.091Z"
   },
   {
    "duration": 36,
    "start_time": "2025-04-22T03:50:54.110Z"
   },
   {
    "duration": 17,
    "start_time": "2025-04-22T03:50:54.171Z"
   },
   {
    "duration": 14,
    "start_time": "2025-04-22T03:50:54.190Z"
   },
   {
    "duration": 2031,
    "start_time": "2025-04-22T03:50:54.205Z"
   },
   {
    "duration": 134,
    "start_time": "2025-04-22T03:50:56.238Z"
   },
   {
    "duration": 224,
    "start_time": "2025-04-22T03:50:56.374Z"
   },
   {
    "duration": 193,
    "start_time": "2025-04-22T03:50:56.600Z"
   },
   {
    "duration": 208,
    "start_time": "2025-04-22T03:50:56.798Z"
   },
   {
    "duration": 6,
    "start_time": "2025-04-22T03:50:57.008Z"
   },
   {
    "duration": 279,
    "start_time": "2025-04-22T03:50:57.016Z"
   },
   {
    "duration": 47,
    "start_time": "2025-04-22T03:50:57.298Z"
   },
   {
    "duration": 370,
    "start_time": "2025-04-22T03:50:57.347Z"
   },
   {
    "duration": 176,
    "start_time": "2025-04-22T03:50:57.721Z"
   },
   {
    "duration": 187,
    "start_time": "2025-04-22T03:50:57.899Z"
   },
   {
    "duration": 116,
    "start_time": "2025-04-22T03:51:22.663Z"
   },
   {
    "duration": 3,
    "start_time": "2025-04-22T04:08:07.700Z"
   },
   {
    "duration": 27,
    "start_time": "2025-04-22T04:14:39.787Z"
   },
   {
    "duration": 97,
    "start_time": "2025-04-22T04:19:24.360Z"
   },
   {
    "duration": 4,
    "start_time": "2025-04-22T04:21:42.093Z"
   },
   {
    "duration": 28,
    "start_time": "2025-04-22T04:25:08.731Z"
   },
   {
    "duration": 17,
    "start_time": "2025-04-22T04:29:23.194Z"
   },
   {
    "duration": 16,
    "start_time": "2025-04-22T04:30:12.244Z"
   },
   {
    "duration": 5,
    "start_time": "2025-04-22T04:32:22.498Z"
   },
   {
    "duration": 6,
    "start_time": "2025-04-22T04:32:33.966Z"
   },
   {
    "duration": 5,
    "start_time": "2025-04-22T04:33:17.997Z"
   },
   {
    "duration": 5,
    "start_time": "2025-04-22T04:33:33.668Z"
   },
   {
    "duration": 4,
    "start_time": "2025-04-22T04:34:58.964Z"
   },
   {
    "duration": 194,
    "start_time": "2025-04-22T04:36:00.620Z"
   },
   {
    "duration": 5,
    "start_time": "2025-04-22T04:36:57.340Z"
   },
   {
    "duration": 15,
    "start_time": "2025-04-22T04:41:56.248Z"
   },
   {
    "duration": 27,
    "start_time": "2025-04-22T04:42:07.206Z"
   },
   {
    "duration": 16,
    "start_time": "2025-04-22T04:42:51.035Z"
   },
   {
    "duration": 17,
    "start_time": "2025-04-22T04:43:39.977Z"
   },
   {
    "duration": 28,
    "start_time": "2025-04-22T04:43:50.573Z"
   },
   {
    "duration": 393,
    "start_time": "2025-04-22T04:44:44.386Z"
   },
   {
    "duration": 4,
    "start_time": "2025-04-22T04:45:25.755Z"
   },
   {
    "duration": 4,
    "start_time": "2025-04-22T04:45:34.055Z"
   },
   {
    "duration": 32,
    "start_time": "2025-04-22T04:45:46.433Z"
   },
   {
    "duration": 31,
    "start_time": "2025-04-22T04:48:25.363Z"
   },
   {
    "duration": 14,
    "start_time": "2025-04-22T04:48:43.273Z"
   },
   {
    "duration": 31,
    "start_time": "2025-04-22T04:50:13.055Z"
   },
   {
    "duration": 28,
    "start_time": "2025-04-22T04:50:44.999Z"
   },
   {
    "duration": 41,
    "start_time": "2025-04-22T04:52:33.399Z"
   },
   {
    "duration": 33,
    "start_time": "2025-04-22T04:54:53.462Z"
   },
   {
    "duration": 35,
    "start_time": "2025-04-22T04:55:12.795Z"
   },
   {
    "duration": 38,
    "start_time": "2025-04-22T04:56:37.503Z"
   },
   {
    "duration": 46,
    "start_time": "2025-04-22T04:57:02.796Z"
   },
   {
    "duration": 4,
    "start_time": "2025-04-22T04:59:40.799Z"
   },
   {
    "duration": 7,
    "start_time": "2025-04-22T05:17:06.713Z"
   },
   {
    "duration": 5,
    "start_time": "2025-04-22T05:18:11.633Z"
   },
   {
    "duration": 294,
    "start_time": "2025-04-22T05:18:19.249Z"
   },
   {
    "duration": 1080,
    "start_time": "2025-04-22T05:18:19.545Z"
   },
   {
    "duration": 12,
    "start_time": "2025-04-22T05:18:20.629Z"
   },
   {
    "duration": 10,
    "start_time": "2025-04-22T05:18:20.643Z"
   },
   {
    "duration": 21,
    "start_time": "2025-04-22T05:18:20.654Z"
   },
   {
    "duration": 11,
    "start_time": "2025-04-22T05:18:20.677Z"
   },
   {
    "duration": 8,
    "start_time": "2025-04-22T05:18:20.691Z"
   },
   {
    "duration": 114,
    "start_time": "2025-04-22T05:18:20.704Z"
   },
   {
    "duration": 8,
    "start_time": "2025-04-22T05:18:20.820Z"
   },
   {
    "duration": 117,
    "start_time": "2025-04-22T05:18:20.832Z"
   },
   {
    "duration": 103,
    "start_time": "2025-04-22T05:18:20.951Z"
   },
   {
    "duration": 40,
    "start_time": "2025-04-22T05:18:21.056Z"
   },
   {
    "duration": 13,
    "start_time": "2025-04-22T05:18:21.099Z"
   },
   {
    "duration": 4,
    "start_time": "2025-04-22T05:18:21.115Z"
   },
   {
    "duration": 20,
    "start_time": "2025-04-22T05:18:21.121Z"
   },
   {
    "duration": 36,
    "start_time": "2025-04-22T05:18:21.144Z"
   },
   {
    "duration": 5,
    "start_time": "2025-04-22T05:18:21.181Z"
   },
   {
    "duration": 8,
    "start_time": "2025-04-22T05:18:21.187Z"
   },
   {
    "duration": 3,
    "start_time": "2025-04-22T05:18:21.197Z"
   },
   {
    "duration": 3,
    "start_time": "2025-04-22T05:18:21.202Z"
   },
   {
    "duration": 933,
    "start_time": "2025-04-22T05:18:21.206Z"
   },
   {
    "duration": 57,
    "start_time": "2025-04-22T05:18:22.141Z"
   },
   {
    "duration": 11,
    "start_time": "2025-04-22T05:18:22.202Z"
   },
   {
    "duration": 6,
    "start_time": "2025-04-22T05:18:22.216Z"
   },
   {
    "duration": 6,
    "start_time": "2025-04-22T05:18:22.224Z"
   },
   {
    "duration": 6,
    "start_time": "2025-04-22T05:18:22.231Z"
   },
   {
    "duration": 12,
    "start_time": "2025-04-22T05:18:22.238Z"
   },
   {
    "duration": 9,
    "start_time": "2025-04-22T05:18:22.274Z"
   },
   {
    "duration": 6,
    "start_time": "2025-04-22T05:18:22.285Z"
   },
   {
    "duration": 27,
    "start_time": "2025-04-22T05:18:22.293Z"
   },
   {
    "duration": 56,
    "start_time": "2025-04-22T05:18:22.322Z"
   },
   {
    "duration": 23,
    "start_time": "2025-04-22T05:18:22.383Z"
   },
   {
    "duration": 22,
    "start_time": "2025-04-22T05:18:22.408Z"
   },
   {
    "duration": 66,
    "start_time": "2025-04-22T05:18:22.431Z"
   },
   {
    "duration": 18,
    "start_time": "2025-04-22T05:18:22.499Z"
   },
   {
    "duration": 14,
    "start_time": "2025-04-22T05:18:22.518Z"
   },
   {
    "duration": 373,
    "start_time": "2025-04-22T05:18:22.533Z"
   },
   {
    "duration": 141,
    "start_time": "2025-04-22T05:18:22.908Z"
   },
   {
    "duration": 244,
    "start_time": "2025-04-22T05:18:23.051Z"
   },
   {
    "duration": 191,
    "start_time": "2025-04-22T05:18:23.297Z"
   },
   {
    "duration": 195,
    "start_time": "2025-04-22T05:18:23.490Z"
   },
   {
    "duration": 9,
    "start_time": "2025-04-22T05:18:23.688Z"
   },
   {
    "duration": 240,
    "start_time": "2025-04-22T05:18:23.701Z"
   },
   {
    "duration": 53,
    "start_time": "2025-04-22T05:18:23.943Z"
   },
   {
    "duration": 389,
    "start_time": "2025-04-22T05:18:23.998Z"
   },
   {
    "duration": 208,
    "start_time": "2025-04-22T05:18:24.389Z"
   },
   {
    "duration": 4,
    "start_time": "2025-04-22T05:18:24.599Z"
   },
   {
    "duration": 7,
    "start_time": "2025-04-22T05:18:33.547Z"
   },
   {
    "duration": 6,
    "start_time": "2025-04-22T05:18:38.963Z"
   },
   {
    "duration": 7,
    "start_time": "2025-04-22T05:18:40.007Z"
   },
   {
    "duration": 7,
    "start_time": "2025-04-22T05:18:50.305Z"
   },
   {
    "duration": 317,
    "start_time": "2025-04-22T05:18:59.681Z"
   },
   {
    "duration": 968,
    "start_time": "2025-04-22T05:19:00.000Z"
   },
   {
    "duration": 14,
    "start_time": "2025-04-22T05:19:00.969Z"
   },
   {
    "duration": 10,
    "start_time": "2025-04-22T05:19:00.986Z"
   },
   {
    "duration": 9,
    "start_time": "2025-04-22T05:19:00.998Z"
   },
   {
    "duration": 8,
    "start_time": "2025-04-22T05:19:01.010Z"
   },
   {
    "duration": 7,
    "start_time": "2025-04-22T05:19:01.020Z"
   },
   {
    "duration": 136,
    "start_time": "2025-04-22T05:19:01.029Z"
   },
   {
    "duration": 11,
    "start_time": "2025-04-22T05:19:01.166Z"
   },
   {
    "duration": 127,
    "start_time": "2025-04-22T05:19:01.188Z"
   },
   {
    "duration": 104,
    "start_time": "2025-04-22T05:19:01.317Z"
   },
   {
    "duration": 29,
    "start_time": "2025-04-22T05:19:01.423Z"
   },
   {
    "duration": 23,
    "start_time": "2025-04-22T05:19:01.454Z"
   },
   {
    "duration": 4,
    "start_time": "2025-04-22T05:19:01.478Z"
   },
   {
    "duration": 29,
    "start_time": "2025-04-22T05:19:01.485Z"
   },
   {
    "duration": 22,
    "start_time": "2025-04-22T05:19:01.516Z"
   },
   {
    "duration": 3,
    "start_time": "2025-04-22T05:19:01.539Z"
   },
   {
    "duration": 3,
    "start_time": "2025-04-22T05:19:01.544Z"
   },
   {
    "duration": 5,
    "start_time": "2025-04-22T05:19:01.571Z"
   },
   {
    "duration": 3,
    "start_time": "2025-04-22T05:19:01.578Z"
   },
   {
    "duration": 849,
    "start_time": "2025-04-22T05:19:01.583Z"
   },
   {
    "duration": 46,
    "start_time": "2025-04-22T05:19:02.434Z"
   },
   {
    "duration": 8,
    "start_time": "2025-04-22T05:19:02.482Z"
   },
   {
    "duration": 9,
    "start_time": "2025-04-22T05:19:02.492Z"
   },
   {
    "duration": 7,
    "start_time": "2025-04-22T05:19:02.503Z"
   },
   {
    "duration": 6,
    "start_time": "2025-04-22T05:19:02.514Z"
   },
   {
    "duration": 11,
    "start_time": "2025-04-22T05:19:02.521Z"
   },
   {
    "duration": 34,
    "start_time": "2025-04-22T05:19:02.537Z"
   },
   {
    "duration": 6,
    "start_time": "2025-04-22T05:19:02.573Z"
   },
   {
    "duration": 16,
    "start_time": "2025-04-22T05:19:02.581Z"
   },
   {
    "duration": 38,
    "start_time": "2025-04-22T05:19:02.599Z"
   },
   {
    "duration": 39,
    "start_time": "2025-04-22T05:19:02.639Z"
   },
   {
    "duration": 23,
    "start_time": "2025-04-22T05:19:02.680Z"
   },
   {
    "duration": 41,
    "start_time": "2025-04-22T05:19:02.705Z"
   },
   {
    "duration": 36,
    "start_time": "2025-04-22T05:19:02.748Z"
   },
   {
    "duration": 16,
    "start_time": "2025-04-22T05:19:02.786Z"
   },
   {
    "duration": 388,
    "start_time": "2025-04-22T05:19:02.804Z"
   },
   {
    "duration": 140,
    "start_time": "2025-04-22T05:19:03.194Z"
   },
   {
    "duration": 251,
    "start_time": "2025-04-22T05:19:03.335Z"
   },
   {
    "duration": 206,
    "start_time": "2025-04-22T05:19:03.588Z"
   },
   {
    "duration": 217,
    "start_time": "2025-04-22T05:19:03.796Z"
   },
   {
    "duration": 7,
    "start_time": "2025-04-22T05:19:04.015Z"
   },
   {
    "duration": 272,
    "start_time": "2025-04-22T05:19:04.024Z"
   },
   {
    "duration": 50,
    "start_time": "2025-04-22T05:19:04.298Z"
   },
   {
    "duration": 378,
    "start_time": "2025-04-22T05:19:04.350Z"
   },
   {
    "duration": 193,
    "start_time": "2025-04-22T05:19:04.730Z"
   },
   {
    "duration": 4,
    "start_time": "2025-04-22T05:19:04.925Z"
   },
   {
    "duration": 317,
    "start_time": "2025-04-22T05:19:40.338Z"
   },
   {
    "duration": 992,
    "start_time": "2025-04-22T05:19:40.657Z"
   },
   {
    "duration": 12,
    "start_time": "2025-04-22T05:19:41.651Z"
   },
   {
    "duration": 16,
    "start_time": "2025-04-22T05:19:41.666Z"
   },
   {
    "duration": 9,
    "start_time": "2025-04-22T05:19:41.684Z"
   },
   {
    "duration": 10,
    "start_time": "2025-04-22T05:19:41.695Z"
   },
   {
    "duration": 11,
    "start_time": "2025-04-22T05:19:41.709Z"
   },
   {
    "duration": 134,
    "start_time": "2025-04-22T05:19:41.721Z"
   },
   {
    "duration": 15,
    "start_time": "2025-04-22T05:19:41.856Z"
   },
   {
    "duration": 122,
    "start_time": "2025-04-22T05:19:41.878Z"
   },
   {
    "duration": 101,
    "start_time": "2025-04-22T05:19:42.005Z"
   },
   {
    "duration": 32,
    "start_time": "2025-04-22T05:19:42.108Z"
   },
   {
    "duration": 12,
    "start_time": "2025-04-22T05:19:42.142Z"
   },
   {
    "duration": 16,
    "start_time": "2025-04-22T05:19:42.155Z"
   },
   {
    "duration": 28,
    "start_time": "2025-04-22T05:19:42.172Z"
   },
   {
    "duration": 25,
    "start_time": "2025-04-22T05:19:42.202Z"
   },
   {
    "duration": 4,
    "start_time": "2025-04-22T05:19:42.228Z"
   },
   {
    "duration": 3,
    "start_time": "2025-04-22T05:19:42.234Z"
   },
   {
    "duration": 31,
    "start_time": "2025-04-22T05:19:42.238Z"
   },
   {
    "duration": 3,
    "start_time": "2025-04-22T05:19:42.272Z"
   },
   {
    "duration": 910,
    "start_time": "2025-04-22T05:19:42.277Z"
   },
   {
    "duration": 49,
    "start_time": "2025-04-22T05:19:43.189Z"
   },
   {
    "duration": 7,
    "start_time": "2025-04-22T05:19:43.239Z"
   },
   {
    "duration": 23,
    "start_time": "2025-04-22T05:19:43.248Z"
   },
   {
    "duration": 7,
    "start_time": "2025-04-22T05:19:43.277Z"
   },
   {
    "duration": 10,
    "start_time": "2025-04-22T05:19:43.287Z"
   },
   {
    "duration": 15,
    "start_time": "2025-04-22T05:19:43.301Z"
   },
   {
    "duration": 9,
    "start_time": "2025-04-22T05:19:43.320Z"
   },
   {
    "duration": 5,
    "start_time": "2025-04-22T05:19:43.331Z"
   },
   {
    "duration": 49,
    "start_time": "2025-04-22T05:19:43.338Z"
   },
   {
    "duration": 42,
    "start_time": "2025-04-22T05:19:43.389Z"
   },
   {
    "duration": 18,
    "start_time": "2025-04-22T05:19:43.433Z"
   },
   {
    "duration": 33,
    "start_time": "2025-04-22T05:19:43.453Z"
   },
   {
    "duration": 39,
    "start_time": "2025-04-22T05:19:43.488Z"
   },
   {
    "duration": 13,
    "start_time": "2025-04-22T05:19:43.529Z"
   },
   {
    "duration": 34,
    "start_time": "2025-04-22T05:19:43.544Z"
   },
   {
    "duration": 405,
    "start_time": "2025-04-22T05:19:43.580Z"
   },
   {
    "duration": 147,
    "start_time": "2025-04-22T05:19:43.987Z"
   },
   {
    "duration": 243,
    "start_time": "2025-04-22T05:19:44.136Z"
   },
   {
    "duration": 191,
    "start_time": "2025-04-22T05:19:44.381Z"
   },
   {
    "duration": 205,
    "start_time": "2025-04-22T05:19:44.574Z"
   },
   {
    "duration": 8,
    "start_time": "2025-04-22T05:19:44.781Z"
   },
   {
    "duration": 237,
    "start_time": "2025-04-22T05:19:44.791Z"
   },
   {
    "duration": 59,
    "start_time": "2025-04-22T05:19:45.030Z"
   },
   {
    "duration": 379,
    "start_time": "2025-04-22T05:19:45.091Z"
   },
   {
    "duration": 199,
    "start_time": "2025-04-22T05:19:45.472Z"
   },
   {
    "duration": 5,
    "start_time": "2025-04-22T05:19:45.673Z"
   },
   {
    "duration": 6,
    "start_time": "2025-04-22T05:20:52.819Z"
   },
   {
    "duration": 351,
    "start_time": "2025-04-22T05:21:02.871Z"
   },
   {
    "duration": 1069,
    "start_time": "2025-04-22T05:21:03.224Z"
   },
   {
    "duration": 21,
    "start_time": "2025-04-22T05:21:04.294Z"
   },
   {
    "duration": 10,
    "start_time": "2025-04-22T05:21:04.319Z"
   },
   {
    "duration": 8,
    "start_time": "2025-04-22T05:21:04.330Z"
   },
   {
    "duration": 9,
    "start_time": "2025-04-22T05:21:04.339Z"
   },
   {
    "duration": 23,
    "start_time": "2025-04-22T05:21:04.349Z"
   },
   {
    "duration": 122,
    "start_time": "2025-04-22T05:21:04.374Z"
   },
   {
    "duration": 16,
    "start_time": "2025-04-22T05:21:04.498Z"
   },
   {
    "duration": 121,
    "start_time": "2025-04-22T05:21:04.518Z"
   },
   {
    "duration": 116,
    "start_time": "2025-04-22T05:21:04.643Z"
   },
   {
    "duration": 36,
    "start_time": "2025-04-22T05:21:04.761Z"
   },
   {
    "duration": 17,
    "start_time": "2025-04-22T05:21:04.798Z"
   },
   {
    "duration": 3,
    "start_time": "2025-04-22T05:21:04.816Z"
   },
   {
    "duration": 18,
    "start_time": "2025-04-22T05:21:04.821Z"
   },
   {
    "duration": 53,
    "start_time": "2025-04-22T05:21:04.841Z"
   },
   {
    "duration": 6,
    "start_time": "2025-04-22T05:21:04.896Z"
   },
   {
    "duration": 5,
    "start_time": "2025-04-22T05:21:04.904Z"
   },
   {
    "duration": 4,
    "start_time": "2025-04-22T05:21:04.912Z"
   },
   {
    "duration": 4,
    "start_time": "2025-04-22T05:21:04.917Z"
   },
   {
    "duration": 910,
    "start_time": "2025-04-22T05:21:04.922Z"
   },
   {
    "duration": 53,
    "start_time": "2025-04-22T05:21:05.834Z"
   },
   {
    "duration": 8,
    "start_time": "2025-04-22T05:21:05.890Z"
   },
   {
    "duration": 7,
    "start_time": "2025-04-22T05:21:05.899Z"
   },
   {
    "duration": 7,
    "start_time": "2025-04-22T05:21:05.908Z"
   },
   {
    "duration": 9,
    "start_time": "2025-04-22T05:21:05.916Z"
   },
   {
    "duration": 12,
    "start_time": "2025-04-22T05:21:05.927Z"
   },
   {
    "duration": 34,
    "start_time": "2025-04-22T05:21:05.943Z"
   },
   {
    "duration": 6,
    "start_time": "2025-04-22T05:21:05.980Z"
   },
   {
    "duration": 22,
    "start_time": "2025-04-22T05:21:05.988Z"
   },
   {
    "duration": 35,
    "start_time": "2025-04-22T05:21:06.012Z"
   },
   {
    "duration": 24,
    "start_time": "2025-04-22T05:21:06.069Z"
   },
   {
    "duration": 23,
    "start_time": "2025-04-22T05:21:06.095Z"
   },
   {
    "duration": 73,
    "start_time": "2025-04-22T05:21:06.119Z"
   },
   {
    "duration": 18,
    "start_time": "2025-04-22T05:21:06.194Z"
   },
   {
    "duration": 15,
    "start_time": "2025-04-22T05:21:06.214Z"
   },
   {
    "duration": 410,
    "start_time": "2025-04-22T05:21:06.230Z"
   },
   {
    "duration": 149,
    "start_time": "2025-04-22T05:21:06.642Z"
   },
   {
    "duration": 243,
    "start_time": "2025-04-22T05:21:06.797Z"
   },
   {
    "duration": 206,
    "start_time": "2025-04-22T05:21:07.042Z"
   },
   {
    "duration": 208,
    "start_time": "2025-04-22T05:21:07.250Z"
   },
   {
    "duration": 13,
    "start_time": "2025-04-22T05:21:07.459Z"
   },
   {
    "duration": 257,
    "start_time": "2025-04-22T05:21:07.474Z"
   },
   {
    "duration": 55,
    "start_time": "2025-04-22T05:21:07.733Z"
   },
   {
    "duration": 366,
    "start_time": "2025-04-22T05:21:07.790Z"
   },
   {
    "duration": 179,
    "start_time": "2025-04-22T05:21:08.158Z"
   },
   {
    "duration": 4,
    "start_time": "2025-04-22T05:21:08.339Z"
   },
   {
    "duration": 5,
    "start_time": "2025-04-22T05:22:19.901Z"
   },
   {
    "duration": 3,
    "start_time": "2025-04-22T05:22:27.634Z"
   },
   {
    "duration": 4,
    "start_time": "2025-04-22T05:22:29.885Z"
   },
   {
    "duration": 6,
    "start_time": "2025-04-22T05:22:43.507Z"
   },
   {
    "duration": 876,
    "start_time": "2025-04-22T05:23:13.302Z"
   },
   {
    "duration": 38,
    "start_time": "2025-04-22T05:23:26.717Z"
   },
   {
    "duration": 5,
    "start_time": "2025-04-22T05:23:36.242Z"
   },
   {
    "duration": 5,
    "start_time": "2025-04-22T05:24:09.215Z"
   },
   {
    "duration": 2,
    "start_time": "2025-04-22T05:27:01.451Z"
   },
   {
    "duration": 4,
    "start_time": "2025-04-22T05:27:07.387Z"
   },
   {
    "duration": 3,
    "start_time": "2025-04-22T05:27:08.925Z"
   },
   {
    "duration": 3,
    "start_time": "2025-04-22T05:27:15.890Z"
   },
   {
    "duration": 3,
    "start_time": "2025-04-22T05:27:43.947Z"
   },
   {
    "duration": 5,
    "start_time": "2025-04-22T05:27:55.522Z"
   },
   {
    "duration": 3,
    "start_time": "2025-04-22T05:28:06.888Z"
   },
   {
    "duration": 3,
    "start_time": "2025-04-22T05:28:08.522Z"
   },
   {
    "duration": 4,
    "start_time": "2025-04-22T05:28:36.890Z"
   },
   {
    "duration": 28,
    "start_time": "2025-04-22T05:30:31.574Z"
   },
   {
    "duration": 12,
    "start_time": "2025-04-22T05:30:59.940Z"
   },
   {
    "duration": 12,
    "start_time": "2025-04-22T05:31:54.253Z"
   },
   {
    "duration": 317,
    "start_time": "2025-04-22T05:36:42.666Z"
   },
   {
    "duration": 13,
    "start_time": "2025-04-22T05:37:31.912Z"
   },
   {
    "duration": 12,
    "start_time": "2025-04-22T05:37:53.403Z"
   },
   {
    "duration": 13,
    "start_time": "2025-04-22T05:39:24.635Z"
   },
   {
    "duration": 12,
    "start_time": "2025-04-22T05:41:48.611Z"
   },
   {
    "duration": 12,
    "start_time": "2025-04-22T05:42:25.361Z"
   },
   {
    "duration": 13,
    "start_time": "2025-04-22T05:43:55.445Z"
   },
   {
    "duration": 12,
    "start_time": "2025-04-22T05:44:26.979Z"
   },
   {
    "duration": 14,
    "start_time": "2025-04-22T05:45:48.471Z"
   },
   {
    "duration": 13,
    "start_time": "2025-04-22T05:46:53.314Z"
   },
   {
    "duration": 14,
    "start_time": "2025-04-22T05:47:08.943Z"
   },
   {
    "duration": 14,
    "start_time": "2025-04-22T05:48:21.470Z"
   },
   {
    "duration": 14,
    "start_time": "2025-04-22T05:48:30.675Z"
   },
   {
    "duration": 14,
    "start_time": "2025-04-22T05:50:16.631Z"
   },
   {
    "duration": 14,
    "start_time": "2025-04-22T05:50:32.421Z"
   },
   {
    "duration": 13,
    "start_time": "2025-04-22T05:54:54.030Z"
   },
   {
    "duration": 11,
    "start_time": "2025-04-22T06:01:31.466Z"
   },
   {
    "duration": 5,
    "start_time": "2025-04-22T06:01:37.031Z"
   },
   {
    "duration": 11,
    "start_time": "2025-04-22T06:03:51.240Z"
   },
   {
    "duration": 5,
    "start_time": "2025-04-22T06:04:14.596Z"
   },
   {
    "duration": 29,
    "start_time": "2025-04-22T06:04:51.947Z"
   },
   {
    "duration": 11,
    "start_time": "2025-04-22T06:05:51.076Z"
   },
   {
    "duration": 5,
    "start_time": "2025-04-22T06:05:59.110Z"
   },
   {
    "duration": 12,
    "start_time": "2025-04-22T06:20:52.265Z"
   },
   {
    "duration": 13,
    "start_time": "2025-04-22T06:21:02.558Z"
   },
   {
    "duration": 12,
    "start_time": "2025-04-22T06:21:08.436Z"
   },
   {
    "duration": 12,
    "start_time": "2025-04-22T06:21:09.752Z"
   },
   {
    "duration": 12,
    "start_time": "2025-04-22T06:21:10.898Z"
   },
   {
    "duration": 11,
    "start_time": "2025-04-22T06:21:13.919Z"
   },
   {
    "duration": 10,
    "start_time": "2025-04-22T06:21:21.279Z"
   },
   {
    "duration": 5,
    "start_time": "2025-04-22T06:33:58.416Z"
   },
   {
    "duration": 96,
    "start_time": "2025-04-22T06:39:44.863Z"
   },
   {
    "duration": 77,
    "start_time": "2025-04-22T06:42:29.182Z"
   },
   {
    "duration": 18,
    "start_time": "2025-04-22T06:42:34.568Z"
   },
   {
    "duration": 1910,
    "start_time": "2025-04-22T06:42:43.093Z"
   },
   {
    "duration": 34,
    "start_time": "2025-04-22T06:47:25.806Z"
   },
   {
    "duration": 28,
    "start_time": "2025-04-22T06:47:55.228Z"
   },
   {
    "duration": 262,
    "start_time": "2025-04-22T06:50:23.536Z"
   },
   {
    "duration": 260,
    "start_time": "2025-04-22T06:54:09.839Z"
   },
   {
    "duration": 255,
    "start_time": "2025-04-22T06:55:47.951Z"
   },
   {
    "duration": 254,
    "start_time": "2025-04-22T06:56:09.097Z"
   },
   {
    "duration": 258,
    "start_time": "2025-04-22T06:58:20.254Z"
   },
   {
    "duration": 255,
    "start_time": "2025-04-22T06:58:49.662Z"
   },
   {
    "duration": 90,
    "start_time": "2025-04-22T06:59:11.043Z"
   },
   {
    "duration": 93,
    "start_time": "2025-04-22T06:59:46.164Z"
   },
   {
    "duration": 259,
    "start_time": "2025-04-22T07:01:27.870Z"
   },
   {
    "duration": 311,
    "start_time": "2025-04-22T07:01:59.732Z"
   },
   {
    "duration": 310,
    "start_time": "2025-04-22T07:02:04.595Z"
   },
   {
    "duration": 274,
    "start_time": "2025-04-22T07:02:23.819Z"
   },
   {
    "duration": 297,
    "start_time": "2025-04-22T07:03:21.601Z"
   },
   {
    "duration": 277,
    "start_time": "2025-04-22T07:03:42.405Z"
   },
   {
    "duration": 254,
    "start_time": "2025-04-22T07:03:59.288Z"
   },
   {
    "duration": 249,
    "start_time": "2025-04-22T07:04:18.579Z"
   },
   {
    "duration": 246,
    "start_time": "2025-04-22T07:04:31.924Z"
   },
   {
    "duration": 261,
    "start_time": "2025-04-22T07:07:31.554Z"
   },
   {
    "duration": 257,
    "start_time": "2025-04-22T07:07:56.558Z"
   },
   {
    "duration": 260,
    "start_time": "2025-04-22T07:08:06.398Z"
   },
   {
    "duration": 245,
    "start_time": "2025-04-22T07:09:10.597Z"
   },
   {
    "duration": 248,
    "start_time": "2025-04-22T07:09:22.464Z"
   },
   {
    "duration": 279,
    "start_time": "2025-04-22T07:13:26.086Z"
   },
   {
    "duration": 381,
    "start_time": "2025-04-22T07:13:45.374Z"
   },
   {
    "duration": 4,
    "start_time": "2025-04-22T07:15:27.937Z"
   },
   {
    "duration": 260,
    "start_time": "2025-04-22T07:15:34.207Z"
   },
   {
    "duration": 500,
    "start_time": "2025-04-22T07:16:17.817Z"
   },
   {
    "duration": 504,
    "start_time": "2025-04-22T07:17:19.419Z"
   },
   {
    "duration": 266,
    "start_time": "2025-04-22T07:17:49.105Z"
   },
   {
    "duration": 264,
    "start_time": "2025-04-22T07:18:24.131Z"
   },
   {
    "duration": 252,
    "start_time": "2025-04-22T07:18:48.427Z"
   },
   {
    "duration": 251,
    "start_time": "2025-04-22T07:19:53.346Z"
   },
   {
    "duration": 4,
    "start_time": "2025-04-22T07:20:46.284Z"
   },
   {
    "duration": 173,
    "start_time": "2025-04-22T07:27:09.968Z"
   },
   {
    "duration": 141,
    "start_time": "2025-04-22T07:33:06.016Z"
   },
   {
    "duration": 539,
    "start_time": "2025-04-22T07:36:26.366Z"
   },
   {
    "duration": 503,
    "start_time": "2025-04-22T07:36:58.603Z"
   },
   {
    "duration": 560,
    "start_time": "2025-04-22T07:37:07.407Z"
   },
   {
    "duration": 1010,
    "start_time": "2025-04-22T07:37:18.928Z"
   },
   {
    "duration": 1277,
    "start_time": "2025-04-22T07:39:10.318Z"
   },
   {
    "duration": 212,
    "start_time": "2025-04-22T07:39:23.459Z"
   },
   {
    "duration": 516,
    "start_time": "2025-04-22T07:43:41.578Z"
   },
   {
    "duration": 710,
    "start_time": "2025-04-22T07:44:56.871Z"
   },
   {
    "duration": 174,
    "start_time": "2025-04-22T07:46:55.275Z"
   },
   {
    "duration": 568,
    "start_time": "2025-04-22T07:47:25.727Z"
   },
   {
    "duration": 5,
    "start_time": "2025-04-22T07:49:01.891Z"
   },
   {
    "duration": 184,
    "start_time": "2025-04-22T07:49:04.559Z"
   },
   {
    "duration": 546,
    "start_time": "2025-04-22T07:52:14.898Z"
   },
   {
    "duration": 554,
    "start_time": "2025-04-22T07:59:46.079Z"
   },
   {
    "duration": 541,
    "start_time": "2025-04-22T08:02:12.586Z"
   },
   {
    "duration": 543,
    "start_time": "2025-04-22T08:02:43.014Z"
   },
   {
    "duration": 4,
    "start_time": "2025-04-22T08:03:01.978Z"
   },
   {
    "duration": 3,
    "start_time": "2025-04-22T08:03:15.902Z"
   },
   {
    "duration": 5,
    "start_time": "2025-04-22T08:03:19.806Z"
   },
   {
    "duration": 561,
    "start_time": "2025-04-22T08:03:39.797Z"
   },
   {
    "duration": 52,
    "start_time": "2025-04-22T08:05:00.332Z"
   },
   {
    "duration": 588,
    "start_time": "2025-04-22T08:05:19.134Z"
   },
   {
    "duration": 593,
    "start_time": "2025-04-22T08:05:59.307Z"
   },
   {
    "duration": 801,
    "start_time": "2025-04-22T08:06:12.018Z"
   },
   {
    "duration": 605,
    "start_time": "2025-04-22T08:07:03.554Z"
   },
   {
    "duration": 619,
    "start_time": "2025-04-22T08:07:13.378Z"
   },
   {
    "duration": 57,
    "start_time": "2025-04-22T08:07:29.644Z"
   },
   {
    "duration": 539,
    "start_time": "2025-04-22T08:07:50.782Z"
   },
   {
    "duration": 585,
    "start_time": "2025-04-22T08:09:01.835Z"
   },
   {
    "duration": 582,
    "start_time": "2025-04-22T08:09:24.069Z"
   },
   {
    "duration": 555,
    "start_time": "2025-04-22T08:10:42.830Z"
   },
   {
    "duration": 559,
    "start_time": "2025-04-22T08:11:53.899Z"
   },
   {
    "duration": 12,
    "start_time": "2025-04-22T08:14:16.647Z"
   },
   {
    "duration": 566,
    "start_time": "2025-04-22T08:14:26.278Z"
   },
   {
    "duration": 74,
    "start_time": "2025-04-22T08:22:36.377Z"
   },
   {
    "duration": 72,
    "start_time": "2025-04-22T08:22:51.934Z"
   },
   {
    "duration": 150,
    "start_time": "2025-04-22T08:23:30.070Z"
   },
   {
    "duration": 4,
    "start_time": "2025-04-22T08:24:03.042Z"
   },
   {
    "duration": 3,
    "start_time": "2025-04-22T08:30:29.054Z"
   },
   {
    "duration": 58,
    "start_time": "2025-04-22T08:32:10.052Z"
   },
   {
    "duration": 73,
    "start_time": "2025-04-22T08:34:21.027Z"
   },
   {
    "duration": 123,
    "start_time": "2025-04-22T08:34:31.812Z"
   },
   {
    "duration": 110,
    "start_time": "2025-04-22T08:34:45.683Z"
   },
   {
    "duration": 55,
    "start_time": "2025-04-22T08:37:44.951Z"
   },
   {
    "duration": 106,
    "start_time": "2025-04-22T08:40:19.403Z"
   },
   {
    "duration": 124,
    "start_time": "2025-04-22T08:41:43.034Z"
   },
   {
    "duration": 3,
    "start_time": "2025-04-22T08:42:51.888Z"
   },
   {
    "duration": 156,
    "start_time": "2025-04-22T08:43:01.118Z"
   },
   {
    "duration": 121,
    "start_time": "2025-04-22T08:43:13.169Z"
   },
   {
    "duration": 110,
    "start_time": "2025-04-22T08:43:28.893Z"
   },
   {
    "duration": 119,
    "start_time": "2025-04-22T08:46:45.036Z"
   },
   {
    "duration": 104,
    "start_time": "2025-04-22T08:47:48.949Z"
   },
   {
    "duration": 129,
    "start_time": "2025-04-22T08:48:18.508Z"
   },
   {
    "duration": 115,
    "start_time": "2025-04-22T08:49:07.024Z"
   },
   {
    "duration": 107,
    "start_time": "2025-04-22T08:49:36.416Z"
   },
   {
    "duration": 116,
    "start_time": "2025-04-22T08:50:52.685Z"
   },
   {
    "duration": 65,
    "start_time": "2025-04-22T08:58:05.802Z"
   },
   {
    "duration": 12,
    "start_time": "2025-04-22T08:59:40.488Z"
   },
   {
    "duration": 13,
    "start_time": "2025-04-22T09:03:53.702Z"
   },
   {
    "duration": 12,
    "start_time": "2025-04-22T09:04:03.729Z"
   },
   {
    "duration": 13,
    "start_time": "2025-04-22T09:05:15.090Z"
   },
   {
    "duration": 5,
    "start_time": "2025-04-22T09:05:21.277Z"
   },
   {
    "duration": 11,
    "start_time": "2025-04-22T09:05:44.667Z"
   },
   {
    "duration": 5,
    "start_time": "2025-04-22T09:05:46.817Z"
   },
   {
    "duration": 3,
    "start_time": "2025-04-22T09:15:54.002Z"
   },
   {
    "duration": 4,
    "start_time": "2025-04-22T09:15:58.386Z"
   },
   {
    "duration": 83,
    "start_time": "2025-04-22T09:27:19.690Z"
   },
   {
    "duration": 85,
    "start_time": "2025-04-22T09:29:29.661Z"
   },
   {
    "duration": 86,
    "start_time": "2025-04-22T09:32:58.268Z"
   },
   {
    "duration": 84,
    "start_time": "2025-04-22T09:33:18.999Z"
   },
   {
    "duration": 87,
    "start_time": "2025-04-22T09:37:51.334Z"
   },
   {
    "duration": 89,
    "start_time": "2025-04-22T09:38:16.386Z"
   },
   {
    "duration": 84,
    "start_time": "2025-04-22T09:38:39.172Z"
   },
   {
    "duration": 182,
    "start_time": "2025-04-22T09:41:21.984Z"
   },
   {
    "duration": 182,
    "start_time": "2025-04-22T09:45:15.486Z"
   },
   {
    "duration": 187,
    "start_time": "2025-04-22T09:48:30.206Z"
   },
   {
    "duration": 3,
    "start_time": "2025-04-22T09:51:20.853Z"
   },
   {
    "duration": 184,
    "start_time": "2025-04-22T09:51:45.430Z"
   },
   {
    "duration": 4,
    "start_time": "2025-04-22T10:03:58.548Z"
   },
   {
    "duration": 12,
    "start_time": "2025-04-22T10:04:51.146Z"
   },
   {
    "duration": 14,
    "start_time": "2025-04-22T10:06:04.267Z"
   },
   {
    "duration": 3,
    "start_time": "2025-04-22T10:07:00.310Z"
   },
   {
    "duration": 3,
    "start_time": "2025-04-22T10:08:15.986Z"
   },
   {
    "duration": 4,
    "start_time": "2025-04-22T10:08:24.898Z"
   },
   {
    "duration": 162,
    "start_time": "2025-04-22T10:08:43.612Z"
   },
   {
    "duration": 6,
    "start_time": "2025-04-22T10:15:47.657Z"
   },
   {
    "duration": 870,
    "start_time": "2025-04-22T10:15:58.057Z"
   },
   {
    "duration": 202,
    "start_time": "2025-04-22T10:16:46.708Z"
   },
   {
    "duration": 3,
    "start_time": "2025-04-22T10:16:52.259Z"
   },
   {
    "duration": 2,
    "start_time": "2025-04-22T10:16:55.343Z"
   },
   {
    "duration": 3,
    "start_time": "2025-04-22T10:17:08.267Z"
   },
   {
    "duration": 3,
    "start_time": "2025-04-22T10:17:09.953Z"
   },
   {
    "duration": 3,
    "start_time": "2025-04-22T10:17:21.502Z"
   },
   {
    "duration": 187,
    "start_time": "2025-04-22T10:17:37.028Z"
   },
   {
    "duration": 4,
    "start_time": "2025-04-22T10:17:41.078Z"
   },
   {
    "duration": 2,
    "start_time": "2025-04-22T10:18:18.864Z"
   },
   {
    "duration": 3,
    "start_time": "2025-04-22T10:18:36.944Z"
   },
   {
    "duration": 3,
    "start_time": "2025-04-22T10:19:34.085Z"
   },
   {
    "duration": 3,
    "start_time": "2025-04-22T10:19:35.860Z"
   },
   {
    "duration": 185,
    "start_time": "2025-04-22T10:20:48.152Z"
   },
   {
    "duration": 203,
    "start_time": "2025-04-22T10:20:51.803Z"
   },
   {
    "duration": 183,
    "start_time": "2025-04-22T10:22:40.480Z"
   },
   {
    "duration": 11,
    "start_time": "2025-04-22T10:22:46.566Z"
   },
   {
    "duration": 20,
    "start_time": "2025-04-22T10:29:58.137Z"
   },
   {
    "duration": 60,
    "start_time": "2025-04-22T10:37:22.503Z"
   },
   {
    "duration": 41,
    "start_time": "2025-04-22T10:45:41.535Z"
   },
   {
    "duration": 9,
    "start_time": "2025-04-22T10:46:12.525Z"
   },
   {
    "duration": 42,
    "start_time": "2025-04-22T10:46:17.437Z"
   },
   {
    "duration": 36,
    "start_time": "2025-04-22T10:46:34.628Z"
   },
   {
    "duration": 21,
    "start_time": "2025-04-22T10:46:53.934Z"
   },
   {
    "duration": 56,
    "start_time": "2025-04-22T10:47:31.724Z"
   },
   {
    "duration": 42,
    "start_time": "2025-04-22T10:49:23.702Z"
   },
   {
    "duration": 184,
    "start_time": "2025-04-22T10:49:40.095Z"
   },
   {
    "duration": 43,
    "start_time": "2025-04-22T10:49:43.476Z"
   },
   {
    "duration": 186,
    "start_time": "2025-04-22T10:49:58.116Z"
   },
   {
    "duration": 3106,
    "start_time": "2025-04-22T10:50:02.932Z"
   },
   {
    "duration": 188,
    "start_time": "2025-04-22T10:52:03.150Z"
   },
   {
    "duration": 39,
    "start_time": "2025-04-22T10:52:06.165Z"
   },
   {
    "duration": 38,
    "start_time": "2025-04-22T10:52:19.435Z"
   },
   {
    "duration": 12,
    "start_time": "2025-04-22T10:53:00.902Z"
   },
   {
    "duration": 9,
    "start_time": "2025-04-22T10:53:14.955Z"
   },
   {
    "duration": 8,
    "start_time": "2025-04-22T10:54:34.789Z"
   },
   {
    "duration": 313,
    "start_time": "2025-04-22T10:54:42.309Z"
   },
   {
    "duration": 873,
    "start_time": "2025-04-22T10:54:42.624Z"
   },
   {
    "duration": 12,
    "start_time": "2025-04-22T10:54:43.499Z"
   },
   {
    "duration": 9,
    "start_time": "2025-04-22T10:54:43.513Z"
   },
   {
    "duration": 7,
    "start_time": "2025-04-22T10:54:43.523Z"
   },
   {
    "duration": 7,
    "start_time": "2025-04-22T10:54:43.532Z"
   },
   {
    "duration": 33,
    "start_time": "2025-04-22T10:54:43.541Z"
   },
   {
    "duration": 103,
    "start_time": "2025-04-22T10:54:43.576Z"
   },
   {
    "duration": 9,
    "start_time": "2025-04-22T10:54:43.681Z"
   },
   {
    "duration": 121,
    "start_time": "2025-04-22T10:54:43.693Z"
   },
   {
    "duration": 105,
    "start_time": "2025-04-22T10:54:43.816Z"
   },
   {
    "duration": 29,
    "start_time": "2025-04-22T10:54:43.924Z"
   },
   {
    "duration": 21,
    "start_time": "2025-04-22T10:54:43.955Z"
   },
   {
    "duration": 4,
    "start_time": "2025-04-22T10:54:43.979Z"
   },
   {
    "duration": 20,
    "start_time": "2025-04-22T10:54:43.985Z"
   },
   {
    "duration": 20,
    "start_time": "2025-04-22T10:54:44.007Z"
   },
   {
    "duration": 3,
    "start_time": "2025-04-22T10:54:44.029Z"
   },
   {
    "duration": 4,
    "start_time": "2025-04-22T10:54:44.033Z"
   },
   {
    "duration": 4,
    "start_time": "2025-04-22T10:54:44.070Z"
   },
   {
    "duration": 4,
    "start_time": "2025-04-22T10:54:44.075Z"
   },
   {
    "duration": 788,
    "start_time": "2025-04-22T10:54:44.082Z"
   },
   {
    "duration": 38,
    "start_time": "2025-04-22T10:54:44.871Z"
   },
   {
    "duration": 7,
    "start_time": "2025-04-22T10:54:44.911Z"
   },
   {
    "duration": 6,
    "start_time": "2025-04-22T10:54:44.921Z"
   },
   {
    "duration": 6,
    "start_time": "2025-04-22T10:54:44.928Z"
   },
   {
    "duration": 5,
    "start_time": "2025-04-22T10:54:44.936Z"
   },
   {
    "duration": 11,
    "start_time": "2025-04-22T10:54:44.970Z"
   },
   {
    "duration": 9,
    "start_time": "2025-04-22T10:54:44.986Z"
   },
   {
    "duration": 6,
    "start_time": "2025-04-22T10:54:44.997Z"
   },
   {
    "duration": 15,
    "start_time": "2025-04-22T10:54:45.005Z"
   },
   {
    "duration": 63,
    "start_time": "2025-04-22T10:54:45.022Z"
   },
   {
    "duration": 19,
    "start_time": "2025-04-22T10:54:45.087Z"
   },
   {
    "duration": 18,
    "start_time": "2025-04-22T10:54:45.108Z"
   },
   {
    "duration": 57,
    "start_time": "2025-04-22T10:54:45.128Z"
   },
   {
    "duration": 13,
    "start_time": "2025-04-22T10:54:45.187Z"
   },
   {
    "duration": 12,
    "start_time": "2025-04-22T10:54:45.202Z"
   },
   {
    "duration": 374,
    "start_time": "2025-04-22T10:54:45.216Z"
   },
   {
    "duration": 128,
    "start_time": "2025-04-22T10:54:45.592Z"
   },
   {
    "duration": 219,
    "start_time": "2025-04-22T10:54:45.722Z"
   },
   {
    "duration": 181,
    "start_time": "2025-04-22T10:54:45.943Z"
   },
   {
    "duration": 189,
    "start_time": "2025-04-22T10:54:46.126Z"
   },
   {
    "duration": 6,
    "start_time": "2025-04-22T10:54:46.317Z"
   },
   {
    "duration": 229,
    "start_time": "2025-04-22T10:54:46.326Z"
   },
   {
    "duration": 58,
    "start_time": "2025-04-22T10:54:46.557Z"
   },
   {
    "duration": 366,
    "start_time": "2025-04-22T10:54:46.618Z"
   },
   {
    "duration": 182,
    "start_time": "2025-04-22T10:54:46.986Z"
   },
   {
    "duration": 15,
    "start_time": "2025-04-22T10:54:47.170Z"
   },
   {
    "duration": 5,
    "start_time": "2025-04-22T10:54:47.187Z"
   },
   {
    "duration": 276,
    "start_time": "2025-04-22T10:54:47.194Z"
   },
   {
    "duration": 4,
    "start_time": "2025-04-22T10:54:47.471Z"
   },
   {
    "duration": 612,
    "start_time": "2025-04-22T10:54:47.476Z"
   },
   {
    "duration": 142,
    "start_time": "2025-04-22T10:54:48.090Z"
   },
   {
    "duration": 11,
    "start_time": "2025-04-22T10:54:48.235Z"
   },
   {
    "duration": 3,
    "start_time": "2025-04-22T10:54:48.247Z"
   },
   {
    "duration": 19,
    "start_time": "2025-04-22T10:54:48.251Z"
   },
   {
    "duration": 200,
    "start_time": "2025-04-22T10:54:48.272Z"
   },
   {
    "duration": 9,
    "start_time": "2025-04-22T10:54:48.474Z"
   },
   {
    "duration": 3,
    "start_time": "2025-04-22T10:55:25.184Z"
   },
   {
    "duration": 3,
    "start_time": "2025-04-22T10:56:29.897Z"
   },
   {
    "duration": 3,
    "start_time": "2025-04-22T10:56:31.434Z"
   },
   {
    "duration": 3,
    "start_time": "2025-04-22T10:58:33.091Z"
   },
   {
    "duration": 96,
    "start_time": "2025-04-22T10:59:01.965Z"
   },
   {
    "duration": 3,
    "start_time": "2025-04-22T10:59:57.986Z"
   },
   {
    "duration": 2,
    "start_time": "2025-04-22T11:00:00.435Z"
   },
   {
    "duration": 3,
    "start_time": "2025-04-22T11:00:45.194Z"
   },
   {
    "duration": 3,
    "start_time": "2025-04-22T11:00:46.308Z"
   },
   {
    "duration": 2,
    "start_time": "2025-04-22T11:02:50.425Z"
   },
   {
    "duration": 3,
    "start_time": "2025-04-22T11:02:51.646Z"
   },
   {
    "duration": 3,
    "start_time": "2025-04-22T11:03:02.295Z"
   },
   {
    "duration": 3,
    "start_time": "2025-04-22T11:03:36.089Z"
   },
   {
    "duration": 4,
    "start_time": "2025-04-22T11:04:22.615Z"
   },
   {
    "duration": 197,
    "start_time": "2025-04-22T11:05:04.147Z"
   },
   {
    "duration": 417,
    "start_time": "2025-04-22T11:05:08.867Z"
   },
   {
    "duration": 185,
    "start_time": "2025-04-22T11:05:24.755Z"
   },
   {
    "duration": 4,
    "start_time": "2025-04-22T11:05:37.001Z"
   },
   {
    "duration": 3,
    "start_time": "2025-04-22T11:07:05.569Z"
   },
   {
    "duration": 3,
    "start_time": "2025-04-22T11:07:48.855Z"
   },
   {
    "duration": 5,
    "start_time": "2025-04-22T11:08:02.145Z"
   },
   {
    "duration": 191,
    "start_time": "2025-04-22T20:14:06.043Z"
   },
   {
    "duration": 387,
    "start_time": "2025-04-22T20:14:12.109Z"
   },
   {
    "duration": 1364,
    "start_time": "2025-04-22T20:14:12.498Z"
   },
   {
    "duration": 21,
    "start_time": "2025-04-22T20:14:13.864Z"
   },
   {
    "duration": 15,
    "start_time": "2025-04-22T20:14:13.887Z"
   },
   {
    "duration": 28,
    "start_time": "2025-04-22T20:14:13.904Z"
   },
   {
    "duration": 10,
    "start_time": "2025-04-22T20:14:13.934Z"
   },
   {
    "duration": 8,
    "start_time": "2025-04-22T20:14:13.947Z"
   },
   {
    "duration": 173,
    "start_time": "2025-04-22T20:14:13.958Z"
   },
   {
    "duration": 11,
    "start_time": "2025-04-22T20:14:14.133Z"
   },
   {
    "duration": 167,
    "start_time": "2025-04-22T20:14:14.148Z"
   },
   {
    "duration": 156,
    "start_time": "2025-04-22T20:14:14.317Z"
   },
   {
    "duration": 39,
    "start_time": "2025-04-22T20:14:14.476Z"
   },
   {
    "duration": 34,
    "start_time": "2025-04-22T20:14:14.517Z"
   },
   {
    "duration": 7,
    "start_time": "2025-04-22T20:14:14.557Z"
   },
   {
    "duration": 29,
    "start_time": "2025-04-22T20:14:14.568Z"
   },
   {
    "duration": 38,
    "start_time": "2025-04-22T20:14:14.601Z"
   },
   {
    "duration": 5,
    "start_time": "2025-04-22T20:14:14.641Z"
   },
   {
    "duration": 3,
    "start_time": "2025-04-22T20:14:14.648Z"
   },
   {
    "duration": 6,
    "start_time": "2025-04-22T20:14:14.653Z"
   },
   {
    "duration": 3,
    "start_time": "2025-04-22T20:14:14.661Z"
   },
   {
    "duration": 1157,
    "start_time": "2025-04-22T20:14:14.666Z"
   },
   {
    "duration": 64,
    "start_time": "2025-04-22T20:14:15.826Z"
   },
   {
    "duration": 11,
    "start_time": "2025-04-22T20:14:15.892Z"
   },
   {
    "duration": 8,
    "start_time": "2025-04-22T20:14:15.908Z"
   },
   {
    "duration": 18,
    "start_time": "2025-04-22T20:14:15.920Z"
   },
   {
    "duration": 10,
    "start_time": "2025-04-22T20:14:15.945Z"
   },
   {
    "duration": 19,
    "start_time": "2025-04-22T20:14:15.958Z"
   },
   {
    "duration": 12,
    "start_time": "2025-04-22T20:14:15.983Z"
   },
   {
    "duration": 7,
    "start_time": "2025-04-22T20:14:15.997Z"
   },
   {
    "duration": 38,
    "start_time": "2025-04-22T20:14:16.006Z"
   },
   {
    "duration": 45,
    "start_time": "2025-04-22T20:14:16.047Z"
   },
   {
    "duration": 38,
    "start_time": "2025-04-22T20:14:16.094Z"
   },
   {
    "duration": 34,
    "start_time": "2025-04-22T20:14:16.135Z"
   },
   {
    "duration": 47,
    "start_time": "2025-04-22T20:14:16.175Z"
   },
   {
    "duration": 24,
    "start_time": "2025-04-22T20:14:16.225Z"
   },
   {
    "duration": 22,
    "start_time": "2025-04-22T20:14:16.251Z"
   },
   {
    "duration": 3186,
    "start_time": "2025-04-22T20:14:16.280Z"
   },
   {
    "duration": 161,
    "start_time": "2025-04-22T20:14:19.474Z"
   },
   {
    "duration": 334,
    "start_time": "2025-04-22T20:14:19.637Z"
   },
   {
    "duration": 204,
    "start_time": "2025-04-22T20:14:19.973Z"
   },
   {
    "duration": 282,
    "start_time": "2025-04-22T20:14:20.179Z"
   },
   {
    "duration": 8,
    "start_time": "2025-04-22T20:14:20.463Z"
   },
   {
    "duration": 258,
    "start_time": "2025-04-22T20:14:20.475Z"
   },
   {
    "duration": 53,
    "start_time": "2025-04-22T20:14:20.735Z"
   },
   {
    "duration": 386,
    "start_time": "2025-04-22T20:14:20.790Z"
   },
   {
    "duration": 194,
    "start_time": "2025-04-22T20:14:21.177Z"
   },
   {
    "duration": 12,
    "start_time": "2025-04-22T20:14:21.374Z"
   },
   {
    "duration": 5,
    "start_time": "2025-04-22T20:14:21.390Z"
   },
   {
    "duration": 297,
    "start_time": "2025-04-22T20:14:21.397Z"
   },
   {
    "duration": 5,
    "start_time": "2025-04-22T20:14:21.695Z"
   },
   {
    "duration": 595,
    "start_time": "2025-04-22T20:14:21.702Z"
   },
   {
    "duration": 154,
    "start_time": "2025-04-22T20:14:22.299Z"
   },
   {
    "duration": 11,
    "start_time": "2025-04-22T20:14:22.455Z"
   },
   {
    "duration": 4,
    "start_time": "2025-04-22T20:14:22.468Z"
   },
   {
    "duration": 5,
    "start_time": "2025-04-22T20:14:22.474Z"
   },
   {
    "duration": 225,
    "start_time": "2025-04-22T20:14:22.481Z"
   },
   {
    "duration": 22,
    "start_time": "2025-04-22T20:14:22.709Z"
   },
   {
    "duration": 4,
    "start_time": "2025-04-22T20:17:11.197Z"
   },
   {
    "duration": 13,
    "start_time": "2025-04-22T20:18:32.954Z"
   },
   {
    "duration": 25,
    "start_time": "2025-04-22T20:20:31.313Z"
   },
   {
    "duration": 253,
    "start_time": "2025-04-22T20:24:06.205Z"
   },
   {
    "duration": 474,
    "start_time": "2025-04-22T20:24:17.658Z"
   },
   {
    "duration": 212,
    "start_time": "2025-04-22T20:24:36.876Z"
   },
   {
    "duration": 25,
    "start_time": "2025-04-22T20:24:52.799Z"
   },
   {
    "duration": 26,
    "start_time": "2025-04-22T20:25:20.440Z"
   },
   {
    "duration": 191,
    "start_time": "2025-04-22T20:29:42.824Z"
   },
   {
    "duration": 190,
    "start_time": "2025-04-22T20:29:57.296Z"
   },
   {
    "duration": 103,
    "start_time": "2025-04-22T20:30:56.266Z"
   },
   {
    "duration": 189,
    "start_time": "2025-04-22T20:31:08.517Z"
   },
   {
    "duration": 200,
    "start_time": "2025-04-22T20:33:28.636Z"
   },
   {
    "duration": 187,
    "start_time": "2025-04-22T20:35:29.525Z"
   },
   {
    "duration": 91,
    "start_time": "2025-04-22T20:37:36.162Z"
   },
   {
    "duration": 198,
    "start_time": "2025-04-22T20:38:40.979Z"
   },
   {
    "duration": 15,
    "start_time": "2025-04-22T20:38:44.536Z"
   },
   {
    "duration": 16,
    "start_time": "2025-04-22T20:39:35.668Z"
   },
   {
    "duration": 357,
    "start_time": "2025-04-22T20:41:23.680Z"
   },
   {
    "duration": 945,
    "start_time": "2025-04-22T20:41:24.039Z"
   },
   {
    "duration": 11,
    "start_time": "2025-04-22T20:41:24.985Z"
   },
   {
    "duration": 9,
    "start_time": "2025-04-22T20:41:24.998Z"
   },
   {
    "duration": 22,
    "start_time": "2025-04-22T20:41:25.009Z"
   },
   {
    "duration": 7,
    "start_time": "2025-04-22T20:41:25.033Z"
   },
   {
    "duration": 7,
    "start_time": "2025-04-22T20:41:25.042Z"
   },
   {
    "duration": 117,
    "start_time": "2025-04-22T20:41:25.050Z"
   },
   {
    "duration": 9,
    "start_time": "2025-04-22T20:41:25.169Z"
   },
   {
    "duration": 120,
    "start_time": "2025-04-22T20:41:25.179Z"
   },
   {
    "duration": 100,
    "start_time": "2025-04-22T20:41:25.301Z"
   },
   {
    "duration": 33,
    "start_time": "2025-04-22T20:41:25.403Z"
   },
   {
    "duration": 12,
    "start_time": "2025-04-22T20:41:25.438Z"
   },
   {
    "duration": 3,
    "start_time": "2025-04-22T20:41:25.454Z"
   },
   {
    "duration": 18,
    "start_time": "2025-04-22T20:41:25.459Z"
   },
   {
    "duration": 20,
    "start_time": "2025-04-22T20:41:25.479Z"
   },
   {
    "duration": 31,
    "start_time": "2025-04-22T20:41:25.501Z"
   },
   {
    "duration": 5,
    "start_time": "2025-04-22T20:41:25.533Z"
   },
   {
    "duration": 4,
    "start_time": "2025-04-22T20:41:25.539Z"
   },
   {
    "duration": 3,
    "start_time": "2025-04-22T20:41:25.545Z"
   },
   {
    "duration": 857,
    "start_time": "2025-04-22T20:41:25.550Z"
   },
   {
    "duration": 53,
    "start_time": "2025-04-22T20:41:26.411Z"
   },
   {
    "duration": 9,
    "start_time": "2025-04-22T20:41:26.465Z"
   },
   {
    "duration": 6,
    "start_time": "2025-04-22T20:41:26.475Z"
   },
   {
    "duration": 6,
    "start_time": "2025-04-22T20:41:26.482Z"
   },
   {
    "duration": 7,
    "start_time": "2025-04-22T20:41:26.490Z"
   },
   {
    "duration": 41,
    "start_time": "2025-04-22T20:41:26.499Z"
   },
   {
    "duration": 10,
    "start_time": "2025-04-22T20:41:26.542Z"
   },
   {
    "duration": 7,
    "start_time": "2025-04-22T20:41:26.554Z"
   },
   {
    "duration": 14,
    "start_time": "2025-04-22T20:41:26.563Z"
   },
   {
    "duration": 61,
    "start_time": "2025-04-22T20:41:26.579Z"
   },
   {
    "duration": 19,
    "start_time": "2025-04-22T20:41:26.642Z"
   },
   {
    "duration": 20,
    "start_time": "2025-04-22T20:41:26.663Z"
   },
   {
    "duration": 60,
    "start_time": "2025-04-22T20:41:26.685Z"
   },
   {
    "duration": 14,
    "start_time": "2025-04-22T20:41:26.746Z"
   },
   {
    "duration": 14,
    "start_time": "2025-04-22T20:41:26.762Z"
   },
   {
    "duration": 369,
    "start_time": "2025-04-22T20:41:26.778Z"
   },
   {
    "duration": 134,
    "start_time": "2025-04-22T20:41:27.150Z"
   },
   {
    "duration": 230,
    "start_time": "2025-04-22T20:41:27.286Z"
   },
   {
    "duration": 196,
    "start_time": "2025-04-22T20:41:27.517Z"
   },
   {
    "duration": 195,
    "start_time": "2025-04-22T20:41:27.718Z"
   },
   {
    "duration": 6,
    "start_time": "2025-04-22T20:41:27.915Z"
   },
   {
    "duration": 228,
    "start_time": "2025-04-22T20:41:27.931Z"
   },
   {
    "duration": 52,
    "start_time": "2025-04-22T20:41:28.161Z"
   },
   {
    "duration": 373,
    "start_time": "2025-04-22T20:41:28.216Z"
   },
   {
    "duration": 179,
    "start_time": "2025-04-22T20:41:28.591Z"
   },
   {
    "duration": 11,
    "start_time": "2025-04-22T20:41:28.773Z"
   },
   {
    "duration": 5,
    "start_time": "2025-04-22T20:41:28.785Z"
   },
   {
    "duration": 276,
    "start_time": "2025-04-22T20:41:28.792Z"
   },
   {
    "duration": 4,
    "start_time": "2025-04-22T20:41:29.070Z"
   },
   {
    "duration": 629,
    "start_time": "2025-04-22T20:41:29.075Z"
   },
   {
    "duration": 138,
    "start_time": "2025-04-22T20:41:29.705Z"
   },
   {
    "duration": 11,
    "start_time": "2025-04-22T20:41:29.845Z"
   },
   {
    "duration": 3,
    "start_time": "2025-04-22T20:41:29.857Z"
   },
   {
    "duration": 4,
    "start_time": "2025-04-22T20:41:29.862Z"
   },
   {
    "duration": 194,
    "start_time": "2025-04-22T20:41:29.868Z"
   },
   {
    "duration": 16,
    "start_time": "2025-04-22T20:41:30.064Z"
   },
   {
    "duration": 15,
    "start_time": "2025-04-22T20:43:55.537Z"
   },
   {
    "duration": 7,
    "start_time": "2025-04-22T20:46:08.584Z"
   },
   {
    "duration": 4,
    "start_time": "2025-04-22T20:47:22.951Z"
   },
   {
    "duration": 14,
    "start_time": "2025-04-22T20:47:36.183Z"
   },
   {
    "duration": 14,
    "start_time": "2025-04-22T20:48:29.946Z"
   },
   {
    "duration": 14,
    "start_time": "2025-04-22T20:48:53.068Z"
   },
   {
    "duration": 14,
    "start_time": "2025-04-22T20:49:16.689Z"
   },
   {
    "duration": 12,
    "start_time": "2025-04-22T20:51:01.337Z"
   },
   {
    "duration": 203,
    "start_time": "2025-04-22T20:51:16.058Z"
   },
   {
    "duration": 21252,
    "start_time": "2025-04-22T20:51:23.607Z"
   },
   {
    "duration": 20793,
    "start_time": "2025-04-22T20:56:41.047Z"
   },
   {
    "duration": 21285,
    "start_time": "2025-04-22T21:01:37.876Z"
   },
   {
    "duration": 20707,
    "start_time": "2025-04-22T21:06:49.135Z"
   },
   {
    "duration": 84,
    "start_time": "2025-04-22T21:09:41.659Z"
   },
   {
    "duration": 100,
    "start_time": "2025-04-22T21:09:44.326Z"
   },
   {
    "duration": 20991,
    "start_time": "2025-04-22T21:09:46.615Z"
   },
   {
    "duration": 22640,
    "start_time": "2025-04-22T21:12:39.365Z"
   },
   {
    "duration": 184,
    "start_time": "2025-04-22T21:14:51.670Z"
   },
   {
    "duration": 6450,
    "start_time": "2025-04-22T21:14:57.831Z"
   },
   {
    "duration": 22173,
    "start_time": "2025-04-22T21:16:08.104Z"
   },
   {
    "duration": 77,
    "start_time": "2025-04-22T21:20:23.010Z"
   },
   {
    "duration": 142,
    "start_time": "2025-04-22T21:20:25.764Z"
   },
   {
    "duration": 17,
    "start_time": "2025-04-22T21:20:31.059Z"
   },
   {
    "duration": 101,
    "start_time": "2025-04-22T21:20:52.283Z"
   },
   {
    "duration": 116,
    "start_time": "2025-04-22T21:20:57.107Z"
   },
   {
    "duration": 66,
    "start_time": "2025-04-22T21:20:59.435Z"
   },
   {
    "duration": 23,
    "start_time": "2025-04-22T21:23:48.831Z"
   },
   {
    "duration": 354,
    "start_time": "2025-04-22T21:24:02.907Z"
   },
   {
    "duration": 20,
    "start_time": "2025-04-22T21:24:55.412Z"
   },
   {
    "duration": 16,
    "start_time": "2025-04-22T21:25:26.778Z"
   },
   {
    "duration": 16,
    "start_time": "2025-04-22T21:25:41.803Z"
   },
   {
    "duration": 17,
    "start_time": "2025-04-22T21:25:49.707Z"
   },
   {
    "duration": 18,
    "start_time": "2025-04-22T21:27:35.047Z"
   },
   {
    "duration": 13,
    "start_time": "2025-04-22T21:29:26.839Z"
   },
   {
    "duration": 13,
    "start_time": "2025-04-22T21:29:36.486Z"
   },
   {
    "duration": 20,
    "start_time": "2025-04-22T21:30:31.936Z"
   },
   {
    "duration": 18,
    "start_time": "2025-04-22T21:30:49.216Z"
   },
   {
    "duration": 18,
    "start_time": "2025-04-22T21:32:42.984Z"
   },
   {
    "duration": 25,
    "start_time": "2025-04-22T21:33:33.797Z"
   },
   {
    "duration": 17,
    "start_time": "2025-04-22T21:33:45.789Z"
   },
   {
    "duration": 17,
    "start_time": "2025-04-22T21:34:20.349Z"
   },
   {
    "duration": 16,
    "start_time": "2025-04-22T21:34:51.521Z"
   },
   {
    "duration": 9,
    "start_time": "2025-04-22T21:38:50.306Z"
   },
   {
    "duration": 9,
    "start_time": "2025-04-22T21:38:55.926Z"
   },
   {
    "duration": 45,
    "start_time": "2025-04-22T21:39:15.879Z"
   },
   {
    "duration": 84,
    "start_time": "2025-04-22T21:39:53.578Z"
   },
   {
    "duration": 99,
    "start_time": "2025-04-22T21:39:54.832Z"
   },
   {
    "duration": 11,
    "start_time": "2025-04-22T21:39:57.372Z"
   },
   {
    "duration": 10,
    "start_time": "2025-04-22T21:40:45.781Z"
   },
   {
    "duration": 99,
    "start_time": "2025-04-22T21:41:51.090Z"
   },
   {
    "duration": 102,
    "start_time": "2025-04-22T21:41:53.182Z"
   },
   {
    "duration": 46,
    "start_time": "2025-04-22T21:41:56.458Z"
   },
   {
    "duration": 13,
    "start_time": "2025-04-22T21:42:23.402Z"
   },
   {
    "duration": 47,
    "start_time": "2025-04-22T21:44:40.602Z"
   },
   {
    "duration": 46,
    "start_time": "2025-04-22T21:45:11.117Z"
   },
   {
    "duration": 13,
    "start_time": "2025-04-22T21:45:23.843Z"
   },
   {
    "duration": 14,
    "start_time": "2025-04-22T21:47:35.351Z"
   },
   {
    "duration": 13,
    "start_time": "2025-04-22T21:50:01.578Z"
   },
   {
    "duration": 13,
    "start_time": "2025-04-22T21:50:46.679Z"
   },
   {
    "duration": 83,
    "start_time": "2025-04-22T21:51:28.869Z"
   },
   {
    "duration": 102,
    "start_time": "2025-04-22T21:51:30.805Z"
   },
   {
    "duration": 25849,
    "start_time": "2025-04-22T21:51:33.398Z"
   },
   {
    "duration": 27008,
    "start_time": "2025-04-22T21:52:50.009Z"
   },
   {
    "duration": 27746,
    "start_time": "2025-04-22T22:01:37.507Z"
   },
   {
    "duration": 6,
    "start_time": "2025-04-22T22:27:05.694Z"
   },
   {
    "duration": 5,
    "start_time": "2025-04-22T22:27:36.044Z"
   },
   {
    "duration": 3,
    "start_time": "2025-04-22T22:30:56.487Z"
   },
   {
    "duration": 4,
    "start_time": "2025-04-22T22:31:02.252Z"
   },
   {
    "duration": 6,
    "start_time": "2025-04-22T22:31:09.834Z"
   },
   {
    "duration": 0,
    "start_time": "2025-04-22T22:39:45.871Z"
   },
   {
    "duration": 5,
    "start_time": "2025-04-22T22:40:00.438Z"
   },
   {
    "duration": 0,
    "start_time": "2025-04-22T22:42:33.670Z"
   },
   {
    "duration": 39223,
    "start_time": "2025-04-22T22:42:41.159Z"
   },
   {
    "duration": 28758,
    "start_time": "2025-04-22T22:43:47.082Z"
   },
   {
    "duration": 8194,
    "start_time": "2025-04-22T22:44:38.514Z"
   },
   {
    "duration": 337,
    "start_time": "2025-04-22T22:44:57.234Z"
   },
   {
    "duration": 1051,
    "start_time": "2025-04-22T22:44:57.574Z"
   },
   {
    "duration": 14,
    "start_time": "2025-04-22T22:44:58.627Z"
   },
   {
    "duration": 9,
    "start_time": "2025-04-22T22:44:58.643Z"
   },
   {
    "duration": 9,
    "start_time": "2025-04-22T22:44:58.655Z"
   },
   {
    "duration": 10,
    "start_time": "2025-04-22T22:44:58.666Z"
   },
   {
    "duration": 7,
    "start_time": "2025-04-22T22:44:58.679Z"
   },
   {
    "duration": 171,
    "start_time": "2025-04-22T22:44:58.687Z"
   },
   {
    "duration": 9,
    "start_time": "2025-04-22T22:44:58.862Z"
   },
   {
    "duration": 147,
    "start_time": "2025-04-22T22:44:58.873Z"
   },
   {
    "duration": 102,
    "start_time": "2025-04-22T22:44:59.021Z"
   },
   {
    "duration": 41,
    "start_time": "2025-04-22T22:44:59.125Z"
   },
   {
    "duration": 13,
    "start_time": "2025-04-22T22:44:59.175Z"
   },
   {
    "duration": 4,
    "start_time": "2025-04-22T22:44:59.192Z"
   },
   {
    "duration": 19,
    "start_time": "2025-04-22T22:44:59.197Z"
   },
   {
    "duration": 36,
    "start_time": "2025-04-22T22:44:59.218Z"
   },
   {
    "duration": 4,
    "start_time": "2025-04-22T22:44:59.256Z"
   },
   {
    "duration": 4,
    "start_time": "2025-04-22T22:44:59.261Z"
   },
   {
    "duration": 4,
    "start_time": "2025-04-22T22:44:59.266Z"
   },
   {
    "duration": 3,
    "start_time": "2025-04-22T22:44:59.272Z"
   },
   {
    "duration": 926,
    "start_time": "2025-04-22T22:44:59.277Z"
   },
   {
    "duration": 58,
    "start_time": "2025-04-22T22:45:00.205Z"
   },
   {
    "duration": 9,
    "start_time": "2025-04-22T22:45:00.265Z"
   },
   {
    "duration": 7,
    "start_time": "2025-04-22T22:45:00.276Z"
   },
   {
    "duration": 6,
    "start_time": "2025-04-22T22:45:00.284Z"
   },
   {
    "duration": 7,
    "start_time": "2025-04-22T22:45:00.292Z"
   },
   {
    "duration": 44,
    "start_time": "2025-04-22T22:45:00.300Z"
   },
   {
    "duration": 13,
    "start_time": "2025-04-22T22:45:00.346Z"
   },
   {
    "duration": 7,
    "start_time": "2025-04-22T22:45:00.362Z"
   },
   {
    "duration": 18,
    "start_time": "2025-04-22T22:45:00.371Z"
   },
   {
    "duration": 70,
    "start_time": "2025-04-22T22:45:00.390Z"
   },
   {
    "duration": 24,
    "start_time": "2025-04-22T22:45:00.462Z"
   },
   {
    "duration": 18,
    "start_time": "2025-04-22T22:45:00.488Z"
   },
   {
    "duration": 69,
    "start_time": "2025-04-22T22:45:00.508Z"
   },
   {
    "duration": 14,
    "start_time": "2025-04-22T22:45:00.579Z"
   },
   {
    "duration": 13,
    "start_time": "2025-04-22T22:45:00.595Z"
   },
   {
    "duration": 391,
    "start_time": "2025-04-22T22:45:00.631Z"
   },
   {
    "duration": 151,
    "start_time": "2025-04-22T22:45:01.024Z"
   },
   {
    "duration": 242,
    "start_time": "2025-04-22T22:45:01.177Z"
   },
   {
    "duration": 239,
    "start_time": "2025-04-22T22:45:01.421Z"
   },
   {
    "duration": 218,
    "start_time": "2025-04-22T22:45:01.667Z"
   },
   {
    "duration": 7,
    "start_time": "2025-04-22T22:45:01.887Z"
   },
   {
    "duration": 273,
    "start_time": "2025-04-22T22:45:01.896Z"
   },
   {
    "duration": 51,
    "start_time": "2025-04-22T22:45:02.171Z"
   },
   {
    "duration": 390,
    "start_time": "2025-04-22T22:45:02.232Z"
   },
   {
    "duration": 196,
    "start_time": "2025-04-22T22:45:02.632Z"
   },
   {
    "duration": 14,
    "start_time": "2025-04-22T22:45:02.831Z"
   },
   {
    "duration": 6,
    "start_time": "2025-04-22T22:45:02.846Z"
   },
   {
    "duration": 300,
    "start_time": "2025-04-22T22:45:02.854Z"
   },
   {
    "duration": 6,
    "start_time": "2025-04-22T22:45:03.159Z"
   },
   {
    "duration": 699,
    "start_time": "2025-04-22T22:45:03.167Z"
   },
   {
    "duration": 147,
    "start_time": "2025-04-22T22:45:03.868Z"
   },
   {
    "duration": 20,
    "start_time": "2025-04-22T22:45:04.017Z"
   },
   {
    "duration": 3,
    "start_time": "2025-04-22T22:45:04.039Z"
   },
   {
    "duration": 7,
    "start_time": "2025-04-22T22:45:04.044Z"
   },
   {
    "duration": 115,
    "start_time": "2025-04-22T22:45:04.052Z"
   },
   {
    "duration": 124,
    "start_time": "2025-04-22T22:45:04.169Z"
   },
   {
    "duration": 27576,
    "start_time": "2025-04-22T22:45:04.295Z"
   },
   {
    "duration": 162807,
    "start_time": "2025-04-22T22:45:31.873Z"
   },
   {
    "duration": 10,
    "start_time": "2025-04-22T22:48:29.619Z"
   },
   {
    "duration": 21,
    "start_time": "2025-04-22T22:48:55.718Z"
   },
   {
    "duration": 705,
    "start_time": "2025-04-22T22:49:23.061Z"
   },
   {
    "duration": 14,
    "start_time": "2025-04-22T22:49:55.927Z"
   },
   {
    "duration": 16,
    "start_time": "2025-04-22T22:50:15.998Z"
   },
   {
    "duration": 22,
    "start_time": "2025-04-22T22:50:22.151Z"
   },
   {
    "duration": 23,
    "start_time": "2025-04-22T22:50:51.532Z"
   },
   {
    "duration": 24,
    "start_time": "2025-04-22T22:51:26.860Z"
   },
   {
    "duration": 23,
    "start_time": "2025-04-22T22:51:36.792Z"
   },
   {
    "duration": 12,
    "start_time": "2025-04-22T22:53:11.000Z"
   },
   {
    "duration": 32,
    "start_time": "2025-04-22T22:53:24.828Z"
   },
   {
    "duration": 21,
    "start_time": "2025-04-22T22:54:10.333Z"
   },
   {
    "duration": 10,
    "start_time": "2025-04-22T22:55:59.254Z"
   },
   {
    "duration": 163604,
    "start_time": "2025-04-22T22:56:12.965Z"
   },
   {
    "duration": 13,
    "start_time": "2025-04-22T23:02:51.409Z"
   },
   {
    "duration": 10,
    "start_time": "2025-04-22T23:03:02.873Z"
   },
   {
    "duration": 58,
    "start_time": "2025-04-22T23:03:09.939Z"
   },
   {
    "duration": 5325,
    "start_time": "2025-04-22T23:03:21.614Z"
   },
   {
    "duration": 5349,
    "start_time": "2025-04-22T23:05:41.105Z"
   },
   {
    "duration": 606,
    "start_time": "2025-04-22T23:07:12.013Z"
   },
   {
    "duration": 169497,
    "start_time": "2025-04-22T23:08:11.915Z"
   },
   {
    "duration": 9,
    "start_time": "2025-04-22T23:11:12.453Z"
   },
   {
    "duration": 27,
    "start_time": "2025-04-22T23:13:56.394Z"
   },
   {
    "duration": 17,
    "start_time": "2025-04-22T23:14:55.274Z"
   },
   {
    "duration": 5,
    "start_time": "2025-04-22T23:15:19.236Z"
   },
   {
    "duration": 6,
    "start_time": "2025-04-22T23:15:29.064Z"
   },
   {
    "duration": 4,
    "start_time": "2025-04-22T23:16:47.103Z"
   },
   {
    "duration": 23,
    "start_time": "2025-04-22T23:17:01.449Z"
   },
   {
    "duration": 16976,
    "start_time": "2025-04-22T23:17:53.759Z"
   },
   {
    "duration": 5,
    "start_time": "2025-04-22T23:19:39.025Z"
   },
   {
    "duration": 25,
    "start_time": "2025-04-22T23:19:46.292Z"
   },
   {
    "duration": 6,
    "start_time": "2025-04-22T23:20:58.420Z"
   },
   {
    "duration": 6,
    "start_time": "2025-04-22T23:22:10.782Z"
   },
   {
    "duration": 5,
    "start_time": "2025-04-22T23:24:09.054Z"
   },
   {
    "duration": 20,
    "start_time": "2025-04-22T23:24:26.522Z"
   },
   {
    "duration": 43,
    "start_time": "2025-04-22T23:27:02.930Z"
   },
   {
    "duration": 37,
    "start_time": "2025-04-22T23:28:23.726Z"
   },
   {
    "duration": 24,
    "start_time": "2025-04-22T23:32:28.870Z"
   },
   {
    "duration": 26,
    "start_time": "2025-04-22T23:32:57.951Z"
   },
   {
    "duration": 309,
    "start_time": "2025-04-23T02:01:40.890Z"
   },
   {
    "duration": 1213,
    "start_time": "2025-04-23T02:01:41.201Z"
   },
   {
    "duration": 24,
    "start_time": "2025-04-23T02:01:42.415Z"
   },
   {
    "duration": 11,
    "start_time": "2025-04-23T02:01:42.443Z"
   },
   {
    "duration": 9,
    "start_time": "2025-04-23T02:01:42.456Z"
   },
   {
    "duration": 9,
    "start_time": "2025-04-23T02:01:42.466Z"
   },
   {
    "duration": 7,
    "start_time": "2025-04-23T02:01:42.477Z"
   },
   {
    "duration": 124,
    "start_time": "2025-04-23T02:01:42.486Z"
   },
   {
    "duration": 9,
    "start_time": "2025-04-23T02:01:42.612Z"
   },
   {
    "duration": 116,
    "start_time": "2025-04-23T02:01:42.631Z"
   },
   {
    "duration": 112,
    "start_time": "2025-04-23T02:01:42.751Z"
   },
   {
    "duration": 28,
    "start_time": "2025-04-23T02:01:42.865Z"
   },
   {
    "duration": 13,
    "start_time": "2025-04-23T02:01:42.894Z"
   },
   {
    "duration": 19,
    "start_time": "2025-04-23T02:01:42.912Z"
   },
   {
    "duration": 26,
    "start_time": "2025-04-23T02:01:42.933Z"
   },
   {
    "duration": 29,
    "start_time": "2025-04-23T02:01:42.962Z"
   },
   {
    "duration": 3,
    "start_time": "2025-04-23T02:01:42.993Z"
   },
   {
    "duration": 4,
    "start_time": "2025-04-23T02:01:42.998Z"
   },
   {
    "duration": 28,
    "start_time": "2025-04-23T02:01:43.004Z"
   },
   {
    "duration": 4,
    "start_time": "2025-04-23T02:01:43.034Z"
   },
   {
    "duration": 825,
    "start_time": "2025-04-23T02:01:43.040Z"
   },
   {
    "duration": 38,
    "start_time": "2025-04-23T02:01:43.867Z"
   },
   {
    "duration": 25,
    "start_time": "2025-04-23T02:01:43.907Z"
   },
   {
    "duration": 9,
    "start_time": "2025-04-23T02:01:43.933Z"
   },
   {
    "duration": 7,
    "start_time": "2025-04-23T02:01:43.944Z"
   },
   {
    "duration": 7,
    "start_time": "2025-04-23T02:01:43.952Z"
   },
   {
    "duration": 15,
    "start_time": "2025-04-23T02:01:43.960Z"
   },
   {
    "duration": 7,
    "start_time": "2025-04-23T02:01:43.977Z"
   },
   {
    "duration": 5,
    "start_time": "2025-04-23T02:01:43.986Z"
   },
   {
    "duration": 54,
    "start_time": "2025-04-23T02:01:43.993Z"
   },
   {
    "duration": 37,
    "start_time": "2025-04-23T02:01:44.049Z"
   },
   {
    "duration": 25,
    "start_time": "2025-04-23T02:01:44.088Z"
   },
   {
    "duration": 20,
    "start_time": "2025-04-23T02:01:44.131Z"
   },
   {
    "duration": 39,
    "start_time": "2025-04-23T02:01:44.153Z"
   },
   {
    "duration": 13,
    "start_time": "2025-04-23T02:01:44.195Z"
   },
   {
    "duration": 14,
    "start_time": "2025-04-23T02:01:44.232Z"
   },
   {
    "duration": 2214,
    "start_time": "2025-04-23T02:01:44.248Z"
   },
   {
    "duration": 138,
    "start_time": "2025-04-23T02:01:46.464Z"
   },
   {
    "duration": 241,
    "start_time": "2025-04-23T02:01:46.604Z"
   },
   {
    "duration": 190,
    "start_time": "2025-04-23T02:01:46.848Z"
   },
   {
    "duration": 195,
    "start_time": "2025-04-23T02:01:47.043Z"
   },
   {
    "duration": 6,
    "start_time": "2025-04-23T02:01:47.240Z"
   },
   {
    "duration": 248,
    "start_time": "2025-04-23T02:01:47.248Z"
   },
   {
    "duration": 60,
    "start_time": "2025-04-23T02:01:47.498Z"
   },
   {
    "duration": 369,
    "start_time": "2025-04-23T02:01:47.560Z"
   },
   {
    "duration": 177,
    "start_time": "2025-04-23T02:01:47.930Z"
   },
   {
    "duration": 13,
    "start_time": "2025-04-23T02:01:48.109Z"
   },
   {
    "duration": 12,
    "start_time": "2025-04-23T02:01:48.124Z"
   },
   {
    "duration": 279,
    "start_time": "2025-04-23T02:01:48.138Z"
   },
   {
    "duration": 3,
    "start_time": "2025-04-23T02:01:48.420Z"
   },
   {
    "duration": 567,
    "start_time": "2025-04-23T02:01:48.431Z"
   },
   {
    "duration": 139,
    "start_time": "2025-04-23T02:01:49.001Z"
   },
   {
    "duration": 12,
    "start_time": "2025-04-23T02:01:49.142Z"
   },
   {
    "duration": 3,
    "start_time": "2025-04-23T02:01:49.155Z"
   },
   {
    "duration": 5,
    "start_time": "2025-04-23T02:01:49.159Z"
   },
   {
    "duration": 125,
    "start_time": "2025-04-23T02:01:49.166Z"
   },
   {
    "duration": 111,
    "start_time": "2025-04-23T02:01:49.293Z"
   },
   {
    "duration": 25666,
    "start_time": "2025-04-23T02:01:49.406Z"
   },
   {
    "duration": 39,
    "start_time": "2025-04-23T02:02:15.074Z"
   },
   {
    "duration": 6,
    "start_time": "2025-04-23T02:07:33.692Z"
   },
   {
    "duration": 5,
    "start_time": "2025-04-23T02:14:30.879Z"
   },
   {
    "duration": 104,
    "start_time": "2025-04-23T02:16:55.984Z"
   },
   {
    "duration": 62,
    "start_time": "2025-04-23T02:17:07.318Z"
   },
   {
    "duration": 57,
    "start_time": "2025-04-23T02:17:35.389Z"
   },
   {
    "duration": 58,
    "start_time": "2025-04-23T02:17:46.436Z"
   },
   {
    "duration": 55,
    "start_time": "2025-04-23T02:18:05.698Z"
   },
   {
    "duration": 96,
    "start_time": "2025-04-23T02:18:20.228Z"
   },
   {
    "duration": 62,
    "start_time": "2025-04-23T02:20:22.899Z"
   },
   {
    "duration": 61,
    "start_time": "2025-04-23T02:22:39.611Z"
   },
   {
    "duration": 226,
    "start_time": "2025-04-23T02:22:47.285Z"
   },
   {
    "duration": 411,
    "start_time": "2025-04-23T02:26:05.021Z"
   },
   {
    "duration": 284,
    "start_time": "2025-04-23T02:26:27.549Z"
   },
   {
    "duration": 261,
    "start_time": "2025-04-23T02:26:31.647Z"
   },
   {
    "duration": 239,
    "start_time": "2025-04-23T02:28:01.040Z"
   },
   {
    "duration": 275,
    "start_time": "2025-04-23T02:28:53.058Z"
   },
   {
    "duration": 263,
    "start_time": "2025-04-23T02:29:07.191Z"
   },
   {
    "duration": 286,
    "start_time": "2025-04-23T02:31:01.877Z"
   },
   {
    "duration": 309,
    "start_time": "2025-04-23T02:32:21.859Z"
   },
   {
    "duration": 342,
    "start_time": "2025-04-23T02:33:26.718Z"
   },
   {
    "duration": 11,
    "start_time": "2025-04-23T02:40:23.648Z"
   },
   {
    "duration": 544,
    "start_time": "2025-04-23T02:44:41.141Z"
   },
   {
    "duration": 27,
    "start_time": "2025-04-23T02:44:56.960Z"
   },
   {
    "duration": 9,
    "start_time": "2025-04-23T02:45:13.024Z"
   },
   {
    "duration": 226,
    "start_time": "2025-04-23T03:15:50.192Z"
   },
   {
    "duration": 273,
    "start_time": "2025-04-23T03:17:03.203Z"
   },
   {
    "duration": 297,
    "start_time": "2025-04-23T03:19:29.635Z"
   },
   {
    "duration": 317,
    "start_time": "2025-04-23T03:20:30.048Z"
   },
   {
    "duration": 315,
    "start_time": "2025-04-23T03:23:45.828Z"
   },
   {
    "duration": 290,
    "start_time": "2025-04-23T03:24:29.059Z"
   },
   {
    "duration": 291,
    "start_time": "2025-04-23T03:25:19.948Z"
   },
   {
    "duration": 297,
    "start_time": "2025-04-23T03:28:04.822Z"
   },
   {
    "duration": 294,
    "start_time": "2025-04-23T03:28:29.798Z"
   },
   {
    "duration": 313,
    "start_time": "2025-04-23T03:30:13.016Z"
   },
   {
    "duration": 309,
    "start_time": "2025-04-23T03:30:22.334Z"
   },
   {
    "duration": 1275,
    "start_time": "2025-04-23T03:35:30.859Z"
   },
   {
    "duration": 405,
    "start_time": "2025-04-23T03:38:15.691Z"
   },
   {
    "duration": 429,
    "start_time": "2025-04-23T03:38:40.123Z"
   },
   {
    "duration": 469,
    "start_time": "2025-04-23T03:40:42.829Z"
   },
   {
    "duration": 60,
    "start_time": "2025-04-23T03:45:24.270Z"
   },
   {
    "duration": 199,
    "start_time": "2025-04-23T03:49:49.278Z"
   },
   {
    "duration": 218,
    "start_time": "2025-04-23T03:50:54.305Z"
   },
   {
    "duration": 231,
    "start_time": "2025-04-23T03:51:26.362Z"
   },
   {
    "duration": 214,
    "start_time": "2025-04-23T03:53:09.470Z"
   },
   {
    "duration": 231,
    "start_time": "2025-04-23T04:14:26.651Z"
   },
   {
    "duration": 203,
    "start_time": "2025-04-23T04:14:34.250Z"
   },
   {
    "duration": 185,
    "start_time": "2025-04-23T04:15:43.409Z"
   },
   {
    "duration": 202,
    "start_time": "2025-04-23T04:15:52.780Z"
   },
   {
    "duration": 8,
    "start_time": "2025-04-23T04:18:35.250Z"
   },
   {
    "duration": 70,
    "start_time": "2025-04-23T04:18:45.363Z"
   },
   {
    "duration": 5,
    "start_time": "2025-04-23T04:27:56.169Z"
   },
   {
    "duration": 87,
    "start_time": "2025-04-23T04:28:07.168Z"
   },
   {
    "duration": 69,
    "start_time": "2025-04-23T04:28:26.547Z"
   },
   {
    "duration": 73,
    "start_time": "2025-04-23T04:30:11.388Z"
   },
   {
    "duration": 86,
    "start_time": "2025-04-23T04:30:39.431Z"
   },
   {
    "duration": 75,
    "start_time": "2025-04-23T04:31:22.694Z"
   },
   {
    "duration": 94,
    "start_time": "2025-04-23T04:32:12.380Z"
   },
   {
    "duration": 106,
    "start_time": "2025-04-23T04:32:30.671Z"
   },
   {
    "duration": 116,
    "start_time": "2025-04-23T04:36:16.127Z"
   },
   {
    "duration": 115,
    "start_time": "2025-04-23T04:36:34.511Z"
   },
   {
    "duration": 110,
    "start_time": "2025-04-23T04:37:28.904Z"
   },
   {
    "duration": 99,
    "start_time": "2025-04-23T04:37:43.160Z"
   },
   {
    "duration": 80,
    "start_time": "2025-04-23T04:38:12.308Z"
   },
   {
    "duration": 76,
    "start_time": "2025-04-23T04:38:21.320Z"
   },
   {
    "duration": 76,
    "start_time": "2025-04-23T04:40:23.324Z"
   },
   {
    "duration": 79,
    "start_time": "2025-04-23T04:41:33.138Z"
   },
   {
    "duration": 77,
    "start_time": "2025-04-23T04:43:35.615Z"
   },
   {
    "duration": 79,
    "start_time": "2025-04-23T04:43:59.495Z"
   },
   {
    "duration": 102,
    "start_time": "2025-04-23T04:45:11.470Z"
   },
   {
    "duration": 78,
    "start_time": "2025-04-23T04:46:44.770Z"
   },
   {
    "duration": 87,
    "start_time": "2025-04-23T04:46:56.355Z"
   },
   {
    "duration": 79,
    "start_time": "2025-04-23T04:47:17.343Z"
   },
   {
    "duration": 79,
    "start_time": "2025-04-23T04:47:45.464Z"
   },
   {
    "duration": 101,
    "start_time": "2025-04-23T04:48:48.247Z"
   },
   {
    "duration": 103,
    "start_time": "2025-04-23T04:49:24.705Z"
   },
   {
    "duration": 79,
    "start_time": "2025-04-23T04:50:23.803Z"
   },
   {
    "duration": 99,
    "start_time": "2025-04-23T04:50:48.402Z"
   },
   {
    "duration": 80,
    "start_time": "2025-04-23T04:51:22.939Z"
   },
   {
    "duration": 107,
    "start_time": "2025-04-23T04:51:38.828Z"
   },
   {
    "duration": 100,
    "start_time": "2025-04-23T04:52:18.908Z"
   },
   {
    "duration": 82,
    "start_time": "2025-04-23T04:52:43.276Z"
   },
   {
    "duration": 6,
    "start_time": "2025-04-23T04:53:31.034Z"
   },
   {
    "duration": 99,
    "start_time": "2025-04-23T04:53:39.411Z"
   },
   {
    "duration": 100,
    "start_time": "2025-04-23T04:54:57.948Z"
   },
   {
    "duration": 98,
    "start_time": "2025-04-23T04:55:31.222Z"
   },
   {
    "duration": 98,
    "start_time": "2025-04-23T04:56:16.793Z"
   },
   {
    "duration": 78,
    "start_time": "2025-04-23T04:56:32.507Z"
   },
   {
    "duration": 80,
    "start_time": "2025-04-23T04:59:34.782Z"
   },
   {
    "duration": 84,
    "start_time": "2025-04-23T04:59:59.602Z"
   },
   {
    "duration": 9239,
    "start_time": "2025-04-23T05:01:42.500Z"
   },
   {
    "duration": 173893,
    "start_time": "2025-04-23T05:02:05.702Z"
   },
   {
    "duration": 104,
    "start_time": "2025-04-23T05:05:12.156Z"
   },
   {
    "duration": 102,
    "start_time": "2025-04-23T05:06:45.842Z"
   },
   {
    "duration": 12,
    "start_time": "2025-04-23T05:08:28.590Z"
   },
   {
    "duration": 8,
    "start_time": "2025-04-23T05:08:41.136Z"
   },
   {
    "duration": 6,
    "start_time": "2025-04-23T05:09:33.383Z"
   },
   {
    "duration": 8,
    "start_time": "2025-04-23T05:09:48.595Z"
   },
   {
    "duration": 8,
    "start_time": "2025-04-23T05:10:15.266Z"
   },
   {
    "duration": 7,
    "start_time": "2025-04-23T05:10:59.194Z"
   },
   {
    "duration": 81,
    "start_time": "2025-04-23T05:11:26.095Z"
   },
   {
    "duration": 1026907,
    "start_time": "2025-04-23T05:12:28.408Z"
   },
   {
    "duration": 18,
    "start_time": "2025-04-23T05:30:45.827Z"
   },
   {
    "duration": 11,
    "start_time": "2025-04-23T05:30:53.038Z"
   },
   {
    "duration": 48,
    "start_time": "2025-04-23T05:31:04.404Z"
   },
   {
    "duration": 47,
    "start_time": "2025-04-23T05:31:33.247Z"
   },
   {
    "duration": 54,
    "start_time": "2025-04-23T05:32:53.552Z"
   },
   {
    "duration": 4,
    "start_time": "2025-04-23T06:05:04.802Z"
   },
   {
    "duration": 14,
    "start_time": "2025-04-23T06:39:20.381Z"
   },
   {
    "duration": 4,
    "start_time": "2025-04-23T06:39:49.599Z"
   },
   {
    "duration": 336,
    "start_time": "2025-04-23T06:41:21.525Z"
   },
   {
    "duration": 342,
    "start_time": "2025-04-23T06:41:58.183Z"
   },
   {
    "duration": 548,
    "start_time": "2025-04-23T06:43:31.020Z"
   },
   {
    "duration": 544,
    "start_time": "2025-04-23T06:44:27.240Z"
   },
   {
    "duration": 548,
    "start_time": "2025-04-23T06:45:34.284Z"
   },
   {
    "duration": 789,
    "start_time": "2025-04-23T06:50:51.687Z"
   },
   {
    "duration": 543,
    "start_time": "2025-04-23T06:56:16.807Z"
   },
   {
    "duration": 43,
    "start_time": "2025-04-23T06:59:09.770Z"
   },
   {
    "duration": 55,
    "start_time": "2025-04-23T06:59:20.410Z"
   },
   {
    "duration": 52,
    "start_time": "2025-04-23T07:00:04.852Z"
   },
   {
    "duration": 24,
    "start_time": "2025-04-23T07:03:56.484Z"
   },
   {
    "duration": 29,
    "start_time": "2025-04-23T07:04:34.369Z"
   },
   {
    "duration": 28,
    "start_time": "2025-04-23T07:06:44.625Z"
   },
   {
    "duration": 47,
    "start_time": "2025-04-23T07:11:20.079Z"
   },
   {
    "duration": 3,
    "start_time": "2025-04-23T07:16:28.307Z"
   },
   {
    "duration": 31,
    "start_time": "2025-04-23T07:16:35.064Z"
   },
   {
    "duration": 33,
    "start_time": "2025-04-23T07:19:37.435Z"
   },
   {
    "duration": 34,
    "start_time": "2025-04-23T07:20:43.793Z"
   },
   {
    "duration": 34,
    "start_time": "2025-04-23T07:21:34.372Z"
   },
   {
    "duration": 34,
    "start_time": "2025-04-23T07:22:25.942Z"
   },
   {
    "duration": 34,
    "start_time": "2025-04-23T07:23:15.995Z"
   },
   {
    "duration": 36,
    "start_time": "2025-04-23T07:25:32.523Z"
   },
   {
    "duration": 33,
    "start_time": "2025-04-23T07:25:50.995Z"
   },
   {
    "duration": 4,
    "start_time": "2025-04-23T07:26:27.650Z"
   },
   {
    "duration": 32,
    "start_time": "2025-04-23T07:26:44.239Z"
   },
   {
    "duration": 24,
    "start_time": "2025-04-23T07:28:12.511Z"
   },
   {
    "duration": 23,
    "start_time": "2025-04-23T07:29:03.296Z"
   },
   {
    "duration": 24,
    "start_time": "2025-04-23T07:29:14.771Z"
   },
   {
    "duration": 25,
    "start_time": "2025-04-23T07:30:27.573Z"
   },
   {
    "duration": 235,
    "start_time": "2025-04-23T07:31:03.006Z"
   },
   {
    "duration": 28,
    "start_time": "2025-04-23T07:32:04.040Z"
   },
   {
    "duration": 24,
    "start_time": "2025-04-23T07:32:37.112Z"
   },
   {
    "duration": 25,
    "start_time": "2025-04-23T07:32:47.966Z"
   },
   {
    "duration": 26,
    "start_time": "2025-04-23T07:33:16.534Z"
   },
   {
    "duration": 37,
    "start_time": "2025-04-23T07:33:25.948Z"
   },
   {
    "duration": 71,
    "start_time": "2025-04-23T07:35:07.850Z"
   },
   {
    "duration": 36,
    "start_time": "2025-04-23T07:35:39.282Z"
   },
   {
    "duration": 35,
    "start_time": "2025-04-23T07:36:20.959Z"
   },
   {
    "duration": 40,
    "start_time": "2025-04-23T07:37:03.146Z"
   },
   {
    "duration": 40,
    "start_time": "2025-04-23T07:37:17.483Z"
   },
   {
    "duration": 44,
    "start_time": "2025-04-23T07:40:04.603Z"
   },
   {
    "duration": 42,
    "start_time": "2025-04-23T07:40:16.891Z"
   },
   {
    "duration": 48,
    "start_time": "2025-04-23T07:41:26.352Z"
   },
   {
    "duration": 42,
    "start_time": "2025-04-23T07:41:46.594Z"
   },
   {
    "duration": 43,
    "start_time": "2025-04-23T07:42:09.528Z"
   },
   {
    "duration": 36,
    "start_time": "2025-04-23T07:43:44.965Z"
   },
   {
    "duration": 55,
    "start_time": "2025-04-23T07:44:56.236Z"
   },
   {
    "duration": 57,
    "start_time": "2025-04-23T07:46:07.098Z"
   },
   {
    "duration": 53,
    "start_time": "2025-04-23T07:46:16.841Z"
   },
   {
    "duration": 51,
    "start_time": "2025-04-23T07:48:15.919Z"
   },
   {
    "duration": 40,
    "start_time": "2025-04-23T07:48:30.867Z"
   },
   {
    "duration": 56,
    "start_time": "2025-04-23T07:50:33.441Z"
   },
   {
    "duration": 51,
    "start_time": "2025-04-23T07:56:45.051Z"
   },
   {
    "duration": 54,
    "start_time": "2025-04-23T07:58:27.249Z"
   },
   {
    "duration": 49,
    "start_time": "2025-04-23T07:59:02.059Z"
   },
   {
    "duration": 35,
    "start_time": "2025-04-23T08:03:14.990Z"
   },
   {
    "duration": 14,
    "start_time": "2025-04-23T08:03:17.248Z"
   },
   {
    "duration": 7,
    "start_time": "2025-04-23T08:03:19.496Z"
   },
   {
    "duration": 16,
    "start_time": "2025-04-23T08:25:05.100Z"
   },
   {
    "duration": 16,
    "start_time": "2025-04-23T08:27:43.513Z"
   },
   {
    "duration": 15,
    "start_time": "2025-04-23T08:28:38.914Z"
   },
   {
    "duration": 9,
    "start_time": "2025-04-23T08:29:07.381Z"
   },
   {
    "duration": 8,
    "start_time": "2025-04-23T08:30:15.572Z"
   },
   {
    "duration": 10,
    "start_time": "2025-04-23T08:31:57.055Z"
   },
   {
    "duration": 312,
    "start_time": "2025-04-23T08:32:19.522Z"
   },
   {
    "duration": 888,
    "start_time": "2025-04-23T08:32:19.837Z"
   },
   {
    "duration": 14,
    "start_time": "2025-04-23T08:32:20.727Z"
   },
   {
    "duration": 10,
    "start_time": "2025-04-23T08:32:20.744Z"
   },
   {
    "duration": 7,
    "start_time": "2025-04-23T08:32:20.756Z"
   },
   {
    "duration": 8,
    "start_time": "2025-04-23T08:32:20.765Z"
   },
   {
    "duration": 6,
    "start_time": "2025-04-23T08:32:20.775Z"
   },
   {
    "duration": 131,
    "start_time": "2025-04-23T08:32:20.783Z"
   },
   {
    "duration": 14,
    "start_time": "2025-04-23T08:32:20.917Z"
   },
   {
    "duration": 105,
    "start_time": "2025-04-23T08:32:20.935Z"
   },
   {
    "duration": 97,
    "start_time": "2025-04-23T08:32:21.041Z"
   },
   {
    "duration": 33,
    "start_time": "2025-04-23T08:32:21.140Z"
   },
   {
    "duration": 14,
    "start_time": "2025-04-23T08:32:21.174Z"
   },
   {
    "duration": 4,
    "start_time": "2025-04-23T08:32:21.190Z"
   },
   {
    "duration": 45,
    "start_time": "2025-04-23T08:32:21.196Z"
   },
   {
    "duration": 20,
    "start_time": "2025-04-23T08:32:21.243Z"
   },
   {
    "duration": 4,
    "start_time": "2025-04-23T08:32:21.264Z"
   },
   {
    "duration": 4,
    "start_time": "2025-04-23T08:32:21.269Z"
   },
   {
    "duration": 5,
    "start_time": "2025-04-23T08:32:21.274Z"
   },
   {
    "duration": 4,
    "start_time": "2025-04-23T08:32:21.280Z"
   },
   {
    "duration": 775,
    "start_time": "2025-04-23T08:32:21.285Z"
   },
   {
    "duration": 37,
    "start_time": "2025-04-23T08:32:22.061Z"
   },
   {
    "duration": 7,
    "start_time": "2025-04-23T08:32:22.100Z"
   },
   {
    "duration": 26,
    "start_time": "2025-04-23T08:32:22.108Z"
   },
   {
    "duration": 7,
    "start_time": "2025-04-23T08:32:22.136Z"
   },
   {
    "duration": 15,
    "start_time": "2025-04-23T08:32:22.145Z"
   },
   {
    "duration": 13,
    "start_time": "2025-04-23T08:32:22.161Z"
   },
   {
    "duration": 14,
    "start_time": "2025-04-23T08:32:22.178Z"
   },
   {
    "duration": 8,
    "start_time": "2025-04-23T08:32:22.194Z"
   },
   {
    "duration": 37,
    "start_time": "2025-04-23T08:32:22.203Z"
   },
   {
    "duration": 31,
    "start_time": "2025-04-23T08:32:22.241Z"
   },
   {
    "duration": 18,
    "start_time": "2025-04-23T08:32:22.274Z"
   },
   {
    "duration": 38,
    "start_time": "2025-04-23T08:32:22.294Z"
   },
   {
    "duration": 41,
    "start_time": "2025-04-23T08:32:22.333Z"
   },
   {
    "duration": 12,
    "start_time": "2025-04-23T08:32:22.376Z"
   },
   {
    "duration": 13,
    "start_time": "2025-04-23T08:32:22.390Z"
   },
   {
    "duration": 380,
    "start_time": "2025-04-23T08:32:22.404Z"
   },
   {
    "duration": 119,
    "start_time": "2025-04-23T08:32:22.786Z"
   },
   {
    "duration": 225,
    "start_time": "2025-04-23T08:32:22.907Z"
   },
   {
    "duration": 188,
    "start_time": "2025-04-23T08:32:23.134Z"
   },
   {
    "duration": 195,
    "start_time": "2025-04-23T08:32:23.323Z"
   },
   {
    "duration": 12,
    "start_time": "2025-04-23T08:32:23.520Z"
   },
   {
    "duration": 221,
    "start_time": "2025-04-23T08:32:23.533Z"
   },
   {
    "duration": 50,
    "start_time": "2025-04-23T08:32:23.756Z"
   },
   {
    "duration": 370,
    "start_time": "2025-04-23T08:32:23.807Z"
   },
   {
    "duration": 182,
    "start_time": "2025-04-23T08:32:24.179Z"
   },
   {
    "duration": 12,
    "start_time": "2025-04-23T08:32:24.362Z"
   },
   {
    "duration": 5,
    "start_time": "2025-04-23T08:32:24.375Z"
   },
   {
    "duration": 272,
    "start_time": "2025-04-23T08:32:24.381Z"
   },
   {
    "duration": 4,
    "start_time": "2025-04-23T08:32:24.655Z"
   },
   {
    "duration": 615,
    "start_time": "2025-04-23T08:32:24.660Z"
   },
   {
    "duration": 141,
    "start_time": "2025-04-23T08:32:25.278Z"
   },
   {
    "duration": 18,
    "start_time": "2025-04-23T08:32:25.421Z"
   },
   {
    "duration": 5,
    "start_time": "2025-04-23T08:32:25.441Z"
   },
   {
    "duration": 5,
    "start_time": "2025-04-23T08:32:25.447Z"
   },
   {
    "duration": 99,
    "start_time": "2025-04-23T08:32:25.453Z"
   },
   {
    "duration": 113,
    "start_time": "2025-04-23T08:32:25.554Z"
   },
   {
    "duration": 24313,
    "start_time": "2025-04-23T08:32:25.668Z"
   },
   {
    "duration": 29171,
    "start_time": "2025-04-23T08:32:49.983Z"
   },
   {
    "duration": 0,
    "start_time": "2025-04-23T08:33:19.156Z"
   },
   {
    "duration": 0,
    "start_time": "2025-04-23T08:33:19.159Z"
   },
   {
    "duration": 0,
    "start_time": "2025-04-23T08:33:19.160Z"
   },
   {
    "duration": 0,
    "start_time": "2025-04-23T08:33:19.161Z"
   },
   {
    "duration": 0,
    "start_time": "2025-04-23T08:33:19.162Z"
   },
   {
    "duration": 0,
    "start_time": "2025-04-23T08:33:19.163Z"
   },
   {
    "duration": 300,
    "start_time": "2025-04-23T08:33:24.017Z"
   },
   {
    "duration": 890,
    "start_time": "2025-04-23T08:33:24.320Z"
   },
   {
    "duration": 12,
    "start_time": "2025-04-23T08:33:25.212Z"
   },
   {
    "duration": 12,
    "start_time": "2025-04-23T08:33:25.226Z"
   },
   {
    "duration": 7,
    "start_time": "2025-04-23T08:33:25.240Z"
   },
   {
    "duration": 7,
    "start_time": "2025-04-23T08:33:25.248Z"
   },
   {
    "duration": 7,
    "start_time": "2025-04-23T08:33:25.256Z"
   },
   {
    "duration": 124,
    "start_time": "2025-04-23T08:33:25.264Z"
   },
   {
    "duration": 9,
    "start_time": "2025-04-23T08:33:25.389Z"
   },
   {
    "duration": 111,
    "start_time": "2025-04-23T08:33:25.401Z"
   },
   {
    "duration": 101,
    "start_time": "2025-04-23T08:33:25.513Z"
   },
   {
    "duration": 33,
    "start_time": "2025-04-23T08:33:25.616Z"
   },
   {
    "duration": 12,
    "start_time": "2025-04-23T08:33:25.650Z"
   },
   {
    "duration": 3,
    "start_time": "2025-04-23T08:33:25.664Z"
   },
   {
    "duration": 18,
    "start_time": "2025-04-23T08:33:25.669Z"
   },
   {
    "duration": 46,
    "start_time": "2025-04-23T08:33:25.688Z"
   },
   {
    "duration": 3,
    "start_time": "2025-04-23T08:33:25.736Z"
   },
   {
    "duration": 7,
    "start_time": "2025-04-23T08:33:25.741Z"
   },
   {
    "duration": 3,
    "start_time": "2025-04-23T08:33:25.749Z"
   },
   {
    "duration": 3,
    "start_time": "2025-04-23T08:33:25.754Z"
   },
   {
    "duration": 837,
    "start_time": "2025-04-23T08:33:25.759Z"
   },
   {
    "duration": 46,
    "start_time": "2025-04-23T08:33:26.599Z"
   },
   {
    "duration": 7,
    "start_time": "2025-04-23T08:33:26.647Z"
   },
   {
    "duration": 6,
    "start_time": "2025-04-23T08:33:26.656Z"
   },
   {
    "duration": 6,
    "start_time": "2025-04-23T08:33:26.663Z"
   },
   {
    "duration": 5,
    "start_time": "2025-04-23T08:33:26.671Z"
   },
   {
    "duration": 12,
    "start_time": "2025-04-23T08:33:26.678Z"
   },
   {
    "duration": 52,
    "start_time": "2025-04-23T08:33:26.695Z"
   },
   {
    "duration": 10,
    "start_time": "2025-04-23T08:33:26.751Z"
   },
   {
    "duration": 16,
    "start_time": "2025-04-23T08:33:26.762Z"
   },
   {
    "duration": 32,
    "start_time": "2025-04-23T08:33:26.779Z"
   },
   {
    "duration": 35,
    "start_time": "2025-04-23T08:33:26.814Z"
   },
   {
    "duration": 19,
    "start_time": "2025-04-23T08:33:26.851Z"
   },
   {
    "duration": 37,
    "start_time": "2025-04-23T08:33:26.871Z"
   },
   {
    "duration": 34,
    "start_time": "2025-04-23T08:33:26.910Z"
   },
   {
    "duration": 16,
    "start_time": "2025-04-23T08:33:26.945Z"
   },
   {
    "duration": 373,
    "start_time": "2025-04-23T08:33:26.962Z"
   },
   {
    "duration": 133,
    "start_time": "2025-04-23T08:33:27.338Z"
   },
   {
    "duration": 226,
    "start_time": "2025-04-23T08:33:27.473Z"
   },
   {
    "duration": 188,
    "start_time": "2025-04-23T08:33:27.701Z"
   },
   {
    "duration": 192,
    "start_time": "2025-04-23T08:33:27.890Z"
   },
   {
    "duration": 7,
    "start_time": "2025-04-23T08:33:28.084Z"
   },
   {
    "duration": 234,
    "start_time": "2025-04-23T08:33:28.092Z"
   },
   {
    "duration": 54,
    "start_time": "2025-04-23T08:33:28.331Z"
   },
   {
    "duration": 362,
    "start_time": "2025-04-23T08:33:28.387Z"
   },
   {
    "duration": 180,
    "start_time": "2025-04-23T08:33:28.751Z"
   },
   {
    "duration": 12,
    "start_time": "2025-04-23T08:33:28.932Z"
   },
   {
    "duration": 5,
    "start_time": "2025-04-23T08:33:28.945Z"
   },
   {
    "duration": 280,
    "start_time": "2025-04-23T08:33:28.951Z"
   },
   {
    "duration": 3,
    "start_time": "2025-04-23T08:33:29.233Z"
   },
   {
    "duration": 599,
    "start_time": "2025-04-23T08:33:29.238Z"
   },
   {
    "duration": 135,
    "start_time": "2025-04-23T08:33:29.839Z"
   },
   {
    "duration": 10,
    "start_time": "2025-04-23T08:33:29.976Z"
   },
   {
    "duration": 4,
    "start_time": "2025-04-23T08:33:29.987Z"
   },
   {
    "duration": 5,
    "start_time": "2025-04-23T08:33:29.992Z"
   },
   {
    "duration": 103,
    "start_time": "2025-04-23T08:33:29.998Z"
   },
   {
    "duration": 109,
    "start_time": "2025-04-23T08:33:30.103Z"
   },
   {
    "duration": 23717,
    "start_time": "2025-04-23T08:33:30.214Z"
   },
   {
    "duration": 20470,
    "start_time": "2025-04-23T08:33:53.933Z"
   },
   {
    "duration": 0,
    "start_time": "2025-04-23T08:34:14.405Z"
   },
   {
    "duration": 0,
    "start_time": "2025-04-23T08:34:14.406Z"
   },
   {
    "duration": 0,
    "start_time": "2025-04-23T08:34:14.408Z"
   },
   {
    "duration": 0,
    "start_time": "2025-04-23T08:34:14.409Z"
   },
   {
    "duration": 0,
    "start_time": "2025-04-23T08:34:14.410Z"
   },
   {
    "duration": 58,
    "start_time": "2025-04-23T08:34:26.346Z"
   },
   {
    "duration": 36,
    "start_time": "2025-04-23T08:34:34.745Z"
   },
   {
    "duration": 11,
    "start_time": "2025-04-23T08:34:37.168Z"
   },
   {
    "duration": 8,
    "start_time": "2025-04-23T08:34:39.760Z"
   },
   {
    "duration": 5,
    "start_time": "2025-04-23T08:39:33.447Z"
   },
   {
    "duration": 5,
    "start_time": "2025-04-23T08:40:24.131Z"
   },
   {
    "duration": 306,
    "start_time": "2025-04-23T08:40:39.106Z"
   },
   {
    "duration": 886,
    "start_time": "2025-04-23T08:40:39.414Z"
   },
   {
    "duration": 11,
    "start_time": "2025-04-23T08:40:40.302Z"
   },
   {
    "duration": 9,
    "start_time": "2025-04-23T08:40:40.316Z"
   },
   {
    "duration": 8,
    "start_time": "2025-04-23T08:40:40.331Z"
   },
   {
    "duration": 8,
    "start_time": "2025-04-23T08:40:40.341Z"
   },
   {
    "duration": 9,
    "start_time": "2025-04-23T08:40:40.350Z"
   },
   {
    "duration": 125,
    "start_time": "2025-04-23T08:40:40.360Z"
   },
   {
    "duration": 9,
    "start_time": "2025-04-23T08:40:40.486Z"
   },
   {
    "duration": 113,
    "start_time": "2025-04-23T08:40:40.498Z"
   },
   {
    "duration": 97,
    "start_time": "2025-04-23T08:40:40.612Z"
   },
   {
    "duration": 40,
    "start_time": "2025-04-23T08:40:40.711Z"
   },
   {
    "duration": 12,
    "start_time": "2025-04-23T08:40:40.752Z"
   },
   {
    "duration": 3,
    "start_time": "2025-04-23T08:40:40.766Z"
   },
   {
    "duration": 19,
    "start_time": "2025-04-23T08:40:40.772Z"
   },
   {
    "duration": 41,
    "start_time": "2025-04-23T08:40:40.794Z"
   },
   {
    "duration": 3,
    "start_time": "2025-04-23T08:40:40.836Z"
   },
   {
    "duration": 3,
    "start_time": "2025-04-23T08:40:40.841Z"
   },
   {
    "duration": 4,
    "start_time": "2025-04-23T08:40:40.846Z"
   },
   {
    "duration": 4,
    "start_time": "2025-04-23T08:40:40.851Z"
   },
   {
    "duration": 765,
    "start_time": "2025-04-23T08:40:40.857Z"
   },
   {
    "duration": 42,
    "start_time": "2025-04-23T08:40:41.624Z"
   },
   {
    "duration": 7,
    "start_time": "2025-04-23T08:40:41.667Z"
   },
   {
    "duration": 6,
    "start_time": "2025-04-23T08:40:41.675Z"
   },
   {
    "duration": 6,
    "start_time": "2025-04-23T08:40:41.682Z"
   },
   {
    "duration": 6,
    "start_time": "2025-04-23T08:40:41.689Z"
   },
   {
    "duration": 40,
    "start_time": "2025-04-23T08:40:41.697Z"
   },
   {
    "duration": 15,
    "start_time": "2025-04-23T08:40:41.747Z"
   },
   {
    "duration": 7,
    "start_time": "2025-04-23T08:40:41.764Z"
   },
   {
    "duration": 15,
    "start_time": "2025-04-23T08:40:41.773Z"
   },
   {
    "duration": 56,
    "start_time": "2025-04-23T08:40:41.790Z"
   },
   {
    "duration": 20,
    "start_time": "2025-04-23T08:40:41.847Z"
   },
   {
    "duration": 18,
    "start_time": "2025-04-23T08:40:41.869Z"
   },
   {
    "duration": 63,
    "start_time": "2025-04-23T08:40:41.889Z"
   },
   {
    "duration": 18,
    "start_time": "2025-04-23T08:40:41.955Z"
   },
   {
    "duration": 13,
    "start_time": "2025-04-23T08:40:41.977Z"
   },
   {
    "duration": 367,
    "start_time": "2025-04-23T08:40:41.992Z"
   },
   {
    "duration": 131,
    "start_time": "2025-04-23T08:40:42.361Z"
   },
   {
    "duration": 223,
    "start_time": "2025-04-23T08:40:42.494Z"
   },
   {
    "duration": 197,
    "start_time": "2025-04-23T08:40:42.719Z"
   },
   {
    "duration": 188,
    "start_time": "2025-04-23T08:40:42.917Z"
   },
   {
    "duration": 6,
    "start_time": "2025-04-23T08:40:43.107Z"
   },
   {
    "duration": 232,
    "start_time": "2025-04-23T08:40:43.115Z"
   },
   {
    "duration": 51,
    "start_time": "2025-04-23T08:40:43.349Z"
   },
   {
    "duration": 413,
    "start_time": "2025-04-23T08:40:43.402Z"
   },
   {
    "duration": 183,
    "start_time": "2025-04-23T08:40:43.817Z"
   },
   {
    "duration": 10,
    "start_time": "2025-04-23T08:40:44.002Z"
   },
   {
    "duration": 18,
    "start_time": "2025-04-23T08:40:44.014Z"
   },
   {
    "duration": 260,
    "start_time": "2025-04-23T08:40:44.034Z"
   },
   {
    "duration": 3,
    "start_time": "2025-04-23T08:40:44.296Z"
   },
   {
    "duration": 600,
    "start_time": "2025-04-23T08:40:44.301Z"
   },
   {
    "duration": 135,
    "start_time": "2025-04-23T08:40:44.902Z"
   },
   {
    "duration": 11,
    "start_time": "2025-04-23T08:40:45.039Z"
   },
   {
    "duration": 4,
    "start_time": "2025-04-23T08:40:45.051Z"
   },
   {
    "duration": 5,
    "start_time": "2025-04-23T08:40:45.056Z"
   },
   {
    "duration": 104,
    "start_time": "2025-04-23T08:40:45.062Z"
   },
   {
    "duration": 108,
    "start_time": "2025-04-23T08:40:45.168Z"
   },
   {
    "duration": 14853,
    "start_time": "2025-04-23T08:40:45.278Z"
   },
   {
    "duration": 0,
    "start_time": "2025-04-23T08:41:00.132Z"
   },
   {
    "duration": 0,
    "start_time": "2025-04-23T08:41:00.135Z"
   },
   {
    "duration": 0,
    "start_time": "2025-04-23T08:41:00.136Z"
   },
   {
    "duration": 0,
    "start_time": "2025-04-23T08:41:00.138Z"
   },
   {
    "duration": 0,
    "start_time": "2025-04-23T08:41:00.139Z"
   },
   {
    "duration": 0,
    "start_time": "2025-04-23T08:41:00.140Z"
   },
   {
    "duration": 39,
    "start_time": "2025-04-23T08:41:09.196Z"
   },
   {
    "duration": 12,
    "start_time": "2025-04-23T08:41:11.857Z"
   },
   {
    "duration": 8,
    "start_time": "2025-04-23T08:41:13.812Z"
   },
   {
    "duration": 5,
    "start_time": "2025-04-23T08:41:47.184Z"
   },
   {
    "duration": 167,
    "start_time": "2025-04-23T08:58:22.410Z"
   },
   {
    "duration": 592,
    "start_time": "2025-04-23T08:58:47.296Z"
   },
   {
    "duration": 24586,
    "start_time": "2025-04-23T09:00:09.013Z"
   },
   {
    "duration": 4,
    "start_time": "2025-04-23T09:02:45.172Z"
   },
   {
    "duration": 3,
    "start_time": "2025-04-23T09:02:49.897Z"
   },
   {
    "duration": 331,
    "start_time": "2025-04-23T09:03:03.935Z"
   },
   {
    "duration": 891,
    "start_time": "2025-04-23T09:03:04.268Z"
   },
   {
    "duration": 12,
    "start_time": "2025-04-23T09:03:05.160Z"
   },
   {
    "duration": 9,
    "start_time": "2025-04-23T09:03:05.174Z"
   },
   {
    "duration": 7,
    "start_time": "2025-04-23T09:03:05.185Z"
   },
   {
    "duration": 8,
    "start_time": "2025-04-23T09:03:05.194Z"
   },
   {
    "duration": 32,
    "start_time": "2025-04-23T09:03:05.203Z"
   },
   {
    "duration": 109,
    "start_time": "2025-04-23T09:03:05.236Z"
   },
   {
    "duration": 9,
    "start_time": "2025-04-23T09:03:05.347Z"
   },
   {
    "duration": 115,
    "start_time": "2025-04-23T09:03:05.358Z"
   },
   {
    "duration": 98,
    "start_time": "2025-04-23T09:03:05.475Z"
   },
   {
    "duration": 28,
    "start_time": "2025-04-23T09:03:05.575Z"
   },
   {
    "duration": 26,
    "start_time": "2025-04-23T09:03:05.605Z"
   },
   {
    "duration": 4,
    "start_time": "2025-04-23T09:03:05.633Z"
   },
   {
    "duration": 20,
    "start_time": "2025-04-23T09:03:05.639Z"
   },
   {
    "duration": 22,
    "start_time": "2025-04-23T09:03:05.661Z"
   },
   {
    "duration": 3,
    "start_time": "2025-04-23T09:03:05.685Z"
   },
   {
    "duration": 4,
    "start_time": "2025-04-23T09:03:05.690Z"
   },
   {
    "duration": 37,
    "start_time": "2025-04-23T09:03:05.696Z"
   },
   {
    "duration": 3,
    "start_time": "2025-04-23T09:03:05.735Z"
   },
   {
    "duration": 793,
    "start_time": "2025-04-23T09:03:05.740Z"
   },
   {
    "duration": 38,
    "start_time": "2025-04-23T09:03:06.535Z"
   },
   {
    "duration": 8,
    "start_time": "2025-04-23T09:03:06.574Z"
   },
   {
    "duration": 8,
    "start_time": "2025-04-23T09:03:06.584Z"
   },
   {
    "duration": 6,
    "start_time": "2025-04-23T09:03:06.593Z"
   },
   {
    "duration": 35,
    "start_time": "2025-04-23T09:03:06.600Z"
   },
   {
    "duration": 13,
    "start_time": "2025-04-23T09:03:06.636Z"
   },
   {
    "duration": 14,
    "start_time": "2025-04-23T09:03:06.654Z"
   },
   {
    "duration": 7,
    "start_time": "2025-04-23T09:03:06.669Z"
   },
   {
    "duration": 15,
    "start_time": "2025-04-23T09:03:06.677Z"
   },
   {
    "duration": 60,
    "start_time": "2025-04-23T09:03:06.693Z"
   },
   {
    "duration": 19,
    "start_time": "2025-04-23T09:03:06.755Z"
   },
   {
    "duration": 18,
    "start_time": "2025-04-23T09:03:06.776Z"
   },
   {
    "duration": 60,
    "start_time": "2025-04-23T09:03:06.796Z"
   },
   {
    "duration": 14,
    "start_time": "2025-04-23T09:03:06.859Z"
   },
   {
    "duration": 12,
    "start_time": "2025-04-23T09:03:06.875Z"
   },
   {
    "duration": 379,
    "start_time": "2025-04-23T09:03:06.888Z"
   },
   {
    "duration": 131,
    "start_time": "2025-04-23T09:03:07.269Z"
   },
   {
    "duration": 222,
    "start_time": "2025-04-23T09:03:07.402Z"
   },
   {
    "duration": 190,
    "start_time": "2025-04-23T09:03:07.630Z"
   },
   {
    "duration": 192,
    "start_time": "2025-04-23T09:03:07.822Z"
   },
   {
    "duration": 6,
    "start_time": "2025-04-23T09:03:08.015Z"
   },
   {
    "duration": 223,
    "start_time": "2025-04-23T09:03:08.031Z"
   },
   {
    "duration": 50,
    "start_time": "2025-04-23T09:03:08.256Z"
   },
   {
    "duration": 368,
    "start_time": "2025-04-23T09:03:08.308Z"
   },
   {
    "duration": 183,
    "start_time": "2025-04-23T09:03:08.678Z"
   },
   {
    "duration": 10,
    "start_time": "2025-04-23T09:03:08.863Z"
   },
   {
    "duration": 4,
    "start_time": "2025-04-23T09:03:08.874Z"
   },
   {
    "duration": 285,
    "start_time": "2025-04-23T09:03:08.880Z"
   },
   {
    "duration": 4,
    "start_time": "2025-04-23T09:03:09.167Z"
   },
   {
    "duration": 604,
    "start_time": "2025-04-23T09:03:09.172Z"
   },
   {
    "duration": 136,
    "start_time": "2025-04-23T09:03:09.778Z"
   },
   {
    "duration": 19,
    "start_time": "2025-04-23T09:03:09.916Z"
   },
   {
    "duration": 3,
    "start_time": "2025-04-23T09:03:09.937Z"
   },
   {
    "duration": 4,
    "start_time": "2025-04-23T09:03:09.941Z"
   },
   {
    "duration": 94,
    "start_time": "2025-04-23T09:03:09.947Z"
   },
   {
    "duration": 113,
    "start_time": "2025-04-23T09:03:10.042Z"
   },
   {
    "duration": 24017,
    "start_time": "2025-04-23T09:03:10.157Z"
   },
   {
    "duration": 3,
    "start_time": "2025-04-23T09:03:34.176Z"
   },
   {
    "duration": 4,
    "start_time": "2025-04-23T09:03:34.181Z"
   },
   {
    "duration": 55,
    "start_time": "2025-04-23T09:03:34.188Z"
   },
   {
    "duration": 11,
    "start_time": "2025-04-23T09:03:34.244Z"
   },
   {
    "duration": 7,
    "start_time": "2025-04-23T09:03:34.256Z"
   },
   {
    "duration": 4,
    "start_time": "2025-04-23T09:03:34.265Z"
   },
   {
    "duration": 282,
    "start_time": "2025-04-24T02:30:21.373Z"
   },
   {
    "duration": 856,
    "start_time": "2025-04-24T02:30:21.657Z"
   },
   {
    "duration": 11,
    "start_time": "2025-04-24T02:30:22.515Z"
   },
   {
    "duration": 10,
    "start_time": "2025-04-24T02:30:22.529Z"
   },
   {
    "duration": 8,
    "start_time": "2025-04-24T02:30:22.541Z"
   },
   {
    "duration": 8,
    "start_time": "2025-04-24T02:30:22.551Z"
   },
   {
    "duration": 7,
    "start_time": "2025-04-24T02:30:22.560Z"
   },
   {
    "duration": 119,
    "start_time": "2025-04-24T02:30:22.569Z"
   },
   {
    "duration": 9,
    "start_time": "2025-04-24T02:30:22.690Z"
   },
   {
    "duration": 102,
    "start_time": "2025-04-24T02:30:22.702Z"
   },
   {
    "duration": 83,
    "start_time": "2025-04-24T02:30:22.805Z"
   },
   {
    "duration": 36,
    "start_time": "2025-04-24T02:30:22.890Z"
   },
   {
    "duration": 12,
    "start_time": "2025-04-24T02:30:22.928Z"
   },
   {
    "duration": 3,
    "start_time": "2025-04-24T02:30:22.942Z"
   },
   {
    "duration": 18,
    "start_time": "2025-04-24T02:30:22.946Z"
   },
   {
    "duration": 19,
    "start_time": "2025-04-24T02:30:22.965Z"
   },
   {
    "duration": 3,
    "start_time": "2025-04-24T02:30:23.011Z"
   },
   {
    "duration": 3,
    "start_time": "2025-04-24T02:30:23.016Z"
   },
   {
    "duration": 4,
    "start_time": "2025-04-24T02:30:23.021Z"
   },
   {
    "duration": 3,
    "start_time": "2025-04-24T02:30:23.027Z"
   },
   {
    "duration": 722,
    "start_time": "2025-04-24T02:30:23.032Z"
   },
   {
    "duration": 37,
    "start_time": "2025-04-24T02:30:23.755Z"
   },
   {
    "duration": 19,
    "start_time": "2025-04-24T02:30:23.793Z"
   },
   {
    "duration": 6,
    "start_time": "2025-04-24T02:30:23.814Z"
   },
   {
    "duration": 6,
    "start_time": "2025-04-24T02:30:23.822Z"
   },
   {
    "duration": 6,
    "start_time": "2025-04-24T02:30:23.829Z"
   },
   {
    "duration": 11,
    "start_time": "2025-04-24T02:30:23.837Z"
   },
   {
    "duration": 14,
    "start_time": "2025-04-24T02:30:23.853Z"
   },
   {
    "duration": 8,
    "start_time": "2025-04-24T02:30:23.870Z"
   },
   {
    "duration": 44,
    "start_time": "2025-04-24T02:30:23.879Z"
   },
   {
    "duration": 32,
    "start_time": "2025-04-24T02:30:23.925Z"
   },
   {
    "duration": 18,
    "start_time": "2025-04-24T02:30:23.959Z"
   },
   {
    "duration": 41,
    "start_time": "2025-04-24T02:30:23.979Z"
   },
   {
    "duration": 37,
    "start_time": "2025-04-24T02:30:24.022Z"
   },
   {
    "duration": 12,
    "start_time": "2025-04-24T02:30:24.061Z"
   },
   {
    "duration": 37,
    "start_time": "2025-04-24T02:30:24.074Z"
   },
   {
    "duration": 346,
    "start_time": "2025-04-24T02:30:24.113Z"
   },
   {
    "duration": 128,
    "start_time": "2025-04-24T02:30:24.461Z"
   },
   {
    "duration": 222,
    "start_time": "2025-04-24T02:30:24.590Z"
   },
   {
    "duration": 184,
    "start_time": "2025-04-24T02:30:24.814Z"
   },
   {
    "duration": 212,
    "start_time": "2025-04-24T02:30:25.000Z"
   },
   {
    "duration": 7,
    "start_time": "2025-04-24T02:30:25.213Z"
   },
   {
    "duration": 233,
    "start_time": "2025-04-24T02:30:25.221Z"
   },
   {
    "duration": 49,
    "start_time": "2025-04-24T02:30:25.455Z"
   },
   {
    "duration": 365,
    "start_time": "2025-04-24T02:30:25.513Z"
   },
   {
    "duration": 167,
    "start_time": "2025-04-24T02:30:25.880Z"
   },
   {
    "duration": 11,
    "start_time": "2025-04-24T02:30:26.049Z"
   },
   {
    "duration": 5,
    "start_time": "2025-04-24T02:30:26.063Z"
   },
   {
    "duration": 232,
    "start_time": "2025-04-24T02:30:26.069Z"
   },
   {
    "duration": 9,
    "start_time": "2025-04-24T02:30:26.303Z"
   },
   {
    "duration": 585,
    "start_time": "2025-04-24T02:30:26.314Z"
   },
   {
    "duration": 136,
    "start_time": "2025-04-24T02:30:26.901Z"
   },
   {
    "duration": 11,
    "start_time": "2025-04-24T02:30:27.039Z"
   },
   {
    "duration": 3,
    "start_time": "2025-04-24T02:30:27.051Z"
   },
   {
    "duration": 4,
    "start_time": "2025-04-24T02:30:27.055Z"
   },
   {
    "duration": 99,
    "start_time": "2025-04-24T02:30:27.061Z"
   },
   {
    "duration": 108,
    "start_time": "2025-04-24T02:30:27.162Z"
   },
   {
    "duration": 24451,
    "start_time": "2025-04-24T02:30:27.272Z"
   },
   {
    "duration": 4,
    "start_time": "2025-04-24T02:30:51.725Z"
   },
   {
    "duration": 4,
    "start_time": "2025-04-24T02:30:51.731Z"
   },
   {
    "duration": 39,
    "start_time": "2025-04-24T02:30:51.736Z"
   },
   {
    "duration": 11,
    "start_time": "2025-04-24T02:30:51.776Z"
   },
   {
    "duration": 27,
    "start_time": "2025-04-24T02:30:51.788Z"
   },
   {
    "duration": 3,
    "start_time": "2025-04-24T02:30:51.817Z"
   },
   {
    "duration": 161,
    "start_time": "2025-04-24T03:39:22.721Z"
   },
   {
    "duration": 319,
    "start_time": "2025-04-24T03:39:36.648Z"
   },
   {
    "duration": 1258,
    "start_time": "2025-04-24T03:39:37.995Z"
   },
   {
    "duration": 11,
    "start_time": "2025-04-24T03:39:41.459Z"
   },
   {
    "duration": 10,
    "start_time": "2025-04-24T03:39:43.974Z"
   },
   {
    "duration": 8,
    "start_time": "2025-04-24T03:39:46.373Z"
   },
   {
    "duration": 8,
    "start_time": "2025-04-24T03:39:48.726Z"
   },
   {
    "duration": 23,
    "start_time": "2025-04-24T03:39:51.493Z"
   },
   {
    "duration": 81,
    "start_time": "2025-04-24T03:40:07.669Z"
   },
   {
    "duration": 9,
    "start_time": "2025-04-24T03:40:10.846Z"
   },
   {
    "duration": 88,
    "start_time": "2025-04-24T03:40:20.060Z"
   },
   {
    "duration": 83,
    "start_time": "2025-04-24T03:40:22.108Z"
   },
   {
    "duration": 31,
    "start_time": "2025-04-24T03:40:23.233Z"
   },
   {
    "duration": 14,
    "start_time": "2025-04-24T03:40:29.379Z"
   },
   {
    "duration": 4,
    "start_time": "2025-04-24T03:40:31.428Z"
   },
   {
    "duration": 20,
    "start_time": "2025-04-24T03:40:32.963Z"
   },
   {
    "duration": 23,
    "start_time": "2025-04-24T03:40:35.836Z"
   },
   {
    "duration": 34,
    "start_time": "2025-04-24T03:45:59.005Z"
   },
   {
    "duration": 24,
    "start_time": "2025-04-24T03:46:26.102Z"
   },
   {
    "duration": 3,
    "start_time": "2025-04-24T03:51:52.805Z"
   },
   {
    "duration": 8,
    "start_time": "2025-04-24T03:52:02.385Z"
   },
   {
    "duration": 9,
    "start_time": "2025-04-24T03:52:15.530Z"
   },
   {
    "duration": 6,
    "start_time": "2025-04-24T03:52:30.586Z"
   },
   {
    "duration": 4,
    "start_time": "2025-04-24T03:52:32.432Z"
   },
   {
    "duration": 4,
    "start_time": "2025-04-24T03:52:35.253Z"
   },
   {
    "duration": 4,
    "start_time": "2025-04-24T03:52:36.828Z"
   },
   {
    "duration": 835,
    "start_time": "2025-04-24T03:52:42.562Z"
   },
   {
    "duration": 37,
    "start_time": "2025-04-24T03:52:49.530Z"
   },
   {
    "duration": 7,
    "start_time": "2025-04-24T03:53:19.839Z"
   },
   {
    "duration": 7,
    "start_time": "2025-04-24T03:53:22.911Z"
   },
   {
    "duration": 7,
    "start_time": "2025-04-24T03:53:40.726Z"
   },
   {
    "duration": 6,
    "start_time": "2025-04-24T03:53:44.823Z"
   },
   {
    "duration": 13,
    "start_time": "2025-04-24T03:54:06.537Z"
   },
   {
    "duration": 16,
    "start_time": "2025-04-24T03:59:38.209Z"
   },
   {
    "duration": 7,
    "start_time": "2025-04-24T03:59:45.377Z"
   },
   {
    "duration": 15,
    "start_time": "2025-04-24T03:59:57.251Z"
   },
   {
    "duration": 30,
    "start_time": "2025-04-24T03:59:59.411Z"
   },
   {
    "duration": 19,
    "start_time": "2025-04-24T04:00:18.419Z"
   },
   {
    "duration": 13,
    "start_time": "2025-04-24T04:00:34.838Z"
   },
   {
    "duration": 18,
    "start_time": "2025-04-24T04:00:39.046Z"
   },
   {
    "duration": 12,
    "start_time": "2025-04-24T04:05:13.570Z"
   },
   {
    "duration": 15,
    "start_time": "2025-04-24T04:09:28.747Z"
   },
   {
    "duration": 9,
    "start_time": "2025-04-24T04:10:13.394Z"
   },
   {
    "duration": 11,
    "start_time": "2025-04-24T04:12:25.319Z"
   },
   {
    "duration": 10,
    "start_time": "2025-04-24T04:13:31.641Z"
   },
   {
    "duration": 9,
    "start_time": "2025-04-24T04:17:06.991Z"
   },
   {
    "duration": 7,
    "start_time": "2025-04-24T04:17:21.172Z"
   },
   {
    "duration": 26,
    "start_time": "2025-04-24T04:35:04.852Z"
   },
   {
    "duration": 7,
    "start_time": "2025-04-24T04:35:33.672Z"
   },
   {
    "duration": 26,
    "start_time": "2025-04-24T04:38:57.817Z"
   },
   {
    "duration": 23,
    "start_time": "2025-04-24T04:40:42.793Z"
   },
   {
    "duration": 23,
    "start_time": "2025-04-24T04:42:37.974Z"
   },
   {
    "duration": 26,
    "start_time": "2025-04-24T04:43:15.236Z"
   },
   {
    "duration": 158,
    "start_time": "2025-04-25T03:58:20.707Z"
   },
   {
    "duration": 298,
    "start_time": "2025-04-25T03:58:27.823Z"
   },
   {
    "duration": 1134,
    "start_time": "2025-04-25T03:58:28.123Z"
   },
   {
    "duration": 11,
    "start_time": "2025-04-25T03:58:29.259Z"
   },
   {
    "duration": 9,
    "start_time": "2025-04-25T03:58:29.273Z"
   },
   {
    "duration": 8,
    "start_time": "2025-04-25T03:58:29.284Z"
   },
   {
    "duration": 7,
    "start_time": "2025-04-25T03:58:29.294Z"
   },
   {
    "duration": 55,
    "start_time": "2025-04-25T03:58:29.303Z"
   },
   {
    "duration": 100,
    "start_time": "2025-04-25T03:58:29.360Z"
   },
   {
    "duration": 9,
    "start_time": "2025-04-25T03:58:29.462Z"
   },
   {
    "duration": 100,
    "start_time": "2025-04-25T03:58:29.475Z"
   },
   {
    "duration": 84,
    "start_time": "2025-04-25T03:58:29.577Z"
   },
   {
    "duration": 28,
    "start_time": "2025-04-25T03:58:29.663Z"
   },
   {
    "duration": 24,
    "start_time": "2025-04-25T03:58:29.693Z"
   },
   {
    "duration": 25,
    "start_time": "2025-04-25T03:58:29.718Z"
   },
   {
    "duration": 7,
    "start_time": "2025-04-25T03:58:29.744Z"
   },
   {
    "duration": 8,
    "start_time": "2025-04-25T03:58:29.752Z"
   },
   {
    "duration": 4,
    "start_time": "2025-04-25T03:58:29.763Z"
   },
   {
    "duration": 3,
    "start_time": "2025-04-25T03:58:29.769Z"
   },
   {
    "duration": 3,
    "start_time": "2025-04-25T03:58:29.773Z"
   },
   {
    "duration": 3,
    "start_time": "2025-04-25T03:58:29.778Z"
   },
   {
    "duration": 834,
    "start_time": "2025-04-25T03:58:29.783Z"
   },
   {
    "duration": 47,
    "start_time": "2025-04-25T03:58:30.619Z"
   },
   {
    "duration": 7,
    "start_time": "2025-04-25T03:58:30.667Z"
   },
   {
    "duration": 6,
    "start_time": "2025-04-25T03:58:30.676Z"
   },
   {
    "duration": 5,
    "start_time": "2025-04-25T03:58:30.684Z"
   },
   {
    "duration": 6,
    "start_time": "2025-04-25T03:58:30.691Z"
   },
   {
    "duration": 12,
    "start_time": "2025-04-25T03:58:30.698Z"
   },
   {
    "duration": 15,
    "start_time": "2025-04-25T03:58:30.743Z"
   },
   {
    "duration": 7,
    "start_time": "2025-04-25T03:58:30.760Z"
   },
   {
    "duration": 15,
    "start_time": "2025-04-25T03:58:30.770Z"
   },
   {
    "duration": 57,
    "start_time": "2025-04-25T03:58:30.787Z"
   },
   {
    "duration": 14,
    "start_time": "2025-04-25T03:58:30.846Z"
   },
   {
    "duration": 24,
    "start_time": "2025-04-25T03:58:30.862Z"
   },
   {
    "duration": 61,
    "start_time": "2025-04-25T03:58:30.888Z"
   },
   {
    "duration": 13,
    "start_time": "2025-04-25T03:58:30.951Z"
   },
   {
    "duration": 15,
    "start_time": "2025-04-25T03:58:30.966Z"
   },
   {
    "duration": 2161,
    "start_time": "2025-04-25T03:58:30.982Z"
   },
   {
    "duration": 137,
    "start_time": "2025-04-25T03:58:33.145Z"
   },
   {
    "duration": 225,
    "start_time": "2025-04-25T03:58:33.284Z"
   },
   {
    "duration": 186,
    "start_time": "2025-04-25T03:58:33.511Z"
   },
   {
    "duration": 195,
    "start_time": "2025-04-25T03:58:33.699Z"
   },
   {
    "duration": 6,
    "start_time": "2025-04-25T03:58:33.898Z"
   },
   {
    "duration": 280,
    "start_time": "2025-04-25T03:58:33.906Z"
   },
   {
    "duration": 55,
    "start_time": "2025-04-25T03:58:34.188Z"
   },
   {
    "duration": 360,
    "start_time": "2025-04-25T03:58:34.246Z"
   },
   {
    "duration": 171,
    "start_time": "2025-04-25T03:58:34.609Z"
   },
   {
    "duration": 11,
    "start_time": "2025-04-25T03:58:34.782Z"
   },
   {
    "duration": 4,
    "start_time": "2025-04-25T03:58:34.795Z"
   },
   {
    "duration": 249,
    "start_time": "2025-04-25T03:58:34.801Z"
   },
   {
    "duration": 4,
    "start_time": "2025-04-25T03:58:35.051Z"
   },
   {
    "duration": 561,
    "start_time": "2025-04-25T03:58:35.057Z"
   },
   {
    "duration": 131,
    "start_time": "2025-04-25T03:58:35.619Z"
   },
   {
    "duration": 11,
    "start_time": "2025-04-25T03:58:35.753Z"
   },
   {
    "duration": 4,
    "start_time": "2025-04-25T03:58:35.765Z"
   },
   {
    "duration": 5,
    "start_time": "2025-04-25T03:58:35.771Z"
   },
   {
    "duration": 106,
    "start_time": "2025-04-25T03:58:35.780Z"
   },
   {
    "duration": 102,
    "start_time": "2025-04-25T03:58:35.888Z"
   },
   {
    "duration": 25016,
    "start_time": "2025-04-25T03:58:35.992Z"
   },
   {
    "duration": 4,
    "start_time": "2025-04-25T03:59:01.010Z"
   },
   {
    "duration": 4,
    "start_time": "2025-04-25T03:59:01.016Z"
   },
   {
    "duration": 58,
    "start_time": "2025-04-25T03:59:01.021Z"
   },
   {
    "duration": 11,
    "start_time": "2025-04-25T03:59:01.081Z"
   },
   {
    "duration": 8,
    "start_time": "2025-04-25T03:59:01.093Z"
   },
   {
    "duration": 3,
    "start_time": "2025-04-25T03:59:01.102Z"
   },
   {
    "duration": 702,
    "start_time": "2025-04-25T04:07:50.860Z"
   },
   {
    "duration": 79,
    "start_time": "2025-04-25T04:09:41.168Z"
   },
   {
    "duration": 197,
    "start_time": "2025-04-25T04:10:12.234Z"
   },
   {
    "duration": 121,
    "start_time": "2025-04-25T04:28:04.353Z"
   },
   {
    "duration": 5,
    "start_time": "2025-04-25T04:31:28.378Z"
   },
   {
    "duration": 665,
    "start_time": "2025-04-25T04:32:04.714Z"
   },
   {
    "duration": 77,
    "start_time": "2025-04-25T04:34:20.820Z"
   },
   {
    "duration": 134,
    "start_time": "2025-04-25T04:35:18.105Z"
   },
   {
    "duration": 16,
    "start_time": "2025-04-25T04:38:05.071Z"
   },
   {
    "duration": 235,
    "start_time": "2025-04-25T04:38:10.021Z"
   },
   {
    "duration": 198,
    "start_time": "2025-04-25T04:39:50.899Z"
   },
   {
    "duration": 17,
    "start_time": "2025-04-25T04:40:03.037Z"
   },
   {
    "duration": 123,
    "start_time": "2025-04-25T04:40:07.149Z"
   },
   {
    "duration": 17,
    "start_time": "2025-04-25T04:40:09.987Z"
   },
   {
    "duration": 200,
    "start_time": "2025-04-25T04:40:11.954Z"
   },
   {
    "duration": 238,
    "start_time": "2025-04-25T04:41:31.354Z"
   },
   {
    "duration": 573,
    "start_time": "2025-04-25T04:45:01.075Z"
   },
   {
    "duration": 7,
    "start_time": "2025-04-25T04:46:55.262Z"
   },
   {
    "duration": 367,
    "start_time": "2025-04-25T04:47:45.210Z"
   },
   {
    "duration": 355,
    "start_time": "2025-04-25T04:48:39.516Z"
   },
   {
    "duration": 545,
    "start_time": "2025-04-25T04:49:03.089Z"
   },
   {
    "duration": 8,
    "start_time": "2025-04-25T04:49:07.924Z"
   },
   {
    "duration": 438,
    "start_time": "2025-04-25T04:49:11.048Z"
   },
   {
    "duration": 49,
    "start_time": "2025-04-25T04:52:57.686Z"
   },
   {
    "duration": 17,
    "start_time": "2025-04-25T04:55:50.092Z"
   },
   {
    "duration": 4,
    "start_time": "2025-04-25T04:56:06.518Z"
   },
   {
    "duration": 195,
    "start_time": "2025-04-25T04:56:08.439Z"
   },
   {
    "duration": 16,
    "start_time": "2025-04-25T04:56:31.234Z"
   },
   {
    "duration": 4,
    "start_time": "2025-04-25T04:56:35.445Z"
   },
   {
    "duration": 192,
    "start_time": "2025-04-25T04:56:37.258Z"
   },
   {
    "duration": 571,
    "start_time": "2025-04-25T04:57:44.657Z"
   },
   {
    "duration": 197,
    "start_time": "2025-04-25T04:57:46.433Z"
   },
   {
    "duration": 217,
    "start_time": "2025-04-25T05:00:39.811Z"
   },
   {
    "duration": 342,
    "start_time": "2025-04-25T05:01:44.659Z"
   },
   {
    "duration": 895,
    "start_time": "2025-04-25T05:01:45.003Z"
   },
   {
    "duration": 12,
    "start_time": "2025-04-25T05:01:45.900Z"
   },
   {
    "duration": 9,
    "start_time": "2025-04-25T05:01:45.914Z"
   },
   {
    "duration": 25,
    "start_time": "2025-04-25T05:01:45.924Z"
   },
   {
    "duration": 8,
    "start_time": "2025-04-25T05:01:45.950Z"
   },
   {
    "duration": 24,
    "start_time": "2025-04-25T05:01:45.960Z"
   },
   {
    "duration": 108,
    "start_time": "2025-04-25T05:01:45.986Z"
   },
   {
    "duration": 9,
    "start_time": "2025-04-25T05:01:46.096Z"
   },
   {
    "duration": 105,
    "start_time": "2025-04-25T05:01:46.107Z"
   },
   {
    "duration": 99,
    "start_time": "2025-04-25T05:01:46.214Z"
   },
   {
    "duration": 37,
    "start_time": "2025-04-25T05:01:46.314Z"
   },
   {
    "duration": 24,
    "start_time": "2025-04-25T05:01:46.353Z"
   },
   {
    "duration": 3,
    "start_time": "2025-04-25T05:01:46.379Z"
   },
   {
    "duration": 5,
    "start_time": "2025-04-25T05:01:46.384Z"
   },
   {
    "duration": 7,
    "start_time": "2025-04-25T05:01:46.390Z"
   },
   {
    "duration": 3,
    "start_time": "2025-04-25T05:01:46.399Z"
   },
   {
    "duration": 3,
    "start_time": "2025-04-25T05:01:46.404Z"
   },
   {
    "duration": 3,
    "start_time": "2025-04-25T05:01:46.442Z"
   },
   {
    "duration": 4,
    "start_time": "2025-04-25T05:01:46.447Z"
   },
   {
    "duration": 776,
    "start_time": "2025-04-25T05:01:46.452Z"
   },
   {
    "duration": 45,
    "start_time": "2025-04-25T05:01:47.230Z"
   },
   {
    "duration": 8,
    "start_time": "2025-04-25T05:01:47.277Z"
   },
   {
    "duration": 6,
    "start_time": "2025-04-25T05:01:47.286Z"
   },
   {
    "duration": 7,
    "start_time": "2025-04-25T05:01:47.294Z"
   },
   {
    "duration": 7,
    "start_time": "2025-04-25T05:01:47.302Z"
   },
   {
    "duration": 40,
    "start_time": "2025-04-25T05:01:47.310Z"
   },
   {
    "duration": 14,
    "start_time": "2025-04-25T05:01:47.355Z"
   },
   {
    "duration": 7,
    "start_time": "2025-04-25T05:01:47.371Z"
   },
   {
    "duration": 15,
    "start_time": "2025-04-25T05:01:47.379Z"
   },
   {
    "duration": 55,
    "start_time": "2025-04-25T05:01:47.396Z"
   },
   {
    "duration": 13,
    "start_time": "2025-04-25T05:01:47.453Z"
   },
   {
    "duration": 22,
    "start_time": "2025-04-25T05:01:47.468Z"
   },
   {
    "duration": 59,
    "start_time": "2025-04-25T05:01:47.492Z"
   },
   {
    "duration": 15,
    "start_time": "2025-04-25T05:01:47.553Z"
   },
   {
    "duration": 13,
    "start_time": "2025-04-25T05:01:47.571Z"
   },
   {
    "duration": 366,
    "start_time": "2025-04-25T05:01:47.586Z"
   },
   {
    "duration": 125,
    "start_time": "2025-04-25T05:01:47.954Z"
   },
   {
    "duration": 222,
    "start_time": "2025-04-25T05:01:48.081Z"
   },
   {
    "duration": 188,
    "start_time": "2025-04-25T05:01:48.305Z"
   },
   {
    "duration": 193,
    "start_time": "2025-04-25T05:01:48.494Z"
   },
   {
    "duration": 6,
    "start_time": "2025-04-25T05:01:48.689Z"
   },
   {
    "duration": 231,
    "start_time": "2025-04-25T05:01:48.697Z"
   },
   {
    "duration": 61,
    "start_time": "2025-04-25T05:01:48.930Z"
   },
   {
    "duration": 133,
    "start_time": "2025-04-25T05:01:48.993Z"
   },
   {
    "duration": 182,
    "start_time": "2025-04-25T05:01:49.128Z"
   },
   {
    "duration": 17,
    "start_time": "2025-04-25T05:01:49.311Z"
   },
   {
    "duration": 230,
    "start_time": "2025-04-25T05:01:49.329Z"
   },
   {
    "duration": 549,
    "start_time": "2025-04-25T05:01:49.561Z"
   },
   {
    "duration": 5,
    "start_time": "2025-04-25T05:01:50.112Z"
   },
   {
    "duration": 427,
    "start_time": "2025-04-25T05:01:50.119Z"
   },
   {
    "duration": 151,
    "start_time": "2025-04-25T05:01:50.549Z"
   },
   {
    "duration": 17,
    "start_time": "2025-04-25T05:01:50.702Z"
   },
   {
    "duration": 4,
    "start_time": "2025-04-25T05:01:50.720Z"
   },
   {
    "duration": 211,
    "start_time": "2025-04-25T05:01:50.726Z"
   },
   {
    "duration": 91,
    "start_time": "2025-04-25T05:01:50.943Z"
   },
   {
    "duration": 107,
    "start_time": "2025-04-25T05:01:51.044Z"
   },
   {
    "duration": 24615,
    "start_time": "2025-04-25T05:01:51.153Z"
   },
   {
    "duration": 616,
    "start_time": "2025-04-25T05:02:15.770Z"
   },
   {
    "duration": 216,
    "start_time": "2025-04-25T05:02:16.388Z"
   },
   {
    "duration": 46,
    "start_time": "2025-04-25T05:02:16.606Z"
   },
   {
    "duration": 12,
    "start_time": "2025-04-25T05:02:16.653Z"
   },
   {
    "duration": 225,
    "start_time": "2025-04-25T05:02:16.666Z"
   },
   {
    "duration": 343,
    "start_time": "2025-05-09T23:38:09.206Z"
   },
   {
    "duration": 975,
    "start_time": "2025-05-09T23:38:09.551Z"
   },
   {
    "duration": 10,
    "start_time": "2025-05-09T23:38:10.530Z"
   },
   {
    "duration": 10,
    "start_time": "2025-05-09T23:38:10.543Z"
   },
   {
    "duration": 10,
    "start_time": "2025-05-09T23:38:10.555Z"
   },
   {
    "duration": 27,
    "start_time": "2025-05-09T23:38:10.566Z"
   },
   {
    "duration": 25,
    "start_time": "2025-05-09T23:38:10.595Z"
   },
   {
    "duration": 101,
    "start_time": "2025-05-09T23:38:10.621Z"
   },
   {
    "duration": 9,
    "start_time": "2025-05-09T23:38:10.724Z"
   },
   {
    "duration": 115,
    "start_time": "2025-05-09T23:38:10.736Z"
   },
   {
    "duration": 97,
    "start_time": "2025-05-09T23:38:10.853Z"
   },
   {
    "duration": 38,
    "start_time": "2025-05-09T23:38:10.952Z"
   },
   {
    "duration": 27,
    "start_time": "2025-05-09T23:38:10.992Z"
   },
   {
    "duration": 6,
    "start_time": "2025-05-09T23:38:11.022Z"
   },
   {
    "duration": 6,
    "start_time": "2025-05-09T23:38:11.030Z"
   },
   {
    "duration": 11,
    "start_time": "2025-05-09T23:38:11.038Z"
   },
   {
    "duration": 4,
    "start_time": "2025-05-09T23:38:11.051Z"
   },
   {
    "duration": 5,
    "start_time": "2025-05-09T23:38:11.087Z"
   },
   {
    "duration": 4,
    "start_time": "2025-05-09T23:38:11.094Z"
   },
   {
    "duration": 4,
    "start_time": "2025-05-09T23:38:11.099Z"
   },
   {
    "duration": 804,
    "start_time": "2025-05-09T23:38:11.104Z"
   },
   {
    "duration": 37,
    "start_time": "2025-05-09T23:38:11.910Z"
   },
   {
    "duration": 6,
    "start_time": "2025-05-09T23:38:11.949Z"
   },
   {
    "duration": 6,
    "start_time": "2025-05-09T23:38:11.957Z"
   },
   {
    "duration": 27,
    "start_time": "2025-05-09T23:38:11.964Z"
   },
   {
    "duration": 6,
    "start_time": "2025-05-09T23:38:11.993Z"
   },
   {
    "duration": 12,
    "start_time": "2025-05-09T23:38:12.000Z"
   },
   {
    "duration": 16,
    "start_time": "2025-05-09T23:38:12.017Z"
   },
   {
    "duration": 7,
    "start_time": "2025-05-09T23:38:12.035Z"
   },
   {
    "duration": 45,
    "start_time": "2025-05-09T23:38:12.044Z"
   },
   {
    "duration": 37,
    "start_time": "2025-05-09T23:38:12.091Z"
   },
   {
    "duration": 13,
    "start_time": "2025-05-09T23:38:12.129Z"
   },
   {
    "duration": 23,
    "start_time": "2025-05-09T23:38:12.144Z"
   },
   {
    "duration": 38,
    "start_time": "2025-05-09T23:38:12.187Z"
   },
   {
    "duration": 14,
    "start_time": "2025-05-09T23:38:12.227Z"
   },
   {
    "duration": 14,
    "start_time": "2025-05-09T23:38:12.243Z"
   },
   {
    "duration": 2043,
    "start_time": "2025-05-09T23:38:12.258Z"
   },
   {
    "duration": 163,
    "start_time": "2025-05-09T23:38:14.303Z"
   },
   {
    "duration": 233,
    "start_time": "2025-05-09T23:38:14.468Z"
   },
   {
    "duration": 188,
    "start_time": "2025-05-09T23:38:14.702Z"
   },
   {
    "duration": 205,
    "start_time": "2025-05-09T23:38:14.892Z"
   },
   {
    "duration": 7,
    "start_time": "2025-05-09T23:38:15.101Z"
   },
   {
    "duration": 233,
    "start_time": "2025-05-09T23:38:15.110Z"
   },
   {
    "duration": 64,
    "start_time": "2025-05-09T23:38:15.345Z"
   },
   {
    "duration": 132,
    "start_time": "2025-05-09T23:38:15.411Z"
   },
   {
    "duration": 220,
    "start_time": "2025-05-09T23:38:15.545Z"
   },
   {
    "duration": 23,
    "start_time": "2025-05-09T23:38:15.767Z"
   },
   {
    "duration": 212,
    "start_time": "2025-05-09T23:38:15.792Z"
   },
   {
    "duration": 614,
    "start_time": "2025-05-09T23:38:16.006Z"
   },
   {
    "duration": 7,
    "start_time": "2025-05-09T23:38:16.622Z"
   },
   {
    "duration": 443,
    "start_time": "2025-05-09T23:38:16.631Z"
   },
   {
    "duration": 147,
    "start_time": "2025-05-09T23:38:17.076Z"
   },
   {
    "duration": 24,
    "start_time": "2025-05-09T23:38:17.224Z"
   },
   {
    "duration": 5,
    "start_time": "2025-05-09T23:38:17.251Z"
   },
   {
    "duration": 214,
    "start_time": "2025-05-09T23:38:17.258Z"
   },
   {
    "duration": 95,
    "start_time": "2025-05-09T23:38:17.474Z"
   },
   {
    "duration": 112,
    "start_time": "2025-05-09T23:38:17.571Z"
   },
   {
    "duration": 24874,
    "start_time": "2025-05-09T23:38:17.684Z"
   },
   {
    "duration": 608,
    "start_time": "2025-05-09T23:38:42.560Z"
   },
   {
    "duration": 207,
    "start_time": "2025-05-09T23:38:43.169Z"
   },
   {
    "duration": 42,
    "start_time": "2025-05-09T23:38:43.377Z"
   },
   {
    "duration": 11,
    "start_time": "2025-05-09T23:38:43.421Z"
   },
   {
    "duration": 222,
    "start_time": "2025-05-09T23:38:43.434Z"
   }
  ],
  "colab": {
   "provenance": []
  },
  "kernelspec": {
   "display_name": "Python 3 (ipykernel)",
   "language": "python",
   "name": "python3"
  },
  "language_info": {
   "codemirror_mode": {
    "name": "ipython",
    "version": 3
   },
   "file_extension": ".py",
   "mimetype": "text/x-python",
   "name": "python",
   "nbconvert_exporter": "python",
   "pygments_lexer": "ipython3",
   "version": "3.9.19"
  },
  "toc": {
   "base_numbering": 1,
   "nav_menu": {},
   "number_sections": true,
   "sideBar": true,
   "skip_h1_title": true,
   "title_cell": "Table of Contents",
   "title_sidebar": "Contents",
   "toc_cell": false,
   "toc_position": {},
   "toc_section_display": true,
   "toc_window_display": false
  },
  "vscode": {
   "interpreter": {
    "hash": "01a7be9ec63e704a62cefc5fe7a4756944464ee731be31632bdf42a4cb4688cf"
   }
  }
 },
 "nbformat": 4,
 "nbformat_minor": 5
}
