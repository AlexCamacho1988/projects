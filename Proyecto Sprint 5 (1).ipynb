{
 "cells": [
  {
   "cell_type": "markdown",
   "metadata": {
    "id": "3rYiDeEH0q0f"
   },
   "source": [
    "# ¿Cuál es la mejor tarifa?\n",
    "\n",
    "Trabajas como analista para el operador de telecomunicaciones Megaline. La empresa ofrece a sus clientes dos tarifas de prepago, Surf y Ultimate. El departamento comercial quiere saber cuál de las tarifas genera más ingresos para poder ajustar el presupuesto de publicidad.\n",
    "\n",
    "Vas a realizar un análisis preliminar de las tarifas basado en una selección de clientes relativamente pequeña. Tendrás los datos de 500 clientes de Megaline: quiénes son los clientes, de dónde son, qué tarifa usan, así como la cantidad de llamadas que hicieron y los mensajes de texto que enviaron en 2018. Tu trabajo es analizar el comportamiento de los clientes y determinar qué tarifa de prepago genera más ingresos."
   ]
  },
  {
   "cell_type": "markdown",
   "metadata": {
    "id": "MQi4IPy70q0y"
   },
   "source": [
    "## Inicialización"
   ]
  },
  {
   "cell_type": "code",
   "execution_count": 1,
   "metadata": {
    "id": "MtYIuBxu0q0z"
   },
   "outputs": [],
   "source": [
    "# Cargar todas las librerías\n",
    "from scipy import stats as st\n",
    "import pandas as pd\n",
    "import numpy as np\n",
    "import math\n",
    "from matplotlib import pyplot as plt\n",
    "import seaborn as sns\n"
   ]
  },
  {
   "cell_type": "markdown",
   "metadata": {
    "id": "4ysWWC5i0q00"
   },
   "source": [
    "## Cargar datos"
   ]
  },
  {
   "cell_type": "code",
   "execution_count": 2,
   "metadata": {
    "id": "CCqPW7rS0q01"
   },
   "outputs": [],
   "source": [
    "# Carga los archivos de datos en diferentes DataFrames\n",
    "\n",
    "df_calls = pd.read_csv('/datasets/megaline_calls.csv', sep = ',')\n",
    "df_internet = pd.read_csv('/datasets/megaline_internet.csv', sep = ',')\n",
    "df_messages = pd.read_csv('/datasets/megaline_messages.csv', sep = ',')\n",
    "df_plans = pd.read_csv('/datasets/megaline_plans.csv', sep = ',')\n",
    "df_users = pd.read_csv('/datasets/megaline_users.csv', sep = ',')\n",
    "#print(df_plans)\n"
   ]
  },
  {
   "cell_type": "markdown",
   "metadata": {
    "id": "69qqoJ3r0q01"
   },
   "source": [
    "## Preparar los datos"
   ]
  },
  {
   "cell_type": "markdown",
   "metadata": {
    "id": "ohBhimvH0q01"
   },
   "source": [
    "## Tarifas"
   ]
  },
  {
   "cell_type": "code",
   "execution_count": 3,
   "metadata": {
    "id": "GptqP3Q40q02"
   },
   "outputs": [
    {
     "name": "stdout",
     "output_type": "stream",
     "text": [
      "<class 'pandas.core.frame.DataFrame'>\n",
      "RangeIndex: 2 entries, 0 to 1\n",
      "Data columns (total 8 columns):\n",
      " #   Column                 Non-Null Count  Dtype  \n",
      "---  ------                 --------------  -----  \n",
      " 0   messages_included      2 non-null      int64  \n",
      " 1   mb_per_month_included  2 non-null      int64  \n",
      " 2   minutes_included       2 non-null      int64  \n",
      " 3   usd_monthly_pay        2 non-null      int64  \n",
      " 4   usd_per_gb             2 non-null      int64  \n",
      " 5   usd_per_message        2 non-null      float64\n",
      " 6   usd_per_minute         2 non-null      float64\n",
      " 7   plan_name              2 non-null      object \n",
      "dtypes: float64(2), int64(5), object(1)\n",
      "memory usage: 256.0+ bytes\n"
     ]
    }
   ],
   "source": [
    "# Imprime la información general/resumida sobre el DataFrame de las tarifas\n",
    "df_plans.info()\n"
   ]
  },
  {
   "cell_type": "code",
   "execution_count": 4,
   "metadata": {
    "id": "64xzjwL70q02"
   },
   "outputs": [
    {
     "name": "stdout",
     "output_type": "stream",
     "text": [
      "   messages_included  mb_per_month_included  minutes_included  \\\n",
      "0                 50                  15360               500   \n",
      "1               1000                  30720              3000   \n",
      "\n",
      "   usd_monthly_pay  usd_per_gb  usd_per_message  usd_per_minute plan_name  \n",
      "0               20          10             0.03            0.03      surf  \n",
      "1               70           7             0.01            0.01  ultimate  \n"
     ]
    }
   ],
   "source": [
    "# Imprime una muestra de los datos para las tarifas\n",
    "print(df_plans)\n"
   ]
  },
  {
   "cell_type": "markdown",
   "metadata": {
    "id": "mEc_3_hs0q02"
   },
   "source": [
    "Observando la tabla de las tarifas, se puede observar que el plan maneja los MB incluidos mensualmente y para mejor comprension tanto para clientes como para el analista, sería mejor convertir la columna a mb_per_month_included a gb_per_month_included y hacer la conversión de megabyte a gigabyte."
   ]
  },
  {
   "cell_type": "markdown",
   "metadata": {
    "id": "R3C05i1l0q03"
   },
   "source": [
    "## Corregir datos"
   ]
  },
  {
   "cell_type": "code",
   "execution_count": 5,
   "metadata": {
    "id": "Y7SVmjGn0q03"
   },
   "outputs": [
    {
     "name": "stdout",
     "output_type": "stream",
     "text": [
      "  plan_name  messages_included  gb_per_month_included  minutes_included  \\\n",
      "0      surf                 50                   15.0               500   \n",
      "1  ultimate               1000                   30.0              3000   \n",
      "\n",
      "   usd_monthly_pay  usd_per_gb  usd_per_message  usd_per_minute  \n",
      "0               20          10             0.03            0.03  \n",
      "1               70           7             0.01            0.01  \n"
     ]
    }
   ],
   "source": [
    "df_plans2 = df_plans.rename(columns = {'mb_per_month_included' : 'gb_per_month_included'}) # cambio de nombre de columnas \n",
    "df_plans2['gb_per_month_included'] = df_plans2['gb_per_month_included'] / 1024 # conversión de megabytes a gigabytes\n",
    "\n",
    "col1 = df_plans2.pop('plan_name') #lineas para mover el nombre del plan como primera columna\n",
    "df_plans2.insert(0,'plan_name', col1)\n",
    "print(df_plans2)\n"
   ]
  },
  {
   "cell_type": "markdown",
   "metadata": {
    "id": "LJir7bml0q03"
   },
   "source": [
    "## Enriquecer los datos"
   ]
  },
  {
   "cell_type": "code",
   "execution_count": 6,
   "metadata": {
    "id": "gfcIEuXV0q04"
   },
   "outputs": [
    {
     "name": "stdout",
     "output_type": "stream",
     "text": [
      "  plan_name  messages_included  gb_per_month_included  minutes_included  \\\n",
      "0      surf                 50                     15               500   \n",
      "1  ultimate               1000                     30              3000   \n",
      "\n",
      "   usd_monthly_pay  usd_per_gb  usd_per_message  usd_per_minute  \n",
      "0               20          10             0.03            0.03  \n",
      "1               70           7             0.01            0.01  \n"
     ]
    }
   ],
   "source": [
    "df_plans2['gb_per_month_included'] = df_plans2['gb_per_month_included'].astype(int) #convertí los gb incluidos a números enteros\n",
    "print(df_plans2)"
   ]
  },
  {
   "cell_type": "markdown",
   "metadata": {
    "id": "1n2X6WXf0q04"
   },
   "source": [
    "## Usuarios/as"
   ]
  },
  {
   "cell_type": "code",
   "execution_count": 7,
   "metadata": {
    "id": "2NgjWFqx0q05"
   },
   "outputs": [
    {
     "name": "stdout",
     "output_type": "stream",
     "text": [
      "<class 'pandas.core.frame.DataFrame'>\n",
      "RangeIndex: 500 entries, 0 to 499\n",
      "Data columns (total 8 columns):\n",
      " #   Column      Non-Null Count  Dtype \n",
      "---  ------      --------------  ----- \n",
      " 0   user_id     500 non-null    int64 \n",
      " 1   first_name  500 non-null    object\n",
      " 2   last_name   500 non-null    object\n",
      " 3   age         500 non-null    int64 \n",
      " 4   city        500 non-null    object\n",
      " 5   reg_date    500 non-null    object\n",
      " 6   plan        500 non-null    object\n",
      " 7   churn_date  34 non-null     object\n",
      "dtypes: int64(2), object(6)\n",
      "memory usage: 31.4+ KB\n"
     ]
    }
   ],
   "source": [
    "# Imprime la información general/resumida sobre el DataFrame de usuarios\n",
    "df_users.info()\n"
   ]
  },
  {
   "cell_type": "code",
   "execution_count": 8,
   "metadata": {
    "id": "1IN1L9uh0q05"
   },
   "outputs": [
    {
     "name": "stdout",
     "output_type": "stream",
     "text": [
      "   user_id first_name  last_name  age                                   city  \\\n",
      "0     1000   Anamaria      Bauer   45  Atlanta-Sandy Springs-Roswell, GA MSA   \n",
      "1     1001     Mickey  Wilkerson   28        Seattle-Tacoma-Bellevue, WA MSA   \n",
      "2     1002     Carlee    Hoffman   36   Las Vegas-Henderson-Paradise, NV MSA   \n",
      "3     1003   Reynaldo    Jenkins   52                          Tulsa, OK MSA   \n",
      "4     1004    Leonila   Thompson   40        Seattle-Tacoma-Bellevue, WA MSA   \n",
      "\n",
      "     reg_date      plan churn_date  \n",
      "0  2018-12-24  ultimate        NaN  \n",
      "1  2018-08-13      surf        NaN  \n",
      "2  2018-10-21      surf        NaN  \n",
      "3  2018-01-28      surf        NaN  \n",
      "4  2018-05-23      surf        NaN  \n"
     ]
    }
   ],
   "source": [
    "# Imprime una muestra de datos para usuarios\n",
    "print(df_users.head())\n"
   ]
  },
  {
   "cell_type": "markdown",
   "metadata": {
    "id": "dCZoUq4f0q06"
   },
   "source": [
    "La información del dataframe arroja que la columna donde está la fecha de registro no tiene el formato correcto, que es el de datetime. Por otra parte, también vemos la misma situación en la columna de churn_date.  A pesar de que hay muchos valores nulos, por el momento los dejaremos así ya que al inicio de las instrucciones nos comentan que valores ausentes significa que aún no cancelan su suscripción. Para la columna reg_date y churn_date, se tendría que confirgurar el tipo de dato a datetime."
   ]
  },
  {
   "cell_type": "markdown",
   "metadata": {
    "id": "BX5FQh_I0q06"
   },
   "source": [
    "### Corregir los datos"
   ]
  },
  {
   "cell_type": "code",
   "execution_count": 9,
   "metadata": {
    "id": "yUqX-K0C0q07"
   },
   "outputs": [
    {
     "name": "stdout",
     "output_type": "stream",
     "text": [
      "   user_id first_name  last_name  age                                    city  \\\n",
      "0     1000   Anamaria      Bauer   45   Atlanta-Sandy Springs-Roswell, GA MSA   \n",
      "1     1001     Mickey  Wilkerson   28         Seattle-Tacoma-Bellevue, WA MSA   \n",
      "2     1002     Carlee    Hoffman   36    Las Vegas-Henderson-Paradise, NV MSA   \n",
      "3     1003   Reynaldo    Jenkins   52                           Tulsa, OK MSA   \n",
      "4     1004    Leonila   Thompson   40         Seattle-Tacoma-Bellevue, WA MSA   \n",
      "5     1005      Livia    Shields   31     Dallas-Fort Worth-Arlington, TX MSA   \n",
      "6     1006     Jesusa   Bradford   73  San Francisco-Oakland-Berkeley, CA MSA   \n",
      "7     1007    Eusebio      Welch   42           Grand Rapids-Kentwood, MI MSA   \n",
      "8     1008      Emely    Hoffman   53       Orlando-Kissimmee-Sanford, FL MSA   \n",
      "9     1009      Gerry     Little   19  San Jose-Sunnyvale-Santa Clara, CA MSA   \n",
      "\n",
      "    reg_date      plan churn_date  \n",
      "0 2018-12-24  ultimate        NaT  \n",
      "1 2018-08-13      surf        NaT  \n",
      "2 2018-10-21      surf        NaT  \n",
      "3 2018-01-28      surf        NaT  \n",
      "4 2018-05-23      surf        NaT  \n",
      "5 2018-11-29      surf        NaT  \n",
      "6 2018-11-27  ultimate 2018-12-18  \n",
      "7 2018-07-11      surf        NaT  \n",
      "8 2018-08-03  ultimate        NaT  \n",
      "9 2018-04-22      surf        NaT  \n",
      "<class 'pandas.core.frame.DataFrame'>\n",
      "RangeIndex: 500 entries, 0 to 499\n",
      "Data columns (total 8 columns):\n",
      " #   Column      Non-Null Count  Dtype         \n",
      "---  ------      --------------  -----         \n",
      " 0   user_id     500 non-null    int64         \n",
      " 1   first_name  500 non-null    object        \n",
      " 2   last_name   500 non-null    object        \n",
      " 3   age         500 non-null    int64         \n",
      " 4   city        500 non-null    object        \n",
      " 5   reg_date    500 non-null    datetime64[ns]\n",
      " 6   plan        500 non-null    object        \n",
      " 7   churn_date  34 non-null     datetime64[ns]\n",
      "dtypes: datetime64[ns](2), int64(2), object(4)\n",
      "memory usage: 31.4+ KB\n"
     ]
    }
   ],
   "source": [
    "df_users['reg_date'] = pd.to_datetime(df_users['reg_date'], format='%Y-%m-%dT')# convierto a formato datetime\n",
    "df_users['churn_date'] = pd.to_datetime(df_users['churn_date'], format='%Y-%m-%dT') # convierto a formato datetime\n",
    "print(df_users.head(10))\n",
    "df_users.info()"
   ]
  },
  {
   "cell_type": "markdown",
   "metadata": {
    "id": "ycwuARJp0q07"
   },
   "source": [
    "### Enriquecer los datos"
   ]
  },
  {
   "cell_type": "code",
   "execution_count": null,
   "metadata": {
    "id": "iq0AaBS90q08"
   },
   "outputs": [],
   "source": []
  },
  {
   "cell_type": "markdown",
   "metadata": {
    "id": "o7MeKCid0q08"
   },
   "source": [
    "## Llamadas"
   ]
  },
  {
   "cell_type": "code",
   "execution_count": 10,
   "metadata": {
    "id": "6dDlnoDm0q08"
   },
   "outputs": [
    {
     "name": "stdout",
     "output_type": "stream",
     "text": [
      "<class 'pandas.core.frame.DataFrame'>\n",
      "RangeIndex: 137735 entries, 0 to 137734\n",
      "Data columns (total 4 columns):\n",
      " #   Column     Non-Null Count   Dtype  \n",
      "---  ------     --------------   -----  \n",
      " 0   id         137735 non-null  object \n",
      " 1   user_id    137735 non-null  int64  \n",
      " 2   call_date  137735 non-null  object \n",
      " 3   duration   137735 non-null  float64\n",
      "dtypes: float64(1), int64(1), object(2)\n",
      "memory usage: 4.2+ MB\n"
     ]
    }
   ],
   "source": [
    "# Imprime la información general/resumida sobre el DataFrame de las llamadas\n",
    "df_calls.info()\n"
   ]
  },
  {
   "cell_type": "code",
   "execution_count": 11,
   "metadata": {
    "id": "kuh1vlNB0q09"
   },
   "outputs": [
    {
     "name": "stdout",
     "output_type": "stream",
     "text": [
      "         id  user_id   call_date  duration\n",
      "0   1000_93     1000  2018-12-27      8.52\n",
      "1  1000_145     1000  2018-12-27     13.66\n",
      "2  1000_247     1000  2018-12-27     14.48\n",
      "3  1000_309     1000  2018-12-28      5.76\n",
      "4  1000_380     1000  2018-12-30      4.22\n"
     ]
    }
   ],
   "source": [
    "# Imprime una muestra de datos para las llamadas\n",
    "print(df_calls.head())\n"
   ]
  },
  {
   "cell_type": "markdown",
   "metadata": {
    "id": "DOAxYJSx0q09"
   },
   "source": [
    "La información de este dataframe arroja que no se encuentran datos ausentes. Sin embargo, de acuerdo a las normas de Megaline, si una llamada se excede tan siquiera un segundo de duración, se tomará en cuenta como si fuera un minuto más, por lo que se debe de redondear la columna de duración al siguiente entero y convertir el tipo de dato de la columna 'call_date' a un tipo datetime. "
   ]
  },
  {
   "cell_type": "markdown",
   "metadata": {
    "id": "S7hzxmbX0q0-"
   },
   "source": [
    "### Corregir los datos"
   ]
  },
  {
   "cell_type": "code",
   "execution_count": 12,
   "metadata": {
    "id": "S2r8xA4f0q0-"
   },
   "outputs": [
    {
     "name": "stdout",
     "output_type": "stream",
     "text": [
      "              id  user_id  call_date  duration\n",
      "0        1000_93     1000 2018-12-27      8.52\n",
      "1       1000_145     1000 2018-12-27     13.66\n",
      "2       1000_247     1000 2018-12-27     14.48\n",
      "3       1000_309     1000 2018-12-28      5.76\n",
      "4       1000_380     1000 2018-12-30      4.22\n",
      "...          ...      ...        ...       ...\n",
      "137730  1499_199     1499 2018-11-21      8.72\n",
      "137731  1499_200     1499 2018-10-20     10.89\n",
      "137732  1499_201     1499 2018-09-21      8.12\n",
      "137733  1499_202     1499 2018-10-10      0.37\n",
      "137734  1499_203     1499 2018-12-29     13.86\n",
      "\n",
      "[137735 rows x 4 columns]\n"
     ]
    }
   ],
   "source": [
    "df_calls['call_date'] = pd.to_datetime(df_calls['call_date'], format='%Y-%m-%dT')# convierto a formato datetime\n",
    "print(df_calls)"
   ]
  },
  {
   "cell_type": "markdown",
   "metadata": {
    "id": "KrMgTrlG0q0_"
   },
   "source": [
    "### Enriquecer los datos"
   ]
  },
  {
   "cell_type": "code",
   "execution_count": 13,
   "metadata": {
    "id": "iZ1avpA_0q0_"
   },
   "outputs": [
    {
     "name": "stdout",
     "output_type": "stream",
     "text": [
      "        id_calls  user_id  call_date  duration_call\n",
      "0         100093     1000 2018-12-27              9\n",
      "1        1000145     1000 2018-12-27             14\n",
      "2        1000247     1000 2018-12-27             15\n",
      "3        1000309     1000 2018-12-28              6\n",
      "4        1000380     1000 2018-12-30              5\n",
      "...          ...      ...        ...            ...\n",
      "137730   1499199     1499 2018-11-21              9\n",
      "137731   1499200     1499 2018-10-20             11\n",
      "137732   1499201     1499 2018-09-21              9\n",
      "137733   1499202     1499 2018-10-10              1\n",
      "137734   1499203     1499 2018-12-29             14\n",
      "\n",
      "[137735 rows x 4 columns]\n",
      "<class 'pandas.core.frame.DataFrame'>\n",
      "RangeIndex: 137735 entries, 0 to 137734\n",
      "Data columns (total 4 columns):\n",
      " #   Column         Non-Null Count   Dtype         \n",
      "---  ------         --------------   -----         \n",
      " 0   id_calls       137735 non-null  int64         \n",
      " 1   user_id        137735 non-null  int64         \n",
      " 2   call_date      137735 non-null  datetime64[ns]\n",
      " 3   duration_call  137735 non-null  int64         \n",
      "dtypes: datetime64[ns](1), int64(3)\n",
      "memory usage: 4.2 MB\n"
     ]
    }
   ],
   "source": [
    "df_calls2 = df_calls.rename(columns = {'id' : 'id_calls'}) # cambio el nombre de la columna de 'id' por 'id_calls' \n",
    "df_calls2 = df_calls2.rename(columns = {'duration' : 'duration_call'})\n",
    "df_calls2['id_calls'] = df_calls2['id_calls'].astype(int) # convierto los valores de id_call en números enteros \n",
    "df_calls2['duration_call'] = np.ceil(df_calls2['duration_call']).astype(int) #redondeo al siguiente entero y convierto a tipo de dato entero\n",
    "\n",
    "print(df_calls2)\n",
    "df_calls2.info()\n",
    "\n"
   ]
  },
  {
   "cell_type": "markdown",
   "metadata": {
    "id": "mOUZSi180q0_"
   },
   "source": [
    "## Mensajes"
   ]
  },
  {
   "cell_type": "code",
   "execution_count": 14,
   "metadata": {
    "id": "R-bYJpdV0q1A"
   },
   "outputs": [
    {
     "name": "stdout",
     "output_type": "stream",
     "text": [
      "<class 'pandas.core.frame.DataFrame'>\n",
      "RangeIndex: 76051 entries, 0 to 76050\n",
      "Data columns (total 3 columns):\n",
      " #   Column        Non-Null Count  Dtype \n",
      "---  ------        --------------  ----- \n",
      " 0   id            76051 non-null  object\n",
      " 1   user_id       76051 non-null  int64 \n",
      " 2   message_date  76051 non-null  object\n",
      "dtypes: int64(1), object(2)\n",
      "memory usage: 1.7+ MB\n"
     ]
    }
   ],
   "source": [
    "# Imprime la información general/resumida sobre el DataFrame de los mensajes\n",
    "df_messages.info()\n"
   ]
  },
  {
   "cell_type": "code",
   "execution_count": 15,
   "metadata": {
    "id": "mCEl2iGE0q1A"
   },
   "outputs": [
    {
     "name": "stdout",
     "output_type": "stream",
     "text": [
      "          id  user_id message_date\n",
      "0   1000_125     1000   2018-12-27\n",
      "1   1000_160     1000   2018-12-31\n",
      "2   1000_223     1000   2018-12-31\n",
      "3   1000_251     1000   2018-12-27\n",
      "4   1000_255     1000   2018-12-26\n",
      "5   1000_346     1000   2018-12-29\n",
      "6   1000_386     1000   2018-12-30\n",
      "7   1000_413     1000   2018-12-31\n",
      "8   1000_502     1000   2018-12-27\n",
      "9   1000_525     1000   2018-12-28\n",
      "10  1000_567     1000   2018-12-25\n",
      "11    1001_1     1001   2018-11-14\n",
      "12    1001_2     1001   2018-08-17\n",
      "13    1001_5     1001   2018-12-05\n",
      "14    1001_7     1001   2018-11-28\n"
     ]
    }
   ],
   "source": [
    "# Imprime una muestra de datos para los mensajes\n",
    "print(df_messages.head(15))\n"
   ]
  },
  {
   "cell_type": "markdown",
   "metadata": {
    "id": "04xDj7KH0q1A"
   },
   "source": [
    "En el dataframe de los mensajes, se observa que hay que cambiar el tipo de dato de la columna 'message_date' a datetime y cambiar el nombre de la columna 'id' a 'id_message' y convertir los valores de esa columna a enteros si es necesario."
   ]
  },
  {
   "cell_type": "markdown",
   "metadata": {
    "id": "Sprfak900q1B"
   },
   "source": [
    "### Corregir los datos"
   ]
  },
  {
   "cell_type": "code",
   "execution_count": 16,
   "metadata": {
    "id": "vsllvkoa0q1B"
   },
   "outputs": [
    {
     "name": "stdout",
     "output_type": "stream",
     "text": [
      "             id  user_id message_date\n",
      "0      1000_125     1000   2018-12-27\n",
      "1      1000_160     1000   2018-12-31\n",
      "2      1000_223     1000   2018-12-31\n",
      "3      1000_251     1000   2018-12-27\n",
      "4      1000_255     1000   2018-12-26\n",
      "...         ...      ...          ...\n",
      "76046  1497_526     1497   2018-12-24\n",
      "76047  1497_536     1497   2018-12-24\n",
      "76048  1497_547     1497   2018-12-31\n",
      "76049  1497_558     1497   2018-12-24\n",
      "76050  1497_613     1497   2018-12-23\n",
      "\n",
      "[76051 rows x 3 columns]\n"
     ]
    }
   ],
   "source": [
    "df_messages['message_date'] = pd.to_datetime(df_messages['message_date'], format='%Y-%m-%dT')# convierto a formato datetime\n",
    "print(df_messages)\n"
   ]
  },
  {
   "cell_type": "markdown",
   "metadata": {
    "id": "HvLid7iD0q1B"
   },
   "source": [
    "### Enriquecer los datos"
   ]
  },
  {
   "cell_type": "code",
   "execution_count": 17,
   "metadata": {
    "id": "zYEXZac10q1C"
   },
   "outputs": [
    {
     "name": "stdout",
     "output_type": "stream",
     "text": [
      "    id_messages  user_id message_date\n",
      "0       1000125     1000   2018-12-27\n",
      "1       1000160     1000   2018-12-31\n",
      "2       1000223     1000   2018-12-31\n",
      "3       1000251     1000   2018-12-27\n",
      "4       1000255     1000   2018-12-26\n",
      "5       1000346     1000   2018-12-29\n",
      "6       1000386     1000   2018-12-30\n",
      "7       1000413     1000   2018-12-31\n",
      "8       1000502     1000   2018-12-27\n",
      "9       1000525     1000   2018-12-28\n",
      "10      1000567     1000   2018-12-25\n",
      "11        10011     1001   2018-11-14\n",
      "12        10012     1001   2018-08-17\n",
      "13        10015     1001   2018-12-05\n",
      "14        10017     1001   2018-11-28\n",
      "15        10019     1001   2018-10-23\n",
      "16       100110     1001   2018-09-01\n",
      "17       100111     1001   2018-11-18\n",
      "18       100117     1001   2018-12-11\n",
      "19       100118     1001   2018-10-01\n"
     ]
    }
   ],
   "source": [
    "df_messages2 = df_messages.rename(columns = {'id' : 'id_messages'}) # renombrar columna de 'id'\n",
    "df_messages2['id_messages'] = df_messages2['id_messages'].astype(int) # conversión de toda la columna a enteros\n",
    "print(df_messages2.head(20))\n"
   ]
  },
  {
   "cell_type": "markdown",
   "metadata": {
    "id": "bStkaxn40q1C"
   },
   "source": [
    "## Internet"
   ]
  },
  {
   "cell_type": "code",
   "execution_count": 18,
   "metadata": {
    "id": "e-Uz5qyn0q1C"
   },
   "outputs": [
    {
     "name": "stdout",
     "output_type": "stream",
     "text": [
      "<class 'pandas.core.frame.DataFrame'>\n",
      "RangeIndex: 104825 entries, 0 to 104824\n",
      "Data columns (total 4 columns):\n",
      " #   Column        Non-Null Count   Dtype  \n",
      "---  ------        --------------   -----  \n",
      " 0   id            104825 non-null  object \n",
      " 1   user_id       104825 non-null  int64  \n",
      " 2   session_date  104825 non-null  object \n",
      " 3   mb_used       104825 non-null  float64\n",
      "dtypes: float64(1), int64(1), object(2)\n",
      "memory usage: 3.2+ MB\n"
     ]
    }
   ],
   "source": [
    "# Imprime la información general/resumida sobre el DataFrame de internet\n",
    "df_internet.info()\n"
   ]
  },
  {
   "cell_type": "code",
   "execution_count": 19,
   "metadata": {
    "id": "9r3x_XLw0q1C"
   },
   "outputs": [
    {
     "name": "stdout",
     "output_type": "stream",
     "text": [
      "         id  user_id session_date  mb_used\n",
      "0   1000_13     1000   2018-12-29    89.86\n",
      "1  1000_204     1000   2018-12-31     0.00\n",
      "2  1000_379     1000   2018-12-28   660.40\n",
      "3  1000_413     1000   2018-12-26   270.99\n",
      "4  1000_442     1000   2018-12-27   880.22\n"
     ]
    }
   ],
   "source": [
    "# Imprime una muestra de datos para el tráfico de internet\n",
    "print(df_internet.head())\n"
   ]
  },
  {
   "cell_type": "markdown",
   "metadata": {
    "id": "EzOG5ik30q1D"
   },
   "source": [
    "La información nos arroja que la fecha de la sesión no tiene el formato correcto, por lo que se tendrá que cambiar y se renombrará la column de 'id' por 'id_internet' y se cambiarán los valores a enteros de esta columna. Como se indicó en las normas de Megaline, no se redondeará los megabytes usados por sesión."
   ]
  },
  {
   "cell_type": "markdown",
   "metadata": {
    "id": "yA0tkPFg0q1D"
   },
   "source": [
    "### Corregir los datos"
   ]
  },
  {
   "cell_type": "code",
   "execution_count": 20,
   "metadata": {
    "id": "zVeanzdd0q1E"
   },
   "outputs": [
    {
     "name": "stdout",
     "output_type": "stream",
     "text": [
      "              id  user_id session_date  mb_used\n",
      "0        1000_13     1000   2018-12-29    89.86\n",
      "1       1000_204     1000   2018-12-31     0.00\n",
      "2       1000_379     1000   2018-12-28   660.40\n",
      "3       1000_413     1000   2018-12-26   270.99\n",
      "4       1000_442     1000   2018-12-27   880.22\n",
      "...          ...      ...          ...      ...\n",
      "104820  1499_215     1499   2018-10-20   218.06\n",
      "104821  1499_216     1499   2018-12-30   304.72\n",
      "104822  1499_217     1499   2018-09-22   292.75\n",
      "104823  1499_218     1499   2018-12-07     0.00\n",
      "104824  1499_219     1499   2018-12-24   758.31\n",
      "\n",
      "[104825 rows x 4 columns]\n"
     ]
    }
   ],
   "source": [
    "df_internet['session_date'] = pd.to_datetime(df_internet['session_date'], format='%Y-%m-%dT')# convierto a datetime\n",
    "print(df_internet)"
   ]
  },
  {
   "cell_type": "markdown",
   "metadata": {
    "id": "e8_mLF4a0q1E"
   },
   "source": [
    "### Enriquecer los datos"
   ]
  },
  {
   "cell_type": "code",
   "execution_count": 21,
   "metadata": {
    "id": "ESiYPIEK0q1E"
   },
   "outputs": [
    {
     "name": "stdout",
     "output_type": "stream",
     "text": [
      "    id_internet  user_id session_date  mb_used\n",
      "0        100013     1000   2018-12-29    89.86\n",
      "1       1000204     1000   2018-12-31     0.00\n",
      "2       1000379     1000   2018-12-28   660.40\n",
      "3       1000413     1000   2018-12-26   270.99\n",
      "4       1000442     1000   2018-12-27   880.22\n",
      "5         10010     1001   2018-08-24   284.68\n",
      "6         10013     1001   2018-12-09   656.04\n",
      "7         10014     1001   2018-11-04    16.97\n",
      "8        100110     1001   2018-11-27   135.18\n",
      "9        100115     1001   2018-12-13   761.92\n",
      "10       100116     1001   2018-10-28   501.53\n",
      "11       100117     1001   2018-09-05   727.29\n",
      "12       100124     1001   2018-09-05   622.03\n",
      "13       100125     1001   2018-10-14   310.43\n",
      "14       100126     1001   2018-09-17     0.00\n",
      "15       100127     1001   2018-12-13   149.17\n",
      "16       100128     1001   2018-10-17     0.00\n",
      "17       100129     1001   2018-10-09  1067.99\n",
      "18       100130     1001   2018-12-27   157.20\n",
      "19       100133     1001   2018-09-27   236.40\n",
      "20       100134     1001   2018-09-18   299.66\n",
      "21       100137     1001   2018-12-26   694.50\n",
      "22       100138     1001   2018-11-25   288.27\n",
      "23       100140     1001   2018-12-27   632.84\n",
      "24       100142     1001   2018-12-03   474.35\n",
      "25       100143     1001   2018-11-16   196.94\n",
      "26       100144     1001   2018-09-27    44.91\n",
      "27       100145     1001   2018-10-23   483.49\n",
      "28       100147     1001   2018-12-07   317.01\n",
      "29       100148     1001   2018-09-08   284.97\n",
      "30       100149     1001   2018-10-18   534.65\n",
      "31       100150     1001   2018-11-27   618.84\n",
      "32       100152     1001   2018-11-17   409.19\n",
      "33       100153     1001   2018-11-10   418.75\n",
      "34       100154     1001   2018-09-02     0.00\n",
      "35       100161     1001   2018-11-28   121.30\n",
      "36       100163     1001   2018-12-03   144.94\n",
      "37       100164     1001   2018-12-10    14.03\n",
      "38       100165     1001   2018-09-17   969.54\n",
      "39       100166     1001   2018-10-17   976.69\n"
     ]
    }
   ],
   "source": [
    "df_internet2 = df_internet.rename(columns = {'id' : 'id_internet'}) # renombrar columna de 'id'\n",
    "df_internet2['id_internet'] = df_internet2['id_internet'].astype(int) # conversión de toda la columna a enteros\n",
    "print(df_internet2.head(40))\n",
    "\n"
   ]
  },
  {
   "cell_type": "markdown",
   "metadata": {
    "id": "3UA2cqIW0q1E"
   },
   "source": [
    "## Estudiar las condiciones de las tarifas"
   ]
  },
  {
   "cell_type": "markdown",
   "metadata": {
    "id": "T86Sqltq0q1F"
   },
   "source": [
    "[Es sumamente importante entender cómo funcionan las tarifas, cómo se les cobra a los usuarios en función de su plan de suscripción. Así que te sugerimos imprimir la información de la tarifa para ver una vez más sus condiciones.]"
   ]
  },
  {
   "cell_type": "code",
   "execution_count": 22,
   "metadata": {
    "id": "i409op8p0q1F"
   },
   "outputs": [
    {
     "name": "stdout",
     "output_type": "stream",
     "text": [
      "  plan_name  messages_included  gb_per_month_included  minutes_included  \\\n",
      "0      surf                 50                     15               500   \n",
      "1  ultimate               1000                     30              3000   \n",
      "\n",
      "   usd_monthly_pay  usd_per_gb  usd_per_message  usd_per_minute  \n",
      "0               20          10             0.03            0.03  \n",
      "1               70           7             0.01            0.01  \n"
     ]
    }
   ],
   "source": [
    "# Imprime las condiciones de la tarifa y asegúrate de que te quedan claras\n",
    "print(df_plans2)\n"
   ]
  },
  {
   "cell_type": "markdown",
   "metadata": {
    "id": "hMR1tP5d0q1F"
   },
   "source": [
    "## Agregar datos por usuario\n",
    "\n"
   ]
  },
  {
   "cell_type": "code",
   "execution_count": 23,
   "metadata": {
    "id": "A332cedB0q1G"
   },
   "outputs": [
    {
     "name": "stdout",
     "output_type": "stream",
     "text": [
      "      user_id      month  total_calls\n",
      "0        1000   December           16\n",
      "1        1001     August           27\n",
      "2        1001   December           56\n",
      "3        1001   November           64\n",
      "4        1001    October           65\n",
      "...       ...        ...          ...\n",
      "2253     1498  September           45\n",
      "2254     1499   December           65\n",
      "2255     1499   November           45\n",
      "2256     1499    October           53\n",
      "2257     1499  September           41\n",
      "\n",
      "[2258 rows x 3 columns]\n"
     ]
    }
   ],
   "source": [
    "# Calcula el número de llamadas hechas por cada usuario al mes. Guarda el resultado\n",
    "\n",
    "df_calls2['month']= df_calls2['call_date'].dt.strftime(\"%B\")# creo una nueva columna con el nombre del mes extraido de la columna 'call_date'\n",
    "\n",
    "calls_by_month= [] # arreglo para almacenar usuario, mes y total de llamadas\n",
    "for usuario in df_calls2['user_id'].unique(): # iteración sobre cada uno de los usuario que hay en el dataframe\n",
    "    temp_user = df_calls2[df_calls2['user_id'] == usuario] # dataframe con los datos de un único usuario\n",
    "    temp_grouped = temp_user.groupby('month').count().reset_index() # se agrupa el numero de llamadas por mes\n",
    "    \n",
    "    for store in temp_grouped['month']: # bucle interno para iterar sobre la información de un único usuario\n",
    "        temp_month = temp_grouped[temp_grouped['month'] == store] # se almacena la fila del mes en cuestión\n",
    "        calls_by_month.append([usuario, temp_month.iloc[0,0], temp_month.iloc[0,1]]) # se almacena el nombre del usuario, el nombre del mes y la cantidad de llamadas\n",
    "        \n",
    "total_calls_per_month = pd.DataFrame(data=calls_by_month, columns=['user_id', 'month', 'total_calls'])\n",
    "total_merge= total_calls_per_month\n",
    "print(total_merge)\n",
    "\n",
    "\n"
   ]
  },
  {
   "cell_type": "code",
   "execution_count": 24,
   "metadata": {
    "id": "aw2cmuql0q1G"
   },
   "outputs": [
    {
     "name": "stdout",
     "output_type": "stream",
     "text": [
      "      user_id      month  total_calls  total_minutes\n",
      "0        1000   December           16            124\n",
      "1        1001     August           27            182\n",
      "2        1001   December           56            412\n",
      "3        1001   November           64            426\n",
      "4        1001    October           65            393\n",
      "...       ...        ...          ...            ...\n",
      "2253     1498  September           45            363\n",
      "2254     1499   December           65            496\n",
      "2255     1499   November           45            308\n",
      "2256     1499    October           53            385\n",
      "2257     1499  September           41            346\n",
      "\n",
      "[2258 rows x 4 columns]\n"
     ]
    }
   ],
   "source": [
    "# Calcula la cantidad de minutos usados por cada usuario al mes. Guarda el resultado.\n",
    "#print(df_calls2.head(20))\n",
    "\n",
    "minutes_by_month= [] # arreglo para almacenar usuario, mes y total de llamadas\n",
    "for usuario2 in df_calls2['user_id'].unique(): # iteración sobre cada uno de los usuario que hay en el dataframe\n",
    "    temp_user = df_calls2[df_calls2['user_id'] == usuario2] # dataframe con los datos de un único usuario\n",
    "    temp_grouped = temp_user.groupby('month').count().reset_index() # se agrupa el numero de llamadas por mes\n",
    "    for store2 in temp_grouped['month']:\n",
    "        temp_minutes_per_month = temp_user[temp_user['month'] == store2]\n",
    "        acc = temp_minutes_per_month['duration_call'].sum()\n",
    "        minutes_by_month.append([usuario2, store2, acc])\n",
    "\n",
    "\n",
    "total_minutes_per_month = pd.DataFrame(data=minutes_by_month, columns=['user_id', 'month', 'total_minutes'])\n",
    "total_merge['total_minutes'] = total_minutes_per_month['total_minutes']\n",
    "print(total_merge)\n",
    "#print(total_merge[total_merge['user_id'] == 1361])\n",
    "\n",
    "\n",
    "\n"
   ]
  },
  {
   "cell_type": "code",
   "execution_count": 25,
   "metadata": {
    "id": "CcQvNHn60q1G"
   },
   "outputs": [
    {
     "name": "stdout",
     "output_type": "stream",
     "text": [
      "      user_id      month  total_messages\n",
      "0        1000   December              11\n",
      "1        1001     August              30\n",
      "2        1001   December              44\n",
      "3        1001   November              36\n",
      "4        1001    October              53\n",
      "...       ...        ...             ...\n",
      "1801     1496   December              11\n",
      "1802     1496   November              13\n",
      "1803     1496    October              18\n",
      "1804     1496  September              21\n",
      "1805     1497   December              50\n",
      "\n",
      "[1806 rows x 3 columns]\n",
      "       id_messages  user_id message_date     month\n",
      "0          1000125     1000   2018-12-27  December\n",
      "1          1000160     1000   2018-12-31  December\n",
      "2          1000223     1000   2018-12-31  December\n",
      "3          1000251     1000   2018-12-27  December\n",
      "4          1000255     1000   2018-12-26  December\n",
      "...            ...      ...          ...       ...\n",
      "76046      1497526     1497   2018-12-24  December\n",
      "76047      1497536     1497   2018-12-24  December\n",
      "76048      1497547     1497   2018-12-31  December\n",
      "76049      1497558     1497   2018-12-24  December\n",
      "76050      1497613     1497   2018-12-23  December\n",
      "\n",
      "[76051 rows x 4 columns]\n"
     ]
    }
   ],
   "source": [
    "# Calcula el número de mensajes enviados por cada usuario al mes. Guarda el resultado.\n",
    "df_messages2['month']= df_messages2['message_date'].dt.strftime(\"%B\")# creo una nueva columna con el nombre del mes extraido de la columna 'call_date'\n",
    "\n",
    "messages_by_month= [] # arreglo para almacenar usuario, mes y total de llamadas\n",
    "for usuario3 in df_messages2['user_id'].unique(): # iteración sobre cada uno de los usuario que hay en el dataframe\n",
    "    temp_user3 = df_messages2[df_messages2['user_id'] == usuario3] # dataframe con los datos de un único usuario\n",
    "    temp_grouped3 = temp_user3.groupby('month').count().reset_index() # se agrupa el numero de llamadas por mes\n",
    "    for store3 in temp_grouped3['month']: # bucle interno para iterar sobre la información de un único usuario\n",
    "        temp_month3 = temp_grouped3[temp_grouped3['month'] == store3] # se almacena la fila del mes en cuestión\n",
    "        messages_by_month.append([usuario3, temp_month3.iloc[0,0], temp_month3.iloc[0,1]]) # se almacena el nombre del usuario, el nombre del mes y la cantidad de llamadas\n",
    "       \n",
    "\n",
    "               \n",
    "total_messages_per_month = pd.DataFrame(data=messages_by_month, columns=['user_id', 'month', 'total_messages'])\n",
    "total_merge2 = total_merge.merge(total_messages_per_month, on = ['user_id', 'month'], how = 'outer')\n",
    "total_merge_sorted = total_merge2.sort_values(by = 'user_id', ascending = True)\n",
    "#print(total_messages_per_month.tail(20))\n",
    "\n",
    "print(total_messages_per_month)\n",
    "print(df_messages2)"
   ]
  },
  {
   "cell_type": "code",
   "execution_count": 26,
   "metadata": {
    "id": "H1AqN2eG0q1H"
   },
   "outputs": [
    {
     "name": "stdout",
     "output_type": "stream",
     "text": [
      "      user_id      month  total_gb\n",
      "0        1000   December         2\n",
      "1        1001     August         7\n",
      "2        1001   December        19\n",
      "3        1001   November        19\n",
      "4        1001    October        22\n",
      "...       ...        ...       ...\n",
      "2272     1498  September        23\n",
      "2273     1499   December        22\n",
      "2274     1499   November        17\n",
      "2275     1499    October        20\n",
      "2276     1499  September        13\n",
      "\n",
      "[2277 rows x 3 columns]\n"
     ]
    }
   ],
   "source": [
    "# Calcula el volumen del tráfico de Internet usado por cada usuario al mes. Guarda el resultado.\n",
    "df_internet2['month']= df_internet2['session_date'].dt.strftime(\"%B\")# creo una nueva columna con el nombre del mes extraido de la columna 'call_date'\n",
    "\n",
    "gb_by_month= [] # arreglo para almacenar usuario, mes y total de gigabyte\n",
    "\n",
    "for usuario4 in df_internet2['user_id'].unique(): # iteración sobre cada uno de los usuario que hay en el dataframe\n",
    "    temp_user4 = df_internet2[df_internet2['user_id'] == usuario4] # dataframe con los datos de un único usuario\n",
    "    temp_grouped4 = temp_user4.groupby('month').count().reset_index() # se agrupa el numero de llamadas por mes\n",
    "    for store4 in temp_grouped4['month']:\n",
    "        temp_mb_per_month = temp_user4[temp_user4['month'] == store4]\n",
    "        acc2 = np.ceil(temp_mb_per_month['mb_used'].sum() / 1024).astype(int)\n",
    "        gb_by_month.append([usuario4, store4, acc2])\n",
    "        #print(acc2)\n",
    "\n",
    "#print(gb_by_month)\n",
    "total_gb_per_month = pd.DataFrame(data=gb_by_month, columns=['user_id', 'month', 'total_gb'])\n",
    "print(total_gb_per_month)\n"
   ]
  },
  {
   "cell_type": "code",
   "execution_count": 27,
   "metadata": {
    "id": "FW99ykyf0q1H"
   },
   "outputs": [
    {
     "name": "stdout",
     "output_type": "stream",
     "text": [
      "<class 'pandas.core.frame.DataFrame'>\n",
      "Int64Index: 2293 entries, 0 to 2254\n",
      "Data columns (total 6 columns):\n",
      " #   Column          Non-Null Count  Dtype \n",
      "---  ------          --------------  ----- \n",
      " 0   user_id         2293 non-null   int64 \n",
      " 1   month           2293 non-null   object\n",
      " 2   total_calls     2293 non-null   int64 \n",
      " 3   total_minutes   2293 non-null   int64 \n",
      " 4   total_messages  2293 non-null   int64 \n",
      " 5   total_gb        2293 non-null   int64 \n",
      "dtypes: int64(5), object(1)\n",
      "memory usage: 125.4+ KB\n",
      "      user_id      month  total_calls  total_minutes  total_messages  total_gb\n",
      "0        1000   December           16            124              11         2\n",
      "1        1001     August           27            182              30         7\n",
      "2        1001   December           56            412              44        19\n",
      "3        1001   November           64            426              36        19\n",
      "4        1001    October           65            393              53        22\n",
      "...       ...        ...          ...            ...             ...       ...\n",
      "2253     1498  September           45            363               0        23\n",
      "2257     1499  September           41            346               0        13\n",
      "2256     1499    October           53            385               0        20\n",
      "2255     1499   November           45            308               0        17\n",
      "2254     1499   December           65            496               0        22\n",
      "\n",
      "[2293 rows x 6 columns]\n"
     ]
    }
   ],
   "source": [
    "# Fusiona los datos de llamadas, minutos, mensajes e Internet con base en user_id y month\n",
    "total_merge2 = total_merge.merge(total_messages_per_month, on = ['user_id', 'month'], how = 'outer')\n",
    "total_merge3 = total_merge2.merge(total_gb_per_month, on = ['user_id', 'month'], how = 'outer')\n",
    "total_merge_sorted = total_merge3.sort_values(by = 'user_id', ascending = True)\n",
    "\n",
    "total_merge_sorted['total_calls'].fillna(0, inplace = True) # bloques de codigo para poner 0 en los valores ausentes de cada columna\n",
    "total_merge_sorted['total_minutes'].fillna(0, inplace = True)\n",
    "total_merge_sorted['total_messages'].fillna(0, inplace = True)\n",
    "total_merge_sorted['total_gb'].fillna(0, inplace = True)\n",
    "\n",
    "total_merge_sorted['total_calls'] = total_merge_sorted['total_calls'].astype(int)# bloque de codigo para convertir a tipo int los valores de las columnas\n",
    "total_merge_sorted['total_minutes'] = total_merge_sorted['total_minutes'].astype(int)\n",
    "total_merge_sorted['total_messages'] = total_merge_sorted['total_messages'].astype(int)\n",
    "total_merge_sorted['total_gb'] = total_merge_sorted['total_gb'].astype(int)\n",
    "\n",
    "total_merge_sorted.info()\n",
    "print(total_merge_sorted)\n"
   ]
  },
  {
   "cell_type": "code",
   "execution_count": 56,
   "metadata": {
    "id": "0dNOXHag0q1H",
    "scrolled": false
   },
   "outputs": [
    {
     "name": "stdout",
     "output_type": "stream",
     "text": [
      "---------------------------------------------------------------------\n",
      "      index  user_id      month  total_calls  total_minutes  total_messages  \\\n",
      "0         0     1000   December         16.0          124.0            11.0   \n",
      "1       726     1001   November         64.0          426.0            36.0   \n",
      "2       727     1001    October         65.0          393.0            53.0   \n",
      "3       728     1001  September         49.0          315.0            44.0   \n",
      "4       725     1001   December         56.0          412.0            44.0   \n",
      "...     ...      ...        ...          ...            ...             ...   \n",
      "2288   2291     1498      March         37.0          266.0             0.0   \n",
      "2289   2294     1499    October         53.0          385.0             0.0   \n",
      "2290   2295     1499   November         45.0          308.0             0.0   \n",
      "2291   2293     1499  September         41.0          346.0             0.0   \n",
      "2292   2296     1499   December         65.0          496.0             0.0   \n",
      "\n",
      "      total_gb   reg_date      plan  messages_included  gb_per_month_included  \\\n",
      "0          2.0 2018-12-24  ultimate               1000                     30   \n",
      "1         19.0 2018-08-13      surf                 50                     15   \n",
      "2         22.0 2018-08-13      surf                 50                     15   \n",
      "3         14.0 2018-08-13      surf                 50                     15   \n",
      "4         19.0 2018-08-13      surf                 50                     15   \n",
      "...        ...        ...       ...                ...                    ...   \n",
      "2288      20.0 2018-02-04      surf                 50                     15   \n",
      "2289      20.0 2018-05-06      surf                 50                     15   \n",
      "2290      17.0 2018-05-06      surf                 50                     15   \n",
      "2291      13.0 2018-05-06      surf                 50                     15   \n",
      "2292      22.0 2018-05-06      surf                 50                     15   \n",
      "\n",
      "      minutes_included  usd_monthly_pay  usd_per_gb  usd_per_message  \\\n",
      "0                 3000               70           7             0.01   \n",
      "1                  500               20          10             0.03   \n",
      "2                  500               20          10             0.03   \n",
      "3                  500               20          10             0.03   \n",
      "4                  500               20          10             0.03   \n",
      "...                ...              ...         ...              ...   \n",
      "2288               500               20          10             0.03   \n",
      "2289               500               20          10             0.03   \n",
      "2290               500               20          10             0.03   \n",
      "2291               500               20          10             0.03   \n",
      "2292               500               20          10             0.03   \n",
      "\n",
      "      usd_per_minute  \n",
      "0               0.01  \n",
      "1               0.03  \n",
      "2               0.03  \n",
      "3               0.03  \n",
      "4               0.03  \n",
      "...              ...  \n",
      "2288            0.03  \n",
      "2289            0.03  \n",
      "2290            0.03  \n",
      "2291            0.03  \n",
      "2292            0.03  \n",
      "\n",
      "[2293 rows x 16 columns]\n"
     ]
    }
   ],
   "source": [
    "# Añade la información de la tarifa\n",
    "only_user_plans = df_users.drop('first_name', axis = 1).drop('last_name', axis = 1).drop('age', axis = 1).drop('city', axis = 1).drop('churn_date', axis = 1)\n",
    "\n",
    "df_plans2 = df_plans2.rename(columns = {'plan_name' : 'plan'})# renombro columnas\n",
    "\n",
    "total_merge4 = total_merge_sorted.merge(only_user_plans, on = ['user_id'], how = 'outer') #fusiono dataframes de los servicios usados por usuarios y las tarifas \n",
    "merge_with_plans = total_merge4.merge(df_plans2, on = ['plan'], how = 'outer').dropna(subset = ['month'])\n",
    "merge_with_plans_sorted = merge_with_plans.sort_values(by='user_id', ascending = True) # ordeno por orden los id de usuarios\n",
    "\n",
    "merge_with_plans_clean = merge_with_plans_sorted.reset_index()\n",
    "\n",
    "#print(merge_with_plans_sorted)\n",
    "print('---------------------------------------------------------------------')\n",
    "print(merge_with_plans_clean)\n"
   ]
  },
  {
   "cell_type": "code",
   "execution_count": 29,
   "metadata": {
    "id": "5FGCf_c60q1I"
   },
   "outputs": [
    {
     "name": "stdout",
     "output_type": "stream",
     "text": [
      "      index  user_id      month  total_calls  total_minutes  total_messages  \\\n",
      "0         0     1000   December         16.0          124.0            11.0   \n",
      "1       726     1001   November         64.0          426.0            36.0   \n",
      "2       727     1001    October         65.0          393.0            53.0   \n",
      "3       728     1001  September         49.0          315.0            44.0   \n",
      "4       725     1001   December         56.0          412.0            44.0   \n",
      "...     ...      ...        ...          ...            ...             ...   \n",
      "2288   2291     1498      March         37.0          266.0             0.0   \n",
      "2289   2294     1499    October         53.0          385.0             0.0   \n",
      "2290   2295     1499   November         45.0          308.0             0.0   \n",
      "2291   2293     1499  September         41.0          346.0             0.0   \n",
      "2292   2296     1499   December         65.0          496.0             0.0   \n",
      "\n",
      "      total_gb   reg_date      plan  messages_included  gb_per_month_included  \\\n",
      "0          2.0 2018-12-24  ultimate               1000                     30   \n",
      "1         19.0 2018-08-13      surf                 50                     15   \n",
      "2         22.0 2018-08-13      surf                 50                     15   \n",
      "3         14.0 2018-08-13      surf                 50                     15   \n",
      "4         19.0 2018-08-13      surf                 50                     15   \n",
      "...        ...        ...       ...                ...                    ...   \n",
      "2288      20.0 2018-02-04      surf                 50                     15   \n",
      "2289      20.0 2018-05-06      surf                 50                     15   \n",
      "2290      17.0 2018-05-06      surf                 50                     15   \n",
      "2291      13.0 2018-05-06      surf                 50                     15   \n",
      "2292      22.0 2018-05-06      surf                 50                     15   \n",
      "\n",
      "      minutes_included  usd_monthly_pay  usd_per_gb  usd_per_message  \\\n",
      "0                 3000               70           7             0.01   \n",
      "1                  500               20          10             0.03   \n",
      "2                  500               20          10             0.03   \n",
      "3                  500               20          10             0.03   \n",
      "4                  500               20          10             0.03   \n",
      "...                ...              ...         ...              ...   \n",
      "2288               500               20          10             0.03   \n",
      "2289               500               20          10             0.03   \n",
      "2290               500               20          10             0.03   \n",
      "2291               500               20          10             0.03   \n",
      "2292               500               20          10             0.03   \n",
      "\n",
      "      usd_per_minute  total_revenue  \n",
      "0               0.01          70.00  \n",
      "1               0.03          60.00  \n",
      "2               0.03          90.09  \n",
      "3               0.03          20.00  \n",
      "4               0.03          60.00  \n",
      "...              ...            ...  \n",
      "2288            0.03          70.00  \n",
      "2289            0.03          70.00  \n",
      "2290            0.03          40.00  \n",
      "2291            0.03          20.00  \n",
      "2292            0.03          90.00  \n",
      "\n",
      "[2293 rows x 17 columns]\n"
     ]
    }
   ],
   "source": [
    "# Calcula el ingreso mensual para cada usuario\n",
    "\n",
    "total_revenue = [] # variable para almacenar los ingresos\n",
    "\n",
    "\n",
    "for indice in merge_with_plans_clean['index']: # bucle para iterar sobre datos únicos del dataframe anterior \n",
    "\n",
    "    temp_row = merge_with_plans_clean[merge_with_plans_clean['index'] == indice] #comparación para obtener una fila completa\n",
    "    #print(temp_row.iloc[0])\n",
    "    #print('--------------')\n",
    "    temp_minutes_results = (temp_row.iloc[0,4] - temp_row.iloc[0,11]) * temp_row.iloc[0,15]# operaciones para obener los ingresos por excedentes\n",
    "    temp_messages_results = (temp_row.iloc[0,5] - temp_row.iloc[0,9]) * temp_row.iloc[0,14]\n",
    "    temp_internet_results = (temp_row.iloc[0,6] - temp_row.iloc[0,10]) * temp_row.iloc[0,13]\n",
    "\n",
    "    \n",
    "    if temp_minutes_results <= 0:# comparativos para que el excedente de servicios nunca sea menor a 0\n",
    "        temp_minutes_results = 0\n",
    "    if temp_messages_results <= 0:\n",
    "        temp_messages_results = 0\n",
    "    if temp_internet_results <= 0:\n",
    "        temp_internet_results = 0\n",
    "    \n",
    "    revenue_per_month = round((temp_minutes_results + temp_messages_results + temp_internet_results + temp_row.iloc[0,12]), ndigits = 2).astype(float)# suma de todos los costos excedentes y la tarifa mensual\n",
    "    total_revenue.append(revenue_per_month)#se almacena los resultados de las sumas por los ingresos\n",
    "    #print('**************************************')\n",
    "    #print('Minutos Final', temp_minutes_results)\n",
    "    #print('Mensajes Final', temp_messages_results)\n",
    "    #print('Internet Final', temp_internet_results)\n",
    "    #print('Total Final', revenue_per_month)\n",
    "    \n",
    "    #print('-----------')\n",
    "merge_with_plans_clean['total_revenue'] = total_revenue #se crea una nueva columna para el dataframe principal con los resultados de las sumas de los ingresos\n",
    "\n",
    "print(merge_with_plans_clean)\n",
    "\n",
    "#print(merge_with_plans_clean[merge_with_plans_clean['user_id'] == 1269])\n",
    "\n"
   ]
  },
  {
   "cell_type": "markdown",
   "metadata": {
    "id": "-jtyHzJb0q1I"
   },
   "source": [
    "## Estudia el comportamiento de usuario"
   ]
  },
  {
   "cell_type": "markdown",
   "metadata": {
    "id": "vtW4CJEe0q1J"
   },
   "source": [
    "### Llamadas"
   ]
  },
  {
   "cell_type": "code",
   "execution_count": 30,
   "metadata": {
    "id": "Jf5v5--k0q1J",
    "scrolled": false
   },
   "outputs": [
    {
     "name": "stdout",
     "output_type": "stream",
     "text": [
      "        month  avg_duration_surf  avg_duration_ultimate\n",
      "0     January           6.766667               6.910714\n",
      "1    February           7.303279               6.916667\n",
      "2       March           7.106742               6.614130\n",
      "3       April           7.191899               7.088176\n",
      "4         May           7.173700               7.054491\n",
      "5        June           7.251863               7.110522\n",
      "6        July           7.124836               7.276061\n",
      "7      August           7.124718               7.015709\n",
      "8   September           7.128537               7.166857\n",
      "9     October           7.120604               7.066706\n",
      "10   November           7.160421               7.138889\n",
      "11   December           7.239358               7.073878\n"
     ]
    },
    {
     "data": {
      "image/png": "[encoded data removed]",
      "text/plain": [
       "<Figure size 600x600 with 1 Axes>"
      ]
     },
     "metadata": {},
     "output_type": "display_data"
    }
   ],
   "source": [
    "# Compara la duración promedio de llamadas por cada plan y por cada mes. Traza un gráfico de barras para visualizarla.\n",
    "\n",
    "removed_columns_user = df_users.drop('first_name', axis=1).drop('last_name', axis=1).drop('age', axis=1).drop('city', axis=1).drop('reg_date', axis=1).drop('churn_date', axis=1)\n",
    "merged_calls_plan = df_calls2.merge(removed_columns_user, on = ['user_id'], how = 'outer')\n",
    "\n",
    "only_surf = merged_calls_plan[merged_calls_plan['plan'] == 'surf'].dropna(subset = ['duration_call']).sort_values(by= 'call_date', ascending = True)\n",
    "only_ultimate = merged_calls_plan[merged_calls_plan['plan'] == 'ultimate'].dropna(subset = ['duration_call']).sort_values(by= 'call_date', ascending = True)\n",
    "\n",
    "\n",
    "avg_per_month_surf = []\n",
    "avg_per_month_ultimate = []\n",
    "\n",
    "for month_surf in only_surf['month'].unique():\n",
    "    temp_month_surf = only_surf[only_surf['month'] == month_surf]\n",
    "    avg_duration = (temp_month_surf['duration_call'].mean())\n",
    "    avg_per_month_surf.append([month_surf, avg_duration])\n",
    "    \n",
    "    \n",
    "for month_ultimate in only_ultimate['month'].unique():\n",
    "    temp_month_ultimate = only_ultimate[only_ultimate['month'] == month_ultimate]\n",
    "    avg_duration_u = (temp_month_ultimate['duration_call'].mean())\n",
    "    avg_per_month_ultimate.append([month_ultimate, avg_duration_u])\n",
    "    \n",
    "    \n",
    "avg_duration_calls_surf = pd.DataFrame(data=avg_per_month_surf, columns=['month', 'avg_duration_surf'])\n",
    "avg_duration_calls_ultimate = pd.DataFrame(data=avg_per_month_ultimate, columns=['month', 'avg_duration_ultimate'])\n",
    "\n",
    "merged_plan_duration_calls = avg_duration_calls_surf.merge(avg_duration_calls_ultimate, on='month', how = 'outer')\n",
    "print(merged_plan_duration_calls)\n",
    "\n",
    "\n",
    "merged_plan_duration_calls.plot(x='month', y=['avg_duration_surf', 'avg_duration_ultimate'], kind='bar', figsize = [6, 6], title = 'Duración de llamadas al mes por plan', xlabel='Mes', ylabel='Duración de llamadas(mins)', grid=True)\n",
    "plt.legend(['Plan Surf', 'Plan Ultimate'])\n",
    "plt.show()\n",
    "\n"
   ]
  },
  {
   "cell_type": "code",
   "execution_count": 31,
   "metadata": {
    "id": "QoLqW1S_0q1J"
   },
   "outputs": [
    {
     "name": "stdout",
     "output_type": "stream",
     "text": [
      "        month  total_minutes_surf  total_minutes_ultimate\n",
      "0     January               406.0                   774.0\n",
      "1    February              2673.0                  2822.0\n",
      "2       March              7590.0                  3651.0\n",
      "3       April             17577.0                  7074.0\n",
      "4         May             30768.0                 11781.0\n",
      "5        June             41836.0                 17435.0\n",
      "6        July             54448.0                 25197.0\n",
      "7      August             66438.0                 29922.0\n",
      "8   September             80360.0                 37626.0\n",
      "9     October            101846.0                 47778.0\n",
      "10   November            119801.0                 56540.0\n",
      "11   December            150680.0                 69324.0\n"
     ]
    },
    {
     "data": {
      "image/png": "[encoded data removed]",
      "text/plain": [
       "<Figure size 640x480 with 1 Axes>"
      ]
     },
     "metadata": {},
     "output_type": "display_data"
    }
   ],
   "source": [
    "# Compara el número de minutos mensuales que necesitan los usuarios de cada plan. Traza un histograma.\n",
    "\n",
    "minutes_per_month_surf = []\n",
    "minutes_per_month_ultimate = []\n",
    "#print(only_surf)\n",
    "\n",
    "for month_surf_minutes in only_surf['month'].unique():\n",
    "    temp_minutes_surf = only_surf[only_surf['month'] == month_surf_minutes]\n",
    "    minutes_needed = (temp_minutes_surf['duration_call'].sum())\n",
    "    minutes_per_month_surf.append([month_surf_minutes, minutes_needed])\n",
    "    \n",
    "for month_ultimate_minutes in only_ultimate['month'].unique():\n",
    "    temp_minutes_ultimate = only_ultimate[only_ultimate['month'] == month_ultimate_minutes]\n",
    "    minutes_needed_u = (temp_minutes_ultimate['duration_call'].sum())\n",
    "    minutes_per_month_ultimate.append([month_ultimate_minutes, minutes_needed_u])\n",
    "    #print(minutes_per_month_ultimate)\n",
    "    \n",
    "total_minutes_calls_surf = pd.DataFrame(data=minutes_per_month_surf, columns=['month', 'total_minutes_surf'])\n",
    "total_minutes_calls_ultimate = pd.DataFrame(data=minutes_per_month_ultimate, columns=['month', 'total_minutes_ultimate'])\n",
    "\n",
    "merged_total_minutes_calls = total_minutes_calls_surf.merge(total_minutes_calls_ultimate, on='month', how = 'outer')\n",
    "print(merged_total_minutes_calls)\n",
    "\n",
    "\n",
    "only_surf['duration_call'].plot(kind='hist', bins=30)\n",
    "only_ultimate['duration_call'].plot(kind='hist', bins=30, alpha=0.8, title= 'Frecuencia de duración de llamadas ')\n",
    "\n",
    "plt.legend(['Surf', 'Ultimate']) \n",
    "plt.show()\n",
    "#---------------------------------------------------------------------------------------------------\n",
    "#NOTA: estoy dejando las llamdas con duración de 0 minutos ya que hay un registro de que sí se realizó una llamada\n",
    "#---------------------------------------------------------------------------------------------------\n",
    "\n",
    "\n",
    "#merged_total_minutes_calls.plot(x='month', y=['total_minutes_surf', 'total_minutes_ultimate'], kind='hist', alpha = 0.8, figsize = [6, 6], title = 'Total de minutos al mes por plan', xlabel='Mes', ylabel='Minutos totales', grid=True)\n",
    "#plt.legend(['Plan Surf', 'Plan Ultimate'])\n",
    "#plt.show()"
   ]
  },
  {
   "cell_type": "code",
   "execution_count": 32,
   "metadata": {
    "id": "oSndbAnt0q1K"
   },
   "outputs": [
    {
     "name": "stdout",
     "output_type": "stream",
     "text": [
      "Media plan surf: 56201.916666666664\n",
      "Media plan ultimate: 25827.0\n",
      "Varianza plan surf: 2202716344.5763893\n",
      "Varianza plan ultimate: 478462892.0\n"
     ]
    }
   ],
   "source": [
    "# Calcula la media y la varianza de la duración mensual de llamadas.\n",
    "\n",
    "mean_surf = merged_total_minutes_calls['total_minutes_surf'].mean()\n",
    "mean_ultimate = merged_total_minutes_calls['total_minutes_ultimate'].mean()\n",
    "\n",
    "variance_surf = np.var(merged_total_minutes_calls['total_minutes_surf'])\n",
    "variance_ultimate = np.var(merged_total_minutes_calls['total_minutes_ultimate'])\n",
    "\n",
    "\n",
    "\n",
    "print('Media plan surf:', mean_surf)\n",
    "print('Media plan ultimate:', mean_ultimate)\n",
    "\n",
    "print('Varianza plan surf:', variance_surf)\n",
    "print('Varianza plan ultimate:', variance_ultimate)\n",
    "\n"
   ]
  },
  {
   "cell_type": "code",
   "execution_count": 33,
   "metadata": {
    "id": "nZzoRUKc0q1K"
   },
   "outputs": [
    {
     "data": {
      "image/png": "[encoded data removed]",
      "text/plain": [
       "<Figure size 640x480 with 1 Axes>"
      ]
     },
     "metadata": {},
     "output_type": "display_data"
    }
   ],
   "source": [
    "# Traza un diagrama de caja para visualizar la distribución de la duración mensual de llamadas\n",
    "plt.boxplot([only_surf['duration_call'] , only_ultimate['duration_call']], vert = False, labels = ['Plan Surf', 'Plan Ultimate'])\n",
    "plt.title('Minutos usados por Plan')\n",
    "plt.show()"
   ]
  },
  {
   "cell_type": "markdown",
   "metadata": {
    "id": "r627zBO50q1K"
   },
   "source": [
    "[Elabora las conclusiones sobre el comportamiento de los usuarios con respecto a las llamadas. ¿Su comportamiento varía en función del plan?]\n",
    "\n",
    "De acuerdo a las gráficas y a los datos arrojados por la varianza y la media, los usuarios del Plan Surf hacen más llamadas que los usuarios del Plan Ultimate. Esto puede deberse a que los clientes del Plan Surf se acaban los mensajes y GB de su plan antes que los del Plan Ultimate. De igual forma, puede deberse a que hay un número más grande de usuarios para el Plan Surf.\n",
    "\n",
    "Los usuario del Plan Surf la mayoría duran 4 y 9 minutos por llamada, y los del Plan Ultimate la mayoría duran 6 y 11 minutos por llamada."
   ]
  },
  {
   "cell_type": "markdown",
   "metadata": {
    "id": "8idKy8Wh0q1L"
   },
   "source": [
    "### Mensajes"
   ]
  },
  {
   "cell_type": "code",
   "execution_count": 34,
   "metadata": {
    "id": "NXLxiTit0q1L",
    "scrolled": false
   },
   "outputs": [
    {
     "name": "stdout",
     "output_type": "stream",
     "text": [
      "        month  total_messages_surf  total_messages_ultimate\n",
      "0     January                   21                       62\n",
      "1    February                  108                      151\n",
      "2       March                  351                      243\n",
      "3       April                  870                      463\n",
      "4         May                 1849                      931\n",
      "5        June                 2454                     1379\n",
      "6        July                 3271                     1937\n",
      "7      August                 4662                     2732\n",
      "8   September                 5968                     3259\n",
      "9     October                 8020                     4181\n",
      "10   November                 9165                     4903\n",
      "11   December                12275                     6796\n"
     ]
    },
    {
     "data": {
      "image/png": "[encoded data removed]",
      "text/plain": [
       "<Figure size 600x600 with 1 Axes>"
      ]
     },
     "metadata": {},
     "output_type": "display_data"
    }
   ],
   "source": [
    "# Compara el número de mensajes que tienden a enviar cada mes los usuarios de cada plan\n",
    "\n",
    "merged_messages_plan = df_messages2.merge(removed_columns_user, on = ['user_id'], how = 'outer').dropna(subset = ['message_date'])\n",
    "\n",
    "\n",
    "only_surf_messages = merged_messages_plan[merged_messages_plan['plan'] == 'surf'].sort_values(by= 'message_date', ascending = True)\n",
    "only_ultimate_messages = merged_messages_plan[merged_messages_plan['plan'] == 'ultimate'].sort_values(by= 'message_date', ascending = True)\n",
    "\n",
    "\n",
    "messages_per_month_surf = []\n",
    "messages_per_month_ultimate = []\n",
    "\n",
    "for msg_surf in only_surf_messages['month'].unique():\n",
    "    temp_msg_month_surf = only_surf_messages[only_surf_messages['month'] == msg_surf]\n",
    "    messages_per_month_surf.append([msg_surf, len(temp_msg_month_surf)])\n",
    "    \n",
    "for msg_ultimate in only_ultimate_messages['month'].unique():\n",
    "    temp_msg_month_ultimate = only_ultimate_messages[only_ultimate_messages['month'] == msg_ultimate]\n",
    "    messages_per_month_ultimate.append([msg_ultimate, len(temp_msg_month_ultimate)])\n",
    "    \n",
    "total_messages_surf = pd.DataFrame(data=messages_per_month_surf, columns=['month', 'total_messages_surf'])\n",
    "total_messages_ultimate = pd.DataFrame(data=messages_per_month_ultimate, columns=['month', 'total_messages_ultimate'])\n",
    "\n",
    "merged_plan_messages = total_messages_surf.merge(total_messages_ultimate, on='month', how = 'outer')\n",
    "print(merged_plan_messages)\n",
    "\n",
    "\n",
    "merged_plan_messages.plot(x='month', y=['total_messages_surf', 'total_messages_ultimate'], kind='bar', figsize = [6, 6], title = 'Comparativa de mensajes enviados al mes por paquete', xlabel='Mes', ylabel='Número de mensajes', grid=True)\n",
    "plt.legend(['Plan Surf', 'Plan Ultimate'])\n",
    "plt.show()\n"
   ]
  },
  {
   "cell_type": "code",
   "execution_count": 35,
   "metadata": {
    "id": "GRI_R7xF0q1L"
   },
   "outputs": [
    {
     "name": "stdout",
     "output_type": "stream",
     "text": [
      "Media plan surf: 4084.5\n",
      "Media plan ultimate: 2253.0833333333335\n",
      "Varianza plan surf: 14764949.916666666\n",
      "Varianza plan ultimate: 4307875.909722221\n"
     ]
    }
   ],
   "source": [
    "# Calcula la media y la varianza de los mensajes mensuales.\n",
    "\n",
    "mean_surf_messages = merged_plan_messages['total_messages_surf'].mean()\n",
    "mean_ultimate_messages = merged_plan_messages['total_messages_ultimate'].mean()\n",
    "\n",
    "variance_surf_messages = np.var(merged_plan_messages['total_messages_surf'])\n",
    "variance_ultimate_messages = np.var(merged_plan_messages['total_messages_ultimate'])\n",
    "\n",
    "\n",
    "\n",
    "print('Media plan surf:', mean_surf_messages)\n",
    "print('Media plan ultimate:', mean_ultimate_messages)\n",
    "\n",
    "print('Varianza plan surf:', variance_surf_messages)\n",
    "print('Varianza plan ultimate:', variance_ultimate_messages)"
   ]
  },
  {
   "cell_type": "code",
   "execution_count": 50,
   "metadata": {
    "id": "dtFwCGAp0q1M"
   },
   "outputs": [
    {
     "data": {
      "image/png": "[encoded data removed]",
      "text/plain": [
       "<Figure size 640x480 with 1 Axes>"
      ]
     },
     "metadata": {},
     "output_type": "display_data"
    }
   ],
   "source": [
    "# Traza un diagrama de caja para visualizar la distribución de los mensajes mensuales\n",
    "surf_messages_grouped = only_surf_messages.groupby('user_id').count().reset_index()\n",
    "ultimate_messages_grouped = only_ultimate_messages.groupby('user_id').count().reset_index()\n",
    "\n",
    "\n",
    "#print(ultimate_messages_grouped.sort_values(by='id_messages'))\n",
    "plt.boxplot([surf_messages_grouped['id_messages'] , ultimate_messages_grouped['id_messages']], vert = False, labels = ['Plan Surf', 'Plan Ultimate'])\n",
    "plt.title('Mensajes enviados por Usuarios')\n",
    "plt.show()"
   ]
  },
  {
   "cell_type": "markdown",
   "metadata": {
    "id": "390SSL480q1M"
   },
   "source": [
    "Los usuarios del Plan Surf usan con más fecuencia el envío de mensajes, siendo a finales de año cuando mayor envios de estos hay. En ambos casos, de acuerdo al diagrama de cajas, hay pocos usuarios que han mandado más de 1200 mensajes en 2018."
   ]
  },
  {
   "cell_type": "markdown",
   "metadata": {
    "id": "42YSypXz0q1M"
   },
   "source": [
    "### Internet"
   ]
  },
  {
   "cell_type": "code",
   "execution_count": 37,
   "metadata": {
    "id": "lSuKPtjh0q1M"
   },
   "outputs": [
    {
     "name": "stdout",
     "output_type": "stream",
     "text": [
      "        month  total_gb_surf  total_gb_ultimate\n",
      "0     January           10.0               29.0\n",
      "1    February          110.0              121.0\n",
      "2       March          312.0              221.0\n",
      "3       April          611.0              343.0\n",
      "4         May         1087.0              489.0\n",
      "5        June         1502.0              725.0\n",
      "6        July         2042.0              973.0\n",
      "7      August         2735.0             1267.0\n",
      "8   September         3238.0             1463.0\n",
      "9     October         4126.0             1878.0\n",
      "10   November         4650.0             2174.0\n",
      "11   December         5800.0             2778.0\n"
     ]
    },
    {
     "data": {
      "image/png": "[encoded data removed]",
      "text/plain": [
       "<Figure size 600x600 with 1 Axes>"
      ]
     },
     "metadata": {},
     "output_type": "display_data"
    }
   ],
   "source": [
    "# Compara la cantidad de tráfico de Internet consumido por usuarios por plan\n",
    "\n",
    "merged_internet_plan = df_internet2.merge(removed_columns_user, on = ['user_id'], how = 'outer').dropna(subset = ['session_date'])\n",
    "\n",
    "\n",
    "internet_per_month_surf = []\n",
    "internet_per_month_ultimate = []\n",
    "acc_gb_per_month = 0\n",
    "acc_gb_per_month2 = 0\n",
    "\n",
    "\n",
    "only_surf_internet = merged_internet_plan[merged_internet_plan['plan'] == 'surf'].sort_values(by= 'session_date', ascending = True)\n",
    "only_ultimate_internet = merged_internet_plan[merged_internet_plan['plan'] == 'ultimate'].sort_values(by= 'session_date', ascending = True)\n",
    "\n",
    "\n",
    "for month_surf_internet in only_surf_internet['month'].unique():\n",
    "    temp_internet_surf = only_surf_internet[only_surf_internet['month'] == month_surf_internet]    \n",
    "    for user_internet in temp_internet_surf['user_id'].unique():\n",
    "        temp_user_internet_surf = temp_internet_surf[temp_internet_surf['user_id'] == user_internet]\n",
    "        subtotal_gb_per_user = np.ceil(temp_user_internet_surf['mb_used'].sum()/ 1024)\n",
    "        acc_gb_per_month +=subtotal_gb_per_user\n",
    "    internet_per_month_surf.append([month_surf_internet, acc_gb_per_month])\n",
    "    acc_gb_per_month = 0\n",
    "\n",
    "for month_surf_internet2 in only_ultimate_internet['month'].unique():\n",
    "    temp_internet_ultimate = only_ultimate_internet[only_ultimate_internet['month'] == month_surf_internet2]\n",
    "    for user_internet2 in temp_internet_ultimate['user_id'].unique():\n",
    "        temp_user_internet_ultimate = temp_internet_ultimate[temp_internet_ultimate['user_id'] == user_internet2]\n",
    "        subtotal_gb_per_user2 = np.ceil(temp_user_internet_ultimate['mb_used'].sum()/ 1024)\n",
    "        acc_gb_per_month2 +=subtotal_gb_per_user2\n",
    "    internet_per_month_ultimate.append([month_surf_internet2, acc_gb_per_month2])\n",
    "    acc_gb_per_month2 = 0   \n",
    "\n",
    "    \n",
    "total_gb_surf = pd.DataFrame(data=internet_per_month_surf, columns=['month', 'total_gb_surf'])\n",
    "total_gb_ultimate = pd.DataFrame(data=internet_per_month_ultimate, columns=['month', 'total_gb_ultimate'])\n",
    "\n",
    "merged_total_gb_used = total_gb_surf.merge(total_gb_ultimate, on='month', how = 'outer')\n",
    "print(merged_total_gb_used)\n",
    "\n",
    "\n",
    "merged_total_gb_used.plot(x='month', y=['total_gb_surf', 'total_gb_ultimate'], kind='bar', figsize = [6, 6], title = 'Total de GB usados al mes por plan', xlabel='Mes', ylabel='GB Usados', grid=True)\n",
    "plt.legend(['Plan Surf', 'Plan Ultimate'])\n",
    "plt.show()\n"
   ]
  },
  {
   "cell_type": "code",
   "execution_count": 38,
   "metadata": {
    "id": "wnh8jYXi0q1N"
   },
   "outputs": [
    {
     "name": "stdout",
     "output_type": "stream",
     "text": [
      "Media plan surf: 2185.25\n",
      "Media plan ultimate: 1038.4166666666667\n",
      "Varianza plan surf: 3419803.0208333335\n",
      "Varianza plan ultimate: 722486.576388889\n"
     ]
    }
   ],
   "source": [
    "# Calcula la media y la varianza de los GB mensuales.\n",
    "\n",
    "mean_surf_internet = merged_total_gb_used['total_gb_surf'].mean()\n",
    "mean_ultimate_internet = merged_total_gb_used['total_gb_ultimate'].mean()\n",
    "\n",
    "variance_surf_internet = np.var(merged_total_gb_used['total_gb_surf'])\n",
    "variance_ultimate_internet = np.var(merged_total_gb_used['total_gb_ultimate'])\n",
    "\n",
    "\n",
    "\n",
    "print('Media plan surf:', mean_surf_internet)\n",
    "print('Media plan ultimate:', mean_ultimate_internet)\n",
    "\n",
    "print('Varianza plan surf:', variance_surf_internet)\n",
    "print('Varianza plan ultimate:', variance_ultimate_internet)"
   ]
  },
  {
   "cell_type": "code",
   "execution_count": 53,
   "metadata": {
    "id": "5VlyJ9ry0q1N"
   },
   "outputs": [
    {
     "data": {
      "image/png": "[encoded data removed]",
      "text/plain": [
       "<Figure size 640x480 with 1 Axes>"
      ]
     },
     "metadata": {},
     "output_type": "display_data"
    }
   ],
   "source": [
    "# Traza un diagrama de caja para visualizar la distribución de los mensajes mensuales\n",
    "\n",
    "\n",
    "plt.boxplot([only_surf_internet['mb_used'] , only_ultimate_internet['mb_used']], vert = False, labels = ['Plan Surf', 'Plan Ultimate'])\n",
    "plt.title('MB usados por usuario')\n",
    "plt.show()"
   ]
  },
  {
   "cell_type": "markdown",
   "metadata": {
    "id": "UN9zwuMP0q1N"
   },
   "source": [
    "Se puede observar que de igual forma como en las llamadas y en los mensajes, hay más usos de GB al mes en el Plan Surf que en el Plan Ultimate. También es posible observar que mes con mes hay un incremento en el uso de todos los servicios, lo que da a entender que cada vez más usuarios están usando los servicios con el pasar de los meses. En ambos planes los usuarios consumen alrededor de 150 a 580 mb."
   ]
  },
  {
   "cell_type": "markdown",
   "metadata": {
    "id": "tCijq3260q1N"
   },
   "source": [
    "## Ingreso"
   ]
  },
  {
   "cell_type": "code",
   "execution_count": 40,
   "metadata": {
    "id": "tz-dq_V00q1O"
   },
   "outputs": [
    {
     "name": "stdout",
     "output_type": "stream",
     "text": [
      "        month  total_revenue_surf  total_revenue_ultimate\n",
      "0     January               40.00                   280.0\n",
      "1    February              309.57                   490.0\n",
      "2       March             1056.65                   896.0\n",
      "3       April             2035.53                  1533.0\n",
      "4         May             3667.37                  2051.0\n",
      "5        June             4779.80                  3367.0\n",
      "6        July             7583.56                  4242.0\n",
      "7      August            10356.85                  5173.0\n",
      "8   September            11304.67                  6195.0\n",
      "9     October            15504.83                  7665.0\n",
      "10   November            16415.21                  9107.0\n",
      "11   December            22437.14                 11067.0\n"
     ]
    },
    {
     "data": {
      "image/png": "[encoded data removed]",
      "text/plain": [
       "<Figure size 600x600 with 1 Axes>"
      ]
     },
     "metadata": {},
     "output_type": "display_data"
    }
   ],
   "source": [
    "#print(merge_with_plans_clean)\n",
    "stored_month_number =[]\n",
    "columna_usuarios = merge_with_plans_clean['user_id']\n",
    "columna_fecha = merge_with_plans_clean['month']\n",
    "\n",
    "for current in merge_with_plans_clean['month']: # bucle para asignar el numero del mes para ordenarlo mejor\n",
    "    if current == 'January':\n",
    "        stored_month_number.append(1)\n",
    "    elif current == 'February':\n",
    "        stored_month_number.append(2)\n",
    "    elif current == 'March':\n",
    "        stored_month_number.append(3)\n",
    "    elif current == 'April':\n",
    "        stored_month_number.append(4)\n",
    "    elif current == 'May':\n",
    "        stored_month_number.append(5)\n",
    "    elif current == 'June':\n",
    "        stored_month_number.append(6)\n",
    "    elif current == 'July':\n",
    "        stored_month_number.append(7)\n",
    "    elif current == 'August':\n",
    "        stored_month_number.append(8)\n",
    "    elif current == 'September':\n",
    "        stored_month_number.append(9)\n",
    "    elif current == 'October':\n",
    "        stored_month_number.append(10)\n",
    "    elif current == 'November':\n",
    "        stored_month_number.append(11)\n",
    "    elif current == 'December':\n",
    "        stored_month_number.append(12)\n",
    "    \n",
    "        \n",
    "        \n",
    "new_revenue_df = pd.DataFrame(data=columna_usuarios, columns=['user_id'])\n",
    "new_revenue_df['month'] = columna_fecha\n",
    "new_revenue_df['month_sort'] = stored_month_number\n",
    "new_revenue_df['total_revenue'] = merge_with_plans_clean['total_revenue']\n",
    "new_revenue_df['plan'] = merge_with_plans_clean['plan']\n",
    "new_revenue_df = new_revenue_df.sort_values(by='month_sort', ascending = True)\n",
    "#print(new_revenue_df)\n",
    "# Todos los bloques de código anterior fueron solamente para poder ordenar mejor posteriormente en la gráfica.\n",
    "\n",
    "\n",
    "revenue_per_month_surf = []\n",
    "revenue_per_month_ultimate = []\n",
    "acc_revenue_per_month3 = 0\n",
    "acc_gb_per_month4 = 0\n",
    "\n",
    "\n",
    "only_surf_revenue = new_revenue_df[new_revenue_df['plan'] == 'surf'].sort_values(by= 'month_sort', ascending = True)\n",
    "only_ultimate_revenue = new_revenue_df[new_revenue_df['plan'] == 'ultimate'].sort_values(by= 'month_sort', ascending = True)\n",
    "\n",
    "for month_surf_revenue in only_surf_revenue['month'].unique():\n",
    "    temp_revenue_surf = only_surf_revenue[only_surf_revenue['month'] == month_surf_revenue]    \n",
    "    subtotal_revenue_per_month = round(temp_revenue_surf['total_revenue'].sum(), ndigits = 2)\n",
    "    revenue_per_month_surf.append([month_surf_revenue,subtotal_revenue_per_month])\n",
    "    \n",
    "    \n",
    "for month_ultimate_revenue in only_ultimate_revenue['month'].unique():\n",
    "    temp_revenue_ultimate = only_ultimate_revenue[only_ultimate_revenue['month'] == month_ultimate_revenue]    \n",
    "    subtotal_revenue_per_month2 = round(temp_revenue_ultimate['total_revenue'].sum(), ndigits = 2)\n",
    "    revenue_per_month_ultimate.append([month_ultimate_revenue, subtotal_revenue_per_month2])\n",
    "\n",
    "total_revenue_surf = pd.DataFrame(data=revenue_per_month_surf, columns=['month', 'total_revenue_surf'])\n",
    "total_revenue_ultimate = pd.DataFrame(data=revenue_per_month_ultimate, columns=['month', 'total_revenue_ultimate'])\n",
    "\n",
    "merged_total_revenue = total_revenue_surf.merge(total_revenue_ultimate, on='month', how = 'outer')\n",
    "print(merged_total_revenue)\n",
    "\n",
    "\n",
    "merged_total_revenue.plot(x='month', y=['total_revenue_surf', 'total_revenue_ultimate'], kind='bar', figsize = [6, 6], title = 'Comparativa de ingresos entre planes', xlabel='Mes', ylabel='Ingresos (USD)', grid=True)\n",
    "plt.legend(['Plan Surf', 'Plan Ultimate'])\n",
    "plt.show()\n",
    "\n",
    "\n"
   ]
  },
  {
   "cell_type": "code",
   "execution_count": 41,
   "metadata": {
    "id": "0Y1v8ZUz0q1P"
   },
   "outputs": [
    {
     "name": "stdout",
     "output_type": "stream",
     "text": [
      "Media plan surf: 7957.598333333334\n",
      "Media plan ultimate: 4338.833333333333\n",
      "Varianza plan surf: 48968947.76556388\n",
      "Varianza plan ultimate: 11700806.63888889\n"
     ]
    }
   ],
   "source": [
    "# Calcula la media y la varianza de los ingresos mensuales.\n",
    "\n",
    "mean_surf_revenue = merged_total_revenue['total_revenue_surf'].mean()\n",
    "mean_ultimate_revenue = merged_total_revenue['total_revenue_ultimate'].mean()\n",
    "\n",
    "variance_surf_revenue = np.var(merged_total_revenue['total_revenue_surf'])\n",
    "variance_ultimate_revenue = np.var(merged_total_revenue['total_revenue_ultimate'])\n",
    "\n",
    "\n",
    "\n",
    "print('Media plan surf:', mean_surf_revenue)\n",
    "print('Media plan ultimate:', mean_ultimate_revenue)\n",
    "\n",
    "print('Varianza plan surf:', variance_surf_revenue)\n",
    "print('Varianza plan ultimate:', variance_ultimate_revenue)"
   ]
  },
  {
   "cell_type": "code",
   "execution_count": 55,
   "metadata": {
    "id": "bYmwxyVh0q1P"
   },
   "outputs": [
    {
     "name": "stdout",
     "output_type": "stream",
     "text": [
      "      user_id     month  month_sort  total_revenue  plan\n",
      "167      1042   January           1          20.00  surf\n",
      "1677     1362   January           1          20.00  surf\n",
      "1686     1362  February           2          29.57  surf\n",
      "653      1138  February           2          30.00  surf\n",
      "158      1042  February           2          20.00  surf\n",
      "...       ...       ...         ...            ...   ...\n",
      "755      1157  December          12          20.24  surf\n",
      "749      1156  December          12          50.00  surf\n",
      "843      1175  December          12          43.27  surf\n",
      "809      1168  December          12          20.00  surf\n",
      "2292     1499  December          12          90.00  surf\n",
      "\n",
      "[1573 rows x 5 columns]\n"
     ]
    },
    {
     "data": {
      "image/png": "[encoded data removed]",
      "text/plain": [
       "<Figure size 640x480 with 1 Axes>"
      ]
     },
     "metadata": {},
     "output_type": "display_data"
    }
   ],
   "source": [
    "# Traza un diagrama de caja para visualizar la distribución de los ingresos mensuales\n",
    "plt.boxplot([only_surf_revenue['total_revenue'] , only_ultimate_revenue['total_revenue']], vert = False, labels = ['Plan Surf', 'Plan Ultimate'])\n",
    "plt.title('Ingresos Mensuales por Plan')\n",
    "plt.show()"
   ]
  },
  {
   "cell_type": "markdown",
   "metadata": {
    "id": "KAFidcXZ0q1P"
   },
   "source": [
    "Con los datos obtenidos, se puede inferir que el plan Surf genera más ingresos que el plan Ultimate, en gran parte puede deberse al número de clientes que tienen dicho plan y a que las tarifas por servicios excedente cuestan un poco más que el plan Ultimate. A pesar de que el plan Ultimate es más caro, no genera los mismos ingresos que el Surf."
   ]
  },
  {
   "cell_type": "markdown",
   "metadata": {
    "id": "ajJ7VKeI0q1Q"
   },
   "source": [
    "## Prueba las hipótesis estadísticas"
   ]
  },
  {
   "cell_type": "code",
   "execution_count": 43,
   "metadata": {
    "id": "nFoPNlPq0q1R"
   },
   "outputs": [
    {
     "name": "stdout",
     "output_type": "stream",
     "text": [
      "Varianza de ingresos de Plan Surf 3065.8848438690247\n",
      "Varianza de ingresos de Plan Ultimate 129.66814043209877\n",
      "valor p:  3.1703905481135734e-15\n",
      "Rechazamos la hipótesis nula. Los ingresos de ambos planes NO son iguales.\n"
     ]
    }
   ],
   "source": [
    "# Prueba las hipótesis. Se usará el ejemplo de hipótesis sobre la igualdad de la media de dos poblaciones.\n",
    "#La Hipótesis nula es que los ingresos promedio de los planes Surf y Ultimate son iguales.\n",
    "\n",
    "#Hago dos conjuntos de datos, uno con el plan Surf y otro con plan Ultimate. Solo extraigo la columna de los ingresos.\n",
    "sample_surf = merge_with_plans_clean[merge_with_plans_clean['plan'] == 'surf']['total_revenue']\n",
    "sample_ultimate = merge_with_plans_clean[merge_with_plans_clean['plan'] == 'ultimate']['total_revenue']\n",
    "\n",
    "alpha = 0.05\n",
    "\n",
    "print('Varianza de ingresos de Plan Surf', np.var(sample_surf))\n",
    "print('Varianza de ingresos de Plan Ultimate', np.var(sample_ultimate))\n",
    "\n",
    "results = st.ttest_ind(sample_surf, sample_ultimate, equal_var = False)# Ponemos equal_var en False ya que las varianzas de ambos conjuntos no  son iguales o similares\n",
    "\n",
    "print('valor p: ', results.pvalue)\n",
    "\n",
    "\n",
    "\n",
    "if results.pvalue < alpha: # comparar el valor p con el umbral\n",
    "    print(\"Rechazamos la hipótesis nula. Los ingresos de ambos planes NO son iguales.\")\n",
    "else:\n",
    "    print(\"No podemos rechazar la hipótesis nula. Los ingresos de ambos planes SÍ son iguales\")\n",
    "    \n",
    "    \n"
   ]
  },
  {
   "cell_type": "markdown",
   "metadata": {
    "id": "tCcAruM60q1R"
   },
   "source": [
    "[Prueba la hipótesis de que el ingreso promedio de los usuarios del área NY-NJ es diferente al de los usuarios de otras regiones.]"
   ]
  },
  {
   "cell_type": "markdown",
   "metadata": {
    "id": "LsBgitqj0q1R"
   },
   "source": [
    "[Elabora las hipótesis nula y alternativa, escoge la prueba estadística, determina el valor alfa.]"
   ]
  },
  {
   "cell_type": "code",
   "execution_count": 44,
   "metadata": {
    "id": "Cqcj7wrZ0q1S"
   },
   "outputs": [
    {
     "name": "stdout",
     "output_type": "stream",
     "text": [
      "Varianza de ingresos de NY_NJ 1890.5177172681153\n",
      "Varianza de ingresos de otras ciudades 2223.8866958162175\n",
      "valor p:  0.0335256158853001\n",
      "Rechazamos la hipótesis nula. Los ingresos NY-NJ NO son iguales a otras regiones\n"
     ]
    }
   ],
   "source": [
    "# Prueba las hipótesis. Se usará el ejemplo de hipótesis sobre la igualdad de la media de dos poblaciones.\n",
    "#La Hipótesis nula es que los ingresos promedio de NY_NJ es igual que todas las otras regiones.\n",
    "#La Hipótesis alternativa es que NY-NJ tiene ingresos diferentes a las otras regiones.\n",
    "\n",
    "\n",
    "#Elimino columnas para dejar solamente la columna de city para fusionarla con el dataframe donde se encuentran los ingresos\n",
    "#Tomo como referencia el número de usuario para hacer la fusión\n",
    "cleaned_city_users = df_users.drop('first_name', axis=1).drop('last_name', axis=1).drop('age', axis=1).drop('reg_date', axis=1).drop('plan', axis=1).drop('churn_date', axis=1)\n",
    "merged_revenue_per_city = merge_with_plans_clean.merge(cleaned_city_users, on='user_id', how = 'outer' ).dropna(subset = ['total_revenue'])\n",
    "\n",
    "\n",
    "#Hago dos conjuntos de datos, uno con la ciudad de NY_NJ y otro con las demás ciudades. Solo extraigo la columna de los ingresos.\n",
    "only_NY_NJ_rev = merged_revenue_per_city[merged_revenue_per_city['city'] == 'New York-Newark-Jersey City, NY-NJ-PA MSA']['total_revenue']\n",
    "besides_NY_NJ_rev = merged_revenue_per_city[merged_revenue_per_city['city'] != 'New York-Newark-Jersey City, NY-NJ-PA MSA']['total_revenue']\n",
    "\n",
    "\n",
    "alpha = 0.05\n",
    "\n",
    "print('Varianza de ingresos de NY_NJ', np.var(only_NY_NJ_rev))\n",
    "print('Varianza de ingresos de otras ciudades', np.var(besides_NY_NJ_rev))\n",
    "\n",
    "results = st.ttest_ind(only_NY_NJ_rev, besides_NY_NJ_rev, equal_var = False)# Ponemos equal_var en False ya que las varianzas de ambos conjuntos no  son iguales o similares\n",
    "\n",
    "print('valor p: ', results.pvalue)\n",
    "\n",
    "\n",
    "if results.pvalue < alpha: # comparar el valor p con el umbral\n",
    "    print(\"Rechazamos la hipótesis nula. Los ingresos NY-NJ NO son iguales a otras regiones\")\n",
    "else:\n",
    "    print(\"No podemos rechazar la hipótesis nula. Los ingresos NY-NJ SÍ son iguales a otras regiones \")\n"
   ]
  },
  {
   "cell_type": "markdown",
   "metadata": {
    "id": "bbTR8UQO0q1T"
   },
   "source": [
    "## Conclusión general\n",
    "\n",
    "De acuerdo al análisis estadístico de todas las tablas, el plan Surf es el más elegido por los clientes, y el que más ingresos genera a la empresa. En todos los servicios disponibles por la empresa, genera más ingresos y más uso de dichos servicios los del Plan Surf.\n",
    "\n",
    "También por medio de la última hipótesis a pesar de que se rechazó la la hipótesis de que la ciudad de NY_NJ genera lo mismo que el conjunto de las otras ciudades, el p-value fue muy cercano a alpha como para no tomar en cuenta que esta ciudad es de las que mayores ingresos genera a la empresa."
   ]
  },
  {
   "cell_type": "code",
   "execution_count": null,
   "metadata": {},
   "outputs": [],
   "source": []
  }
 ],
 "metadata": {
  "ExecuteTimeLog": [
   {
    "duration": 828,
    "start_time": "2021-11-16T09:21:11.304Z"
   },
   {
    "duration": 893,
    "start_time": "2021-11-16T09:21:17.728Z"
   },
   {
    "duration": 1150,
    "start_time": "2021-11-16T09:21:29.568Z"
   },
   {
    "duration": 3,
    "start_time": "2021-11-16T09:24:14.495Z"
   },
   {
    "duration": 120,
    "start_time": "2021-11-16T09:24:46.630Z"
   },
   {
    "duration": 3,
    "start_time": "2021-11-16T09:28:27.882Z"
   },
   {
    "duration": 4,
    "start_time": "2021-11-16T09:29:54.281Z"
   },
   {
    "duration": 3,
    "start_time": "2021-11-16T09:30:45.936Z"
   },
   {
    "duration": 4,
    "start_time": "2021-11-16T09:31:06.300Z"
   },
   {
    "duration": 113,
    "start_time": "2021-11-16T09:31:37.208Z"
   },
   {
    "duration": 143,
    "start_time": "2021-11-16T09:31:48.656Z"
   },
   {
    "duration": 98,
    "start_time": "2021-11-16T09:31:55.678Z"
   },
   {
    "duration": 3,
    "start_time": "2021-11-16T09:32:08.535Z"
   },
   {
    "duration": 111,
    "start_time": "2021-11-16T09:32:10.120Z"
   },
   {
    "duration": 3,
    "start_time": "2021-11-16T09:32:15.732Z"
   },
   {
    "duration": 4,
    "start_time": "2021-11-16T09:32:29.423Z"
   },
   {
    "duration": 3,
    "start_time": "2021-11-16T10:03:03.074Z"
   },
   {
    "duration": 3,
    "start_time": "2021-11-16T10:10:01.288Z"
   },
   {
    "duration": 3,
    "start_time": "2021-11-16T10:10:46.923Z"
   },
   {
    "duration": 121,
    "start_time": "2021-11-16T10:37:46.494Z"
   },
   {
    "duration": 125,
    "start_time": "2021-11-16T10:38:20.632Z"
   },
   {
    "duration": 112,
    "start_time": "2021-11-16T10:46:53.001Z"
   },
   {
    "duration": 110,
    "start_time": "2021-11-16T10:48:25.775Z"
   },
   {
    "duration": 3,
    "start_time": "2021-11-16T10:50:18.720Z"
   },
   {
    "duration": 4,
    "start_time": "2021-11-16T10:50:37.649Z"
   },
   {
    "duration": 2,
    "start_time": "2021-11-16T10:50:51.884Z"
   },
   {
    "duration": 3,
    "start_time": "2021-11-16T10:51:56.237Z"
   },
   {
    "duration": 101,
    "start_time": "2021-11-16T10:53:13.791Z"
   },
   {
    "duration": 3,
    "start_time": "2021-11-16T10:55:59.186Z"
   },
   {
    "duration": 3,
    "start_time": "2021-11-16T10:56:10.751Z"
   },
   {
    "duration": 3,
    "start_time": "2021-11-16T10:56:49.038Z"
   },
   {
    "duration": 3,
    "start_time": "2021-11-16T10:56:49.174Z"
   },
   {
    "duration": 4,
    "start_time": "2021-11-16T10:56:49.414Z"
   },
   {
    "duration": 3,
    "start_time": "2021-11-16T10:56:49.680Z"
   },
   {
    "duration": 3,
    "start_time": "2021-11-16T10:56:50.370Z"
   },
   {
    "duration": 114,
    "start_time": "2021-11-16T10:59:34.518Z"
   },
   {
    "duration": 3,
    "start_time": "2021-11-16T11:01:41.201Z"
   },
   {
    "duration": 116,
    "start_time": "2021-11-16T11:01:48.754Z"
   },
   {
    "duration": 3,
    "start_time": "2021-11-16T11:02:16.685Z"
   },
   {
    "duration": 3,
    "start_time": "2021-11-16T11:02:19.479Z"
   },
   {
    "duration": 3,
    "start_time": "2021-11-16T11:02:47.067Z"
   },
   {
    "duration": 3,
    "start_time": "2021-11-16T11:02:49.353Z"
   },
   {
    "duration": 3,
    "start_time": "2021-11-16T11:03:07.835Z"
   },
   {
    "duration": 3,
    "start_time": "2021-11-16T11:03:07.953Z"
   },
   {
    "duration": 112,
    "start_time": "2021-11-16T11:07:52.072Z"
   },
   {
    "duration": 187,
    "start_time": "2021-11-16T11:09:23.468Z"
   },
   {
    "duration": 4,
    "start_time": "2021-11-16T11:10:01.455Z"
   },
   {
    "duration": 3,
    "start_time": "2021-11-16T11:10:05.069Z"
   },
   {
    "duration": 4,
    "start_time": "2021-11-16T11:10:13.376Z"
   },
   {
    "duration": 3,
    "start_time": "2021-11-16T11:10:14.434Z"
   },
   {
    "duration": 3,
    "start_time": "2021-11-16T11:10:22.853Z"
   },
   {
    "duration": 4,
    "start_time": "2021-11-16T11:27:29.279Z"
   },
   {
    "duration": 4,
    "start_time": "2021-11-16T11:29:08.919Z"
   },
   {
    "duration": 118,
    "start_time": "2021-11-16T11:29:46.703Z"
   },
   {
    "duration": 437,
    "start_time": "2021-11-16T11:36:02.181Z"
   },
   {
    "duration": 157,
    "start_time": "2021-11-16T11:36:14.388Z"
   },
   {
    "duration": 207,
    "start_time": "2021-11-16T11:47:15.898Z"
   },
   {
    "duration": 3,
    "start_time": "2021-11-16T11:53:52.092Z"
   },
   {
    "duration": 3,
    "start_time": "2021-11-16T11:53:52.236Z"
   },
   {
    "duration": 3,
    "start_time": "2021-11-16T11:59:12.005Z"
   },
   {
    "duration": 112,
    "start_time": "2021-11-16T12:00:33.446Z"
   },
   {
    "duration": 3,
    "start_time": "2021-11-16T12:02:14.453Z"
   },
   {
    "duration": 3,
    "start_time": "2021-11-16T12:02:39.512Z"
   },
   {
    "duration": 106,
    "start_time": "2021-11-16T12:03:03.460Z"
   },
   {
    "duration": 3,
    "start_time": "2021-11-17T20:37:21.139Z"
   },
   {
    "duration": 3,
    "start_time": "2021-11-17T20:37:22.229Z"
   },
   {
    "duration": 3,
    "start_time": "2021-11-17T20:38:38.806Z"
   },
   {
    "duration": 3,
    "start_time": "2021-11-17T20:38:41.958Z"
   },
   {
    "duration": 3,
    "start_time": "2021-11-17T20:43:46.551Z"
   },
   {
    "duration": 4,
    "start_time": "2021-11-17T20:58:21.835Z"
   },
   {
    "duration": 3,
    "start_time": "2021-11-17T20:59:21.872Z"
   },
   {
    "duration": 4,
    "start_time": "2021-11-17T20:59:45.352Z"
   },
   {
    "duration": 4,
    "start_time": "2021-11-17T20:59:49.646Z"
   },
   {
    "duration": 159,
    "start_time": "2021-11-17T21:02:26.949Z"
   },
   {
    "duration": 3,
    "start_time": "2021-11-17T21:03:53.461Z"
   },
   {
    "duration": 3,
    "start_time": "2021-11-17T21:03:53.694Z"
   },
   {
    "duration": 3,
    "start_time": "2021-11-17T21:05:28.145Z"
   },
   {
    "duration": 116,
    "start_time": "2021-11-17T21:05:57.787Z"
   },
   {
    "duration": 3,
    "start_time": "2021-11-17T21:06:37.993Z"
   },
   {
    "duration": 3,
    "start_time": "2021-11-17T21:06:38.261Z"
   },
   {
    "duration": 3,
    "start_time": "2021-11-17T21:11:54.358Z"
   },
   {
    "duration": 3,
    "start_time": "2021-11-17T21:12:43.846Z"
   },
   {
    "duration": 4,
    "start_time": "2021-11-17T21:13:08.773Z"
   },
   {
    "duration": 3,
    "start_time": "2021-11-17T21:14:44.441Z"
   },
   {
    "duration": 3,
    "start_time": "2021-11-17T21:15:42.059Z"
   },
   {
    "duration": 4,
    "start_time": "2021-11-17T21:15:51.995Z"
   },
   {
    "duration": 3,
    "start_time": "2021-11-17T21:15:53.923Z"
   },
   {
    "duration": 3,
    "start_time": "2021-11-17T21:15:55.282Z"
   },
   {
    "duration": 3,
    "start_time": "2021-11-17T21:16:28.492Z"
   },
   {
    "duration": 3,
    "start_time": "2021-11-17T21:16:32.603Z"
   },
   {
    "duration": 3,
    "start_time": "2021-11-17T21:17:06.941Z"
   },
   {
    "duration": 98,
    "start_time": "2021-11-17T21:18:05.733Z"
   },
   {
    "duration": 4,
    "start_time": "2021-11-17T21:21:35.255Z"
   },
   {
    "duration": 3,
    "start_time": "2021-11-17T21:21:37.804Z"
   },
   {
    "duration": 4,
    "start_time": "2021-11-17T21:23:06.071Z"
   },
   {
    "duration": 3,
    "start_time": "2021-11-17T21:23:24.799Z"
   },
   {
    "duration": 3,
    "start_time": "2021-11-17T21:23:32.591Z"
   },
   {
    "duration": 98,
    "start_time": "2021-11-17T21:28:31.559Z"
   },
   {
    "duration": 3,
    "start_time": "2021-11-17T21:28:45.448Z"
   },
   {
    "duration": 3,
    "start_time": "2021-11-17T21:29:17.303Z"
   },
   {
    "duration": 3,
    "start_time": "2021-11-17T21:29:29.617Z"
   },
   {
    "duration": 3,
    "start_time": "2021-11-17T21:29:32.681Z"
   },
   {
    "duration": 3,
    "start_time": "2021-11-17T21:36:11.474Z"
   },
   {
    "duration": 3,
    "start_time": "2021-11-17T21:36:14.791Z"
   },
   {
    "duration": 3,
    "start_time": "2021-11-17T21:36:53.943Z"
   },
   {
    "duration": 3,
    "start_time": "2021-11-17T21:36:56.165Z"
   },
   {
    "duration": 4,
    "start_time": "2021-11-17T21:37:16.590Z"
   },
   {
    "duration": 3,
    "start_time": "2021-11-17T21:37:22.702Z"
   },
   {
    "duration": 4,
    "start_time": "2021-11-17T21:38:03.479Z"
   },
   {
    "duration": 3,
    "start_time": "2021-11-17T21:38:08.601Z"
   },
   {
    "duration": 3,
    "start_time": "2021-11-17T21:38:12.928Z"
   },
   {
    "duration": 3,
    "start_time": "2021-11-17T21:38:48.896Z"
   },
   {
    "duration": 2,
    "start_time": "2021-11-17T21:38:49.171Z"
   },
   {
    "duration": 4,
    "start_time": "2021-11-17T21:39:57.889Z"
   },
   {
    "duration": 3,
    "start_time": "2021-11-17T21:39:58.057Z"
   },
   {
    "duration": 3,
    "start_time": "2021-11-17T21:41:20.108Z"
   },
   {
    "duration": 3,
    "start_time": "2021-11-17T21:41:20.629Z"
   },
   {
    "duration": 3,
    "start_time": "2021-11-17T21:42:49.136Z"
   },
   {
    "duration": 3,
    "start_time": "2021-11-17T21:43:15.137Z"
   },
   {
    "duration": 4,
    "start_time": "2021-11-17T21:43:16.766Z"
   },
   {
    "duration": 4,
    "start_time": "2021-11-17T21:43:31.711Z"
   },
   {
    "duration": 3,
    "start_time": "2021-11-17T21:43:36.312Z"
   },
   {
    "duration": 4,
    "start_time": "2021-11-17T21:45:08.825Z"
   },
   {
    "duration": 4,
    "start_time": "2021-11-17T21:45:10.119Z"
   },
   {
    "duration": 4,
    "start_time": "2021-11-17T21:45:13.748Z"
   },
   {
    "duration": 3,
    "start_time": "2021-11-17T21:45:22.219Z"
   },
   {
    "duration": 3,
    "start_time": "2021-11-17T21:45:33.412Z"
   },
   {
    "duration": 2,
    "start_time": "2021-11-17T21:46:01.885Z"
   },
   {
    "duration": 3,
    "start_time": "2021-11-17T21:46:03.628Z"
   },
   {
    "duration": 107,
    "start_time": "2021-11-17T21:47:32.512Z"
   },
   {
    "duration": 103,
    "start_time": "2021-11-17T21:50:36.243Z"
   },
   {
    "duration": 3,
    "start_time": "2021-11-18T06:28:31.440Z"
   },
   {
    "duration": 3,
    "start_time": "2021-11-18T06:29:00.168Z"
   },
   {
    "duration": 3,
    "start_time": "2021-11-18T06:31:27.008Z"
   },
   {
    "duration": 2,
    "start_time": "2021-11-18T06:35:34.288Z"
   },
   {
    "duration": 2,
    "start_time": "2021-11-18T06:38:04.527Z"
   },
   {
    "duration": 653,
    "start_time": "2025-05-07T21:07:29.351Z"
   },
   {
    "duration": 106,
    "start_time": "2025-05-07T21:07:55.770Z"
   },
   {
    "duration": 100,
    "start_time": "2025-05-07T21:08:18.120Z"
   },
   {
    "duration": 159,
    "start_time": "2025-05-07T21:10:23.748Z"
   },
   {
    "duration": 170,
    "start_time": "2025-05-07T21:12:06.668Z"
   },
   {
    "duration": 167,
    "start_time": "2025-05-07T21:12:59.598Z"
   },
   {
    "duration": 152,
    "start_time": "2025-05-07T21:13:23.553Z"
   },
   {
    "duration": 156,
    "start_time": "2025-05-07T21:13:44.236Z"
   },
   {
    "duration": 164,
    "start_time": "2025-05-07T21:18:41.001Z"
   },
   {
    "duration": 166,
    "start_time": "2025-05-07T21:18:49.800Z"
   },
   {
    "duration": 154,
    "start_time": "2025-05-07T21:20:32.084Z"
   },
   {
    "duration": 163,
    "start_time": "2025-05-07T21:20:43.263Z"
   },
   {
    "duration": 169,
    "start_time": "2025-05-07T21:20:52.781Z"
   },
   {
    "duration": 166,
    "start_time": "2025-05-07T21:21:00.989Z"
   },
   {
    "duration": 9,
    "start_time": "2025-05-07T21:21:56.476Z"
   },
   {
    "duration": 5,
    "start_time": "2025-05-07T21:22:57.823Z"
   },
   {
    "duration": 147,
    "start_time": "2025-05-07T21:23:20.751Z"
   },
   {
    "duration": 700,
    "start_time": "2025-05-07T21:39:44.096Z"
   },
   {
    "duration": 7,
    "start_time": "2025-05-07T21:44:10.969Z"
   },
   {
    "duration": 15,
    "start_time": "2025-05-07T21:48:27.877Z"
   },
   {
    "duration": 7,
    "start_time": "2025-05-07T21:49:22.514Z"
   },
   {
    "duration": 6,
    "start_time": "2025-05-07T21:49:41.606Z"
   },
   {
    "duration": 7,
    "start_time": "2025-05-07T21:49:49.293Z"
   },
   {
    "duration": 7,
    "start_time": "2025-05-07T21:50:30.753Z"
   },
   {
    "duration": 6,
    "start_time": "2025-05-07T21:50:40.392Z"
   },
   {
    "duration": 6,
    "start_time": "2025-05-07T21:52:27.596Z"
   },
   {
    "duration": 5,
    "start_time": "2025-05-07T21:52:46.237Z"
   },
   {
    "duration": 6,
    "start_time": "2025-05-07T21:52:48.901Z"
   },
   {
    "duration": 9,
    "start_time": "2025-05-07T21:52:53.501Z"
   },
   {
    "duration": 3,
    "start_time": "2025-05-07T21:52:57.697Z"
   },
   {
    "duration": 215,
    "start_time": "2025-05-07T21:52:59.584Z"
   },
   {
    "duration": 9,
    "start_time": "2025-05-07T21:53:03.248Z"
   },
   {
    "duration": 4,
    "start_time": "2025-05-07T21:53:05.588Z"
   },
   {
    "duration": 64,
    "start_time": "2025-05-07T21:53:19.697Z"
   },
   {
    "duration": 9,
    "start_time": "2025-05-07T21:53:31.295Z"
   },
   {
    "duration": 6,
    "start_time": "2025-05-07T21:53:44.512Z"
   },
   {
    "duration": 20,
    "start_time": "2025-05-07T21:53:45.519Z"
   },
   {
    "duration": 6,
    "start_time": "2025-05-07T21:54:20.450Z"
   },
   {
    "duration": 63,
    "start_time": "2025-05-07T21:54:52.905Z"
   },
   {
    "duration": 7,
    "start_time": "2025-05-07T21:54:59.047Z"
   },
   {
    "duration": 16,
    "start_time": "2025-05-07T21:56:53.425Z"
   },
   {
    "duration": 7,
    "start_time": "2025-05-07T21:56:59.881Z"
   },
   {
    "duration": 9,
    "start_time": "2025-05-07T22:10:39.389Z"
   },
   {
    "duration": 9,
    "start_time": "2025-05-07T22:11:30.227Z"
   },
   {
    "duration": 11,
    "start_time": "2025-05-07T22:11:49.928Z"
   },
   {
    "duration": 8,
    "start_time": "2025-05-07T22:14:25.997Z"
   },
   {
    "duration": 7,
    "start_time": "2025-05-07T22:14:48.015Z"
   },
   {
    "duration": 9,
    "start_time": "2025-05-07T22:14:59.074Z"
   },
   {
    "duration": 9,
    "start_time": "2025-05-07T22:15:16.538Z"
   },
   {
    "duration": 9,
    "start_time": "2025-05-07T22:15:23.339Z"
   },
   {
    "duration": 9,
    "start_time": "2025-05-07T22:15:30.625Z"
   },
   {
    "duration": 7,
    "start_time": "2025-05-07T22:46:16.072Z"
   },
   {
    "duration": 6,
    "start_time": "2025-05-07T22:50:36.784Z"
   },
   {
    "duration": 6,
    "start_time": "2025-05-07T22:51:39.451Z"
   },
   {
    "duration": 9,
    "start_time": "2025-05-07T22:52:45.397Z"
   },
   {
    "duration": 6,
    "start_time": "2025-05-07T22:53:24.510Z"
   },
   {
    "duration": 6,
    "start_time": "2025-05-07T23:04:38.100Z"
   },
   {
    "duration": 6,
    "start_time": "2025-05-07T23:04:43.142Z"
   },
   {
    "duration": 5,
    "start_time": "2025-05-07T23:05:27.910Z"
   },
   {
    "duration": 126,
    "start_time": "2025-05-07T23:08:41.709Z"
   },
   {
    "duration": 14,
    "start_time": "2025-05-07T23:09:19.783Z"
   },
   {
    "duration": 13,
    "start_time": "2025-05-07T23:10:39.369Z"
   },
   {
    "duration": 13,
    "start_time": "2025-05-07T23:12:21.018Z"
   },
   {
    "duration": 576,
    "start_time": "2025-05-08T04:13:13.749Z"
   },
   {
    "duration": 167,
    "start_time": "2025-05-08T04:13:14.327Z"
   },
   {
    "duration": 10,
    "start_time": "2025-05-08T04:13:14.496Z"
   },
   {
    "duration": 6,
    "start_time": "2025-05-08T04:13:14.508Z"
   },
   {
    "duration": 8,
    "start_time": "2025-05-08T04:13:14.515Z"
   },
   {
    "duration": 5,
    "start_time": "2025-05-08T04:13:14.524Z"
   },
   {
    "duration": 31,
    "start_time": "2025-05-08T04:13:14.531Z"
   },
   {
    "duration": 10,
    "start_time": "2025-05-08T04:13:14.563Z"
   },
   {
    "duration": 13,
    "start_time": "2025-05-08T04:13:14.574Z"
   },
   {
    "duration": 2,
    "start_time": "2025-05-08T04:13:14.590Z"
   },
   {
    "duration": 2,
    "start_time": "2025-05-08T04:13:14.594Z"
   },
   {
    "duration": 3,
    "start_time": "2025-05-08T04:13:14.598Z"
   },
   {
    "duration": 3,
    "start_time": "2025-05-08T04:13:14.602Z"
   },
   {
    "duration": 3,
    "start_time": "2025-05-08T04:13:14.607Z"
   },
   {
    "duration": 3,
    "start_time": "2025-05-08T04:13:14.611Z"
   },
   {
    "duration": 3,
    "start_time": "2025-05-08T04:13:14.616Z"
   },
   {
    "duration": 38,
    "start_time": "2025-05-08T04:13:14.620Z"
   },
   {
    "duration": 4,
    "start_time": "2025-05-08T04:13:14.667Z"
   },
   {
    "duration": 3,
    "start_time": "2025-05-08T04:13:14.673Z"
   },
   {
    "duration": 4,
    "start_time": "2025-05-08T04:13:14.677Z"
   },
   {
    "duration": 4,
    "start_time": "2025-05-08T04:13:14.682Z"
   },
   {
    "duration": 3,
    "start_time": "2025-05-08T04:13:14.687Z"
   },
   {
    "duration": 3,
    "start_time": "2025-05-08T04:13:14.692Z"
   },
   {
    "duration": 4,
    "start_time": "2025-05-08T04:13:14.696Z"
   },
   {
    "duration": 4,
    "start_time": "2025-05-08T04:13:14.701Z"
   },
   {
    "duration": 4,
    "start_time": "2025-05-08T04:13:14.706Z"
   },
   {
    "duration": 2,
    "start_time": "2025-05-08T04:13:14.712Z"
   },
   {
    "duration": 3,
    "start_time": "2025-05-08T04:13:14.717Z"
   },
   {
    "duration": 3,
    "start_time": "2025-05-08T04:13:14.721Z"
   },
   {
    "duration": 15,
    "start_time": "2025-05-08T04:13:14.754Z"
   },
   {
    "duration": 2,
    "start_time": "2025-05-08T04:13:14.771Z"
   },
   {
    "duration": 20,
    "start_time": "2025-05-08T04:20:05.818Z"
   },
   {
    "duration": 6,
    "start_time": "2025-05-08T04:21:30.633Z"
   },
   {
    "duration": 35,
    "start_time": "2025-05-08T04:48:50.661Z"
   },
   {
    "duration": 303,
    "start_time": "2025-05-08T04:52:13.707Z"
   },
   {
    "duration": 45,
    "start_time": "2025-05-08T04:52:20.342Z"
   },
   {
    "duration": 3,
    "start_time": "2025-05-08T04:53:05.663Z"
   },
   {
    "duration": 102,
    "start_time": "2025-05-08T04:53:15.269Z"
   },
   {
    "duration": 24,
    "start_time": "2025-05-08T04:54:14.359Z"
   },
   {
    "duration": 3,
    "start_time": "2025-05-08T04:54:19.720Z"
   },
   {
    "duration": 31,
    "start_time": "2025-05-08T04:56:32.744Z"
   },
   {
    "duration": 18,
    "start_time": "2025-05-08T04:57:09.584Z"
   },
   {
    "duration": 4,
    "start_time": "2025-05-08T04:57:13.442Z"
   },
   {
    "duration": 5,
    "start_time": "2025-05-08T04:57:56.446Z"
   },
   {
    "duration": 16,
    "start_time": "2025-05-08T04:58:04.230Z"
   },
   {
    "duration": 8,
    "start_time": "2025-05-08T04:58:55.888Z"
   },
   {
    "duration": 6,
    "start_time": "2025-05-08T04:59:03.310Z"
   },
   {
    "duration": 8,
    "start_time": "2025-05-08T04:59:23.931Z"
   },
   {
    "duration": 7,
    "start_time": "2025-05-08T04:59:30.592Z"
   },
   {
    "duration": 7,
    "start_time": "2025-05-08T04:59:36.817Z"
   },
   {
    "duration": 14,
    "start_time": "2025-05-08T04:59:43.165Z"
   },
   {
    "duration": 7,
    "start_time": "2025-05-08T04:59:45.997Z"
   },
   {
    "duration": 159,
    "start_time": "2025-05-08T04:59:59.990Z"
   },
   {
    "duration": 20,
    "start_time": "2025-05-08T05:00:10.630Z"
   },
   {
    "duration": 7,
    "start_time": "2025-05-08T05:00:21.575Z"
   },
   {
    "duration": 12,
    "start_time": "2025-05-08T05:01:40.738Z"
   },
   {
    "duration": 7,
    "start_time": "2025-05-08T05:01:52.079Z"
   },
   {
    "duration": 8,
    "start_time": "2025-05-08T05:03:19.656Z"
   },
   {
    "duration": 8,
    "start_time": "2025-05-08T05:05:28.500Z"
   },
   {
    "duration": 8,
    "start_time": "2025-05-08T05:06:04.765Z"
   },
   {
    "duration": 12,
    "start_time": "2025-05-08T05:15:58.768Z"
   },
   {
    "duration": 4,
    "start_time": "2025-05-08T05:17:58.667Z"
   },
   {
    "duration": 5,
    "start_time": "2025-05-08T05:34:27.430Z"
   },
   {
    "duration": 12,
    "start_time": "2025-05-08T05:34:48.357Z"
   },
   {
    "duration": 12,
    "start_time": "2025-05-08T05:36:36.270Z"
   },
   {
    "duration": 12,
    "start_time": "2025-05-08T05:37:41.531Z"
   },
   {
    "duration": 4,
    "start_time": "2025-05-08T05:41:10.528Z"
   },
   {
    "duration": 334,
    "start_time": "2025-05-08T05:41:28.390Z"
   },
   {
    "duration": 48,
    "start_time": "2025-05-08T05:42:07.381Z"
   },
   {
    "duration": 6,
    "start_time": "2025-05-08T05:42:37.868Z"
   },
   {
    "duration": 8,
    "start_time": "2025-05-08T05:43:13.226Z"
   },
   {
    "duration": 12,
    "start_time": "2025-05-08T05:43:36.533Z"
   },
   {
    "duration": 11,
    "start_time": "2025-05-08T05:45:05.917Z"
   },
   {
    "duration": 4,
    "start_time": "2025-05-08T05:45:24.801Z"
   },
   {
    "duration": 5,
    "start_time": "2025-05-08T05:45:44.629Z"
   },
   {
    "duration": 3,
    "start_time": "2025-05-08T05:45:57.675Z"
   },
   {
    "duration": 14,
    "start_time": "2025-05-08T05:46:03.213Z"
   },
   {
    "duration": 4,
    "start_time": "2025-05-08T05:46:08.812Z"
   },
   {
    "duration": 5,
    "start_time": "2025-05-08T05:46:37.216Z"
   },
   {
    "duration": 207,
    "start_time": "2025-05-08T05:48:24.351Z"
   },
   {
    "duration": 15,
    "start_time": "2025-05-08T05:52:00.815Z"
   },
   {
    "duration": 8,
    "start_time": "2025-05-08T05:52:22.901Z"
   },
   {
    "duration": 10,
    "start_time": "2025-05-08T05:52:44.367Z"
   },
   {
    "duration": 10,
    "start_time": "2025-05-08T05:53:28.836Z"
   },
   {
    "duration": 10,
    "start_time": "2025-05-08T05:54:05.882Z"
   },
   {
    "duration": 18,
    "start_time": "2025-05-08T05:55:36.510Z"
   },
   {
    "duration": 19,
    "start_time": "2025-05-08T05:57:22.466Z"
   },
   {
    "duration": 25,
    "start_time": "2025-05-08T05:58:14.052Z"
   },
   {
    "duration": 56,
    "start_time": "2025-05-08T05:58:28.046Z"
   },
   {
    "duration": 22,
    "start_time": "2025-05-08T05:58:37.941Z"
   },
   {
    "duration": 23,
    "start_time": "2025-05-08T05:59:21.532Z"
   },
   {
    "duration": 19,
    "start_time": "2025-05-08T05:59:44.706Z"
   },
   {
    "duration": 21,
    "start_time": "2025-05-08T06:01:51.268Z"
   },
   {
    "duration": 25,
    "start_time": "2025-05-08T06:02:31.899Z"
   },
   {
    "duration": 18,
    "start_time": "2025-05-08T06:02:39.249Z"
   },
   {
    "duration": 52,
    "start_time": "2025-05-08T06:04:03.052Z"
   },
   {
    "duration": 21,
    "start_time": "2025-05-08T06:04:29.109Z"
   },
   {
    "duration": 125,
    "start_time": "2025-05-08T06:06:23.830Z"
   },
   {
    "duration": 16,
    "start_time": "2025-05-08T06:06:51.144Z"
   },
   {
    "duration": 51,
    "start_time": "2025-05-08T06:07:51.690Z"
   },
   {
    "duration": 18,
    "start_time": "2025-05-08T06:09:03.281Z"
   },
   {
    "duration": 19,
    "start_time": "2025-05-08T06:12:21.111Z"
   },
   {
    "duration": 24,
    "start_time": "2025-05-08T06:12:34.864Z"
   },
   {
    "duration": 13,
    "start_time": "2025-05-08T06:16:50.999Z"
   },
   {
    "duration": 13,
    "start_time": "2025-05-08T06:17:16.715Z"
   },
   {
    "duration": 25,
    "start_time": "2025-05-08T06:17:32.960Z"
   },
   {
    "duration": 12,
    "start_time": "2025-05-08T06:19:11.313Z"
   },
   {
    "duration": 11,
    "start_time": "2025-05-08T06:20:07.495Z"
   },
   {
    "duration": 7,
    "start_time": "2025-05-08T06:20:41.167Z"
   },
   {
    "duration": 13,
    "start_time": "2025-05-08T06:22:54.095Z"
   },
   {
    "duration": 12,
    "start_time": "2025-05-08T06:24:15.540Z"
   },
   {
    "duration": 14,
    "start_time": "2025-05-08T06:34:14.059Z"
   },
   {
    "duration": 5,
    "start_time": "2025-05-08T06:36:36.331Z"
   },
   {
    "duration": 6,
    "start_time": "2025-05-08T06:37:01.636Z"
   },
   {
    "duration": 7,
    "start_time": "2025-05-08T06:37:07.417Z"
   },
   {
    "duration": 6,
    "start_time": "2025-05-08T06:37:13.466Z"
   },
   {
    "duration": 6,
    "start_time": "2025-05-08T06:38:20.422Z"
   },
   {
    "duration": 7,
    "start_time": "2025-05-08T06:38:25.560Z"
   },
   {
    "duration": 7,
    "start_time": "2025-05-08T06:38:28.830Z"
   },
   {
    "duration": 7,
    "start_time": "2025-05-08T06:38:30.457Z"
   },
   {
    "duration": 7,
    "start_time": "2025-05-08T06:38:32.621Z"
   },
   {
    "duration": 7,
    "start_time": "2025-05-08T06:39:31.960Z"
   },
   {
    "duration": 7,
    "start_time": "2025-05-08T06:39:41.987Z"
   },
   {
    "duration": 6,
    "start_time": "2025-05-08T06:39:48.661Z"
   },
   {
    "duration": 6,
    "start_time": "2025-05-08T06:40:19.509Z"
   },
   {
    "duration": 24,
    "start_time": "2025-05-08T06:41:35.587Z"
   },
   {
    "duration": 13,
    "start_time": "2025-05-08T06:44:46.584Z"
   },
   {
    "duration": 5,
    "start_time": "2025-05-08T06:47:01.879Z"
   },
   {
    "duration": 4,
    "start_time": "2025-05-08T06:48:00.194Z"
   },
   {
    "duration": 16,
    "start_time": "2025-05-08T06:54:57.536Z"
   },
   {
    "duration": 14,
    "start_time": "2025-05-08T06:56:58.669Z"
   },
   {
    "duration": 5,
    "start_time": "2025-05-08T06:58:07.584Z"
   },
   {
    "duration": 622,
    "start_time": "2025-05-08T17:02:41.861Z"
   },
   {
    "duration": 219,
    "start_time": "2025-05-08T17:02:42.485Z"
   },
   {
    "duration": 10,
    "start_time": "2025-05-08T17:02:42.705Z"
   },
   {
    "duration": 6,
    "start_time": "2025-05-08T17:02:42.717Z"
   },
   {
    "duration": 7,
    "start_time": "2025-05-08T17:02:42.724Z"
   },
   {
    "duration": 4,
    "start_time": "2025-05-08T17:02:42.733Z"
   },
   {
    "duration": 8,
    "start_time": "2025-05-08T17:02:42.739Z"
   },
   {
    "duration": 6,
    "start_time": "2025-05-08T17:02:42.749Z"
   },
   {
    "duration": 13,
    "start_time": "2025-05-08T17:02:42.756Z"
   },
   {
    "duration": 48,
    "start_time": "2025-05-08T17:02:42.772Z"
   },
   {
    "duration": 5,
    "start_time": "2025-05-08T17:02:42.821Z"
   },
   {
    "duration": 20,
    "start_time": "2025-05-08T17:02:42.827Z"
   },
   {
    "duration": 25,
    "start_time": "2025-05-08T17:02:42.849Z"
   },
   {
    "duration": 11,
    "start_time": "2025-05-08T17:02:42.876Z"
   },
   {
    "duration": 33,
    "start_time": "2025-05-08T17:02:42.888Z"
   },
   {
    "duration": 13,
    "start_time": "2025-05-08T17:02:42.923Z"
   },
   {
    "duration": 12,
    "start_time": "2025-05-08T17:02:42.937Z"
   },
   {
    "duration": 13,
    "start_time": "2025-05-08T17:02:42.951Z"
   },
   {
    "duration": 4,
    "start_time": "2025-05-08T17:02:42.965Z"
   },
   {
    "duration": 48,
    "start_time": "2025-05-08T17:02:42.971Z"
   },
   {
    "duration": 14,
    "start_time": "2025-05-08T17:02:43.021Z"
   },
   {
    "duration": 4,
    "start_time": "2025-05-08T17:02:43.037Z"
   },
   {
    "duration": 3,
    "start_time": "2025-05-08T17:02:43.042Z"
   },
   {
    "duration": 2,
    "start_time": "2025-05-08T17:02:43.048Z"
   },
   {
    "duration": 3,
    "start_time": "2025-05-08T17:02:43.052Z"
   },
   {
    "duration": 3,
    "start_time": "2025-05-08T17:02:43.057Z"
   },
   {
    "duration": 4,
    "start_time": "2025-05-08T17:02:43.061Z"
   },
   {
    "duration": 2,
    "start_time": "2025-05-08T17:02:43.068Z"
   },
   {
    "duration": 3,
    "start_time": "2025-05-08T17:02:43.072Z"
   },
   {
    "duration": 3,
    "start_time": "2025-05-08T17:02:43.076Z"
   },
   {
    "duration": 2,
    "start_time": "2025-05-08T17:02:43.120Z"
   },
   {
    "duration": 2,
    "start_time": "2025-05-08T17:02:43.125Z"
   },
   {
    "duration": 3,
    "start_time": "2025-05-08T17:02:43.129Z"
   },
   {
    "duration": 3,
    "start_time": "2025-05-08T17:02:43.134Z"
   },
   {
    "duration": 3,
    "start_time": "2025-05-08T17:02:43.139Z"
   },
   {
    "duration": 3,
    "start_time": "2025-05-08T17:02:43.143Z"
   },
   {
    "duration": 3,
    "start_time": "2025-05-08T17:02:43.148Z"
   },
   {
    "duration": 6,
    "start_time": "2025-05-08T17:23:23.019Z"
   },
   {
    "duration": 7,
    "start_time": "2025-05-08T17:23:29.890Z"
   },
   {
    "duration": 13,
    "start_time": "2025-05-08T17:44:01.017Z"
   },
   {
    "duration": 12,
    "start_time": "2025-05-08T17:44:56.137Z"
   },
   {
    "duration": 18,
    "start_time": "2025-05-08T17:46:47.545Z"
   },
   {
    "duration": 15,
    "start_time": "2025-05-08T18:06:03.946Z"
   },
   {
    "duration": 11,
    "start_time": "2025-05-08T18:06:41.587Z"
   },
   {
    "duration": 10,
    "start_time": "2025-05-08T18:12:20.465Z"
   },
   {
    "duration": 17,
    "start_time": "2025-05-08T18:12:29.269Z"
   },
   {
    "duration": 14,
    "start_time": "2025-05-08T18:13:01.962Z"
   },
   {
    "duration": 14,
    "start_time": "2025-05-08T18:14:52.484Z"
   },
   {
    "duration": 14,
    "start_time": "2025-05-08T18:16:29.521Z"
   },
   {
    "duration": 546,
    "start_time": "2025-05-08T18:27:18.423Z"
   },
   {
    "duration": 5,
    "start_time": "2025-05-08T18:29:13.656Z"
   },
   {
    "duration": 112,
    "start_time": "2025-05-08T18:45:33.806Z"
   },
   {
    "duration": 407,
    "start_time": "2025-05-08T18:48:06.864Z"
   },
   {
    "duration": 524,
    "start_time": "2025-05-08T18:49:29.432Z"
   },
   {
    "duration": 419,
    "start_time": "2025-05-08T18:49:47.156Z"
   },
   {
    "duration": 434,
    "start_time": "2025-05-08T18:50:18.227Z"
   },
   {
    "duration": 410,
    "start_time": "2025-05-08T18:50:47.475Z"
   },
   {
    "duration": 18,
    "start_time": "2025-05-08T18:50:59.584Z"
   },
   {
    "duration": 407,
    "start_time": "2025-05-08T18:51:19.593Z"
   },
   {
    "duration": 411,
    "start_time": "2025-05-08T18:52:55.788Z"
   },
   {
    "duration": 412,
    "start_time": "2025-05-08T18:53:33.517Z"
   },
   {
    "duration": 440,
    "start_time": "2025-05-08T18:58:07.241Z"
   },
   {
    "duration": 6,
    "start_time": "2025-05-08T18:59:37.173Z"
   },
   {
    "duration": 630,
    "start_time": "2025-05-08T18:59:45.378Z"
   },
   {
    "duration": 1543,
    "start_time": "2025-05-08T18:59:53.436Z"
   },
   {
    "duration": 1575,
    "start_time": "2025-05-08T19:02:44.801Z"
   },
   {
    "duration": 1528,
    "start_time": "2025-05-08T19:06:46.162Z"
   },
   {
    "duration": 1492,
    "start_time": "2025-05-08T19:10:45.585Z"
   },
   {
    "duration": 1220,
    "start_time": "2025-05-08T19:21:08.609Z"
   },
   {
    "duration": 1110,
    "start_time": "2025-05-08T19:22:33.985Z"
   },
   {
    "duration": 1574,
    "start_time": "2025-05-08T19:23:15.539Z"
   },
   {
    "duration": 1917,
    "start_time": "2025-05-08T19:23:54.870Z"
   },
   {
    "duration": 1108,
    "start_time": "2025-05-08T19:24:01.614Z"
   },
   {
    "duration": 2006,
    "start_time": "2025-05-08T19:24:45.182Z"
   },
   {
    "duration": 1570,
    "start_time": "2025-05-08T19:24:58.692Z"
   },
   {
    "duration": 1568,
    "start_time": "2025-05-08T19:26:50.362Z"
   },
   {
    "duration": 1147,
    "start_time": "2025-05-08T19:28:20.874Z"
   },
   {
    "duration": 1094,
    "start_time": "2025-05-08T19:29:18.564Z"
   },
   {
    "duration": 1612,
    "start_time": "2025-05-08T19:29:28.226Z"
   },
   {
    "duration": 1118,
    "start_time": "2025-05-08T19:30:07.600Z"
   },
   {
    "duration": 1242,
    "start_time": "2025-05-08T19:38:11.535Z"
   },
   {
    "duration": 1396,
    "start_time": "2025-05-08T19:40:16.665Z"
   },
   {
    "duration": 1283,
    "start_time": "2025-05-08T19:40:26.715Z"
   },
   {
    "duration": 429,
    "start_time": "2025-05-08T19:53:24.406Z"
   },
   {
    "duration": 3771,
    "start_time": "2025-05-08T19:55:03.017Z"
   },
   {
    "duration": 3905,
    "start_time": "2025-05-08T19:57:31.561Z"
   },
   {
    "duration": 4648,
    "start_time": "2025-05-08T19:58:08.593Z"
   },
   {
    "duration": 4576,
    "start_time": "2025-05-08T19:59:42.452Z"
   },
   {
    "duration": 1818,
    "start_time": "2025-05-08T20:00:06.234Z"
   },
   {
    "duration": 1832,
    "start_time": "2025-05-08T20:04:13.182Z"
   },
   {
    "duration": 1849,
    "start_time": "2025-05-08T20:05:32.471Z"
   },
   {
    "duration": 1823,
    "start_time": "2025-05-08T20:05:55.850Z"
   },
   {
    "duration": 1838,
    "start_time": "2025-05-08T20:10:31.561Z"
   },
   {
    "duration": 1852,
    "start_time": "2025-05-08T20:12:23.775Z"
   },
   {
    "duration": 1873,
    "start_time": "2025-05-08T20:13:40.143Z"
   },
   {
    "duration": 1835,
    "start_time": "2025-05-08T20:18:29.157Z"
   },
   {
    "duration": 722,
    "start_time": "2025-05-08T20:23:58.417Z"
   },
   {
    "duration": 695,
    "start_time": "2025-05-08T20:28:03.419Z"
   },
   {
    "duration": 1200,
    "start_time": "2025-05-08T20:33:31.564Z"
   },
   {
    "duration": 406,
    "start_time": "2025-05-08T21:30:23.914Z"
   },
   {
    "duration": 5814,
    "start_time": "2025-05-08T21:31:36.492Z"
   },
   {
    "duration": 1680,
    "start_time": "2025-05-08T21:35:03.054Z"
   },
   {
    "duration": 1647,
    "start_time": "2025-05-08T21:35:33.572Z"
   },
   {
    "duration": 4371,
    "start_time": "2025-05-08T21:44:49.696Z"
   },
   {
    "duration": 12,
    "start_time": "2025-05-08T21:46:26.681Z"
   },
   {
    "duration": 7,
    "start_time": "2025-05-08T21:46:39.169Z"
   },
   {
    "duration": 8,
    "start_time": "2025-05-08T21:48:36.524Z"
   },
   {
    "duration": 9,
    "start_time": "2025-05-08T21:48:50.760Z"
   },
   {
    "duration": 9,
    "start_time": "2025-05-08T21:49:44.588Z"
   },
   {
    "duration": 8,
    "start_time": "2025-05-08T21:50:15.849Z"
   },
   {
    "duration": 8,
    "start_time": "2025-05-08T21:51:45.760Z"
   },
   {
    "duration": 1875,
    "start_time": "2025-05-08T21:52:28.020Z"
   },
   {
    "duration": 1618,
    "start_time": "2025-05-08T21:59:10.384Z"
   },
   {
    "duration": 1843,
    "start_time": "2025-05-08T22:01:22.790Z"
   },
   {
    "duration": 1894,
    "start_time": "2025-05-08T22:01:50.433Z"
   },
   {
    "duration": 1593,
    "start_time": "2025-05-08T22:02:27.969Z"
   },
   {
    "duration": 1613,
    "start_time": "2025-05-08T22:02:40.610Z"
   },
   {
    "duration": 1869,
    "start_time": "2025-05-08T22:03:12.976Z"
   },
   {
    "duration": 1844,
    "start_time": "2025-05-08T22:03:23.105Z"
   },
   {
    "duration": 1567,
    "start_time": "2025-05-08T22:05:15.743Z"
   },
   {
    "duration": 8,
    "start_time": "2025-05-08T22:07:22.724Z"
   },
   {
    "duration": 1601,
    "start_time": "2025-05-08T22:10:08.095Z"
   },
   {
    "duration": 365,
    "start_time": "2025-05-08T22:24:00.654Z"
   },
   {
    "duration": 311,
    "start_time": "2025-05-08T22:24:26.620Z"
   },
   {
    "duration": 263,
    "start_time": "2025-05-08T22:24:59.389Z"
   },
   {
    "duration": 5,
    "start_time": "2025-05-08T22:25:45.678Z"
   },
   {
    "duration": 1163,
    "start_time": "2025-05-08T22:26:00.421Z"
   },
   {
    "duration": 12,
    "start_time": "2025-05-08T22:27:10.052Z"
   },
   {
    "duration": 261,
    "start_time": "2025-05-08T22:30:00.334Z"
   },
   {
    "duration": 1709,
    "start_time": "2025-05-08T22:30:25.880Z"
   },
   {
    "duration": 3023,
    "start_time": "2025-05-08T22:35:03.836Z"
   },
   {
    "duration": 3121,
    "start_time": "2025-05-08T22:35:37.804Z"
   },
   {
    "duration": 1788,
    "start_time": "2025-05-08T22:36:27.539Z"
   },
   {
    "duration": 1373,
    "start_time": "2025-05-08T22:39:04.043Z"
   },
   {
    "duration": 1853,
    "start_time": "2025-05-08T22:39:59.478Z"
   },
   {
    "duration": 1566,
    "start_time": "2025-05-08T22:40:06.048Z"
   },
   {
    "duration": 1400,
    "start_time": "2025-05-08T22:40:22.833Z"
   },
   {
    "duration": 1433,
    "start_time": "2025-05-08T22:42:07.417Z"
   },
   {
    "duration": 1981,
    "start_time": "2025-05-08T22:43:04.280Z"
   },
   {
    "duration": 1423,
    "start_time": "2025-05-08T22:44:00.437Z"
   },
   {
    "duration": 1398,
    "start_time": "2025-05-08T22:45:31.328Z"
   },
   {
    "duration": 1372,
    "start_time": "2025-05-08T22:46:14.318Z"
   },
   {
    "duration": 5,
    "start_time": "2025-05-08T22:47:56.899Z"
   },
   {
    "duration": 7,
    "start_time": "2025-05-08T22:48:13.749Z"
   },
   {
    "duration": 6,
    "start_time": "2025-05-08T22:49:08.965Z"
   },
   {
    "duration": 7,
    "start_time": "2025-05-08T22:49:15.758Z"
   },
   {
    "duration": 7,
    "start_time": "2025-05-08T22:49:23.314Z"
   },
   {
    "duration": 7,
    "start_time": "2025-05-08T22:49:29.023Z"
   },
   {
    "duration": 7,
    "start_time": "2025-05-08T22:49:36.549Z"
   },
   {
    "duration": 4,
    "start_time": "2025-05-08T22:50:18.288Z"
   },
   {
    "duration": 4,
    "start_time": "2025-05-08T22:50:29.233Z"
   },
   {
    "duration": 7,
    "start_time": "2025-05-08T22:50:37.280Z"
   },
   {
    "duration": 6,
    "start_time": "2025-05-08T22:51:35.353Z"
   },
   {
    "duration": 4,
    "start_time": "2025-05-08T22:52:09.095Z"
   },
   {
    "duration": 7,
    "start_time": "2025-05-08T22:52:18.671Z"
   },
   {
    "duration": 14,
    "start_time": "2025-05-08T22:53:09.490Z"
   },
   {
    "duration": 6,
    "start_time": "2025-05-08T22:53:17.384Z"
   },
   {
    "duration": 1378,
    "start_time": "2025-05-08T22:55:15.613Z"
   },
   {
    "duration": 1508,
    "start_time": "2025-05-08T22:57:02.612Z"
   },
   {
    "duration": 1559,
    "start_time": "2025-05-08T23:02:50.849Z"
   },
   {
    "duration": 1391,
    "start_time": "2025-05-08T23:06:16.720Z"
   },
   {
    "duration": 1583,
    "start_time": "2025-05-08T23:10:47.530Z"
   },
   {
    "duration": 1651,
    "start_time": "2025-05-08T23:11:40.322Z"
   },
   {
    "duration": 1525,
    "start_time": "2025-05-08T23:11:52.414Z"
   },
   {
    "duration": 1488,
    "start_time": "2025-05-08T23:12:02.572Z"
   },
   {
    "duration": 1561,
    "start_time": "2025-05-08T23:15:20.145Z"
   },
   {
    "duration": 1616,
    "start_time": "2025-05-08T23:17:39.708Z"
   },
   {
    "duration": 1473,
    "start_time": "2025-05-08T23:17:57.522Z"
   },
   {
    "duration": 1613,
    "start_time": "2025-05-08T23:19:27.079Z"
   },
   {
    "duration": 1573,
    "start_time": "2025-05-08T23:20:09.620Z"
   },
   {
    "duration": 1375,
    "start_time": "2025-05-08T23:20:44.401Z"
   },
   {
    "duration": 4,
    "start_time": "2025-05-08T23:22:06.955Z"
   },
   {
    "duration": 7,
    "start_time": "2025-05-08T23:22:50.543Z"
   },
   {
    "duration": 619,
    "start_time": "2025-05-09T03:21:34.462Z"
   },
   {
    "duration": 226,
    "start_time": "2025-05-09T03:21:35.083Z"
   },
   {
    "duration": 11,
    "start_time": "2025-05-09T03:21:35.311Z"
   },
   {
    "duration": 6,
    "start_time": "2025-05-09T03:21:35.325Z"
   },
   {
    "duration": 8,
    "start_time": "2025-05-09T03:21:35.332Z"
   },
   {
    "duration": 5,
    "start_time": "2025-05-09T03:21:35.342Z"
   },
   {
    "duration": 37,
    "start_time": "2025-05-09T03:21:35.350Z"
   },
   {
    "duration": 6,
    "start_time": "2025-05-09T03:21:35.389Z"
   },
   {
    "duration": 15,
    "start_time": "2025-05-09T03:21:35.397Z"
   },
   {
    "duration": 16,
    "start_time": "2025-05-09T03:21:35.415Z"
   },
   {
    "duration": 4,
    "start_time": "2025-05-09T03:21:35.433Z"
   },
   {
    "duration": 58,
    "start_time": "2025-05-09T03:21:35.439Z"
   },
   {
    "duration": 29,
    "start_time": "2025-05-09T03:21:35.499Z"
   },
   {
    "duration": 13,
    "start_time": "2025-05-09T03:21:35.530Z"
   },
   {
    "duration": 5,
    "start_time": "2025-05-09T03:21:35.545Z"
   },
   {
    "duration": 45,
    "start_time": "2025-05-09T03:21:35.552Z"
   },
   {
    "duration": 13,
    "start_time": "2025-05-09T03:21:35.599Z"
   },
   {
    "duration": 15,
    "start_time": "2025-05-09T03:21:35.614Z"
   },
   {
    "duration": 5,
    "start_time": "2025-05-09T03:21:35.631Z"
   },
   {
    "duration": 55,
    "start_time": "2025-05-09T03:21:35.638Z"
   },
   {
    "duration": 16,
    "start_time": "2025-05-09T03:21:35.695Z"
   },
   {
    "duration": 5,
    "start_time": "2025-05-09T03:21:35.712Z"
   },
   {
    "duration": 6,
    "start_time": "2025-05-09T03:21:35.719Z"
   },
   {
    "duration": 0,
    "start_time": "2025-05-09T03:21:35.728Z"
   },
   {
    "duration": 0,
    "start_time": "2025-05-09T03:21:35.729Z"
   },
   {
    "duration": 0,
    "start_time": "2025-05-09T03:21:35.731Z"
   },
   {
    "duration": 0,
    "start_time": "2025-05-09T03:21:35.732Z"
   },
   {
    "duration": 0,
    "start_time": "2025-05-09T03:21:35.733Z"
   },
   {
    "duration": 0,
    "start_time": "2025-05-09T03:21:35.734Z"
   },
   {
    "duration": 0,
    "start_time": "2025-05-09T03:21:35.735Z"
   },
   {
    "duration": 0,
    "start_time": "2025-05-09T03:21:35.737Z"
   },
   {
    "duration": 0,
    "start_time": "2025-05-09T03:21:35.739Z"
   },
   {
    "duration": 0,
    "start_time": "2025-05-09T03:21:35.740Z"
   },
   {
    "duration": 0,
    "start_time": "2025-05-09T03:21:35.741Z"
   },
   {
    "duration": 0,
    "start_time": "2025-05-09T03:21:35.742Z"
   },
   {
    "duration": 0,
    "start_time": "2025-05-09T03:21:35.787Z"
   },
   {
    "duration": 0,
    "start_time": "2025-05-09T03:21:35.788Z"
   },
   {
    "duration": 1892,
    "start_time": "2025-05-09T03:22:00.709Z"
   },
   {
    "duration": 1594,
    "start_time": "2025-05-09T03:22:23.358Z"
   },
   {
    "duration": 1811,
    "start_time": "2025-05-09T03:22:53.153Z"
   },
   {
    "duration": 1868,
    "start_time": "2025-05-09T03:23:11.524Z"
   },
   {
    "duration": 1597,
    "start_time": "2025-05-09T03:23:22.296Z"
   },
   {
    "duration": 1412,
    "start_time": "2025-05-09T03:23:36.417Z"
   },
   {
    "duration": 1437,
    "start_time": "2025-05-09T03:26:19.812Z"
   },
   {
    "duration": 2086,
    "start_time": "2025-05-09T03:27:13.102Z"
   },
   {
    "duration": 2426,
    "start_time": "2025-05-09T03:31:21.041Z"
   },
   {
    "duration": 3564,
    "start_time": "2025-05-09T03:37:40.853Z"
   },
   {
    "duration": 1476,
    "start_time": "2025-05-09T03:43:09.783Z"
   },
   {
    "duration": 1451,
    "start_time": "2025-05-09T03:49:43.473Z"
   },
   {
    "duration": 1438,
    "start_time": "2025-05-09T03:49:56.466Z"
   },
   {
    "duration": 1400,
    "start_time": "2025-05-09T03:50:03.928Z"
   },
   {
    "duration": 1405,
    "start_time": "2025-05-09T03:52:35.872Z"
   },
   {
    "duration": 1586,
    "start_time": "2025-05-09T03:53:15.761Z"
   },
   {
    "duration": 1423,
    "start_time": "2025-05-09T04:00:00.792Z"
   },
   {
    "duration": 1405,
    "start_time": "2025-05-09T04:00:15.755Z"
   },
   {
    "duration": 1591,
    "start_time": "2025-05-09T04:03:06.197Z"
   },
   {
    "duration": 1664,
    "start_time": "2025-05-09T04:03:26.690Z"
   },
   {
    "duration": 1417,
    "start_time": "2025-05-09T04:03:57.124Z"
   },
   {
    "duration": 1604,
    "start_time": "2025-05-09T04:05:40.009Z"
   },
   {
    "duration": 1387,
    "start_time": "2025-05-09T04:07:35.743Z"
   },
   {
    "duration": 1388,
    "start_time": "2025-05-09T04:08:02.291Z"
   },
   {
    "duration": 1639,
    "start_time": "2025-05-09T04:08:20.774Z"
   },
   {
    "duration": 1390,
    "start_time": "2025-05-09T04:08:24.839Z"
   },
   {
    "duration": 1411,
    "start_time": "2025-05-09T04:09:25.763Z"
   },
   {
    "duration": 1357,
    "start_time": "2025-05-09T04:11:03.470Z"
   },
   {
    "duration": 1578,
    "start_time": "2025-05-09T04:11:51.629Z"
   },
   {
    "duration": 1578,
    "start_time": "2025-05-09T04:14:39.154Z"
   },
   {
    "duration": 1559,
    "start_time": "2025-05-09T04:16:24.383Z"
   },
   {
    "duration": 1590,
    "start_time": "2025-05-09T04:16:52.169Z"
   },
   {
    "duration": 513,
    "start_time": "2025-05-09T04:18:11.999Z"
   },
   {
    "duration": 21,
    "start_time": "2025-05-09T04:18:51.194Z"
   },
   {
    "duration": 20,
    "start_time": "2025-05-09T04:19:22.677Z"
   },
   {
    "duration": 23,
    "start_time": "2025-05-09T04:20:20.420Z"
   },
   {
    "duration": 21,
    "start_time": "2025-05-09T04:20:33.605Z"
   },
   {
    "duration": 23,
    "start_time": "2025-05-09T04:20:53.403Z"
   },
   {
    "duration": 22,
    "start_time": "2025-05-09T04:21:03.918Z"
   },
   {
    "duration": 27,
    "start_time": "2025-05-09T04:22:16.140Z"
   },
   {
    "duration": 168,
    "start_time": "2025-05-09T04:23:28.461Z"
   },
   {
    "duration": 26,
    "start_time": "2025-05-09T04:24:52.470Z"
   },
   {
    "duration": 1907,
    "start_time": "2025-05-09T04:25:07.783Z"
   },
   {
    "duration": 1620,
    "start_time": "2025-05-09T04:25:12.584Z"
   },
   {
    "duration": 30,
    "start_time": "2025-05-09T04:27:17.687Z"
   },
   {
    "duration": 36,
    "start_time": "2025-05-09T04:27:35.337Z"
   },
   {
    "duration": 41,
    "start_time": "2025-05-09T04:28:12.058Z"
   },
   {
    "duration": 29,
    "start_time": "2025-05-09T04:28:47.220Z"
   },
   {
    "duration": 24,
    "start_time": "2025-05-09T04:29:13.978Z"
   },
   {
    "duration": 48,
    "start_time": "2025-05-09T04:29:39.541Z"
   },
   {
    "duration": 1860,
    "start_time": "2025-05-09T04:29:45.471Z"
   },
   {
    "duration": 1777,
    "start_time": "2025-05-09T04:29:50.086Z"
   },
   {
    "duration": 1646,
    "start_time": "2025-05-09T04:30:09.546Z"
   },
   {
    "duration": 1398,
    "start_time": "2025-05-09T04:35:55.597Z"
   },
   {
    "duration": 1450,
    "start_time": "2025-05-09T04:36:08.496Z"
   },
   {
    "duration": 13,
    "start_time": "2025-05-09T04:38:17.615Z"
   },
   {
    "duration": 12,
    "start_time": "2025-05-09T04:38:31.995Z"
   },
   {
    "duration": 10,
    "start_time": "2025-05-09T04:39:13.312Z"
   },
   {
    "duration": 1416,
    "start_time": "2025-05-09T04:39:47.805Z"
   },
   {
    "duration": 45,
    "start_time": "2025-05-09T04:54:49.907Z"
   },
   {
    "duration": 174,
    "start_time": "2025-05-09T04:55:42.182Z"
   },
   {
    "duration": 42,
    "start_time": "2025-05-09T04:55:46.983Z"
   },
   {
    "duration": 1036,
    "start_time": "2025-05-09T04:57:29.474Z"
   },
   {
    "duration": 523,
    "start_time": "2025-05-09T04:57:41.086Z"
   },
   {
    "duration": 2099,
    "start_time": "2025-05-09T04:58:18.178Z"
   },
   {
    "duration": 2161,
    "start_time": "2025-05-09T04:59:57.157Z"
   },
   {
    "duration": 2122,
    "start_time": "2025-05-09T05:00:13.054Z"
   },
   {
    "duration": 2746,
    "start_time": "2025-05-09T05:01:05.383Z"
   },
   {
    "duration": 2042,
    "start_time": "2025-05-09T05:01:13.429Z"
   },
   {
    "duration": 14,
    "start_time": "2025-05-09T05:01:54.473Z"
   },
   {
    "duration": 2022,
    "start_time": "2025-05-09T05:03:10.732Z"
   },
   {
    "duration": 15,
    "start_time": "2025-05-09T05:03:50.735Z"
   },
   {
    "duration": 13,
    "start_time": "2025-05-09T05:04:05.954Z"
   },
   {
    "duration": 2026,
    "start_time": "2025-05-09T05:09:08.267Z"
   },
   {
    "duration": 2064,
    "start_time": "2025-05-09T05:10:28.482Z"
   },
   {
    "duration": 2004,
    "start_time": "2025-05-09T05:11:42.961Z"
   },
   {
    "duration": 8,
    "start_time": "2025-05-09T05:12:19.653Z"
   },
   {
    "duration": 12,
    "start_time": "2025-05-09T05:12:34.848Z"
   },
   {
    "duration": 16,
    "start_time": "2025-05-09T05:16:52.826Z"
   },
   {
    "duration": 15,
    "start_time": "2025-05-09T05:18:18.909Z"
   },
   {
    "duration": 16,
    "start_time": "2025-05-09T05:18:34.284Z"
   },
   {
    "duration": 15,
    "start_time": "2025-05-09T05:21:58.432Z"
   },
   {
    "duration": 24,
    "start_time": "2025-05-09T05:22:25.136Z"
   },
   {
    "duration": 16,
    "start_time": "2025-05-09T05:22:40.693Z"
   },
   {
    "duration": 21,
    "start_time": "2025-05-09T05:24:04.630Z"
   },
   {
    "duration": 22,
    "start_time": "2025-05-09T05:25:37.708Z"
   },
   {
    "duration": 23,
    "start_time": "2025-05-09T05:26:27.135Z"
   },
   {
    "duration": 25,
    "start_time": "2025-05-09T05:26:53.226Z"
   },
   {
    "duration": 21,
    "start_time": "2025-05-09T05:27:17.318Z"
   },
   {
    "duration": 21,
    "start_time": "2025-05-09T05:30:02.624Z"
   },
   {
    "duration": 21,
    "start_time": "2025-05-09T05:30:26.818Z"
   },
   {
    "duration": 24,
    "start_time": "2025-05-09T05:31:29.447Z"
   },
   {
    "duration": 23,
    "start_time": "2025-05-09T05:33:02.775Z"
   },
   {
    "duration": 161,
    "start_time": "2025-05-09T16:11:38.421Z"
   },
   {
    "duration": 649,
    "start_time": "2025-05-09T16:11:48.402Z"
   },
   {
    "duration": 207,
    "start_time": "2025-05-09T16:11:49.053Z"
   },
   {
    "duration": 11,
    "start_time": "2025-05-09T16:11:49.262Z"
   },
   {
    "duration": 5,
    "start_time": "2025-05-09T16:11:49.274Z"
   },
   {
    "duration": 7,
    "start_time": "2025-05-09T16:11:49.283Z"
   },
   {
    "duration": 4,
    "start_time": "2025-05-09T16:11:49.292Z"
   },
   {
    "duration": 8,
    "start_time": "2025-05-09T16:11:49.298Z"
   },
   {
    "duration": 5,
    "start_time": "2025-05-09T16:11:49.308Z"
   },
   {
    "duration": 12,
    "start_time": "2025-05-09T16:11:49.315Z"
   },
   {
    "duration": 16,
    "start_time": "2025-05-09T16:11:49.328Z"
   },
   {
    "duration": 5,
    "start_time": "2025-05-09T16:11:49.346Z"
   },
   {
    "duration": 50,
    "start_time": "2025-05-09T16:11:49.352Z"
   },
   {
    "duration": 25,
    "start_time": "2025-05-09T16:11:49.404Z"
   },
   {
    "duration": 11,
    "start_time": "2025-05-09T16:11:49.432Z"
   },
   {
    "duration": 5,
    "start_time": "2025-05-09T16:11:49.445Z"
   },
   {
    "duration": 42,
    "start_time": "2025-05-09T16:11:49.452Z"
   },
   {
    "duration": 11,
    "start_time": "2025-05-09T16:11:49.496Z"
   },
   {
    "duration": 14,
    "start_time": "2025-05-09T16:11:49.509Z"
   },
   {
    "duration": 5,
    "start_time": "2025-05-09T16:11:49.524Z"
   },
   {
    "duration": 16,
    "start_time": "2025-05-09T16:11:49.531Z"
   },
   {
    "duration": 49,
    "start_time": "2025-05-09T16:11:49.549Z"
   },
   {
    "duration": 5,
    "start_time": "2025-05-09T16:11:49.600Z"
   },
   {
    "duration": 1922,
    "start_time": "2025-05-09T16:11:49.607Z"
   },
   {
    "duration": 1596,
    "start_time": "2025-05-09T16:11:51.531Z"
   },
   {
    "duration": 1374,
    "start_time": "2025-05-09T16:11:53.129Z"
   },
   {
    "duration": 1998,
    "start_time": "2025-05-09T16:11:54.505Z"
   },
   {
    "duration": 21,
    "start_time": "2025-05-09T16:11:56.505Z"
   },
   {
    "duration": 8,
    "start_time": "2025-05-09T16:11:56.528Z"
   },
   {
    "duration": 2,
    "start_time": "2025-05-09T16:11:56.538Z"
   },
   {
    "duration": 4,
    "start_time": "2025-05-09T16:11:56.541Z"
   },
   {
    "duration": 4,
    "start_time": "2025-05-09T16:11:56.546Z"
   },
   {
    "duration": 3,
    "start_time": "2025-05-09T16:11:56.551Z"
   },
   {
    "duration": 2,
    "start_time": "2025-05-09T16:11:56.586Z"
   },
   {
    "duration": 3,
    "start_time": "2025-05-09T16:11:56.590Z"
   },
   {
    "duration": 2,
    "start_time": "2025-05-09T16:11:56.595Z"
   },
   {
    "duration": 4,
    "start_time": "2025-05-09T16:11:56.599Z"
   },
   {
    "duration": 4,
    "start_time": "2025-05-09T16:11:56.605Z"
   },
   {
    "duration": 14,
    "start_time": "2025-05-09T16:19:20.370Z"
   },
   {
    "duration": 18,
    "start_time": "2025-05-09T16:20:47.152Z"
   },
   {
    "duration": 15,
    "start_time": "2025-05-09T16:22:03.750Z"
   },
   {
    "duration": 18,
    "start_time": "2025-05-09T16:22:51.269Z"
   },
   {
    "duration": 17,
    "start_time": "2025-05-09T16:23:42.362Z"
   },
   {
    "duration": 5,
    "start_time": "2025-05-09T16:26:06.952Z"
   },
   {
    "duration": 5,
    "start_time": "2025-05-09T16:26:44.425Z"
   },
   {
    "duration": 5,
    "start_time": "2025-05-09T16:27:02.664Z"
   },
   {
    "duration": 6,
    "start_time": "2025-05-09T16:27:26.207Z"
   },
   {
    "duration": 5,
    "start_time": "2025-05-09T16:27:47.201Z"
   },
   {
    "duration": 5,
    "start_time": "2025-05-09T16:28:07.989Z"
   },
   {
    "duration": 6,
    "start_time": "2025-05-09T16:28:23.658Z"
   },
   {
    "duration": 6,
    "start_time": "2025-05-09T16:28:46.794Z"
   },
   {
    "duration": 5,
    "start_time": "2025-05-09T16:29:02.461Z"
   },
   {
    "duration": 5,
    "start_time": "2025-05-09T16:29:15.267Z"
   },
   {
    "duration": 5,
    "start_time": "2025-05-09T16:34:23.332Z"
   },
   {
    "duration": 128,
    "start_time": "2025-05-09T16:34:38.544Z"
   },
   {
    "duration": 14,
    "start_time": "2025-05-09T16:35:04.255Z"
   },
   {
    "duration": 16,
    "start_time": "2025-05-09T16:37:29.763Z"
   },
   {
    "duration": 16,
    "start_time": "2025-05-09T16:40:02.125Z"
   },
   {
    "duration": 17,
    "start_time": "2025-05-09T16:40:29.158Z"
   },
   {
    "duration": 20,
    "start_time": "2025-05-09T16:41:12.781Z"
   },
   {
    "duration": 19,
    "start_time": "2025-05-09T16:43:37.486Z"
   },
   {
    "duration": 20,
    "start_time": "2025-05-09T16:43:46.175Z"
   },
   {
    "duration": 20,
    "start_time": "2025-05-09T16:45:46.399Z"
   },
   {
    "duration": 13,
    "start_time": "2025-05-09T16:49:20.616Z"
   },
   {
    "duration": 23,
    "start_time": "2025-05-09T16:52:26.380Z"
   },
   {
    "duration": 19,
    "start_time": "2025-05-09T16:52:43.646Z"
   },
   {
    "duration": 20,
    "start_time": "2025-05-09T17:15:28.271Z"
   },
   {
    "duration": 19,
    "start_time": "2025-05-09T17:17:46.195Z"
   },
   {
    "duration": 22,
    "start_time": "2025-05-09T17:18:10.091Z"
   },
   {
    "duration": 155,
    "start_time": "2025-05-09T17:20:03.908Z"
   },
   {
    "duration": 5,
    "start_time": "2025-05-09T17:20:11.402Z"
   },
   {
    "duration": 19,
    "start_time": "2025-05-09T17:20:18.671Z"
   },
   {
    "duration": 18,
    "start_time": "2025-05-09T17:20:30.326Z"
   },
   {
    "duration": 20,
    "start_time": "2025-05-09T17:23:17.255Z"
   },
   {
    "duration": 21,
    "start_time": "2025-05-09T17:23:40.910Z"
   },
   {
    "duration": 21,
    "start_time": "2025-05-09T17:24:06.610Z"
   },
   {
    "duration": 21,
    "start_time": "2025-05-09T17:24:41.939Z"
   },
   {
    "duration": 23,
    "start_time": "2025-05-09T17:25:10.922Z"
   },
   {
    "duration": 24,
    "start_time": "2025-05-09T17:26:03.858Z"
   },
   {
    "duration": 25,
    "start_time": "2025-05-09T17:26:33.046Z"
   },
   {
    "duration": 26,
    "start_time": "2025-05-09T17:29:21.702Z"
   },
   {
    "duration": 22,
    "start_time": "2025-05-09T17:33:13.328Z"
   },
   {
    "duration": 5,
    "start_time": "2025-05-09T17:59:07.251Z"
   },
   {
    "duration": 20,
    "start_time": "2025-05-09T18:01:13.404Z"
   },
   {
    "duration": 32,
    "start_time": "2025-05-09T18:02:40.444Z"
   },
   {
    "duration": 19,
    "start_time": "2025-05-09T18:02:50.217Z"
   },
   {
    "duration": 5,
    "start_time": "2025-05-09T18:08:45.092Z"
   },
   {
    "duration": 5,
    "start_time": "2025-05-09T18:09:18.163Z"
   },
   {
    "duration": 5,
    "start_time": "2025-05-09T18:10:13.717Z"
   },
   {
    "duration": 22,
    "start_time": "2025-05-09T18:27:59.469Z"
   },
   {
    "duration": 21,
    "start_time": "2025-05-09T18:29:43.286Z"
   },
   {
    "duration": 177,
    "start_time": "2025-05-09T18:31:55.069Z"
   },
   {
    "duration": 25,
    "start_time": "2025-05-09T18:33:41.877Z"
   },
   {
    "duration": 19,
    "start_time": "2025-05-09T18:33:58.258Z"
   },
   {
    "duration": 28,
    "start_time": "2025-05-09T18:34:53.147Z"
   },
   {
    "duration": 4,
    "start_time": "2025-05-09T18:37:31.051Z"
   },
   {
    "duration": 12,
    "start_time": "2025-05-09T18:37:37.265Z"
   },
   {
    "duration": 5,
    "start_time": "2025-05-09T18:40:57.691Z"
   },
   {
    "duration": 6781,
    "start_time": "2025-05-09T18:41:04.040Z"
   },
   {
    "duration": 2098,
    "start_time": "2025-05-09T18:43:45.313Z"
   },
   {
    "duration": 2074,
    "start_time": "2025-05-09T18:44:11.293Z"
   },
   {
    "duration": 1949,
    "start_time": "2025-05-09T18:51:26.518Z"
   },
   {
    "duration": 1921,
    "start_time": "2025-05-09T18:52:24.085Z"
   },
   {
    "duration": 1990,
    "start_time": "2025-05-09T18:55:15.800Z"
   },
   {
    "duration": 2472,
    "start_time": "2025-05-09T19:03:05.614Z"
   },
   {
    "duration": 2766,
    "start_time": "2025-05-09T19:17:19.740Z"
   },
   {
    "duration": 2664,
    "start_time": "2025-05-09T19:30:43.933Z"
   },
   {
    "duration": 2843,
    "start_time": "2025-05-09T19:31:32.890Z"
   },
   {
    "duration": 281,
    "start_time": "2025-05-09T19:42:09.576Z"
   },
   {
    "duration": 2540,
    "start_time": "2025-05-09T19:42:46.488Z"
   },
   {
    "duration": 2675,
    "start_time": "2025-05-09T19:55:53.157Z"
   },
   {
    "duration": 1489,
    "start_time": "2025-05-09T19:57:34.035Z"
   },
   {
    "duration": 1354,
    "start_time": "2025-05-09T19:57:45.915Z"
   },
   {
    "duration": 1384,
    "start_time": "2025-05-09T19:58:31.892Z"
   },
   {
    "duration": 1347,
    "start_time": "2025-05-09T20:01:28.370Z"
   },
   {
    "duration": 1456,
    "start_time": "2025-05-09T20:03:04.747Z"
   },
   {
    "duration": 1392,
    "start_time": "2025-05-09T20:04:19.225Z"
   },
   {
    "duration": 7,
    "start_time": "2025-05-09T20:32:26.848Z"
   },
   {
    "duration": 8,
    "start_time": "2025-05-09T20:47:07.326Z"
   },
   {
    "duration": 12,
    "start_time": "2025-05-09T20:48:15.486Z"
   },
   {
    "duration": 30,
    "start_time": "2025-05-09T20:51:22.775Z"
   },
   {
    "duration": 33,
    "start_time": "2025-05-09T20:52:45.820Z"
   },
   {
    "duration": 25,
    "start_time": "2025-05-09T20:53:18.403Z"
   },
   {
    "duration": 404,
    "start_time": "2025-05-09T20:54:17.042Z"
   },
   {
    "duration": 25,
    "start_time": "2025-05-09T20:54:54.234Z"
   },
   {
    "duration": 66,
    "start_time": "2025-05-09T20:57:20.635Z"
   },
   {
    "duration": 25,
    "start_time": "2025-05-09T20:57:35.124Z"
   },
   {
    "duration": 25,
    "start_time": "2025-05-09T21:00:15.920Z"
   },
   {
    "duration": 456,
    "start_time": "2025-05-09T21:02:23.321Z"
   },
   {
    "duration": 31,
    "start_time": "2025-05-09T21:02:43.965Z"
   },
   {
    "duration": 392,
    "start_time": "2025-05-09T21:02:55.582Z"
   },
   {
    "duration": 2221,
    "start_time": "2025-05-09T21:24:31.308Z"
   },
   {
    "duration": 8784,
    "start_time": "2025-05-09T21:33:21.572Z"
   },
   {
    "duration": 8810,
    "start_time": "2025-05-09T21:38:20.705Z"
   },
   {
    "duration": 5,
    "start_time": "2025-05-09T21:51:59.053Z"
   },
   {
    "duration": 424,
    "start_time": "2025-05-09T21:52:03.048Z"
   },
   {
    "duration": 2225,
    "start_time": "2025-05-09T21:59:40.251Z"
   },
   {
    "duration": 1552,
    "start_time": "2025-05-09T22:04:34.347Z"
   },
   {
    "duration": 7106,
    "start_time": "2025-05-09T22:05:42.853Z"
   },
   {
    "duration": 26,
    "start_time": "2025-05-09T22:10:27.790Z"
   },
   {
    "duration": 488,
    "start_time": "2025-05-09T22:15:38.881Z"
   },
   {
    "duration": 563,
    "start_time": "2025-05-09T22:16:34.784Z"
   },
   {
    "duration": 716,
    "start_time": "2025-05-09T22:17:02.279Z"
   },
   {
    "duration": 496,
    "start_time": "2025-05-09T22:18:06.586Z"
   },
   {
    "duration": 609,
    "start_time": "2025-05-09T22:19:01.863Z"
   },
   {
    "duration": 165,
    "start_time": "2025-05-09T22:19:02.475Z"
   },
   {
    "duration": 10,
    "start_time": "2025-05-09T22:19:02.642Z"
   },
   {
    "duration": 6,
    "start_time": "2025-05-09T22:19:02.655Z"
   },
   {
    "duration": 10,
    "start_time": "2025-05-09T22:19:02.663Z"
   },
   {
    "duration": 13,
    "start_time": "2025-05-09T22:19:02.675Z"
   },
   {
    "duration": 9,
    "start_time": "2025-05-09T22:19:02.690Z"
   },
   {
    "duration": 5,
    "start_time": "2025-05-09T22:19:02.701Z"
   },
   {
    "duration": 15,
    "start_time": "2025-05-09T22:19:02.708Z"
   },
   {
    "duration": 19,
    "start_time": "2025-05-09T22:19:02.727Z"
   },
   {
    "duration": 6,
    "start_time": "2025-05-09T22:19:02.749Z"
   },
   {
    "duration": 49,
    "start_time": "2025-05-09T22:19:02.756Z"
   },
   {
    "duration": 29,
    "start_time": "2025-05-09T22:19:02.807Z"
   },
   {
    "duration": 13,
    "start_time": "2025-05-09T22:19:02.838Z"
   },
   {
    "duration": 4,
    "start_time": "2025-05-09T22:19:02.854Z"
   },
   {
    "duration": 38,
    "start_time": "2025-05-09T22:19:02.859Z"
   },
   {
    "duration": 14,
    "start_time": "2025-05-09T22:19:02.899Z"
   },
   {
    "duration": 13,
    "start_time": "2025-05-09T22:19:02.914Z"
   },
   {
    "duration": 5,
    "start_time": "2025-05-09T22:19:02.930Z"
   },
   {
    "duration": 16,
    "start_time": "2025-05-09T22:19:02.936Z"
   },
   {
    "duration": 43,
    "start_time": "2025-05-09T22:19:02.954Z"
   },
   {
    "duration": 5,
    "start_time": "2025-05-09T22:19:02.999Z"
   },
   {
    "duration": 1882,
    "start_time": "2025-05-09T22:19:03.006Z"
   },
   {
    "duration": 1586,
    "start_time": "2025-05-09T22:19:04.890Z"
   },
   {
    "duration": 1427,
    "start_time": "2025-05-09T22:19:06.477Z"
   },
   {
    "duration": 2023,
    "start_time": "2025-05-09T22:19:07.906Z"
   },
   {
    "duration": 29,
    "start_time": "2025-05-09T22:19:09.931Z"
   },
   {
    "duration": 43,
    "start_time": "2025-05-09T22:19:09.965Z"
   },
   {
    "duration": 1190,
    "start_time": "2025-05-09T22:19:10.010Z"
   },
   {
    "duration": 6334,
    "start_time": "2025-05-09T22:19:11.202Z"
   },
   {
    "duration": 2,
    "start_time": "2025-05-09T22:19:17.539Z"
   },
   {
    "duration": 2,
    "start_time": "2025-05-09T22:19:17.544Z"
   },
   {
    "duration": 3,
    "start_time": "2025-05-09T22:19:17.548Z"
   },
   {
    "duration": 3,
    "start_time": "2025-05-09T22:19:17.552Z"
   },
   {
    "duration": 3,
    "start_time": "2025-05-09T22:19:17.558Z"
   },
   {
    "duration": 22,
    "start_time": "2025-05-09T22:19:17.564Z"
   },
   {
    "duration": 3,
    "start_time": "2025-05-09T22:19:17.589Z"
   },
   {
    "duration": 6188,
    "start_time": "2025-05-09T22:22:36.547Z"
   },
   {
    "duration": 6276,
    "start_time": "2025-05-09T22:23:34.781Z"
   },
   {
    "duration": 6145,
    "start_time": "2025-05-09T22:23:58.742Z"
   },
   {
    "duration": 1634,
    "start_time": "2025-05-09T22:24:31.769Z"
   },
   {
    "duration": 1417,
    "start_time": "2025-05-09T22:25:25.682Z"
   },
   {
    "duration": 2366,
    "start_time": "2025-05-09T22:25:53.153Z"
   },
   {
    "duration": 7308,
    "start_time": "2025-05-09T22:27:54.367Z"
   },
   {
    "duration": 6041,
    "start_time": "2025-05-09T22:29:10.349Z"
   },
   {
    "duration": 678,
    "start_time": "2025-05-09T22:34:19.393Z"
   },
   {
    "duration": 7024,
    "start_time": "2025-05-09T22:35:11.531Z"
   },
   {
    "duration": 7555,
    "start_time": "2025-05-09T22:36:53.297Z"
   },
   {
    "duration": 6603,
    "start_time": "2025-05-09T22:38:00.264Z"
   },
   {
    "duration": 1226,
    "start_time": "2025-05-09T22:46:38.618Z"
   },
   {
    "duration": 1151,
    "start_time": "2025-05-09T22:46:54.536Z"
   },
   {
    "duration": 1157,
    "start_time": "2025-05-09T22:47:19.271Z"
   },
   {
    "duration": 1224,
    "start_time": "2025-05-09T22:47:38.020Z"
   },
   {
    "duration": 1223,
    "start_time": "2025-05-09T22:57:38.276Z"
   },
   {
    "duration": 1658,
    "start_time": "2025-05-09T22:57:57.274Z"
   },
   {
    "duration": 1619,
    "start_time": "2025-05-09T22:58:50.515Z"
   },
   {
    "duration": 1615,
    "start_time": "2025-05-09T22:59:19.448Z"
   },
   {
    "duration": 1518,
    "start_time": "2025-05-09T23:00:17.814Z"
   },
   {
    "duration": 177,
    "start_time": "2025-05-09T23:10:35.193Z"
   },
   {
    "duration": 580,
    "start_time": "2025-05-09T23:10:53.975Z"
   },
   {
    "duration": 162,
    "start_time": "2025-05-09T23:10:54.558Z"
   },
   {
    "duration": 9,
    "start_time": "2025-05-09T23:10:54.722Z"
   },
   {
    "duration": 6,
    "start_time": "2025-05-09T23:10:54.733Z"
   },
   {
    "duration": 9,
    "start_time": "2025-05-09T23:10:54.742Z"
   },
   {
    "duration": 6,
    "start_time": "2025-05-09T23:10:54.753Z"
   },
   {
    "duration": 32,
    "start_time": "2025-05-09T23:10:54.761Z"
   },
   {
    "duration": 6,
    "start_time": "2025-05-09T23:10:54.795Z"
   },
   {
    "duration": 15,
    "start_time": "2025-05-09T23:10:54.803Z"
   },
   {
    "duration": 21,
    "start_time": "2025-05-09T23:10:54.820Z"
   },
   {
    "duration": 5,
    "start_time": "2025-05-09T23:10:54.843Z"
   },
   {
    "duration": 54,
    "start_time": "2025-05-09T23:10:54.850Z"
   },
   {
    "duration": 31,
    "start_time": "2025-05-09T23:10:54.906Z"
   },
   {
    "duration": 13,
    "start_time": "2025-05-09T23:10:54.941Z"
   },
   {
    "duration": 4,
    "start_time": "2025-05-09T23:10:54.956Z"
   },
   {
    "duration": 23,
    "start_time": "2025-05-09T23:10:54.986Z"
   },
   {
    "duration": 16,
    "start_time": "2025-05-09T23:10:55.012Z"
   },
   {
    "duration": 13,
    "start_time": "2025-05-09T23:10:55.030Z"
   },
   {
    "duration": 4,
    "start_time": "2025-05-09T23:10:55.045Z"
   },
   {
    "duration": 42,
    "start_time": "2025-05-09T23:10:55.050Z"
   },
   {
    "duration": 21,
    "start_time": "2025-05-09T23:10:55.094Z"
   },
   {
    "duration": 4,
    "start_time": "2025-05-09T23:10:55.116Z"
   },
   {
    "duration": 2081,
    "start_time": "2025-05-09T23:10:55.123Z"
   },
   {
    "duration": 1649,
    "start_time": "2025-05-09T23:10:57.206Z"
   },
   {
    "duration": 1471,
    "start_time": "2025-05-09T23:10:58.857Z"
   },
   {
    "duration": 2223,
    "start_time": "2025-05-09T23:11:00.331Z"
   },
   {
    "duration": 22,
    "start_time": "2025-05-09T23:11:02.556Z"
   },
   {
    "duration": 25,
    "start_time": "2025-05-09T23:11:02.587Z"
   },
   {
    "duration": 1149,
    "start_time": "2025-05-09T23:11:02.616Z"
   },
   {
    "duration": 834,
    "start_time": "2025-05-09T23:11:03.767Z"
   },
   {
    "duration": 0,
    "start_time": "2025-05-09T23:11:04.603Z"
   },
   {
    "duration": 0,
    "start_time": "2025-05-09T23:11:04.605Z"
   },
   {
    "duration": 0,
    "start_time": "2025-05-09T23:11:04.606Z"
   },
   {
    "duration": 0,
    "start_time": "2025-05-09T23:11:04.607Z"
   },
   {
    "duration": 0,
    "start_time": "2025-05-09T23:11:04.608Z"
   },
   {
    "duration": 0,
    "start_time": "2025-05-09T23:11:04.609Z"
   },
   {
    "duration": 0,
    "start_time": "2025-05-09T23:11:04.611Z"
   },
   {
    "duration": 560,
    "start_time": "2025-05-09T23:11:33.862Z"
   },
   {
    "duration": 574,
    "start_time": "2025-05-09T23:12:28.855Z"
   },
   {
    "duration": 139,
    "start_time": "2025-05-09T23:18:59.281Z"
   },
   {
    "duration": 552,
    "start_time": "2025-05-09T23:20:20.080Z"
   },
   {
    "duration": 127,
    "start_time": "2025-05-09T23:21:46.024Z"
   },
   {
    "duration": 135,
    "start_time": "2025-05-09T23:22:11.304Z"
   },
   {
    "duration": 130,
    "start_time": "2025-05-09T23:22:56.770Z"
   },
   {
    "duration": 113,
    "start_time": "2025-05-09T23:23:53.707Z"
   },
   {
    "duration": 116,
    "start_time": "2025-05-09T23:24:17.572Z"
   },
   {
    "duration": 122,
    "start_time": "2025-05-09T23:24:57.829Z"
   },
   {
    "duration": 132,
    "start_time": "2025-05-09T23:27:01.787Z"
   },
   {
    "duration": 135,
    "start_time": "2025-05-09T23:33:14.760Z"
   },
   {
    "duration": 140,
    "start_time": "2025-05-09T23:44:05.507Z"
   },
   {
    "duration": 141,
    "start_time": "2025-05-09T23:45:46.476Z"
   },
   {
    "duration": 440,
    "start_time": "2025-05-09T23:51:56.447Z"
   },
   {
    "duration": 181,
    "start_time": "2025-05-09T23:53:25.373Z"
   },
   {
    "duration": 143,
    "start_time": "2025-05-09T23:56:55.461Z"
   },
   {
    "duration": 141,
    "start_time": "2025-05-09T23:58:31.301Z"
   },
   {
    "duration": 62,
    "start_time": "2025-05-10T00:01:34.338Z"
   },
   {
    "duration": 60,
    "start_time": "2025-05-10T00:05:51.423Z"
   },
   {
    "duration": 56,
    "start_time": "2025-05-10T00:06:45.384Z"
   },
   {
    "duration": 69,
    "start_time": "2025-05-10T00:07:49.490Z"
   },
   {
    "duration": 193,
    "start_time": "2025-05-10T00:08:33.520Z"
   },
   {
    "duration": 166,
    "start_time": "2025-05-10T00:09:22.261Z"
   },
   {
    "duration": 160,
    "start_time": "2025-05-10T00:10:02.301Z"
   },
   {
    "duration": 155,
    "start_time": "2025-05-10T00:10:49.814Z"
   },
   {
    "duration": 133,
    "start_time": "2025-05-10T00:14:41.341Z"
   },
   {
    "duration": 367,
    "start_time": "2025-05-10T00:16:59.785Z"
   },
   {
    "duration": 9,
    "start_time": "2025-05-10T00:17:45.903Z"
   },
   {
    "duration": 815,
    "start_time": "2025-05-10T00:17:55.799Z"
   },
   {
    "duration": 370,
    "start_time": "2025-05-10T00:18:19.350Z"
   },
   {
    "duration": 357,
    "start_time": "2025-05-10T00:18:37.680Z"
   },
   {
    "duration": 441,
    "start_time": "2025-05-10T00:18:53.435Z"
   },
   {
    "duration": 421,
    "start_time": "2025-05-10T00:24:50.221Z"
   },
   {
    "duration": 340,
    "start_time": "2025-05-10T00:25:06.189Z"
   },
   {
    "duration": 355,
    "start_time": "2025-05-10T00:26:13.382Z"
   },
   {
    "duration": 74,
    "start_time": "2025-05-10T00:57:05.168Z"
   },
   {
    "duration": 108,
    "start_time": "2025-05-10T00:59:07.962Z"
   },
   {
    "duration": 113,
    "start_time": "2025-05-10T00:59:39.246Z"
   },
   {
    "duration": 77,
    "start_time": "2025-05-10T00:59:47.425Z"
   },
   {
    "duration": 77,
    "start_time": "2025-05-10T01:00:17.538Z"
   },
   {
    "duration": 78,
    "start_time": "2025-05-10T01:00:36.765Z"
   },
   {
    "duration": 114,
    "start_time": "2025-05-10T01:01:23.476Z"
   },
   {
    "duration": 107,
    "start_time": "2025-05-10T01:02:28.311Z"
   },
   {
    "duration": 333,
    "start_time": "2025-05-10T01:04:08.158Z"
   },
   {
    "duration": 6,
    "start_time": "2025-05-10T01:04:53.480Z"
   },
   {
    "duration": 5,
    "start_time": "2025-05-10T01:05:15.839Z"
   },
   {
    "duration": 63,
    "start_time": "2025-05-10T01:05:24.240Z"
   },
   {
    "duration": 76,
    "start_time": "2025-05-10T01:06:52.301Z"
   },
   {
    "duration": 328,
    "start_time": "2025-05-10T01:12:26.954Z"
   },
   {
    "duration": 327,
    "start_time": "2025-05-10T01:12:36.864Z"
   },
   {
    "duration": 108,
    "start_time": "2025-05-10T01:13:39.848Z"
   },
   {
    "duration": 71,
    "start_time": "2025-05-10T01:14:07.560Z"
   },
   {
    "duration": 99,
    "start_time": "2025-05-10T01:18:34.000Z"
   },
   {
    "duration": 117,
    "start_time": "2025-05-10T01:18:43.193Z"
   },
   {
    "duration": 112,
    "start_time": "2025-05-10T01:22:45.882Z"
   },
   {
    "duration": 104,
    "start_time": "2025-05-10T01:23:05.640Z"
   },
   {
    "duration": 241,
    "start_time": "2025-05-10T01:25:43.699Z"
   },
   {
    "duration": 6,
    "start_time": "2025-05-10T02:16:47.513Z"
   },
   {
    "duration": 243,
    "start_time": "2025-05-10T02:17:11.667Z"
   },
   {
    "duration": 81,
    "start_time": "2025-05-10T02:29:09.505Z"
   },
   {
    "duration": 6,
    "start_time": "2025-05-10T02:30:19.590Z"
   },
   {
    "duration": 8,
    "start_time": "2025-05-10T02:32:08.502Z"
   },
   {
    "duration": 6,
    "start_time": "2025-05-10T02:32:20.852Z"
   },
   {
    "duration": 7,
    "start_time": "2025-05-10T02:32:31.371Z"
   },
   {
    "duration": 14,
    "start_time": "2025-05-10T02:43:11.945Z"
   },
   {
    "duration": 7,
    "start_time": "2025-05-10T02:43:24.235Z"
   },
   {
    "duration": 4,
    "start_time": "2025-05-10T02:44:19.704Z"
   },
   {
    "duration": 3,
    "start_time": "2025-05-10T02:44:50.161Z"
   },
   {
    "duration": 7,
    "start_time": "2025-05-10T02:46:11.037Z"
   },
   {
    "duration": 3,
    "start_time": "2025-05-10T02:47:19.366Z"
   },
   {
    "duration": 5,
    "start_time": "2025-05-10T02:54:21.715Z"
   },
   {
    "duration": 4,
    "start_time": "2025-05-10T02:56:02.566Z"
   },
   {
    "duration": 5,
    "start_time": "2025-05-10T02:56:21.657Z"
   },
   {
    "duration": 13,
    "start_time": "2025-05-10T03:29:17.161Z"
   },
   {
    "duration": 67,
    "start_time": "2025-05-10T03:29:39.699Z"
   },
   {
    "duration": 80,
    "start_time": "2025-05-10T03:29:47.022Z"
   },
   {
    "duration": 85,
    "start_time": "2025-05-10T03:33:31.478Z"
   },
   {
    "duration": 86,
    "start_time": "2025-05-10T03:34:23.266Z"
   },
   {
    "duration": 371,
    "start_time": "2025-05-10T03:36:03.665Z"
   },
   {
    "duration": 47,
    "start_time": "2025-05-10T03:38:53.068Z"
   },
   {
    "duration": 87,
    "start_time": "2025-05-10T03:40:33.354Z"
   },
   {
    "duration": 86,
    "start_time": "2025-05-10T03:41:01.667Z"
   },
   {
    "duration": 86,
    "start_time": "2025-05-10T03:43:59.155Z"
   },
   {
    "duration": 5,
    "start_time": "2025-05-10T03:48:12.505Z"
   },
   {
    "duration": 87,
    "start_time": "2025-05-10T03:48:35.531Z"
   },
   {
    "duration": 14,
    "start_time": "2025-05-10T04:02:35.520Z"
   },
   {
    "duration": 91,
    "start_time": "2025-05-10T04:04:12.438Z"
   },
   {
    "duration": 409,
    "start_time": "2025-05-10T04:07:18.238Z"
   },
   {
    "duration": 333,
    "start_time": "2025-05-10T04:07:49.312Z"
   },
   {
    "duration": 28,
    "start_time": "2025-05-10T04:19:17.362Z"
   },
   {
    "duration": 13,
    "start_time": "2025-05-10T04:20:54.537Z"
   },
   {
    "duration": 16,
    "start_time": "2025-05-10T04:21:21.067Z"
   },
   {
    "duration": 27,
    "start_time": "2025-05-10T04:23:59.367Z"
   },
   {
    "duration": 33,
    "start_time": "2025-05-10T04:28:47.342Z"
   },
   {
    "duration": 33,
    "start_time": "2025-05-10T04:29:08.232Z"
   },
   {
    "duration": 6,
    "start_time": "2025-05-10T04:34:56.146Z"
   },
   {
    "duration": 92,
    "start_time": "2025-05-10T04:35:04.885Z"
   },
   {
    "duration": 91,
    "start_time": "2025-05-10T04:38:51.958Z"
   },
   {
    "duration": 98,
    "start_time": "2025-05-10T04:48:05.225Z"
   },
   {
    "duration": 92,
    "start_time": "2025-05-10T04:48:26.725Z"
   },
   {
    "duration": 95,
    "start_time": "2025-05-10T04:52:01.265Z"
   },
   {
    "duration": 81,
    "start_time": "2025-05-10T04:59:22.684Z"
   },
   {
    "duration": 115,
    "start_time": "2025-05-10T04:59:52.655Z"
   },
   {
    "duration": 87,
    "start_time": "2025-05-10T05:06:02.221Z"
   },
   {
    "duration": 256,
    "start_time": "2025-05-10T05:09:17.680Z"
   },
   {
    "duration": 4,
    "start_time": "2025-05-10T05:17:25.558Z"
   },
   {
    "duration": 87,
    "start_time": "2025-05-10T05:23:39.692Z"
   },
   {
    "duration": 14,
    "start_time": "2025-05-10T05:25:33.287Z"
   },
   {
    "duration": 88,
    "start_time": "2025-05-10T05:25:43.170Z"
   },
   {
    "duration": 26,
    "start_time": "2025-05-10T05:32:27.006Z"
   },
   {
    "duration": 17,
    "start_time": "2025-05-10T05:34:08.432Z"
   },
   {
    "duration": 23,
    "start_time": "2025-05-10T05:34:23.752Z"
   },
   {
    "duration": 43,
    "start_time": "2025-05-10T05:38:30.810Z"
   },
   {
    "duration": 46,
    "start_time": "2025-05-10T05:38:45.788Z"
   },
   {
    "duration": 62,
    "start_time": "2025-05-10T06:12:06.845Z"
   },
   {
    "duration": 756,
    "start_time": "2025-05-10T06:12:51.300Z"
   },
   {
    "duration": 740,
    "start_time": "2025-05-10T06:14:26.046Z"
   },
   {
    "duration": 778,
    "start_time": "2025-05-10T06:15:05.099Z"
   },
   {
    "duration": 1071,
    "start_time": "2025-05-10T06:26:08.936Z"
   },
   {
    "duration": 1101,
    "start_time": "2025-05-10T06:28:03.787Z"
   },
   {
    "duration": 1133,
    "start_time": "2025-05-10T06:29:55.904Z"
   },
   {
    "duration": 1216,
    "start_time": "2025-05-10T06:36:03.226Z"
   },
   {
    "duration": 1226,
    "start_time": "2025-05-10T06:38:43.894Z"
   },
   {
    "duration": 5,
    "start_time": "2025-05-10T06:43:11.991Z"
   },
   {
    "duration": 89,
    "start_time": "2025-05-10T06:49:19.344Z"
   },
   {
    "duration": 10,
    "start_time": "2025-05-10T06:55:23.009Z"
   },
   {
    "duration": 28,
    "start_time": "2025-05-10T07:01:53.017Z"
   },
   {
    "duration": 823,
    "start_time": "2025-05-10T07:02:00.144Z"
   },
   {
    "duration": 171,
    "start_time": "2025-05-10T07:02:00.969Z"
   },
   {
    "duration": 9,
    "start_time": "2025-05-10T07:02:01.142Z"
   },
   {
    "duration": 6,
    "start_time": "2025-05-10T07:02:01.153Z"
   },
   {
    "duration": 8,
    "start_time": "2025-05-10T07:02:01.161Z"
   },
   {
    "duration": 18,
    "start_time": "2025-05-10T07:02:01.170Z"
   },
   {
    "duration": 8,
    "start_time": "2025-05-10T07:02:01.190Z"
   },
   {
    "duration": 5,
    "start_time": "2025-05-10T07:02:01.200Z"
   },
   {
    "duration": 15,
    "start_time": "2025-05-10T07:02:01.206Z"
   },
   {
    "duration": 16,
    "start_time": "2025-05-10T07:02:01.222Z"
   },
   {
    "duration": 4,
    "start_time": "2025-05-10T07:02:01.240Z"
   },
   {
    "duration": 56,
    "start_time": "2025-05-10T07:02:01.246Z"
   },
   {
    "duration": 29,
    "start_time": "2025-05-10T07:02:01.303Z"
   },
   {
    "duration": 11,
    "start_time": "2025-05-10T07:02:01.336Z"
   },
   {
    "duration": 4,
    "start_time": "2025-05-10T07:02:01.349Z"
   },
   {
    "duration": 33,
    "start_time": "2025-05-10T07:02:01.354Z"
   },
   {
    "duration": 10,
    "start_time": "2025-05-10T07:02:01.389Z"
   },
   {
    "duration": 13,
    "start_time": "2025-05-10T07:02:01.400Z"
   },
   {
    "duration": 5,
    "start_time": "2025-05-10T07:02:01.414Z"
   },
   {
    "duration": 15,
    "start_time": "2025-05-10T07:02:01.421Z"
   },
   {
    "duration": 49,
    "start_time": "2025-05-10T07:02:01.439Z"
   },
   {
    "duration": 4,
    "start_time": "2025-05-10T07:02:01.490Z"
   },
   {
    "duration": 1890,
    "start_time": "2025-05-10T07:02:01.496Z"
   },
   {
    "duration": 1603,
    "start_time": "2025-05-10T07:02:03.388Z"
   },
   {
    "duration": 1397,
    "start_time": "2025-05-10T07:02:04.993Z"
   },
   {
    "duration": 2354,
    "start_time": "2025-05-10T07:02:06.393Z"
   },
   {
    "duration": 21,
    "start_time": "2025-05-10T07:02:08.749Z"
   },
   {
    "duration": 39,
    "start_time": "2025-05-10T07:02:08.772Z"
   },
   {
    "duration": 275,
    "start_time": "2025-05-10T07:02:08.813Z"
   },
   {
    "duration": 0,
    "start_time": "2025-05-10T07:02:09.091Z"
   },
   {
    "duration": 0,
    "start_time": "2025-05-10T07:02:09.092Z"
   },
   {
    "duration": 0,
    "start_time": "2025-05-10T07:02:09.093Z"
   },
   {
    "duration": 0,
    "start_time": "2025-05-10T07:02:09.095Z"
   },
   {
    "duration": 0,
    "start_time": "2025-05-10T07:02:09.096Z"
   },
   {
    "duration": 0,
    "start_time": "2025-05-10T07:02:09.097Z"
   },
   {
    "duration": 0,
    "start_time": "2025-05-10T07:02:09.098Z"
   },
   {
    "duration": 0,
    "start_time": "2025-05-10T07:02:09.099Z"
   },
   {
    "duration": 0,
    "start_time": "2025-05-10T07:02:09.100Z"
   },
   {
    "duration": 0,
    "start_time": "2025-05-10T07:02:09.102Z"
   },
   {
    "duration": 0,
    "start_time": "2025-05-10T07:02:09.103Z"
   },
   {
    "duration": 0,
    "start_time": "2025-05-10T07:02:09.104Z"
   },
   {
    "duration": 1,
    "start_time": "2025-05-10T07:02:09.105Z"
   },
   {
    "duration": 812,
    "start_time": "2025-05-10T07:02:36.243Z"
   },
   {
    "duration": 160,
    "start_time": "2025-05-10T07:02:37.057Z"
   },
   {
    "duration": 9,
    "start_time": "2025-05-10T07:02:37.219Z"
   },
   {
    "duration": 5,
    "start_time": "2025-05-10T07:02:37.231Z"
   },
   {
    "duration": 8,
    "start_time": "2025-05-10T07:02:37.238Z"
   },
   {
    "duration": 6,
    "start_time": "2025-05-10T07:02:37.247Z"
   },
   {
    "duration": 33,
    "start_time": "2025-05-10T07:02:37.254Z"
   },
   {
    "duration": 5,
    "start_time": "2025-05-10T07:02:37.289Z"
   },
   {
    "duration": 13,
    "start_time": "2025-05-10T07:02:37.295Z"
   },
   {
    "duration": 14,
    "start_time": "2025-05-10T07:02:37.311Z"
   },
   {
    "duration": 4,
    "start_time": "2025-05-10T07:02:37.326Z"
   },
   {
    "duration": 19,
    "start_time": "2025-05-10T07:02:37.332Z"
   },
   {
    "duration": 61,
    "start_time": "2025-05-10T07:02:37.353Z"
   },
   {
    "duration": 12,
    "start_time": "2025-05-10T07:02:37.415Z"
   },
   {
    "duration": 3,
    "start_time": "2025-05-10T07:02:37.429Z"
   },
   {
    "duration": 13,
    "start_time": "2025-05-10T07:02:37.434Z"
   },
   {
    "duration": 38,
    "start_time": "2025-05-10T07:02:37.449Z"
   },
   {
    "duration": 13,
    "start_time": "2025-05-10T07:02:37.489Z"
   },
   {
    "duration": 4,
    "start_time": "2025-05-10T07:02:37.504Z"
   },
   {
    "duration": 16,
    "start_time": "2025-05-10T07:02:37.510Z"
   },
   {
    "duration": 12,
    "start_time": "2025-05-10T07:02:37.528Z"
   },
   {
    "duration": 4,
    "start_time": "2025-05-10T07:02:37.542Z"
   },
   {
    "duration": 1852,
    "start_time": "2025-05-10T07:02:37.548Z"
   },
   {
    "duration": 1606,
    "start_time": "2025-05-10T07:02:39.402Z"
   },
   {
    "duration": 1377,
    "start_time": "2025-05-10T07:02:41.009Z"
   },
   {
    "duration": 1961,
    "start_time": "2025-05-10T07:02:42.387Z"
   },
   {
    "duration": 21,
    "start_time": "2025-05-10T07:02:44.350Z"
   },
   {
    "duration": 26,
    "start_time": "2025-05-10T07:02:44.388Z"
   },
   {
    "duration": 282,
    "start_time": "2025-05-10T07:02:44.416Z"
   },
   {
    "duration": 0,
    "start_time": "2025-05-10T07:02:44.700Z"
   },
   {
    "duration": 0,
    "start_time": "2025-05-10T07:02:44.701Z"
   },
   {
    "duration": 0,
    "start_time": "2025-05-10T07:02:44.702Z"
   },
   {
    "duration": 0,
    "start_time": "2025-05-10T07:02:44.703Z"
   },
   {
    "duration": 0,
    "start_time": "2025-05-10T07:02:44.704Z"
   },
   {
    "duration": 0,
    "start_time": "2025-05-10T07:02:44.705Z"
   },
   {
    "duration": 0,
    "start_time": "2025-05-10T07:02:44.706Z"
   },
   {
    "duration": 0,
    "start_time": "2025-05-10T07:02:44.707Z"
   },
   {
    "duration": 0,
    "start_time": "2025-05-10T07:02:44.709Z"
   },
   {
    "duration": 0,
    "start_time": "2025-05-10T07:02:44.711Z"
   },
   {
    "duration": 0,
    "start_time": "2025-05-10T07:02:44.712Z"
   },
   {
    "duration": 0,
    "start_time": "2025-05-10T07:02:44.713Z"
   },
   {
    "duration": 0,
    "start_time": "2025-05-10T07:02:44.714Z"
   },
   {
    "duration": 1187,
    "start_time": "2025-05-10T07:06:06.200Z"
   },
   {
    "duration": 1248,
    "start_time": "2025-05-10T07:06:39.539Z"
   },
   {
    "duration": 2254,
    "start_time": "2025-05-10T07:10:09.491Z"
   },
   {
    "duration": 1202,
    "start_time": "2025-05-10T07:14:56.602Z"
   },
   {
    "duration": 814,
    "start_time": "2025-05-10T07:17:21.649Z"
   },
   {
    "duration": 162,
    "start_time": "2025-05-10T07:17:22.465Z"
   },
   {
    "duration": 9,
    "start_time": "2025-05-10T07:17:22.628Z"
   },
   {
    "duration": 4,
    "start_time": "2025-05-10T07:17:22.640Z"
   },
   {
    "duration": 7,
    "start_time": "2025-05-10T07:17:22.646Z"
   },
   {
    "duration": 5,
    "start_time": "2025-05-10T07:17:22.654Z"
   },
   {
    "duration": 26,
    "start_time": "2025-05-10T07:17:22.661Z"
   },
   {
    "duration": 5,
    "start_time": "2025-05-10T07:17:22.689Z"
   },
   {
    "duration": 13,
    "start_time": "2025-05-10T07:17:22.695Z"
   },
   {
    "duration": 14,
    "start_time": "2025-05-10T07:17:22.711Z"
   },
   {
    "duration": 4,
    "start_time": "2025-05-10T07:17:22.726Z"
   },
   {
    "duration": 19,
    "start_time": "2025-05-10T07:17:22.732Z"
   },
   {
    "duration": 58,
    "start_time": "2025-05-10T07:17:22.752Z"
   },
   {
    "duration": 13,
    "start_time": "2025-05-10T07:17:22.811Z"
   },
   {
    "duration": 4,
    "start_time": "2025-05-10T07:17:22.826Z"
   },
   {
    "duration": 12,
    "start_time": "2025-05-10T07:17:22.831Z"
   },
   {
    "duration": 11,
    "start_time": "2025-05-10T07:17:22.845Z"
   },
   {
    "duration": 14,
    "start_time": "2025-05-10T07:17:22.887Z"
   },
   {
    "duration": 4,
    "start_time": "2025-05-10T07:17:22.902Z"
   },
   {
    "duration": 15,
    "start_time": "2025-05-10T07:17:22.908Z"
   },
   {
    "duration": 13,
    "start_time": "2025-05-10T07:17:22.925Z"
   },
   {
    "duration": 4,
    "start_time": "2025-05-10T07:17:22.940Z"
   },
   {
    "duration": 1880,
    "start_time": "2025-05-10T07:17:22.946Z"
   },
   {
    "duration": 1582,
    "start_time": "2025-05-10T07:17:24.828Z"
   },
   {
    "duration": 1377,
    "start_time": "2025-05-10T07:17:26.412Z"
   },
   {
    "duration": 2028,
    "start_time": "2025-05-10T07:17:27.790Z"
   },
   {
    "duration": 22,
    "start_time": "2025-05-10T07:17:29.819Z"
   },
   {
    "duration": 41,
    "start_time": "2025-05-10T07:17:29.845Z"
   },
   {
    "duration": 1249,
    "start_time": "2025-05-10T07:17:29.888Z"
   },
   {
    "duration": 416,
    "start_time": "2025-05-10T07:17:31.139Z"
   },
   {
    "duration": 251,
    "start_time": "2025-05-10T07:17:31.557Z"
   },
   {
    "duration": 5,
    "start_time": "2025-05-10T07:17:31.810Z"
   },
   {
    "duration": 107,
    "start_time": "2025-05-10T07:17:31.816Z"
   },
   {
    "duration": 279,
    "start_time": "2025-05-10T07:17:31.924Z"
   },
   {
    "duration": 4,
    "start_time": "2025-05-10T07:17:32.205Z"
   },
   {
    "duration": 105,
    "start_time": "2025-05-10T07:17:32.211Z"
   },
   {
    "duration": 1255,
    "start_time": "2025-05-10T07:17:32.318Z"
   },
   {
    "duration": 12,
    "start_time": "2025-05-10T07:17:33.575Z"
   },
   {
    "duration": 85,
    "start_time": "2025-05-10T07:17:33.589Z"
   },
   {
    "duration": 21,
    "start_time": "2025-05-10T07:17:33.675Z"
   },
   {
    "duration": 2,
    "start_time": "2025-05-10T07:17:33.699Z"
   },
   {
    "duration": 2,
    "start_time": "2025-05-10T07:17:33.702Z"
   },
   {
    "duration": 14,
    "start_time": "2025-05-10T07:23:39.522Z"
   },
   {
    "duration": 537,
    "start_time": "2025-05-10T07:26:34.338Z"
   },
   {
    "duration": 15,
    "start_time": "2025-05-10T07:27:14.656Z"
   },
   {
    "duration": 14,
    "start_time": "2025-05-10T07:28:11.314Z"
   },
   {
    "duration": 1216,
    "start_time": "2025-05-10T07:41:38.947Z"
   },
   {
    "duration": 1363,
    "start_time": "2025-05-10T07:42:24.719Z"
   },
   {
    "duration": 2684,
    "start_time": "2025-05-10T07:43:17.353Z"
   },
   {
    "duration": 820,
    "start_time": "2025-05-10T07:46:35.945Z"
   },
   {
    "duration": 158,
    "start_time": "2025-05-10T07:46:36.768Z"
   },
   {
    "duration": 9,
    "start_time": "2025-05-10T07:46:36.927Z"
   },
   {
    "duration": 6,
    "start_time": "2025-05-10T07:46:36.938Z"
   },
   {
    "duration": 8,
    "start_time": "2025-05-10T07:46:36.945Z"
   },
   {
    "duration": 5,
    "start_time": "2025-05-10T07:46:36.954Z"
   },
   {
    "duration": 30,
    "start_time": "2025-05-10T07:46:36.961Z"
   },
   {
    "duration": 5,
    "start_time": "2025-05-10T07:46:36.993Z"
   },
   {
    "duration": 14,
    "start_time": "2025-05-10T07:46:36.999Z"
   },
   {
    "duration": 15,
    "start_time": "2025-05-10T07:46:37.016Z"
   },
   {
    "duration": 4,
    "start_time": "2025-05-10T07:46:37.033Z"
   },
   {
    "duration": 20,
    "start_time": "2025-05-10T07:46:37.038Z"
   },
   {
    "duration": 30,
    "start_time": "2025-05-10T07:46:37.087Z"
   },
   {
    "duration": 11,
    "start_time": "2025-05-10T07:46:37.119Z"
   },
   {
    "duration": 3,
    "start_time": "2025-05-10T07:46:37.133Z"
   },
   {
    "duration": 13,
    "start_time": "2025-05-10T07:46:37.138Z"
   },
   {
    "duration": 39,
    "start_time": "2025-05-10T07:46:37.152Z"
   },
   {
    "duration": 13,
    "start_time": "2025-05-10T07:46:37.193Z"
   },
   {
    "duration": 4,
    "start_time": "2025-05-10T07:46:37.207Z"
   },
   {
    "duration": 15,
    "start_time": "2025-05-10T07:46:37.212Z"
   },
   {
    "duration": 14,
    "start_time": "2025-05-10T07:46:37.229Z"
   },
   {
    "duration": 3,
    "start_time": "2025-05-10T07:46:37.246Z"
   },
   {
    "duration": 1898,
    "start_time": "2025-05-10T07:46:37.252Z"
   },
   {
    "duration": 1616,
    "start_time": "2025-05-10T07:46:39.152Z"
   },
   {
    "duration": 1906,
    "start_time": "2025-05-10T07:46:40.770Z"
   },
   {
    "duration": 2014,
    "start_time": "2025-05-10T07:46:42.678Z"
   },
   {
    "duration": 22,
    "start_time": "2025-05-10T07:46:44.693Z"
   },
   {
    "duration": 27,
    "start_time": "2025-05-10T07:46:44.720Z"
   },
   {
    "duration": 2750,
    "start_time": "2025-05-10T07:46:44.748Z"
   },
   {
    "duration": 406,
    "start_time": "2025-05-10T07:46:47.500Z"
   },
   {
    "duration": 260,
    "start_time": "2025-05-10T07:46:47.908Z"
   },
   {
    "duration": 4,
    "start_time": "2025-05-10T07:46:48.170Z"
   },
   {
    "duration": 96,
    "start_time": "2025-05-10T07:46:48.175Z"
   },
   {
    "duration": 263,
    "start_time": "2025-05-10T07:46:48.286Z"
   },
   {
    "duration": 4,
    "start_time": "2025-05-10T07:46:48.552Z"
   },
   {
    "duration": 96,
    "start_time": "2025-05-10T07:46:48.558Z"
   },
   {
    "duration": 1249,
    "start_time": "2025-05-10T07:46:48.656Z"
   },
   {
    "duration": 5,
    "start_time": "2025-05-10T07:46:49.907Z"
   },
   {
    "duration": 105,
    "start_time": "2025-05-10T07:46:49.913Z"
   },
   {
    "duration": 15,
    "start_time": "2025-05-10T07:46:50.020Z"
   },
   {
    "duration": 3,
    "start_time": "2025-05-10T07:46:50.036Z"
   },
   {
    "duration": 3,
    "start_time": "2025-05-10T07:46:50.041Z"
   },
   {
    "duration": 14,
    "start_time": "2025-05-10T07:50:55.685Z"
   },
   {
    "duration": 15,
    "start_time": "2025-05-10T08:00:17.763Z"
   },
   {
    "duration": 17,
    "start_time": "2025-05-10T08:03:50.852Z"
   },
   {
    "duration": 622,
    "start_time": "2025-05-10T08:05:58.652Z"
   },
   {
    "duration": 22,
    "start_time": "2025-05-10T08:07:18.011Z"
   },
   {
    "duration": 15,
    "start_time": "2025-05-10T08:09:26.328Z"
   },
   {
    "duration": 8,
    "start_time": "2025-05-10T08:10:52.232Z"
   },
   {
    "duration": 25,
    "start_time": "2025-05-10T08:11:50.599Z"
   },
   {
    "duration": 23,
    "start_time": "2025-05-10T08:12:20.196Z"
   },
   {
    "duration": 81,
    "start_time": "2025-05-10T08:12:58.183Z"
   },
   {
    "duration": 36,
    "start_time": "2025-05-10T08:13:24.810Z"
   },
   {
    "duration": 36,
    "start_time": "2025-05-10T08:14:59.222Z"
   },
   {
    "duration": 37,
    "start_time": "2025-05-10T08:15:29.945Z"
   },
   {
    "duration": 36,
    "start_time": "2025-05-10T08:16:20.121Z"
   },
   {
    "duration": 9,
    "start_time": "2025-05-10T08:17:00.872Z"
   },
   {
    "duration": 182,
    "start_time": "2025-05-10T08:17:21.151Z"
   },
   {
    "duration": 23,
    "start_time": "2025-05-10T08:17:41.119Z"
   },
   {
    "duration": 25,
    "start_time": "2025-05-10T08:18:00.982Z"
   },
   {
    "duration": 24,
    "start_time": "2025-05-10T08:18:20.130Z"
   },
   {
    "duration": 10,
    "start_time": "2025-05-10T08:18:46.041Z"
   },
   {
    "duration": 9,
    "start_time": "2025-05-10T08:18:58.543Z"
   },
   {
    "duration": 8,
    "start_time": "2025-05-10T08:19:15.109Z"
   },
   {
    "duration": 9,
    "start_time": "2025-05-10T08:19:18.089Z"
   },
   {
    "duration": 2535,
    "start_time": "2025-05-10T08:22:25.790Z"
   },
   {
    "duration": 1254,
    "start_time": "2025-05-10T08:22:40.335Z"
   },
   {
    "duration": 820,
    "start_time": "2025-05-10T08:23:43.840Z"
   },
   {
    "duration": 158,
    "start_time": "2025-05-10T08:23:44.663Z"
   },
   {
    "duration": 9,
    "start_time": "2025-05-10T08:23:44.823Z"
   },
   {
    "duration": 6,
    "start_time": "2025-05-10T08:23:44.834Z"
   },
   {
    "duration": 7,
    "start_time": "2025-05-10T08:23:44.841Z"
   },
   {
    "duration": 5,
    "start_time": "2025-05-10T08:23:44.849Z"
   },
   {
    "duration": 32,
    "start_time": "2025-05-10T08:23:44.856Z"
   },
   {
    "duration": 5,
    "start_time": "2025-05-10T08:23:44.889Z"
   },
   {
    "duration": 13,
    "start_time": "2025-05-10T08:23:44.896Z"
   },
   {
    "duration": 14,
    "start_time": "2025-05-10T08:23:44.913Z"
   },
   {
    "duration": 3,
    "start_time": "2025-05-10T08:23:44.929Z"
   },
   {
    "duration": 19,
    "start_time": "2025-05-10T08:23:44.934Z"
   },
   {
    "duration": 58,
    "start_time": "2025-05-10T08:23:44.955Z"
   },
   {
    "duration": 12,
    "start_time": "2025-05-10T08:23:45.015Z"
   },
   {
    "duration": 4,
    "start_time": "2025-05-10T08:23:45.029Z"
   },
   {
    "duration": 14,
    "start_time": "2025-05-10T08:23:45.034Z"
   },
   {
    "duration": 37,
    "start_time": "2025-05-10T08:23:45.050Z"
   },
   {
    "duration": 15,
    "start_time": "2025-05-10T08:23:45.089Z"
   },
   {
    "duration": 4,
    "start_time": "2025-05-10T08:23:45.106Z"
   },
   {
    "duration": 16,
    "start_time": "2025-05-10T08:23:45.112Z"
   },
   {
    "duration": 13,
    "start_time": "2025-05-10T08:23:45.129Z"
   },
   {
    "duration": 4,
    "start_time": "2025-05-10T08:23:45.144Z"
   },
   {
    "duration": 1862,
    "start_time": "2025-05-10T08:23:45.149Z"
   },
   {
    "duration": 1573,
    "start_time": "2025-05-10T08:23:47.013Z"
   },
   {
    "duration": 1356,
    "start_time": "2025-05-10T08:23:48.589Z"
   },
   {
    "duration": 2011,
    "start_time": "2025-05-10T08:23:49.946Z"
   },
   {
    "duration": 30,
    "start_time": "2025-05-10T08:23:51.959Z"
   },
   {
    "duration": 26,
    "start_time": "2025-05-10T08:23:51.994Z"
   },
   {
    "duration": 1214,
    "start_time": "2025-05-10T08:23:52.022Z"
   },
   {
    "duration": 392,
    "start_time": "2025-05-10T08:23:53.238Z"
   },
   {
    "duration": 249,
    "start_time": "2025-05-10T08:23:53.632Z"
   },
   {
    "duration": 4,
    "start_time": "2025-05-10T08:23:53.887Z"
   },
   {
    "duration": 107,
    "start_time": "2025-05-10T08:23:53.893Z"
   },
   {
    "duration": 262,
    "start_time": "2025-05-10T08:23:54.002Z"
   },
   {
    "duration": 4,
    "start_time": "2025-05-10T08:23:54.266Z"
   },
   {
    "duration": 99,
    "start_time": "2025-05-10T08:23:54.273Z"
   },
   {
    "duration": 1249,
    "start_time": "2025-05-10T08:23:54.374Z"
   },
   {
    "duration": 4,
    "start_time": "2025-05-10T08:23:55.625Z"
   },
   {
    "duration": 99,
    "start_time": "2025-05-10T08:23:55.630Z"
   },
   {
    "duration": 8,
    "start_time": "2025-05-10T08:23:55.731Z"
   },
   {
    "duration": 3,
    "start_time": "2025-05-10T08:23:55.741Z"
   },
   {
    "duration": 4,
    "start_time": "2025-05-10T08:23:55.745Z"
   },
   {
    "duration": 11,
    "start_time": "2025-05-10T08:26:57.425Z"
   },
   {
    "duration": 13,
    "start_time": "2025-05-10T08:29:33.740Z"
   },
   {
    "duration": 1541,
    "start_time": "2025-05-10T08:36:58.421Z"
   },
   {
    "duration": 2413,
    "start_time": "2025-05-10T08:38:56.493Z"
   },
   {
    "duration": 37,
    "start_time": "2025-05-10T08:40:30.212Z"
   },
   {
    "duration": 38,
    "start_time": "2025-05-10T08:41:37.318Z"
   },
   {
    "duration": 38,
    "start_time": "2025-05-10T08:42:54.944Z"
   },
   {
    "duration": 1157,
    "start_time": "2025-05-10T08:47:05.368Z"
   },
   {
    "duration": 1864,
    "start_time": "2025-05-10T08:50:14.106Z"
   },
   {
    "duration": 2026,
    "start_time": "2025-05-10T08:59:03.208Z"
   },
   {
    "duration": 1855,
    "start_time": "2025-05-10T08:59:15.156Z"
   },
   {
    "duration": 1580,
    "start_time": "2025-05-10T08:59:42.983Z"
   },
   {
    "duration": 1559,
    "start_time": "2025-05-10T08:59:55.270Z"
   },
   {
    "duration": 1368,
    "start_time": "2025-05-10T09:00:33.911Z"
   },
   {
    "duration": 1428,
    "start_time": "2025-05-10T09:01:00.407Z"
   },
   {
    "duration": 1986,
    "start_time": "2025-05-10T09:01:43.778Z"
   },
   {
    "duration": 1997,
    "start_time": "2025-05-10T09:02:25.272Z"
   },
   {
    "duration": 22,
    "start_time": "2025-05-10T09:02:48.482Z"
   },
   {
    "duration": 30,
    "start_time": "2025-05-10T09:03:57.815Z"
   },
   {
    "duration": 37,
    "start_time": "2025-05-10T09:05:49.137Z"
   },
   {
    "duration": 6,
    "start_time": "2025-05-10T09:09:09.624Z"
   },
   {
    "duration": 33,
    "start_time": "2025-05-10T09:10:07.108Z"
   },
   {
    "duration": 28,
    "start_time": "2025-05-10T09:10:25.487Z"
   },
   {
    "duration": 14,
    "start_time": "2025-05-10T09:11:11.805Z"
   },
   {
    "duration": 11,
    "start_time": "2025-05-10T09:11:56.587Z"
   },
   {
    "duration": 16,
    "start_time": "2025-05-10T09:12:29.501Z"
   },
   {
    "duration": 16,
    "start_time": "2025-05-10T09:13:57.367Z"
   },
   {
    "duration": 15,
    "start_time": "2025-05-10T09:14:13.689Z"
   },
   {
    "duration": 15,
    "start_time": "2025-05-10T09:14:31.816Z"
   },
   {
    "duration": 14,
    "start_time": "2025-05-10T09:14:48.646Z"
   },
   {
    "duration": 17,
    "start_time": "2025-05-10T09:15:03.138Z"
   },
   {
    "duration": 16,
    "start_time": "2025-05-10T09:15:27.393Z"
   },
   {
    "duration": 18,
    "start_time": "2025-05-10T09:15:50.265Z"
   },
   {
    "duration": 15,
    "start_time": "2025-05-10T09:16:04.795Z"
   },
   {
    "duration": 15,
    "start_time": "2025-05-10T09:16:45.436Z"
   },
   {
    "duration": 14,
    "start_time": "2025-05-10T09:17:00.027Z"
   },
   {
    "duration": 16,
    "start_time": "2025-05-10T09:17:15.716Z"
   },
   {
    "duration": 13,
    "start_time": "2025-05-10T09:17:49.260Z"
   },
   {
    "duration": 13,
    "start_time": "2025-05-10T09:18:20.802Z"
   },
   {
    "duration": 12,
    "start_time": "2025-05-10T09:18:32.091Z"
   },
   {
    "duration": 10,
    "start_time": "2025-05-10T09:18:46.644Z"
   },
   {
    "duration": 12,
    "start_time": "2025-05-10T09:18:59.348Z"
   },
   {
    "duration": 10,
    "start_time": "2025-05-10T09:19:11.002Z"
   },
   {
    "duration": 11,
    "start_time": "2025-05-10T09:19:19.069Z"
   },
   {
    "duration": 11,
    "start_time": "2025-05-10T09:19:27.358Z"
   },
   {
    "duration": 11,
    "start_time": "2025-05-10T09:19:37.392Z"
   },
   {
    "duration": 10,
    "start_time": "2025-05-10T09:19:54.114Z"
   },
   {
    "duration": 11,
    "start_time": "2025-05-10T09:20:02.943Z"
   },
   {
    "duration": 11,
    "start_time": "2025-05-10T09:20:10.203Z"
   },
   {
    "duration": 11,
    "start_time": "2025-05-10T09:20:20.907Z"
   },
   {
    "duration": 27,
    "start_time": "2025-05-10T09:20:56.370Z"
   },
   {
    "duration": 21,
    "start_time": "2025-05-10T09:21:18.945Z"
   },
   {
    "duration": 20,
    "start_time": "2025-05-10T09:21:29.688Z"
   },
   {
    "duration": 21,
    "start_time": "2025-05-10T09:21:37.690Z"
   },
   {
    "duration": 21,
    "start_time": "2025-05-10T09:21:48.016Z"
   },
   {
    "duration": 20,
    "start_time": "2025-05-10T09:21:56.262Z"
   },
   {
    "duration": 28,
    "start_time": "2025-05-10T09:22:08.295Z"
   },
   {
    "duration": 22,
    "start_time": "2025-05-10T09:22:17.078Z"
   },
   {
    "duration": 21,
    "start_time": "2025-05-10T09:22:28.976Z"
   },
   {
    "duration": 21,
    "start_time": "2025-05-10T09:22:37.478Z"
   },
   {
    "duration": 20,
    "start_time": "2025-05-10T09:22:44.722Z"
   },
   {
    "duration": 23,
    "start_time": "2025-05-10T09:22:59.906Z"
   },
   {
    "duration": 630,
    "start_time": "2025-05-10T09:24:08.759Z"
   },
   {
    "duration": 6,
    "start_time": "2025-05-10T09:24:50.539Z"
   },
   {
    "duration": 6,
    "start_time": "2025-05-10T09:25:38.852Z"
   },
   {
    "duration": 6,
    "start_time": "2025-05-10T09:25:52.729Z"
   },
   {
    "duration": 6,
    "start_time": "2025-05-10T09:26:20.978Z"
   },
   {
    "duration": 6,
    "start_time": "2025-05-10T09:26:31.888Z"
   },
   {
    "duration": 6,
    "start_time": "2025-05-10T09:26:58.304Z"
   },
   {
    "duration": 6,
    "start_time": "2025-05-10T09:27:20.186Z"
   },
   {
    "duration": 5,
    "start_time": "2025-05-10T09:27:38.565Z"
   },
   {
    "duration": 6,
    "start_time": "2025-05-10T09:28:07.660Z"
   },
   {
    "duration": 6,
    "start_time": "2025-05-10T09:28:26.907Z"
   },
   {
    "duration": 7,
    "start_time": "2025-05-10T09:29:01.792Z"
   },
   {
    "duration": 809,
    "start_time": "2025-05-10T09:29:27.952Z"
   },
   {
    "duration": 161,
    "start_time": "2025-05-10T09:29:28.763Z"
   },
   {
    "duration": 9,
    "start_time": "2025-05-10T09:29:28.926Z"
   },
   {
    "duration": 5,
    "start_time": "2025-05-10T09:29:28.937Z"
   },
   {
    "duration": 8,
    "start_time": "2025-05-10T09:29:28.943Z"
   },
   {
    "duration": 5,
    "start_time": "2025-05-10T09:29:28.952Z"
   },
   {
    "duration": 8,
    "start_time": "2025-05-10T09:29:28.958Z"
   },
   {
    "duration": 25,
    "start_time": "2025-05-10T09:29:28.967Z"
   },
   {
    "duration": 12,
    "start_time": "2025-05-10T09:29:28.995Z"
   },
   {
    "duration": 15,
    "start_time": "2025-05-10T09:29:29.011Z"
   },
   {
    "duration": 4,
    "start_time": "2025-05-10T09:29:29.027Z"
   },
   {
    "duration": 19,
    "start_time": "2025-05-10T09:29:29.033Z"
   },
   {
    "duration": 55,
    "start_time": "2025-05-10T09:29:29.054Z"
   },
   {
    "duration": 11,
    "start_time": "2025-05-10T09:29:29.111Z"
   },
   {
    "duration": 4,
    "start_time": "2025-05-10T09:29:29.124Z"
   },
   {
    "duration": 13,
    "start_time": "2025-05-10T09:29:29.130Z"
   },
   {
    "duration": 11,
    "start_time": "2025-05-10T09:29:29.144Z"
   },
   {
    "duration": 14,
    "start_time": "2025-05-10T09:29:29.187Z"
   },
   {
    "duration": 4,
    "start_time": "2025-05-10T09:29:29.203Z"
   },
   {
    "duration": 20,
    "start_time": "2025-05-10T09:29:29.209Z"
   },
   {
    "duration": 13,
    "start_time": "2025-05-10T09:29:29.232Z"
   },
   {
    "duration": 4,
    "start_time": "2025-05-10T09:29:29.247Z"
   },
   {
    "duration": 1879,
    "start_time": "2025-05-10T09:29:29.253Z"
   },
   {
    "duration": 1560,
    "start_time": "2025-05-10T09:29:31.134Z"
   },
   {
    "duration": 1368,
    "start_time": "2025-05-10T09:29:32.696Z"
   },
   {
    "duration": 1961,
    "start_time": "2025-05-10T09:29:34.066Z"
   },
   {
    "duration": 21,
    "start_time": "2025-05-10T09:29:36.029Z"
   },
   {
    "duration": 43,
    "start_time": "2025-05-10T09:29:36.054Z"
   },
   {
    "duration": 1180,
    "start_time": "2025-05-10T09:29:36.099Z"
   },
   {
    "duration": 398,
    "start_time": "2025-05-10T09:29:37.281Z"
   },
   {
    "duration": 251,
    "start_time": "2025-05-10T09:29:37.682Z"
   },
   {
    "duration": 4,
    "start_time": "2025-05-10T09:29:37.935Z"
   },
   {
    "duration": 109,
    "start_time": "2025-05-10T09:29:37.941Z"
   },
   {
    "duration": 268,
    "start_time": "2025-05-10T09:29:38.052Z"
   },
   {
    "duration": 5,
    "start_time": "2025-05-10T09:29:38.321Z"
   },
   {
    "duration": 101,
    "start_time": "2025-05-10T09:29:38.328Z"
   },
   {
    "duration": 1221,
    "start_time": "2025-05-10T09:29:38.431Z"
   },
   {
    "duration": 5,
    "start_time": "2025-05-10T09:29:39.654Z"
   },
   {
    "duration": 98,
    "start_time": "2025-05-10T09:29:39.660Z"
   },
   {
    "duration": 49,
    "start_time": "2025-05-10T09:29:39.762Z"
   },
   {
    "duration": 2,
    "start_time": "2025-05-10T09:29:39.813Z"
   },
   {
    "duration": 2,
    "start_time": "2025-05-10T09:29:39.817Z"
   },
   {
    "duration": 16,
    "start_time": "2025-05-10T09:47:17.818Z"
   },
   {
    "duration": 18,
    "start_time": "2025-05-10T09:49:40.327Z"
   },
   {
    "duration": 18,
    "start_time": "2025-05-10T09:50:12.085Z"
   },
   {
    "duration": 23,
    "start_time": "2025-05-10T09:50:36.618Z"
   },
   {
    "duration": 19,
    "start_time": "2025-05-10T09:52:24.095Z"
   },
   {
    "duration": 18,
    "start_time": "2025-05-10T09:52:41.586Z"
   },
   {
    "duration": 20,
    "start_time": "2025-05-10T09:53:24.310Z"
   },
   {
    "duration": 23,
    "start_time": "2025-05-10T10:07:29.629Z"
   },
   {
    "duration": 25,
    "start_time": "2025-05-10T10:08:18.375Z"
   },
   {
    "duration": 31,
    "start_time": "2025-05-10T10:15:00.488Z"
   },
   {
    "duration": 30,
    "start_time": "2025-05-10T10:17:28.872Z"
   },
   {
    "duration": 29,
    "start_time": "2025-05-10T10:19:31.739Z"
   },
   {
    "duration": 700,
    "start_time": "2025-05-10T10:20:17.469Z"
   },
   {
    "duration": 776,
    "start_time": "2025-05-10T10:20:38.771Z"
   },
   {
    "duration": 156,
    "start_time": "2025-05-10T10:20:39.549Z"
   },
   {
    "duration": 9,
    "start_time": "2025-05-10T10:20:39.707Z"
   },
   {
    "duration": 5,
    "start_time": "2025-05-10T10:20:39.719Z"
   },
   {
    "duration": 7,
    "start_time": "2025-05-10T10:20:39.726Z"
   },
   {
    "duration": 5,
    "start_time": "2025-05-10T10:20:39.734Z"
   },
   {
    "duration": 7,
    "start_time": "2025-05-10T10:20:39.741Z"
   },
   {
    "duration": 6,
    "start_time": "2025-05-10T10:20:39.750Z"
   },
   {
    "duration": 43,
    "start_time": "2025-05-10T10:20:39.757Z"
   },
   {
    "duration": 14,
    "start_time": "2025-05-10T10:20:39.804Z"
   },
   {
    "duration": 5,
    "start_time": "2025-05-10T10:20:39.820Z"
   },
   {
    "duration": 21,
    "start_time": "2025-05-10T10:20:39.826Z"
   },
   {
    "duration": 59,
    "start_time": "2025-05-10T10:20:39.849Z"
   },
   {
    "duration": 12,
    "start_time": "2025-05-10T10:20:39.909Z"
   },
   {
    "duration": 4,
    "start_time": "2025-05-10T10:20:39.922Z"
   },
   {
    "duration": 12,
    "start_time": "2025-05-10T10:20:39.928Z"
   },
   {
    "duration": 9,
    "start_time": "2025-05-10T10:20:39.941Z"
   },
   {
    "duration": 42,
    "start_time": "2025-05-10T10:20:39.952Z"
   },
   {
    "duration": 5,
    "start_time": "2025-05-10T10:20:39.996Z"
   },
   {
    "duration": 15,
    "start_time": "2025-05-10T10:20:40.004Z"
   },
   {
    "duration": 13,
    "start_time": "2025-05-10T10:20:40.020Z"
   },
   {
    "duration": 5,
    "start_time": "2025-05-10T10:20:40.036Z"
   },
   {
    "duration": 1936,
    "start_time": "2025-05-10T10:20:40.042Z"
   },
   {
    "duration": 1586,
    "start_time": "2025-05-10T10:20:41.979Z"
   },
   {
    "duration": 1380,
    "start_time": "2025-05-10T10:20:43.567Z"
   },
   {
    "duration": 1961,
    "start_time": "2025-05-10T10:20:44.949Z"
   },
   {
    "duration": 22,
    "start_time": "2025-05-10T10:20:46.911Z"
   },
   {
    "duration": 27,
    "start_time": "2025-05-10T10:20:46.937Z"
   },
   {
    "duration": 1239,
    "start_time": "2025-05-10T10:20:46.966Z"
   },
   {
    "duration": 405,
    "start_time": "2025-05-10T10:20:48.207Z"
   },
   {
    "duration": 255,
    "start_time": "2025-05-10T10:20:48.614Z"
   },
   {
    "duration": 5,
    "start_time": "2025-05-10T10:20:48.871Z"
   },
   {
    "duration": 96,
    "start_time": "2025-05-10T10:20:48.877Z"
   },
   {
    "duration": 265,
    "start_time": "2025-05-10T10:20:48.986Z"
   },
   {
    "duration": 5,
    "start_time": "2025-05-10T10:20:49.253Z"
   },
   {
    "duration": 102,
    "start_time": "2025-05-10T10:20:49.259Z"
   },
   {
    "duration": 1259,
    "start_time": "2025-05-10T10:20:49.363Z"
   },
   {
    "duration": 5,
    "start_time": "2025-05-10T10:20:50.624Z"
   },
   {
    "duration": 114,
    "start_time": "2025-05-10T10:20:50.630Z"
   },
   {
    "duration": 24,
    "start_time": "2025-05-10T10:20:50.746Z"
   },
   {
    "duration": 2,
    "start_time": "2025-05-10T10:20:50.771Z"
   },
   {
    "duration": 2,
    "start_time": "2025-05-10T10:20:50.786Z"
   },
   {
    "duration": 24,
    "start_time": "2025-05-10T10:21:37.016Z"
   },
   {
    "duration": 24,
    "start_time": "2025-05-10T10:24:07.545Z"
   },
   {
    "duration": 24,
    "start_time": "2025-05-10T10:25:04.784Z"
   },
   {
    "duration": 50,
    "start_time": "2025-05-10T10:26:37.251Z"
   },
   {
    "duration": 55,
    "start_time": "2025-05-10T10:30:25.810Z"
   },
   {
    "duration": 30,
    "start_time": "2025-05-10T10:33:28.290Z"
   },
   {
    "duration": 590,
    "start_time": "2025-05-10T10:38:11.486Z"
   },
   {
    "duration": 33,
    "start_time": "2025-05-10T10:39:15.660Z"
   },
   {
    "duration": 196,
    "start_time": "2025-05-10T10:42:16.421Z"
   },
   {
    "duration": 4,
    "start_time": "2025-05-10T10:46:24.237Z"
   },
   {
    "duration": 83,
    "start_time": "2025-05-10T10:48:03.215Z"
   },
   {
    "duration": 1254,
    "start_time": "2025-05-10T11:08:03.484Z"
   },
   {
    "duration": 2539,
    "start_time": "2025-05-10T16:24:02.086Z"
   },
   {
    "duration": 206,
    "start_time": "2025-05-10T16:24:04.627Z"
   },
   {
    "duration": 9,
    "start_time": "2025-05-10T16:24:04.835Z"
   },
   {
    "duration": 6,
    "start_time": "2025-05-10T16:24:04.846Z"
   },
   {
    "duration": 7,
    "start_time": "2025-05-10T16:24:04.854Z"
   },
   {
    "duration": 5,
    "start_time": "2025-05-10T16:24:04.862Z"
   },
   {
    "duration": 8,
    "start_time": "2025-05-10T16:24:04.868Z"
   },
   {
    "duration": 6,
    "start_time": "2025-05-10T16:24:04.877Z"
   },
   {
    "duration": 42,
    "start_time": "2025-05-10T16:24:04.884Z"
   },
   {
    "duration": 15,
    "start_time": "2025-05-10T16:24:04.927Z"
   },
   {
    "duration": 4,
    "start_time": "2025-05-10T16:24:04.943Z"
   },
   {
    "duration": 20,
    "start_time": "2025-05-10T16:24:04.949Z"
   },
   {
    "duration": 50,
    "start_time": "2025-05-10T16:24:04.970Z"
   },
   {
    "duration": 11,
    "start_time": "2025-05-10T16:24:05.024Z"
   },
   {
    "duration": 4,
    "start_time": "2025-05-10T16:24:05.037Z"
   },
   {
    "duration": 13,
    "start_time": "2025-05-10T16:24:05.043Z"
   },
   {
    "duration": 10,
    "start_time": "2025-05-10T16:24:05.058Z"
   },
   {
    "duration": 13,
    "start_time": "2025-05-10T16:24:05.070Z"
   },
   {
    "duration": 38,
    "start_time": "2025-05-10T16:24:05.084Z"
   },
   {
    "duration": 15,
    "start_time": "2025-05-10T16:24:05.124Z"
   },
   {
    "duration": 13,
    "start_time": "2025-05-10T16:24:05.140Z"
   },
   {
    "duration": 4,
    "start_time": "2025-05-10T16:24:05.155Z"
   },
   {
    "duration": 1837,
    "start_time": "2025-05-10T16:24:05.161Z"
   },
   {
    "duration": 1537,
    "start_time": "2025-05-10T16:24:07.000Z"
   },
   {
    "duration": 1352,
    "start_time": "2025-05-10T16:24:08.538Z"
   },
   {
    "duration": 1996,
    "start_time": "2025-05-10T16:24:09.892Z"
   },
   {
    "duration": 29,
    "start_time": "2025-05-10T16:24:11.890Z"
   },
   {
    "duration": 28,
    "start_time": "2025-05-10T16:24:11.921Z"
   },
   {
    "duration": 1172,
    "start_time": "2025-05-10T16:24:11.951Z"
   },
   {
    "duration": 360,
    "start_time": "2025-05-10T16:24:13.125Z"
   },
   {
    "duration": 250,
    "start_time": "2025-05-10T16:24:13.487Z"
   },
   {
    "duration": 4,
    "start_time": "2025-05-10T16:24:13.739Z"
   },
   {
    "duration": 110,
    "start_time": "2025-05-10T16:24:13.745Z"
   },
   {
    "duration": 271,
    "start_time": "2025-05-10T16:24:13.857Z"
   },
   {
    "duration": 5,
    "start_time": "2025-05-10T16:24:14.130Z"
   },
   {
    "duration": 153,
    "start_time": "2025-05-10T16:24:14.136Z"
   },
   {
    "duration": 1211,
    "start_time": "2025-05-10T16:24:14.292Z"
   },
   {
    "duration": 14,
    "start_time": "2025-05-10T16:24:15.505Z"
   },
   {
    "duration": 99,
    "start_time": "2025-05-10T16:24:15.521Z"
   },
   {
    "duration": 197,
    "start_time": "2025-05-10T16:24:15.622Z"
   },
   {
    "duration": 4,
    "start_time": "2025-05-10T16:24:15.824Z"
   },
   {
    "duration": 96,
    "start_time": "2025-05-10T16:24:15.831Z"
   },
   {
    "duration": 2,
    "start_time": "2025-05-10T16:24:15.929Z"
   },
   {
    "duration": 3,
    "start_time": "2025-05-10T16:24:15.932Z"
   },
   {
    "duration": 162,
    "start_time": "2025-05-10T19:10:45.366Z"
   },
   {
    "duration": 2654,
    "start_time": "2025-05-10T19:10:59.393Z"
   },
   {
    "duration": 214,
    "start_time": "2025-05-10T19:11:02.050Z"
   },
   {
    "duration": 9,
    "start_time": "2025-05-10T19:11:02.266Z"
   },
   {
    "duration": 5,
    "start_time": "2025-05-10T19:11:02.278Z"
   },
   {
    "duration": 7,
    "start_time": "2025-05-10T19:11:02.285Z"
   },
   {
    "duration": 4,
    "start_time": "2025-05-10T19:11:02.294Z"
   },
   {
    "duration": 7,
    "start_time": "2025-05-10T19:11:02.300Z"
   },
   {
    "duration": 22,
    "start_time": "2025-05-10T19:11:02.309Z"
   },
   {
    "duration": 13,
    "start_time": "2025-05-10T19:11:02.332Z"
   },
   {
    "duration": 15,
    "start_time": "2025-05-10T19:11:02.348Z"
   },
   {
    "duration": 4,
    "start_time": "2025-05-10T19:11:02.365Z"
   },
   {
    "duration": 20,
    "start_time": "2025-05-10T19:11:02.370Z"
   },
   {
    "duration": 62,
    "start_time": "2025-05-10T19:11:02.391Z"
   },
   {
    "duration": 12,
    "start_time": "2025-05-10T19:11:02.455Z"
   },
   {
    "duration": 4,
    "start_time": "2025-05-10T19:11:02.469Z"
   },
   {
    "duration": 13,
    "start_time": "2025-05-10T19:11:02.476Z"
   },
   {
    "duration": 9,
    "start_time": "2025-05-10T19:11:02.491Z"
   },
   {
    "duration": 41,
    "start_time": "2025-05-10T19:11:02.502Z"
   },
   {
    "duration": 5,
    "start_time": "2025-05-10T19:11:02.545Z"
   },
   {
    "duration": 16,
    "start_time": "2025-05-10T19:11:02.552Z"
   },
   {
    "duration": 12,
    "start_time": "2025-05-10T19:11:02.570Z"
   },
   {
    "duration": 4,
    "start_time": "2025-05-10T19:11:02.584Z"
   },
   {
    "duration": 1984,
    "start_time": "2025-05-10T19:11:02.590Z"
   },
   {
    "duration": 1728,
    "start_time": "2025-05-10T19:11:04.576Z"
   },
   {
    "duration": 1463,
    "start_time": "2025-05-10T19:11:06.306Z"
   },
   {
    "duration": 2018,
    "start_time": "2025-05-10T19:11:07.771Z"
   },
   {
    "duration": 28,
    "start_time": "2025-05-10T19:11:09.791Z"
   },
   {
    "duration": 34,
    "start_time": "2025-05-10T19:11:09.831Z"
   },
   {
    "duration": 1225,
    "start_time": "2025-05-10T19:11:09.867Z"
   },
   {
    "duration": 367,
    "start_time": "2025-05-10T19:11:11.094Z"
   },
   {
    "duration": 372,
    "start_time": "2025-05-10T19:11:11.463Z"
   },
   {
    "duration": 0,
    "start_time": "2025-05-10T19:11:11.837Z"
   },
   {
    "duration": 0,
    "start_time": "2025-05-10T19:11:11.839Z"
   },
   {
    "duration": 0,
    "start_time": "2025-05-10T19:11:11.840Z"
   },
   {
    "duration": 1,
    "start_time": "2025-05-10T19:11:11.841Z"
   },
   {
    "duration": 0,
    "start_time": "2025-05-10T19:11:11.843Z"
   },
   {
    "duration": 0,
    "start_time": "2025-05-10T19:11:11.844Z"
   },
   {
    "duration": 0,
    "start_time": "2025-05-10T19:11:11.846Z"
   },
   {
    "duration": 0,
    "start_time": "2025-05-10T19:11:11.847Z"
   },
   {
    "duration": 0,
    "start_time": "2025-05-10T19:11:11.848Z"
   },
   {
    "duration": 0,
    "start_time": "2025-05-10T19:11:11.850Z"
   },
   {
    "duration": 0,
    "start_time": "2025-05-10T19:11:11.852Z"
   },
   {
    "duration": 0,
    "start_time": "2025-05-10T19:11:11.853Z"
   },
   {
    "duration": 0,
    "start_time": "2025-05-10T19:11:11.855Z"
   },
   {
    "duration": 106,
    "start_time": "2025-05-10T19:11:39.567Z"
   },
   {
    "duration": 142,
    "start_time": "2025-05-10T19:12:29.182Z"
   },
   {
    "duration": 124,
    "start_time": "2025-05-10T19:18:47.612Z"
   },
   {
    "duration": 129,
    "start_time": "2025-05-10T19:20:02.814Z"
   },
   {
    "duration": 123,
    "start_time": "2025-05-10T19:20:16.577Z"
   },
   {
    "duration": 291,
    "start_time": "2025-05-10T19:26:12.005Z"
   },
   {
    "duration": 291,
    "start_time": "2025-05-10T19:29:57.837Z"
   },
   {
    "duration": 290,
    "start_time": "2025-05-10T19:30:56.981Z"
   },
   {
    "duration": 338,
    "start_time": "2025-05-10T19:31:58.243Z"
   },
   {
    "duration": 847,
    "start_time": "2025-05-10T19:37:02.962Z"
   },
   {
    "duration": 160,
    "start_time": "2025-05-10T19:37:03.812Z"
   },
   {
    "duration": 10,
    "start_time": "2025-05-10T19:37:03.974Z"
   },
   {
    "duration": 5,
    "start_time": "2025-05-10T19:37:03.986Z"
   },
   {
    "duration": 7,
    "start_time": "2025-05-10T19:37:03.993Z"
   },
   {
    "duration": 5,
    "start_time": "2025-05-10T19:37:04.002Z"
   },
   {
    "duration": 27,
    "start_time": "2025-05-10T19:37:04.009Z"
   },
   {
    "duration": 5,
    "start_time": "2025-05-10T19:37:04.038Z"
   },
   {
    "duration": 15,
    "start_time": "2025-05-10T19:37:04.045Z"
   },
   {
    "duration": 14,
    "start_time": "2025-05-10T19:37:04.063Z"
   },
   {
    "duration": 5,
    "start_time": "2025-05-10T19:37:04.080Z"
   },
   {
    "duration": 49,
    "start_time": "2025-05-10T19:37:04.087Z"
   },
   {
    "duration": 25,
    "start_time": "2025-05-10T19:37:04.138Z"
   },
   {
    "duration": 11,
    "start_time": "2025-05-10T19:37:04.165Z"
   },
   {
    "duration": 4,
    "start_time": "2025-05-10T19:37:04.178Z"
   },
   {
    "duration": 13,
    "start_time": "2025-05-10T19:37:04.183Z"
   },
   {
    "duration": 39,
    "start_time": "2025-05-10T19:37:04.198Z"
   },
   {
    "duration": 13,
    "start_time": "2025-05-10T19:37:04.239Z"
   },
   {
    "duration": 5,
    "start_time": "2025-05-10T19:37:04.253Z"
   },
   {
    "duration": 17,
    "start_time": "2025-05-10T19:37:04.259Z"
   },
   {
    "duration": 12,
    "start_time": "2025-05-10T19:37:04.278Z"
   },
   {
    "duration": 4,
    "start_time": "2025-05-10T19:37:04.293Z"
   },
   {
    "duration": 1876,
    "start_time": "2025-05-10T19:37:04.299Z"
   },
   {
    "duration": 1587,
    "start_time": "2025-05-10T19:37:06.178Z"
   },
   {
    "duration": 1360,
    "start_time": "2025-05-10T19:37:07.766Z"
   },
   {
    "duration": 1963,
    "start_time": "2025-05-10T19:37:09.130Z"
   },
   {
    "duration": 21,
    "start_time": "2025-05-10T19:37:11.094Z"
   },
   {
    "duration": 27,
    "start_time": "2025-05-10T19:37:11.130Z"
   },
   {
    "duration": 1217,
    "start_time": "2025-05-10T19:37:11.159Z"
   },
   {
    "duration": 400,
    "start_time": "2025-05-10T19:37:12.378Z"
   },
   {
    "duration": 296,
    "start_time": "2025-05-10T19:37:12.781Z"
   },
   {
    "duration": 5,
    "start_time": "2025-05-10T19:37:13.079Z"
   },
   {
    "duration": 102,
    "start_time": "2025-05-10T19:37:13.086Z"
   },
   {
    "duration": 265,
    "start_time": "2025-05-10T19:37:13.190Z"
   },
   {
    "duration": 4,
    "start_time": "2025-05-10T19:37:13.457Z"
   },
   {
    "duration": 97,
    "start_time": "2025-05-10T19:37:13.463Z"
   },
   {
    "duration": 1274,
    "start_time": "2025-05-10T19:37:13.562Z"
   },
   {
    "duration": 4,
    "start_time": "2025-05-10T19:37:14.838Z"
   },
   {
    "duration": 101,
    "start_time": "2025-05-10T19:37:14.844Z"
   },
   {
    "duration": 199,
    "start_time": "2025-05-10T19:37:14.947Z"
   },
   {
    "duration": 4,
    "start_time": "2025-05-10T19:37:15.148Z"
   },
   {
    "duration": 92,
    "start_time": "2025-05-10T19:37:15.154Z"
   },
   {
    "duration": 2,
    "start_time": "2025-05-10T19:37:15.249Z"
   },
   {
    "duration": 3,
    "start_time": "2025-05-10T19:37:15.253Z"
   },
   {
    "duration": 11,
    "start_time": "2025-05-10T19:51:14.341Z"
   },
   {
    "duration": 592,
    "start_time": "2025-05-10T19:53:14.423Z"
   },
   {
    "duration": 12,
    "start_time": "2025-05-10T19:53:43.346Z"
   },
   {
    "duration": 5,
    "start_time": "2025-05-10T19:54:09.702Z"
   },
   {
    "duration": 9,
    "start_time": "2025-05-10T19:54:56.344Z"
   },
   {
    "duration": 9,
    "start_time": "2025-05-10T19:56:52.135Z"
   },
   {
    "duration": 7,
    "start_time": "2025-05-10T19:58:55.009Z"
   },
   {
    "duration": 7,
    "start_time": "2025-05-10T20:00:59.325Z"
   },
   {
    "duration": 7,
    "start_time": "2025-05-10T20:01:29.821Z"
   },
   {
    "duration": 9,
    "start_time": "2025-05-10T20:02:11.945Z"
   },
   {
    "duration": 7,
    "start_time": "2025-05-10T20:02:25.401Z"
   },
   {
    "duration": 8,
    "start_time": "2025-05-10T20:02:33.777Z"
   },
   {
    "duration": 8,
    "start_time": "2025-05-10T20:08:17.700Z"
   },
   {
    "duration": 8,
    "start_time": "2025-05-10T20:10:16.817Z"
   },
   {
    "duration": 4,
    "start_time": "2025-05-10T20:10:37.896Z"
   },
   {
    "duration": 15,
    "start_time": "2025-05-10T20:11:51.175Z"
   },
   {
    "duration": 11,
    "start_time": "2025-05-10T20:12:06.228Z"
   },
   {
    "duration": 13,
    "start_time": "2025-05-10T20:13:23.620Z"
   },
   {
    "duration": 23,
    "start_time": "2025-05-10T20:17:47.403Z"
   },
   {
    "duration": 12,
    "start_time": "2025-05-10T20:18:23.368Z"
   },
   {
    "duration": 8,
    "start_time": "2025-05-10T20:18:40.192Z"
   },
   {
    "duration": 12,
    "start_time": "2025-05-10T20:18:52.903Z"
   },
   {
    "duration": 15,
    "start_time": "2025-05-10T20:19:06.336Z"
   },
   {
    "duration": 7,
    "start_time": "2025-05-10T20:20:55.488Z"
   },
   {
    "duration": 14,
    "start_time": "2025-05-10T20:21:03.045Z"
   },
   {
    "duration": 19,
    "start_time": "2025-05-10T20:23:50.489Z"
   },
   {
    "duration": 20,
    "start_time": "2025-05-10T20:25:09.165Z"
   },
   {
    "duration": 23,
    "start_time": "2025-05-10T20:28:04.802Z"
   },
   {
    "duration": 21,
    "start_time": "2025-05-10T20:28:20.933Z"
   },
   {
    "duration": 23,
    "start_time": "2025-05-10T20:30:46.318Z"
   },
   {
    "duration": 22,
    "start_time": "2025-05-10T20:32:14.797Z"
   },
   {
    "duration": 21,
    "start_time": "2025-05-10T20:32:55.136Z"
   },
   {
    "duration": 15,
    "start_time": "2025-05-10T20:34:32.755Z"
   },
   {
    "duration": 16,
    "start_time": "2025-05-10T20:46:13.503Z"
   },
   {
    "duration": 17,
    "start_time": "2025-05-10T20:57:26.117Z"
   },
   {
    "duration": 20,
    "start_time": "2025-05-10T20:57:46.353Z"
   },
   {
    "duration": 138,
    "start_time": "2025-05-10T21:10:46.484Z"
   },
   {
    "duration": 8,
    "start_time": "2025-05-10T21:17:51.955Z"
   },
   {
    "duration": 184,
    "start_time": "2025-05-10T21:19:24.309Z"
   },
   {
    "duration": 15,
    "start_time": "2025-05-10T21:19:43.223Z"
   },
   {
    "duration": 247,
    "start_time": "2025-05-10T21:20:56.692Z"
   },
   {
    "duration": 16,
    "start_time": "2025-05-10T21:21:10.575Z"
   },
   {
    "duration": 7,
    "start_time": "2025-05-10T21:22:28.820Z"
   },
   {
    "duration": 15,
    "start_time": "2025-05-10T21:22:50.127Z"
   },
   {
    "duration": 842,
    "start_time": "2025-05-10T21:25:46.250Z"
   },
   {
    "duration": 160,
    "start_time": "2025-05-10T21:25:47.094Z"
   },
   {
    "duration": 10,
    "start_time": "2025-05-10T21:25:47.257Z"
   },
   {
    "duration": 6,
    "start_time": "2025-05-10T21:25:47.269Z"
   },
   {
    "duration": 8,
    "start_time": "2025-05-10T21:25:47.277Z"
   },
   {
    "duration": 6,
    "start_time": "2025-05-10T21:25:47.287Z"
   },
   {
    "duration": 10,
    "start_time": "2025-05-10T21:25:47.294Z"
   },
   {
    "duration": 25,
    "start_time": "2025-05-10T21:25:47.306Z"
   },
   {
    "duration": 15,
    "start_time": "2025-05-10T21:25:47.334Z"
   },
   {
    "duration": 16,
    "start_time": "2025-05-10T21:25:47.353Z"
   },
   {
    "duration": 4,
    "start_time": "2025-05-10T21:25:47.371Z"
   },
   {
    "duration": 20,
    "start_time": "2025-05-10T21:25:47.376Z"
   },
   {
    "duration": 64,
    "start_time": "2025-05-10T21:25:47.397Z"
   },
   {
    "duration": 12,
    "start_time": "2025-05-10T21:25:47.463Z"
   },
   {
    "duration": 4,
    "start_time": "2025-05-10T21:25:47.477Z"
   },
   {
    "duration": 14,
    "start_time": "2025-05-10T21:25:47.482Z"
   },
   {
    "duration": 38,
    "start_time": "2025-05-10T21:25:47.497Z"
   },
   {
    "duration": 13,
    "start_time": "2025-05-10T21:25:47.537Z"
   },
   {
    "duration": 5,
    "start_time": "2025-05-10T21:25:47.552Z"
   },
   {
    "duration": 16,
    "start_time": "2025-05-10T21:25:47.563Z"
   },
   {
    "duration": 13,
    "start_time": "2025-05-10T21:25:47.581Z"
   },
   {
    "duration": 4,
    "start_time": "2025-05-10T21:25:47.596Z"
   },
   {
    "duration": 1930,
    "start_time": "2025-05-10T21:25:47.602Z"
   },
   {
    "duration": 1624,
    "start_time": "2025-05-10T21:25:49.534Z"
   },
   {
    "duration": 1386,
    "start_time": "2025-05-10T21:25:51.160Z"
   },
   {
    "duration": 2436,
    "start_time": "2025-05-10T21:25:52.548Z"
   },
   {
    "duration": 915,
    "start_time": "2025-05-10T21:25:54.986Z"
   },
   {
    "duration": 0,
    "start_time": "2025-05-10T21:25:55.904Z"
   },
   {
    "duration": 0,
    "start_time": "2025-05-10T21:25:55.905Z"
   },
   {
    "duration": 0,
    "start_time": "2025-05-10T21:25:55.906Z"
   },
   {
    "duration": 0,
    "start_time": "2025-05-10T21:25:55.907Z"
   },
   {
    "duration": 0,
    "start_time": "2025-05-10T21:25:55.909Z"
   },
   {
    "duration": 0,
    "start_time": "2025-05-10T21:25:55.910Z"
   },
   {
    "duration": 0,
    "start_time": "2025-05-10T21:25:55.911Z"
   },
   {
    "duration": 0,
    "start_time": "2025-05-10T21:25:55.912Z"
   },
   {
    "duration": 0,
    "start_time": "2025-05-10T21:25:55.913Z"
   },
   {
    "duration": 0,
    "start_time": "2025-05-10T21:25:55.914Z"
   },
   {
    "duration": 0,
    "start_time": "2025-05-10T21:25:55.931Z"
   },
   {
    "duration": 0,
    "start_time": "2025-05-10T21:25:55.933Z"
   },
   {
    "duration": 0,
    "start_time": "2025-05-10T21:25:55.934Z"
   },
   {
    "duration": 0,
    "start_time": "2025-05-10T21:25:55.935Z"
   },
   {
    "duration": 0,
    "start_time": "2025-05-10T21:25:55.936Z"
   },
   {
    "duration": 0,
    "start_time": "2025-05-10T21:25:55.938Z"
   },
   {
    "duration": 0,
    "start_time": "2025-05-10T21:25:55.939Z"
   },
   {
    "duration": 20,
    "start_time": "2025-05-10T21:27:46.706Z"
   },
   {
    "duration": 28,
    "start_time": "2025-05-10T21:28:22.347Z"
   },
   {
    "duration": 1488,
    "start_time": "2025-05-10T21:29:47.027Z"
   },
   {
    "duration": 1622,
    "start_time": "2025-05-10T21:31:05.877Z"
   },
   {
    "duration": 5,
    "start_time": "2025-05-10T21:33:18.495Z"
   },
   {
    "duration": 845,
    "start_time": "2025-05-10T21:34:44.660Z"
   },
   {
    "duration": 155,
    "start_time": "2025-05-10T21:34:45.507Z"
   },
   {
    "duration": 9,
    "start_time": "2025-05-10T21:34:45.664Z"
   },
   {
    "duration": 6,
    "start_time": "2025-05-10T21:34:45.675Z"
   },
   {
    "duration": 8,
    "start_time": "2025-05-10T21:34:45.682Z"
   },
   {
    "duration": 4,
    "start_time": "2025-05-10T21:34:45.693Z"
   },
   {
    "duration": 36,
    "start_time": "2025-05-10T21:34:45.699Z"
   },
   {
    "duration": 5,
    "start_time": "2025-05-10T21:34:45.736Z"
   },
   {
    "duration": 12,
    "start_time": "2025-05-10T21:34:45.743Z"
   },
   {
    "duration": 14,
    "start_time": "2025-05-10T21:34:45.758Z"
   },
   {
    "duration": 4,
    "start_time": "2025-05-10T21:34:45.774Z"
   },
   {
    "duration": 20,
    "start_time": "2025-05-10T21:34:45.780Z"
   },
   {
    "duration": 62,
    "start_time": "2025-05-10T21:34:45.801Z"
   },
   {
    "duration": 15,
    "start_time": "2025-05-10T21:34:45.865Z"
   },
   {
    "duration": 6,
    "start_time": "2025-05-10T21:34:45.884Z"
   },
   {
    "duration": 12,
    "start_time": "2025-05-10T21:34:45.893Z"
   },
   {
    "duration": 14,
    "start_time": "2025-05-10T21:34:45.931Z"
   },
   {
    "duration": 14,
    "start_time": "2025-05-10T21:34:45.946Z"
   },
   {
    "duration": 4,
    "start_time": "2025-05-10T21:34:45.961Z"
   },
   {
    "duration": 15,
    "start_time": "2025-05-10T21:34:45.967Z"
   },
   {
    "duration": 13,
    "start_time": "2025-05-10T21:34:45.983Z"
   },
   {
    "duration": 33,
    "start_time": "2025-05-10T21:34:45.997Z"
   },
   {
    "duration": 1903,
    "start_time": "2025-05-10T21:34:46.032Z"
   },
   {
    "duration": 1928,
    "start_time": "2025-05-10T21:34:47.937Z"
   },
   {
    "duration": 1414,
    "start_time": "2025-05-10T21:34:49.867Z"
   },
   {
    "duration": 2005,
    "start_time": "2025-05-10T21:34:51.283Z"
   },
   {
    "duration": 23,
    "start_time": "2025-05-10T21:34:53.290Z"
   },
   {
    "duration": 39,
    "start_time": "2025-05-10T21:34:53.318Z"
   },
   {
    "duration": 1231,
    "start_time": "2025-05-10T21:34:53.358Z"
   },
   {
    "duration": 395,
    "start_time": "2025-05-10T21:34:54.590Z"
   },
   {
    "duration": 302,
    "start_time": "2025-05-10T21:34:54.987Z"
   },
   {
    "duration": 4,
    "start_time": "2025-05-10T21:34:55.291Z"
   },
   {
    "duration": 106,
    "start_time": "2025-05-10T21:34:55.297Z"
   },
   {
    "duration": 264,
    "start_time": "2025-05-10T21:34:55.404Z"
   },
   {
    "duration": 4,
    "start_time": "2025-05-10T21:34:55.670Z"
   },
   {
    "duration": 14,
    "start_time": "2025-05-10T21:34:55.676Z"
   },
   {
    "duration": 1330,
    "start_time": "2025-05-10T21:34:55.693Z"
   },
   {
    "duration": 9,
    "start_time": "2025-05-10T21:34:57.024Z"
   },
   {
    "duration": 98,
    "start_time": "2025-05-10T21:34:57.034Z"
   },
   {
    "duration": 200,
    "start_time": "2025-05-10T21:34:57.134Z"
   },
   {
    "duration": 4,
    "start_time": "2025-05-10T21:34:57.336Z"
   },
   {
    "duration": 92,
    "start_time": "2025-05-10T21:34:57.342Z"
   },
   {
    "duration": 8,
    "start_time": "2025-05-10T21:34:57.436Z"
   },
   {
    "duration": 15,
    "start_time": "2025-05-10T21:34:57.445Z"
   },
   {
    "duration": 10,
    "start_time": "2025-05-10T21:36:35.504Z"
   },
   {
    "duration": 10,
    "start_time": "2025-05-10T21:36:48.264Z"
   },
   {
    "duration": 19,
    "start_time": "2025-05-10T21:38:53.432Z"
   },
   {
    "duration": 98,
    "start_time": "2025-05-10T21:40:24.011Z"
   },
   {
    "duration": 162,
    "start_time": "2025-05-10T21:42:07.187Z"
   },
   {
    "duration": 97,
    "start_time": "2025-05-10T21:42:34.379Z"
   },
   {
    "duration": 104,
    "start_time": "2025-05-10T21:45:00.177Z"
   },
   {
    "duration": 119,
    "start_time": "2025-05-10T21:46:14.911Z"
   },
   {
    "duration": 96,
    "start_time": "2025-05-10T21:48:12.261Z"
   },
   {
    "duration": 88,
    "start_time": "2025-05-10T21:50:26.825Z"
   },
   {
    "duration": 94,
    "start_time": "2025-05-10T21:51:02.952Z"
   },
   {
    "duration": 24,
    "start_time": "2025-05-10T22:28:04.927Z"
   }
  ],
  "colab": {
   "provenance": []
  },
  "kernelspec": {
   "display_name": "Python 3 (ipykernel)",
   "language": "python",
   "name": "python3"
  },
  "language_info": {
   "codemirror_mode": {
    "name": "ipython",
    "version": 3
   },
   "file_extension": ".py",
   "mimetype": "text/x-python",
   "name": "python",
   "nbconvert_exporter": "python",
   "pygments_lexer": "ipython3",
   "version": "3.9.19"
  },
  "toc": {
   "base_numbering": 1,
   "nav_menu": {},
   "number_sections": true,
   "sideBar": true,
   "skip_h1_title": false,
   "title_cell": "Table of Contents",
   "title_sidebar": "Contents",
   "toc_cell": false,
   "toc_position": {
    "height": "calc(100% - 180px)",
    "left": "10px",
    "top": "150px",
    "width": "270px"
   },
   "toc_section_display": true,
   "toc_window_display": true
  }
 },
 "nbformat": 4,
 "nbformat_minor": 1
}
