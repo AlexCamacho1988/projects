{
 "cells": [
  {
   "cell_type": "markdown",
   "metadata": {},
   "source": [
    "Hola **Alejandro**!\n",
    "\n",
    "Soy **Patricio Requena** 👋. Es un placer ser el revisor de tu proyecto el día de hoy!\n",
    "\n",
    "Revisaré tu proyecto detenidamente con el objetivo de ayudarte a mejorar y perfeccionar tus habilidades. Durante mi revisión, identificaré áreas donde puedas hacer mejoras en tu código, señalando específicamente qué y cómo podrías ajustar para optimizar el rendimiento y la claridad de tu proyecto. Además, es importante para mí destacar los aspectos que has manejado excepcionalmente bien. Reconocer tus fortalezas te ayudará a entender qué técnicas y métodos están funcionando a tu favor y cómo puedes aplicarlos en futuras tareas. \n",
    "\n",
    "_**Recuerda que al final de este notebook encontrarás un comentario general de mi parte**_, empecemos!\n",
    "\n",
    "Encontrarás mis comentarios dentro de cajas verdes, amarillas o rojas, ⚠️ **por favor, no muevas, modifiques o borres mis comentarios** ⚠️:\n",
    "\n",
    "\n",
    "<div class=\"alert alert-block alert-success\">\n",
    "<b>Comentario del revisor</b> <a class=“tocSkip”></a>\n",
    "Si todo está perfecto.\n",
    "</div>\n",
    "\n",
    "<div class=\"alert alert-block alert-warning\">\n",
    "<b>Comentario del revisor</b> <a class=“tocSkip”></a>\n",
    "Si tu código está bien pero se puede mejorar o hay algún detalle que le hace falta.\n",
    "</div>\n",
    "\n",
    "<div class=\"alert alert-block alert-danger\">\n",
    "<b>Comentario del revisor</b> <a class=“tocSkip”></a>\n",
    "Si de pronto hace falta algo o existe algún problema con tu código o conclusiones.\n",
    "</div>\n",
    "\n",
    "Puedes responderme de esta forma:\n",
    "<div class=\"alert alert-block alert-info\">\n",
    "<b>Respuesta del estudiante</b> <a class=“tocSkip”></a>\n",
    "</div>\n"
   ]
  },
  {
   "cell_type": "markdown",
   "metadata": {},
   "source": [
    "<div class=\"alert alert-block alert-warning\">\n",
    "<b>Comentario del revisor (1ra Iteracion)</b> <a class=“tocSkip”></a>\n",
    "\n",
    "**Tip**: Para darle una mejor presentación al notebook puedes redactar un título más descriptivo hacia el objetivo del proyecto y una breve introducción del mismo para que sea claro desde un inicio que se realizará y por qué\n",
    "</div>"
   ]
  },
  {
   "cell_type": "markdown",
   "metadata": {},
   "source": [
    "## Proyecto Sprint 11"
   ]
  },
  {
   "cell_type": "markdown",
   "metadata": {},
   "source": [
    "Como analistas de datos, necesitamos entender si las estrategias llevadas a cabo por alguna empresa, compañía o grupo ha surtido efecto para alcanzar sus objetivos y confirmar si se ha tenido el éxito esperado. El presente documento tiene como objetivo demostrar si una empresa ha logrado con sus estrategias influir en sus clientes para poder realizar más compras por medio de una página web utilizando el análisis de eventos y el embudo de ventas. Se estudiará el comportamiento de varios clientes asignados en grupos y probaremos hipótesis sobre los cambios en sus comportamientos para llegar a la conclusión de si las estrategias llevadas a cabo por la empresa han sido satisfactorias."
   ]
  },
  {
   "cell_type": "markdown",
   "metadata": {},
   "source": [
    "## Lectura de datos ## "
   ]
  },
  {
   "cell_type": "code",
   "execution_count": 38,
   "metadata": {},
   "outputs": [
    {
     "name": "stdout",
     "output_type": "stream",
     "text": [
      "                      EventName         DeviceIDHash  EventTimestamp  ExpId\n",
      "0              MainScreenAppear  4575588528974610257      1564029816    246\n",
      "1              MainScreenAppear  7416695313311560658      1564053102    246\n",
      "2       PaymentScreenSuccessful  3518123091307005509      1564054127    248\n",
      "3              CartScreenAppear  3518123091307005509      1564054127    248\n",
      "4       PaymentScreenSuccessful  6217807653094995999      1564055322    248\n",
      "...                         ...                  ...             ...    ...\n",
      "244121         MainScreenAppear  4599628364049201812      1565212345    247\n",
      "244122         MainScreenAppear  5849806612437486590      1565212439    246\n",
      "244123         MainScreenAppear  5746969938801999050      1565212483    246\n",
      "244124         MainScreenAppear  5746969938801999050      1565212498    246\n",
      "244125       OffersScreenAppear  5746969938801999050      1565212517    246\n",
      "\n",
      "[244126 rows x 4 columns]\n"
     ]
    }
   ],
   "source": [
    "import pandas as pd\n",
    "from scipy import stats as st\n",
    "import datetime as dt\n",
    "import numpy as np\n",
    "from matplotlib import pyplot as plt\n",
    "from datetime import datetime\n",
    "import seaborn as sns\n",
    "import math as mth\n",
    "\n",
    "\n",
    "\n",
    "log = pd.read_csv('/datasets/logs_exp_us.csv', sep = '\\t')\n",
    "\n",
    "print(log)\n",
    "\n"
   ]
  },
  {
   "cell_type": "code",
   "execution_count": 2,
   "metadata": {},
   "outputs": [
    {
     "name": "stdout",
     "output_type": "stream",
     "text": [
      "                          event             deviceId           eventtime  \\\n",
      "0              MainScreenAppear  4575588528974610257 2019-07-25 04:43:36   \n",
      "1              MainScreenAppear  7416695313311560658 2019-07-25 11:11:42   \n",
      "2       PaymentScreenSuccessful  3518123091307005509 2019-07-25 11:28:47   \n",
      "3              CartScreenAppear  3518123091307005509 2019-07-25 11:28:47   \n",
      "4       PaymentScreenSuccessful  6217807653094995999 2019-07-25 11:48:42   \n",
      "...                         ...                  ...                 ...   \n",
      "244121         MainScreenAppear  4599628364049201812 2019-08-07 21:12:25   \n",
      "244122         MainScreenAppear  5849806612437486590 2019-08-07 21:13:59   \n",
      "244123         MainScreenAppear  5746969938801999050 2019-08-07 21:14:43   \n",
      "244124         MainScreenAppear  5746969938801999050 2019-08-07 21:14:58   \n",
      "244125       OffersScreenAppear  5746969938801999050 2019-08-07 21:15:17   \n",
      "\n",
      "        group  \n",
      "0         246  \n",
      "1         246  \n",
      "2         248  \n",
      "3         248  \n",
      "4         248  \n",
      "...       ...  \n",
      "244121    247  \n",
      "244122    246  \n",
      "244123    246  \n",
      "244124    246  \n",
      "244125    246  \n",
      "\n",
      "[244126 rows x 4 columns]\n",
      "<class 'pandas.core.frame.DataFrame'>\n",
      "RangeIndex: 244126 entries, 0 to 244125\n",
      "Data columns (total 4 columns):\n",
      " #   Column     Non-Null Count   Dtype         \n",
      "---  ------     --------------   -----         \n",
      " 0   event      244126 non-null  object        \n",
      " 1   deviceId   244126 non-null  int64         \n",
      " 2   eventtime  244126 non-null  datetime64[ns]\n",
      " 3   group      244126 non-null  int64         \n",
      "dtypes: datetime64[ns](1), int64(2), object(1)\n",
      "memory usage: 7.5+ MB\n",
      "None\n"
     ]
    }
   ],
   "source": [
    "# Cambio los nombres de las columnas\n",
    "log.columns = ['event', 'deviceId', 'eventtime', 'group']\n",
    "\n",
    "# convierto la columna de 'eventtime' a formato datetime\n",
    "log['eventtime'] = log['eventtime'].map(lambda x: datetime.utcfromtimestamp(x))\n",
    "print(log)\n",
    "print(log.info())"
   ]
  },
  {
   "cell_type": "code",
   "execution_count": 3,
   "metadata": {},
   "outputs": [
    {
     "name": "stdout",
     "output_type": "stream",
     "text": [
      "<class 'pandas.core.frame.DataFrame'>\n",
      "RangeIndex: 244126 entries, 0 to 244125\n",
      "Data columns (total 5 columns):\n",
      " #   Column     Non-Null Count   Dtype         \n",
      "---  ------     --------------   -----         \n",
      " 0   event      244126 non-null  object        \n",
      " 1   deviceId   244126 non-null  int64         \n",
      " 2   eventtime  244126 non-null  datetime64[ns]\n",
      " 3   group      244126 non-null  int64         \n",
      " 4   date       244126 non-null  object        \n",
      "dtypes: datetime64[ns](1), int64(2), object(2)\n",
      "memory usage: 9.3+ MB\n",
      "None\n"
     ]
    }
   ],
   "source": [
    "log['date'] = log['eventtime'].dt.date\n",
    "print(log.info())"
   ]
  },
  {
   "cell_type": "markdown",
   "metadata": {},
   "source": [
    "<div class=\"alert alert-block alert-success\">\n",
    "<b>Comentario del revisor (1ra Iteracion)</b> <a class=“tocSkip”></a>\n",
    "\n",
    "Muy bien hecha la revisión inicial de los datos para tu análisis, siempre es importante revisar la calidad de tus datos y realizar las transformaciones necesarias \n",
    "</div>"
   ]
  },
  {
   "cell_type": "markdown",
   "metadata": {},
   "source": [
    "### Cuántos eventos hay en los registros? ###"
   ]
  },
  {
   "cell_type": "code",
   "execution_count": 4,
   "metadata": {},
   "outputs": [
    {
     "name": "stdout",
     "output_type": "stream",
     "text": [
      "244126\n",
      "                          event             deviceId           eventtime  \\\n",
      "0              MainScreenAppear  4575588528974610257 2019-07-25 04:43:36   \n",
      "1              MainScreenAppear  7416695313311560658 2019-07-25 11:11:42   \n",
      "2       PaymentScreenSuccessful  3518123091307005509 2019-07-25 11:28:47   \n",
      "3              CartScreenAppear  3518123091307005509 2019-07-25 11:28:47   \n",
      "4       PaymentScreenSuccessful  6217807653094995999 2019-07-25 11:48:42   \n",
      "...                         ...                  ...                 ...   \n",
      "244121         MainScreenAppear  4599628364049201812 2019-08-07 21:12:25   \n",
      "244122         MainScreenAppear  5849806612437486590 2019-08-07 21:13:59   \n",
      "244123         MainScreenAppear  5746969938801999050 2019-08-07 21:14:43   \n",
      "244124         MainScreenAppear  5746969938801999050 2019-08-07 21:14:58   \n",
      "244125       OffersScreenAppear  5746969938801999050 2019-08-07 21:15:17   \n",
      "\n",
      "        group        date  \n",
      "0         246  2019-07-25  \n",
      "1         246  2019-07-25  \n",
      "2         248  2019-07-25  \n",
      "3         248  2019-07-25  \n",
      "4         248  2019-07-25  \n",
      "...       ...         ...  \n",
      "244121    247  2019-08-07  \n",
      "244122    246  2019-08-07  \n",
      "244123    246  2019-08-07  \n",
      "244124    246  2019-08-07  \n",
      "244125    246  2019-08-07  \n",
      "\n",
      "[244126 rows x 5 columns]\n"
     ]
    }
   ],
   "source": [
    "number_events = log['event'].count()\n",
    "print(number_events)\n",
    "print(log)"
   ]
  },
  {
   "cell_type": "markdown",
   "metadata": {},
   "source": [
    "Hay 4 eventos diferentes en el registro, sumando un total de 244126 eventos ocurridos entre esos 4."
   ]
  },
  {
   "cell_type": "markdown",
   "metadata": {},
   "source": [
    "### Cuántos usuarios hay en los registros? ###"
   ]
  },
  {
   "cell_type": "code",
   "execution_count": 5,
   "metadata": {},
   "outputs": [
    {
     "name": "stdout",
     "output_type": "stream",
     "text": [
      "La cantidad total de usuarios es de 7551\n"
     ]
    }
   ],
   "source": [
    "total_users = log['deviceId'].nunique()\n",
    "print('La cantidad total de usuarios es de', total_users)"
   ]
  },
  {
   "cell_type": "markdown",
   "metadata": {},
   "source": [
    "### Cuál es el promedio de eventos por usuario? ###"
   ]
  },
  {
   "cell_type": "code",
   "execution_count": 27,
   "metadata": {},
   "outputs": [
    {
     "name": "stdout",
     "output_type": "stream",
     "text": [
      "El promedio de eventos en general por usuario es de 32\n",
      "El promedio de eventos por usuario del grupo 246 es de 32\n",
      "El promedio de eventos por usuario del grupo 247 es de 31\n",
      "El promedio de eventos por usuario del grupo 248 es de 34\n"
     ]
    }
   ],
   "source": [
    "avg_events = round(number_events / total_users)\n",
    "print('El promedio de eventos en general por usuario es de', avg_events)\n",
    "\n",
    "total_users_246 = log[log['group'] == 246]['deviceId'].nunique()\n",
    "total_users_247 = log[log['group'] == 247]['deviceId'].nunique()\n",
    "total_users_248 = log[log['group'] == 248]['deviceId'].nunique()\n",
    "\n",
    "number_events_246 = log[log['group'] == 246]['event'].count()\n",
    "number_events_247 = log[log['group'] == 247]['event'].count()\n",
    "number_events_248 = log[log['group'] == 248]['event'].count()\n",
    "\n",
    "avg_events_246 = round(number_events_246 / total_users_246)\n",
    "avg_events_247 = round(number_events_247 / total_users_247)\n",
    "avg_events_248 = round(number_events_248 / total_users_248)\n",
    "\n",
    "print('El promedio de eventos por usuario del grupo 246 es de', avg_events_246)\n",
    "print('El promedio de eventos por usuario del grupo 247 es de', avg_events_247)\n",
    "print('El promedio de eventos por usuario del grupo 248 es de', avg_events_248)\n",
    "\n"
   ]
  },
  {
   "cell_type": "markdown",
   "metadata": {},
   "source": [
    "<div class=\"alert alert-block alert-warning\">\n",
    "<b>Comentario del revisor (1ra Iteracion)</b> <a class=“tocSkip”></a>\n",
    "\n",
    "Correcto, aquí cómo recomendación para que le des un plus a tu análisis, es que este tipo de métricas cómo la del promedio de eventos de abajo las calcules por cada grupo cuando se trate de pruebas AB ya que así se puede ir viendo las diferencias desde el inicio.\n",
    "</div>"
   ]
  },
  {
   "cell_type": "markdown",
   "metadata": {},
   "source": [
    "### Qué período de tiempo cubren los datos? ###"
   ]
  },
  {
   "cell_type": "code",
   "execution_count": 7,
   "metadata": {},
   "outputs": [
    {
     "name": "stdout",
     "output_type": "stream",
     "text": [
      "La fecha máxima de los registros es 2019-08-07 21:15:17\n",
      "La fecha mínima de los registros es 2019-07-25 04:43:36\n"
     ]
    }
   ],
   "source": [
    "max_date = log['eventtime'].max()\n",
    "min_date = log['eventtime'].min()\n",
    "\n",
    "print('La fecha máxima de los registros es', max_date)\n",
    "print('La fecha mínima de los registros es', min_date)"
   ]
  },
  {
   "cell_type": "code",
   "execution_count": 8,
   "metadata": {},
   "outputs": [
    {
     "data": {
      "text/plain": [
       "(array([18102., 18104., 18106., 18108., 18109., 18111., 18113., 18115.]),\n",
       " [Text(0, 0, ''),\n",
       "  Text(0, 0, ''),\n",
       "  Text(0, 0, ''),\n",
       "  Text(0, 0, ''),\n",
       "  Text(0, 0, ''),\n",
       "  Text(0, 0, ''),\n",
       "  Text(0, 0, ''),\n",
       "  Text(0, 0, '')])"
      ]
     },
     "execution_count": 8,
     "metadata": {},
     "output_type": "execute_result"
    },
    {
     "data": {
      "image/png": "[encoded data removed]",
      "text/plain": [
       "<Figure size 640x480 with 1 Axes>"
      ]
     },
     "metadata": {},
     "output_type": "display_data"
    }
   ],
   "source": [
    "sns.histplot(log['eventtime'], bins=100)\n",
    "plt.title('Eventos por fecha')\n",
    "plt.xticks(rotation=45)"
   ]
  },
  {
   "cell_type": "code",
   "execution_count": 9,
   "metadata": {},
   "outputs": [
    {
     "name": "stdout",
     "output_type": "stream",
     "text": [
      "                     event             deviceId           eventtime  group  \\\n",
      "2828              Tutorial  3737462046622621720 2019-08-01 00:07:28    246   \n",
      "2829      MainScreenAppear  3737462046622621720 2019-08-01 00:08:00    246   \n",
      "2830      MainScreenAppear  3737462046622621720 2019-08-01 00:08:55    246   \n",
      "2831    OffersScreenAppear  3737462046622621720 2019-08-01 00:08:58    246   \n",
      "2832      MainScreenAppear  1433840883824088890 2019-08-01 00:08:59    247   \n",
      "...                    ...                  ...                 ...    ...   \n",
      "244121    MainScreenAppear  4599628364049201812 2019-08-07 21:12:25    247   \n",
      "244122    MainScreenAppear  5849806612437486590 2019-08-07 21:13:59    246   \n",
      "244123    MainScreenAppear  5746969938801999050 2019-08-07 21:14:43    246   \n",
      "244124    MainScreenAppear  5746969938801999050 2019-08-07 21:14:58    246   \n",
      "244125  OffersScreenAppear  5746969938801999050 2019-08-07 21:15:17    246   \n",
      "\n",
      "              date  \n",
      "2828    2019-08-01  \n",
      "2829    2019-08-01  \n",
      "2830    2019-08-01  \n",
      "2831    2019-08-01  \n",
      "2832    2019-08-01  \n",
      "...            ...  \n",
      "244121  2019-08-07  \n",
      "244122  2019-08-07  \n",
      "244123  2019-08-07  \n",
      "244124  2019-08-07  \n",
      "244125  2019-08-07  \n",
      "\n",
      "[241298 rows x 5 columns]\n"
     ]
    }
   ],
   "source": [
    "cleaned_log = log[log['eventtime'] > '2019-08-01']\n",
    "print(cleaned_log)"
   ]
  },
  {
   "cell_type": "markdown",
   "metadata": {},
   "source": [
    "<div class=\"alert alert-block alert-success\">\n",
    "<b>Comentario del revisor (1ra Iteracion)</b> <a class=“tocSkip”></a>\n",
    "\n",
    "Buen trabajo con el filtro aplicado! De esta forma las muestras que quedan son más consistentes y se evita incluir datos de fechas que puedan incluir \"ruido\" al análisis cómo tal.\n",
    "</div>"
   ]
  },
  {
   "cell_type": "markdown",
   "metadata": {},
   "source": [
    "De acuerdo al histograma, podemos observar que la mayor cantidad de eventos ocurren a partir del 1 de Agosto de 2019, que sería la segunda semana del total de registros que fueron del 25 de Julio al 7 de Agosto del 2019. Al excluir los eventos antes de la fecha del 1 de Agosto, solo perderemos 2828 registros, lo que representa menos del 1.2% del total de los registros "
   ]
  },
  {
   "cell_type": "markdown",
   "metadata": {},
   "source": [
    "## Estudiar el embudo de eventos ##"
   ]
  },
  {
   "cell_type": "markdown",
   "metadata": {},
   "source": [
    "### Frecuencia de eventos ### "
   ]
  },
  {
   "cell_type": "code",
   "execution_count": 10,
   "metadata": {},
   "outputs": [
    {
     "name": "stdout",
     "output_type": "stream",
     "text": [
      "                     event  deviceId  eventtime   group    date\n",
      "1         MainScreenAppear    117431     117431  117431  117431\n",
      "2       OffersScreenAppear     46350      46350   46350   46350\n",
      "0         CartScreenAppear     42365      42365   42365   42365\n",
      "3  PaymentScreenSuccessful     34113      34113   34113   34113\n",
      "4                 Tutorial      1039       1039    1039    1039\n"
     ]
    },
    {
     "data": {
      "image/png": "[encoded data removed]",
      "text/plain": [
       "<Figure size 640x480 with 1 Axes>"
      ]
     },
     "metadata": {},
     "output_type": "display_data"
    }
   ],
   "source": [
    "freq_events = cleaned_log.groupby('event', as_index = False).count().sort_values(by = 'deviceId', ascending = False)\n",
    "\n",
    "plt.bar(freq_events['event'], freq_events['deviceId'], label='Sucesos')\n",
    "\n",
    "plt.legend()\n",
    "plt.xticks(rotation=90)\n",
    "plt.title('Frecuencia de eventos')\n",
    "plt.ylabel('Frecuencia')\n",
    "plt.xlabel('Events')\n",
    "\n",
    "print(freq_events)"
   ]
  },
  {
   "cell_type": "markdown",
   "metadata": {},
   "source": [
    "El evento MainScreenAppear (Aparición de la pantalla principal) es el evento que más veces sucedió, lo que es lógico ya que generalmente cualquier página de internet tiene la página principal y la mayoría de las personas empiezan a hacer sus compras ingresando primero a esa página. Casos muy raros serían que una persona tenga guradado el URL de un producto de cierta marca que se venda en esa página y sea la que accede desde el inicio, por lo que es de esperarse que la página principal sea la que más sucesos tuvo."
   ]
  },
  {
   "cell_type": "markdown",
   "metadata": {},
   "source": [
    "### Usuarios por evento ###"
   ]
  },
  {
   "cell_type": "code",
   "execution_count": 101,
   "metadata": {},
   "outputs": [
    {
     "name": "stdout",
     "output_type": "stream",
     "text": [
      "*****Usuarios por evento en general*****\n",
      "                     event  deviceId      ratio\n",
      "1         MainScreenAppear      7419  36.864596\n",
      "2       OffersScreenAppear      4593  22.822360\n",
      "0         CartScreenAppear      3734  18.554037\n",
      "3  PaymentScreenSuccessful      3539  17.585093\n",
      "4                 Tutorial       840   4.173913\n",
      "\n",
      "*****Usuarios por evento grupo 246*****\n",
      "                     event  deviceId      ratio\n",
      "1         MainScreenAppear      2450  36.371734\n",
      "2       OffersScreenAppear      1542  22.891924\n",
      "0         CartScreenAppear      1266  18.794537\n",
      "3  PaymentScreenSuccessful      1200  17.814727\n",
      "4                 Tutorial       278   4.127078\n",
      "\n",
      "*****Usuarios por evento grupo 247*****\n",
      "                     event  deviceId      ratio\n",
      "1         MainScreenAppear      2476  37.093633\n",
      "2       OffersScreenAppear      1520  22.771536\n",
      "0         CartScreenAppear      1238  18.546816\n",
      "3  PaymentScreenSuccessful      1158  17.348315\n",
      "4                 Tutorial       283   4.239700\n",
      "\n",
      "*****Usuarios por evento grupo 248*****\n",
      "                     event  deviceId      ratio\n",
      "1         MainScreenAppear      2493  37.131367\n",
      "2       OffersScreenAppear      1531  22.803098\n",
      "0         CartScreenAppear      1230  18.319929\n",
      "3  PaymentScreenSuccessful      1181  17.590110\n",
      "4                 Tutorial       279   4.155496\n"
     ]
    },
    {
     "data": {
      "image/png": "[encoded data removed]",
      "text/plain": [
       "<Figure size 1000x900 with 4 Axes>"
      ]
     },
     "metadata": {},
     "output_type": "display_data"
    }
   ],
   "source": [
    "#users_per_event = cleaned_log.groupby(['deviceId', 'event']).count().reset_index()\n",
    "users_per_event = cleaned_log.groupby(['event'], as_index = False).agg({'deviceId' : 'nunique'}).sort_values(by = 'deviceId', ascending = False)\n",
    "unique_total_users = sum(users_per_event['deviceId'])\n",
    "users_per_event['ratio'] = (users_per_event['deviceId'] / unique_total_users) * 100\n",
    "\n",
    "print('*****Usuarios por evento en general*****')\n",
    "print(users_per_event)\n",
    "#-----------------------------------------------------------------------\n",
    "cleaned_log_246 = cleaned_log[cleaned_log['group'] == 246]\n",
    "users_per_event_246 = cleaned_log_246.groupby(['event'], as_index = False).agg({'deviceId' : 'nunique'}).sort_values(by = 'deviceId', ascending = False)\n",
    "unique_total_users_246 = sum(users_per_event_246['deviceId'])\n",
    "users_per_event_246['ratio'] = (users_per_event_246['deviceId'] / unique_total_users_246) * 100\n",
    "\n",
    "\n",
    "cleaned_log_247 = cleaned_log[cleaned_log['group'] == 247]\n",
    "users_per_event_247 = cleaned_log_247.groupby(['event'], as_index = False).agg({'deviceId' : 'nunique'}).sort_values(by = 'deviceId', ascending = False)\n",
    "unique_total_users_247 = sum(users_per_event_247['deviceId'])\n",
    "users_per_event_247['ratio'] = (users_per_event_247['deviceId'] / unique_total_users_247) * 100\n",
    "\n",
    "cleaned_log_248 = cleaned_log[cleaned_log['group'] == 248]\n",
    "users_per_event_248 = cleaned_log_248.groupby(['event'], as_index = False).agg({'deviceId' : 'nunique'}).sort_values(by = 'deviceId', ascending = False)\n",
    "unique_total_users_248 = sum(users_per_event_248['deviceId'])\n",
    "users_per_event_248['ratio'] = (users_per_event_248['deviceId'] / unique_total_users_248) * 100\n",
    "print()\n",
    "print('*****Usuarios por evento grupo 246*****')\n",
    "print(users_per_event_246)\n",
    "print()\n",
    "print('*****Usuarios por evento grupo 247*****')\n",
    "print(users_per_event_247)\n",
    "print()\n",
    "print('*****Usuarios por evento grupo 248*****')\n",
    "print(users_per_event_248)\n",
    "\n",
    "fig, axs = plt.subplots(2, 2, figsize = (10,9))\n",
    "axs[0,0].bar(users_per_event['event'],users_per_event['ratio'])\n",
    "axs[0,0].set_title('Grupo General', fontsize=10)\n",
    "axs[0,0].set_ylabel('Porcentaje', fontsize=8)\n",
    "axs[0,0].tick_params(labelrotation=90)\n",
    "\n",
    "axs[0,1].bar(users_per_event_246['event'],users_per_event_246['ratio'])\n",
    "axs[0,1].set_title('Grupo 246', fontsize=10)\n",
    "axs[0,1].set_ylabel('Porcentaje', fontsize=8)\n",
    "axs[0,1].tick_params(labelrotation=90)\n",
    "\n",
    "\n",
    "axs[1,0].bar(users_per_event_247['event'],users_per_event_247['ratio'])\n",
    "axs[1,0].set_title('Grupo 247', fontsize=10)\n",
    "axs[1,0].set_ylabel('Porcentaje', fontsize=8)\n",
    "axs[1,0].tick_params(labelrotation=90)\n",
    "\n",
    "\n",
    "axs[1,1].bar(users_per_event_248['event'],users_per_event_248['ratio'])\n",
    "axs[1,1].set_title('Grupo 248', fontsize=10)\n",
    "axs[1,1].set_ylabel('Porcentaje', fontsize=8)\n",
    "axs[1,1].tick_params(labelrotation=90)\n",
    "\n",
    "fig.subplots_adjust(wspace=0.5, hspace=1)\n",
    "plt.suptitle(\"Usuarios únicos que realizaron evento\")\n",
    "plt.show()\n"
   ]
  },
  {
   "cell_type": "markdown",
   "metadata": {},
   "source": [
    "Igualmente como el gráfico anterior, la aparición de la pantalla principal fue el evento que más veces ocurrió, sin embargo, la proporción es menor en comparación con el gráfico de frecuencia anterior, ya que aquí tomamos en cuenta solamente 1 evento por usuario, lo que nos indica que puede haber usuarios que ingresan a la página repetidamente pero no realizan otros eventos. Este supuesto ocurre en prácticamente todos los grupos de la base de datos."
   ]
  },
  {
   "cell_type": "markdown",
   "metadata": {},
   "source": [
    "<div class=\"alert alert-block alert-warning\">\n",
    "<b>Comentario del revisor (1ra Iteracion)</b> <a class=“tocSkip”></a>\n",
    "\n",
    "Muy bien hecho los cálculos de las conversiones! Al tratarse de una prueba AB puedes dejar el análisis por cada grupo y dejarlo en una visualización para que la comparación sea más visual, pero en si el cálculo fue el correcto!\n",
    "</div>"
   ]
  },
  {
   "cell_type": "markdown",
   "metadata": {},
   "source": [
    "### En qué orden ocurrieron las secuencias? Son partes de una sola secuencia? ###"
   ]
  },
  {
   "cell_type": "code",
   "execution_count": 12,
   "metadata": {},
   "outputs": [
    {
     "name": "stdout",
     "output_type": "stream",
     "text": [
      "                                           eventtime  group  date\n",
      "deviceId          event                                          \n",
      "6888746892508752  MainScreenAppear                 1      1     1\n",
      "6909561520679493  CartScreenAppear                 1      1     1\n",
      "                  MainScreenAppear                 2      2     2\n",
      "                  OffersScreenAppear               1      1     1\n",
      "                  PaymentScreenSuccessful          1      1     1\n",
      "6922444491712477  CartScreenAppear                 8      8     8\n",
      "                  MainScreenAppear                19     19    19\n",
      "                  OffersScreenAppear              12     12    12\n",
      "                  PaymentScreenSuccessful          8      8     8\n",
      "7435777799948366  MainScreenAppear                 6      6     6\n",
      "7702139951469979  CartScreenAppear                 5      5     5\n",
      "                  MainScreenAppear                40     40    40\n",
      "                  OffersScreenAppear              87     87    87\n",
      "                  PaymentScreenSuccessful          5      5     5\n",
      "8486814028069281  CartScreenAppear                 4      4     4\n",
      "                  MainScreenAppear                 4      4     4\n",
      "                  OffersScreenAppear               2      2     2\n",
      "8740973466195562  MainScreenAppear                 8      8     8\n",
      "                  OffersScreenAppear               1      1     1\n",
      "9841258664663090  CartScreenAppear                 8      8     8\n",
      "                  MainScreenAppear                10     10    10\n",
      "                  OffersScreenAppear               8      8     8\n",
      "                  PaymentScreenSuccessful          2      2     2\n",
      "                  Tutorial                         1      1     1\n",
      "12692216027168046 MainScreenAppear                 7      7     7\n",
      "                  OffersScreenAppear               3      3     3\n",
      "15708180189885246 CartScreenAppear                38     38    38\n",
      "                  MainScreenAppear                27     27    27\n",
      "                  OffersScreenAppear              38     38    38\n",
      "                  PaymentScreenSuccessful         23     23    23\n",
      "18658818197810381 CartScreenAppear                 7      7     7\n",
      "                  MainScreenAppear                 3      3     3\n",
      "                  OffersScreenAppear              63     63    63\n",
      "                  PaymentScreenSuccessful          6      6     6\n",
      "20449203507642281 MainScreenAppear                13     13    13\n",
      "20795828045873027 CartScreenAppear                 3      3     3\n",
      "                  MainScreenAppear                 3      3     3\n",
      "                  OffersScreenAppear               3      3     3\n",
      "                  PaymentScreenSuccessful          3      3     3\n",
      "24144092107925848 MainScreenAppear                25     25    25\n"
     ]
    }
   ],
   "source": [
    "users_per_event2 = cleaned_log.groupby(['deviceId', 'event']).count().sort_values(by = ['deviceId', 'event'])\n",
    "print(users_per_event2.head(40))"
   ]
  },
  {
   "cell_type": "markdown",
   "metadata": {},
   "source": [
    "Viendo los datos de la tabla, observamos que no hay una secuencia lógica en cuanto a los eventos, ya que hay usuarios que tienen más eventos en el paso 2 en vez de el paso 1, como en el usuario 15708180189885246, que tuvo más eventos de la aparición del carrito de compras que de la página principal."
   ]
  },
  {
   "cell_type": "markdown",
   "metadata": {},
   "source": [
    "### Encuentra la proporción de usuarios que pasan de una etapa a la siguiente ###"
   ]
  },
  {
   "cell_type": "code",
   "execution_count": 13,
   "metadata": {},
   "outputs": [
    {
     "name": "stdout",
     "output_type": "stream",
     "text": [
      "                     event  deviceId      ratio  next_stage_ratio\n",
      "1         MainScreenAppear      7419  36.864596               NaN\n",
      "2       OffersScreenAppear      4593  22.822360             61.91\n",
      "0         CartScreenAppear      3734  18.554037             81.30\n",
      "3  PaymentScreenSuccessful      3539  17.585093             94.78\n",
      "4                 Tutorial       840   4.173913             23.74\n",
      "El porcentaje de usuarios que hacen un pago desde su primer evento es de 47.7\n"
     ]
    },
    {
     "data": {
      "image/png": "[encoded data removed]",
      "text/plain": [
       "<Figure size 640x480 with 1 Axes>"
      ]
     },
     "metadata": {},
     "output_type": "display_data"
    }
   ],
   "source": [
    "\n",
    "prev_value = users_per_event['deviceId'].shift(1)\n",
    "users_per_event['next_stage_ratio'] = round((users_per_event['deviceId'] / prev_value)*100, 2)\n",
    "print(users_per_event)\n",
    "\n",
    "plt.bar(users_per_event['event'], users_per_event['next_stage_ratio'], label='Proporción')\n",
    "\n",
    "plt.legend()\n",
    "plt.xticks(rotation=90)\n",
    "plt.title('Porcentaje de usuarios que pasaron a la siguiente etapa')\n",
    "plt.ylabel('Porcentaje')\n",
    "plt.xlabel('Eventos')\n",
    "\n",
    "users_payment = round((users_per_event[users_per_event['event'].str.contains('Payment')].iloc[0,1] / users_per_event[users_per_event['event'].str.contains('Main')].iloc[0,1]) * 100,2)  \n",
    "print('El porcentaje de usuarios que hacen un pago desde su primer evento es de', users_payment)"
   ]
  },
  {
   "cell_type": "markdown",
   "metadata": {},
   "source": [
    "En la etapa del tutorial es cuando más se pierden usuarios en comparación con su evento anterior, ya que baja hasta 23.74 %, y el porcentaje de usuarios que realizaron su pago desde su primer evento es de 47.7 %, lo cual es muy buen número. Sin embargo, se debe de investigar más a fondo para saber si esta conversión se debe a un grupo en específico."
   ]
  },
  {
   "cell_type": "markdown",
   "metadata": {},
   "source": [
    "## Estudiar los resultados del experimento ##"
   ]
  },
  {
   "cell_type": "markdown",
   "metadata": {},
   "source": [
    "### Cuántos usuarios hay en cada grupo? ###"
   ]
  },
  {
   "cell_type": "code",
   "execution_count": 14,
   "metadata": {},
   "outputs": [
    {
     "name": "stdout",
     "output_type": "stream",
     "text": [
      "   group  deviceId\n",
      "0    246      2484\n",
      "1    247      2513\n",
      "2    248      2537\n"
     ]
    },
    {
     "data": {
      "text/plain": [
       "Text(0.5, 0, 'Grupo')"
      ]
     },
     "execution_count": 14,
     "metadata": {},
     "output_type": "execute_result"
    },
    {
     "data": {
      "image/png": "[encoded data removed]",
      "text/plain": [
       "<Figure size 640x480 with 1 Axes>"
      ]
     },
     "metadata": {},
     "output_type": "display_data"
    }
   ],
   "source": [
    "users_per_group = cleaned_log.groupby('group', as_index = False).agg({'deviceId' : 'nunique'})\n",
    "print(users_per_group)\n",
    "\n",
    "plt.bar(round(users_per_group['group']), users_per_group['deviceId'], label='Usuarios')\n",
    "\n",
    "plt.legend()\n",
    "plt.title('Usuarios por grupo')\n",
    "plt.ylabel('Número de usuarios')\n",
    "plt.xlabel('Grupo')\n"
   ]
  },
  {
   "cell_type": "markdown",
   "metadata": {},
   "source": [
    "La cantidad de usuarios en los 3 grupos de los registros son muy similares, por lo que podemos proceder a hacer el análisis."
   ]
  },
  {
   "cell_type": "markdown",
   "metadata": {},
   "source": [
    "### Observa si hay una diferencia estadísticamente significativa entre las muestras 246 y 247 ###"
   ]
  },
  {
   "cell_type": "code",
   "execution_count": 15,
   "metadata": {},
   "outputs": [],
   "source": [
    "# En esta sección obtengo las filas de los grupos 246 y 247 divididas\n",
    "users_group_246 = cleaned_log[cleaned_log['group'] == 246]\n",
    "users_group_247 = cleaned_log[cleaned_log['group'] == 247]\n",
    "\n",
    "# Obtengo el porcentaje de eventos ocurridos \n",
    "users_per_event_246 = users_group_246.groupby(['event'], as_index = False).agg({'deviceId' : 'nunique'}).sort_values(by = 'deviceId', ascending = False)\n",
    "total_users_246 = sum(users_per_event_246['deviceId'])\n",
    "users_per_event_246['ratio'] = (users_per_event_246['deviceId'] / total_users_246) \n",
    "\n",
    "users_per_event_247 = users_group_247.groupby(['event'], as_index = False).agg({'deviceId' : 'nunique'}).sort_values(by = 'deviceId', ascending = False)\n",
    "total_users_247 = sum(users_per_event_247['deviceId'])\n",
    "users_per_event_247['ratio'] = (users_per_event_247['deviceId'] / total_users_247)\n",
    "\n",
    "# Obtengo el porcentaje de conversión de la visita a la página principal y el pago \n",
    "\n",
    "main_246 = users_per_event_246[users_per_event_246['event'].str.contains('Main')].iloc[0,1]\n",
    "\n",
    "payment_246 = users_per_event_246[users_per_event_246['event'].str.contains('Payment')].iloc[0,1]\n",
    "\n",
    "main_247 = users_per_event_247[users_per_event_247['event'].str.contains('Main')].iloc[0,1]\n",
    "payment_247 = users_per_event_247[users_per_event_247['event'].str.contains('Payment')].iloc[0,1]\n",
    "\n",
    "p1 = (( payment_246 / main_246 ))  \n",
    "p2 = (( payment_247 / main_247 ))  \n",
    "\n",
    "# Proporción del éxito en el dataframe unido\n",
    "p_combined = (payment_246 + payment_247) / (main_246 + main_247) \n",
    "\n",
    "# diferencia entre las proporciones de los datasets\n",
    "difference = p1 - p2\n",
    "\n"
   ]
  },
  {
   "cell_type": "code",
   "execution_count": 16,
   "metadata": {},
   "outputs": [
    {
     "name": "stdout",
     "output_type": "stream",
     "text": [
      "p-value:  0.12044299485641763\n",
      "z_value: 1.5529168745114943\n",
      "No se pudo rechazar la hipótesis nula: no hay razón para pensar que las proporciones son diferentes\n"
     ]
    }
   ],
   "source": [
    "# obtengo el valor Z de las dos muestras de estos grupos\n",
    "z_value = difference / mth.sqrt(p_combined * (1 - p_combined) * (1/main_246 + 1/main_247))\n",
    "\n",
    "distr = st.norm(0, 1)\n",
    "\n",
    "p_value = (1 - distr.cdf(abs(z_value))) * 2\n",
    "\n",
    "alpha = .05\n",
    "\n",
    "print('p-value: ', p_value)\n",
    "print('z_value:' , z_value)\n",
    "if (p_value < alpha):\n",
    "    print(\"Rechazar la hipótesis nula: hay una diferencia significativa entre las proporciones\")\n",
    "else:\n",
    "    print(\"No se pudo rechazar la hipótesis nula: no hay razón para pensar que las proporciones son diferentes\")\n",
    "\n"
   ]
  },
  {
   "cell_type": "markdown",
   "metadata": {},
   "source": [
    "Las pruebas arrojan que las proporciones entre los grupos de control A son iguales, lo que nos da una base sólida que no hubo cambios significativos en las pruebas con grupos diferentes y sin haber modificado las fuentes.\n"
   ]
  },
  {
   "cell_type": "markdown",
   "metadata": {},
   "source": [
    "### Selecciona el evento más popular y comprueba si la diferencia entre los grupos es estadísticamente significativa. Repite con los otros eventos. ###"
   ]
  },
  {
   "cell_type": "code",
   "execution_count": 17,
   "metadata": {},
   "outputs": [
    {
     "name": "stdout",
     "output_type": "stream",
     "text": [
      "p_value 0.3858966521927507\n",
      "Para el evento MainScreenAppear\n",
      "No se pudo rechazar la hipótesis nula: no hay razón para pensar que las proporciones son diferentes para el evento MainScreenAppear\n",
      "-----------------------------------------------------------------------------\n",
      "p_value 0.8681021752547404\n",
      "Para el evento OffersScreenAppear\n",
      "No se pudo rechazar la hipótesis nula: no hay razón para pensar que las proporciones son diferentes para el evento OffersScreenAppear\n",
      "-----------------------------------------------------------------------------\n",
      "p_value 0.7128092356491924\n",
      "Para el evento CartScreenAppear\n",
      "No se pudo rechazar la hipótesis nula: no hay razón para pensar que las proporciones son diferentes para el evento CartScreenAppear\n",
      "-----------------------------------------------------------------------------\n",
      "p_value 0.47805194674197926\n",
      "Para el evento PaymentScreenSuccessful\n",
      "No se pudo rechazar la hipótesis nula: no hay razón para pensar que las proporciones son diferentes para el evento PaymentScreenSuccessful\n",
      "-----------------------------------------------------------------------------\n",
      "p_value 0.7446344909358309\n",
      "Para el evento Tutorial\n",
      "No se pudo rechazar la hipótesis nula: no hay razón para pensar que las proporciones son diferentes para el evento Tutorial\n",
      "-----------------------------------------------------------------------------\n"
     ]
    }
   ],
   "source": [
    "unique_users_per_event_246 = users_group_246.groupby(['event'], as_index = False).agg({'deviceId' : 'nunique'}).sort_values(by = 'deviceId', ascending = False)\n",
    "unique_total_users_246 = sum(unique_users_per_event_246['deviceId'])\n",
    "unique_users_per_event_246['ratio'] = (unique_users_per_event_246['deviceId'] / unique_total_users_246) \n",
    "\n",
    "unique_users_per_event_247 = users_group_247.groupby(['event'], as_index = False).agg({'deviceId' : 'nunique'}).sort_values(by = 'deviceId', ascending = False)\n",
    "unique_total_users_247 = sum(unique_users_per_event_247['deviceId'])\n",
    "unique_users_per_event_247['ratio'] = (unique_users_per_event_247['deviceId'] / unique_total_users_247) \n",
    "\n",
    "def events_significance(i):\n",
    "    # En este apartado obtengo el total de usuarios del evento iterado para los dos grupos\n",
    "    temp_246 = unique_users_per_event_246[unique_users_per_event_246['event'].str.contains(i)].iloc[0,1]\n",
    "    temp_247 = unique_users_per_event_247[unique_users_per_event_247['event'].str.contains(i)].iloc[0,1]\n",
    "\n",
    "    # En este apartado obtengo la proporción de usuarios que realizaron dicho evento contra el total de usuarios\n",
    "    temp_p1 = unique_users_per_event_246[unique_users_per_event_246['event'].str.contains(i)].iloc[0,2]\n",
    "    temp_p2 = unique_users_per_event_247[unique_users_per_event_247['event'].str.contains(i)].iloc[0,2]\n",
    "    temp_p_combined = (temp_246 + temp_247) / (unique_total_users_246 + unique_total_users_247)    \n",
    "    temp_difference = temp_p1 - temp_p2 \n",
    "    temp_z_value = temp_difference / mth.sqrt(temp_p_combined * (1 - temp_p_combined) * (1/unique_total_users_246 + 1/unique_total_users_247))\n",
    "    temp_distr = st.norm(0, 1)\n",
    "    temp_p_value = (1 - temp_distr.cdf(abs(temp_z_value))) * 2\n",
    "\n",
    "    #alpha = .05\n",
    "    print('p_value',temp_p_value)\n",
    "    print('Para el evento', i)\n",
    "    if (temp_p_value < alpha):\n",
    "        print(\"Rechazar la hipótesis nula: hay una diferencia significativa entre las proporciones para el evento\", i)\n",
    "    else:\n",
    "        print(\"No se pudo rechazar la hipótesis nula: no hay razón para pensar que las proporciones son diferentes para el evento\", i)\n",
    "    #print(i, 'total de usuarios 246', temp_246,'ratio', temp_p1 )\n",
    "    #print(i, 'total de usuarios 247', temp_247,'ratio', temp_p2 )\n",
    "\n",
    "    print('-----------------------------------------------------------------------------')\n",
    "\n",
    "\n",
    "for i in (unique_users_per_event_247['event']) :\n",
    "    events_significance(i)\n",
    "    #print(unique_users_per_event_247[unique_users_per_event_247['event'].str.contains(i)].iloc[0,2])"
   ]
  },
  {
   "cell_type": "markdown",
   "metadata": {},
   "source": [
    "Las pruebas arrojan que para cada uno de los eventos no hay una diferencia significativa de proporciones para los grupos 246 y 247, lo que nos confirma que los grupos de control A tienen estabilidad de datos en todas la áreas y que los grupos fueron divididos correctamente.    "
   ]
  },
  {
   "cell_type": "markdown",
   "metadata": {},
   "source": [
    "<div class=\"alert alert-block alert-info\">\n",
    "<b>Dudas en esta sección</b> <a class=\"tocSkip\"></a>\n",
    "Para esta sección donde piden comparar los grupos de control A/A, usé la fórmula vista en el sprint 10 de el estadístico Z para obtener el Z_value, pero siento que no hace sentido los resultados arrojados, por lo que me gustaría saber si ese es el método a seguir o estoy haciendo algo mal en el agrupamiento de los datos. Ya dejé la duda en el discord pero a veces es muy tardado que me contesten por ahí y a veces avanzo en el proyecto y resulta que pedían otra cosa, por eso quiero ver si usaré otro método para las secciones que siguen.\n",
    "</div>\n",
    "\n",
    "    \n",
    "    "
   ]
  },
  {
   "cell_type": "markdown",
   "metadata": {},
   "source": [
    "<div class=\"alert alert-block alert-danger\">\n",
    "<b>Comentario del revisor (1ra Iteracion)</b> <a class=“tocSkip”></a>\n",
    "\n",
    "Revisando tu código, hay varios puntos que debes corregir antes de confiar en los resultados del z-test. El cálculo del *p-value* está mal porque usas un valor fijo (`2`) en lugar de la estadística `z` que obtienes (`temp_z_value`), así que siempre da prácticamente el mismo resultado. Además, estás usando porcentajes (0–100) en lugar de proporciones (0–1) en la fórmula del test, lo que puede estar causando conflicto en tus cálculos. También estás tomando como tamaño de muestra (`n`) la suma de usuarios únicos por evento, lo que cuenta usuarios repetidos y no representa el verdadero número de usuarios únicos en cada grupo.\n",
    "\n",
    "Para corregirlo, primero calcula el número real de usuarios únicos en cada grupo (`n1` y `n2`) con `.nunique()` sobre `deviceId`. Luego, obtén para cada evento el número de usuarios únicos que lo realizaron y divídelo entre `n1` o `n2` para obtener proporciones en \\[0,1]. Usa esas proporciones en la fórmula del z-test o, más fácil, la función `proportions_ztest` de `statsmodels`. Finalmente, revisa que el emparejamiento de eventos sea exacto (no `str.contains` salvo que sea intencional) y considera corregir por comparaciones múltiples si analizas varios eventos.\n",
    "\n",
    "Se que por este medio puede ser un poco más confuso el explicar lo que se debe corregir, por lo que pondré al tanto al equipo para que pueda contactarte y asignarte una tutoría. Saludos!\n",
    "\n",
    "</div>"
   ]
  },
  {
   "cell_type": "markdown",
   "metadata": {},
   "source": [
    "### Compara los eventos de cada uno de los grupos de control con el grupo de fuentes alteradas (grupo 248)"
   ]
  },
  {
   "cell_type": "code",
   "execution_count": 18,
   "metadata": {},
   "outputs": [
    {
     "name": "stdout",
     "output_type": "stream",
     "text": [
      "p_value 0.3609079955734189\n",
      "grupo 246 y 248 evento MainScreenAppear\n",
      "No se pudo rechazar la hipótesis nula: no hay razón para pensar que las proporciones son diferentes para el evento MainScreenAppear\n",
      "-----------------------------------------------------------------------------\n",
      "p_value 0.9639563483639422\n",
      "grupo 247 y 248 evento MainScreenAppear\n",
      "No se pudo rechazar la hipótesis nula: no hay razón para pensar que las proporciones son diferentes para el evento MainScreenAppear\n",
      "-----------------------------------------------------------------------------\n",
      "p_value 0.9023600695671781\n",
      "grupo 246 y 248 evento OffersScreenAppear\n",
      "No se pudo rechazar la hipótesis nula: no hay razón para pensar que las proporciones son diferentes para el evento OffersScreenAppear\n",
      "-----------------------------------------------------------------------------\n",
      "p_value 0.9652764391597208\n",
      "grupo 247 y 248 evento OffersScreenAppear\n",
      "No se pudo rechazar la hipótesis nula: no hay razón para pensar que las proporciones son diferentes para el evento OffersScreenAppear\n",
      "-----------------------------------------------------------------------------\n",
      "p_value 0.4789996496216111\n",
      "grupo 246 y 248 evento CartScreenAppear\n",
      "No se pudo rechazar la hipótesis nula: no hay razón para pensar que las proporciones son diferentes para el evento CartScreenAppear\n",
      "-----------------------------------------------------------------------------\n",
      "p_value 0.7349632921430207\n",
      "grupo 247 y 248 evento CartScreenAppear\n",
      "No se pudo rechazar la hipótesis nula: no hay razón para pensar que las proporciones son diferentes para el evento CartScreenAppear\n",
      "-----------------------------------------------------------------------------\n",
      "p_value 0.7329223689790141\n",
      "grupo 246 y 248 evento PaymentScreenSuccessful\n",
      "No se pudo rechazar la hipótesis nula: no hay razón para pensar que las proporciones son diferentes para el evento PaymentScreenSuccessful\n",
      "-----------------------------------------------------------------------------\n",
      "p_value 0.712560504808843\n",
      "grupo 247 y 248 evento PaymentScreenSuccessful\n",
      "No se pudo rechazar la hipótesis nula: no hay razón para pensar que las proporciones son diferentes para el evento PaymentScreenSuccessful\n",
      "-----------------------------------------------------------------------------\n",
      "p_value 0.9340855341858154\n",
      "grupo 246 y 248 evento Tutorial\n",
      "No se pudo rechazar la hipótesis nula: no hay razón para pensar que las proporciones son diferentes para el evento Tutorial\n",
      "-----------------------------------------------------------------------------\n",
      "p_value 0.8080538685314289\n",
      "grupo 247 y 248 evento Tutorial\n",
      "No se pudo rechazar la hipótesis nula: no hay razón para pensar que las proporciones son diferentes para el evento Tutorial\n",
      "-----------------------------------------------------------------------------\n"
     ]
    }
   ],
   "source": [
    "# En esta sección obtengo las filas del grupo 248\n",
    "users_group_248 = cleaned_log[cleaned_log['group'] == 248]\n",
    "\n",
    "\n",
    "unique_users_per_event_248 = users_group_248.groupby(['event'], as_index = False).agg({'deviceId' : 'nunique'}).sort_values(by = 'deviceId', ascending = False)\n",
    "unique_total_users_248 = sum(unique_users_per_event_248['deviceId'])\n",
    "unique_users_per_event_248['ratio'] = (unique_users_per_event_248['deviceId'] / unique_total_users_248)\n",
    "\n",
    "# Creo un series de los grupos de control A/A para usarlo en el for de la función\n",
    "Agroups = [246,247]\n",
    "\n",
    "def events_significance(i):\n",
    "    for gr in Agroups:\n",
    "        if gr == 246: # Aquí asigno valores dependiendo del número de grupo para comparar ambos grupos 246 y 247 con 248 individualmente\n",
    "            temp_A = unique_users_per_event_246[unique_users_per_event_246['event'].str.contains(i)].iloc[0,1]\n",
    "            temp_p1 = unique_users_per_event_246[unique_users_per_event_246['event'].str.contains(i)].iloc[0,2]\n",
    "            temp_users_per_event = unique_users_per_event_246[unique_users_per_event_246['event'].str.contains(i)].iloc[0,1] \n",
    "            temp_total_users_group = unique_total_users_246\n",
    "        elif gr == 247:\n",
    "            temp_A = unique_users_per_event_247[unique_users_per_event_247['event'].str.contains(i)].iloc[0,1] \n",
    "            temp_p1 = unique_users_per_event_247[unique_users_per_event_247['event'].str.contains(i)].iloc[0,2]\n",
    "            temp_users_per_event = unique_users_per_event_247[unique_users_per_event_247['event'].str.contains(i)].iloc[0,1]\n",
    "            temp_total_users_group = unique_total_users_247  \n",
    "        # En este apartado obtengo el total de usuarios del evento iterado para el grupo 248\n",
    "        temp_248 = unique_users_per_event_248[unique_users_per_event_248['event'].str.contains(i)].iloc[0,1]\n",
    "\n",
    "        # En este apartado obtengo la proporción de usuarios que realizaron dicho evento contra el total de usuarios para entre los grupos de control y el 248\n",
    "        \n",
    "        temp_p2 = unique_users_per_event_248[unique_users_per_event_248['event'].str.contains(i)].iloc[0,2]\n",
    "        temp_p_combined = (temp_users_per_event + temp_248) / (temp_total_users_group + unique_total_users_248)    \n",
    "        temp_difference = temp_p1 - temp_p2 \n",
    "        temp_z_value = temp_difference / mth.sqrt(temp_p_combined * (1 - temp_p_combined) * (1/temp_total_users_group + 1/unique_total_users_248))\n",
    "        temp_distr = st.norm(0, 1)\n",
    "        temp_p_value = (1 - temp_distr.cdf(abs(temp_z_value))) * 2\n",
    "\n",
    "        #alpha = .05\n",
    "        print('p_value',temp_p_value)\n",
    "        print('grupo', gr, 'y 248', 'evento', i )\n",
    "        if (temp_p_value < alpha):\n",
    "            print(\"Rechazar la hipótesis nula: hay una diferencia significativa entre las proporciones para el evento\", i)\n",
    "        else:\n",
    "            print(\"No se pudo rechazar la hipótesis nula: no hay razón para pensar que las proporciones son diferentes para el evento\", i)\n",
    "\n",
    "        print('-----------------------------------------------------------------------------')\n",
    "\n",
    "\n",
    "for i in (unique_users_per_event_248['event']) :\n",
    "    events_significance(i)"
   ]
  },
  {
   "cell_type": "markdown",
   "metadata": {},
   "source": [
    "La prueba nos arroja que en todos los eventos, tanto de los grupos de control 246 y 247, no hubo cambios significativos con respecto al grupo 248. Esto lo podemos interpretar como que a pesar de los cambios que hayan hecho para usarlos con el grupo 248, realmente no hubo mejoría en cuanto a las compras de acuerdo a la cantidad de usuarios que visitaron la página principal y no influyeron en el comportamiento de los usuarios en sus compra. "
   ]
  },
  {
   "cell_type": "markdown",
   "metadata": {},
   "source": [
    "### Compara cada uno de los eventos de los grupos de control 246 y 247 combinados con el grupo de fuentes alteradas (grupo 248)"
   ]
  },
  {
   "cell_type": "code",
   "execution_count": 19,
   "metadata": {},
   "outputs": [
    {
     "name": "stdout",
     "output_type": "stream",
     "text": [
      "p_value 0.5788662739778654\n",
      "No se pudo rechazar la hipótesis nula: no hay razón para pensar que las proporciones son diferentes para el evento MainScreenAppear\n",
      "-----------------------------------------------------------------------------\n",
      "p_value 0.9632552450549274\n",
      "No se pudo rechazar la hipótesis nula: no hay razón para pensar que las proporciones son diferentes para el evento OffersScreenAppear\n",
      "-----------------------------------------------------------------------------\n",
      "p_value 0.5455155272809691\n",
      "No se pudo rechazar la hipótesis nula: no hay razón para pensar que las proporciones son diferentes para el evento CartScreenAppear\n",
      "-----------------------------------------------------------------------------\n",
      "p_value 0.9894457199755546\n",
      "No se pudo rechazar la hipótesis nula: no hay razón para pensar que las proporciones son diferentes para el evento PaymentScreenSuccessful\n",
      "-----------------------------------------------------------------------------\n",
      "p_value 0.9263526980067287\n",
      "No se pudo rechazar la hipótesis nula: no hay razón para pensar que las proporciones son diferentes para el evento Tutorial\n",
      "-----------------------------------------------------------------------------\n"
     ]
    }
   ],
   "source": [
    "# Obtengo los las filas de los grupos 246 y 247\n",
    "users_group_A= cleaned_log[(cleaned_log['group'] == 246) | (cleaned_log['group'] == 247)]\n",
    "\n",
    "\n",
    "# Obtengo el porcentaje de eventos ocurridos de ambos grupos 246 y 247 para usuarios únicos\n",
    "users_per_event_A = users_group_A.groupby(['event'], as_index = False).agg({'deviceId' : 'nunique'}).sort_values(by = 'deviceId', ascending = False)\n",
    "total_users_A = sum(users_per_event_A['deviceId'])\n",
    "users_per_event_A['ratio'] = (users_per_event_A['deviceId'] / total_users_A) \n",
    "\n",
    "def events_significance(i):\n",
    "    # En este apartado obtengo el total de usuarios del evento iterado para los dos grupos de control combinados y los del grupo 248\n",
    "    temp_ratio_A = users_per_event_A[users_per_event_A['event'].str.contains(i)].iloc[0,1]\n",
    "    temp_248 = unique_users_per_event_248[unique_users_per_event_248['event'].str.contains(i)].iloc[0,1]\n",
    "\n",
    "    # En este apartado obtengo la proporción de usuarios que realizaron dicho evento contra el total de usuarios\n",
    "    temp_p1 = users_per_event_A[users_per_event_A['event'].str.contains(i)].iloc[0,2]\n",
    "    temp_p2 = unique_users_per_event_248[unique_users_per_event_248['event'].str.contains(i)].iloc[0,2]\n",
    "    temp_p_combined = (temp_ratio_A + temp_248) / (total_users_A + unique_total_users_248)    \n",
    "    temp_difference = temp_p1 - temp_p2 \n",
    "    temp_z_value = temp_difference / mth.sqrt(temp_p_combined * (1 - temp_p_combined) * (1/total_users_A + 1/unique_total_users_248))\n",
    "    temp_distr = st.norm(0, 1)\n",
    "    temp_p_value = (1 - temp_distr.cdf(abs(temp_z_value))) * 2\n",
    "    #alpha = .05\n",
    "    print('p_value',temp_p_value)\n",
    "    #print(temp_z_value)\n",
    "    if (temp_p_value < alpha):\n",
    "        print(\"Rechazar la hipótesis nula: hay una diferencia significativa entre las proporciones para el evento\", i)\n",
    "    else:\n",
    "        print(\"No se pudo rechazar la hipótesis nula: no hay razón para pensar que las proporciones son diferentes para el evento\", i)\n",
    "    #print(i, 'total de usuarios 246', temp_246,'ratio', temp_p1 )\n",
    "    #print(i, 'total de usuarios 247', temp_247,'ratio', temp_p2 )\n",
    "\n",
    "    print('-----------------------------------------------------------------------------')\n",
    "\n",
    "\n",
    "for i in (unique_users_per_event_247['event']) :\n",
    "    events_significance(i)\n"
   ]
  },
  {
   "cell_type": "markdown",
   "metadata": {},
   "source": [
    "De igual manera, con la prueba  de los grupos de control combinados comparándolos con el grupo 248, no hubo cambios significativos en los eventos. La conversión se mantuvo igual en proporción con las visitas a la página principal, por lo que podemos confirmar que los cambios realizados en los grupos 248, no se vieron reflejados en más ventas con la misma proporción de visitantes."
   ]
  },
  {
   "cell_type": "markdown",
   "metadata": {},
   "source": [
    "## CONCLUSIONES"
   ]
  },
  {
   "cell_type": "markdown",
   "metadata": {},
   "source": [
    "El nivel de significancia utilizado en cada una de las pruebas de hipótesis fue del .05 en aproximadamente 21 pruebas de hipótesis, en las cuales, todas rechazaron la hipótesis alternativa de que había diferencia significativa en las proporciones de los grupos por eventos. Si modificamos el nivel de significancia alfa a otros generalmente aceptados igual tendremos los mismo resultados, ya que el p-value en estas pruebas ha sido muy alto y se aleja por mucho de cualquier nivel de significancia establecido generalmente, a excepción de una prueba que es la de las pruebas de diferencias estadísticas de los grupos 246 y 247, ya que si tomamos en cuenta que tenemos aproximadamente 21 pruebas de hipótesis, un nivel de significancia de .2 nos daría 2 resultados en cada 20 que podría ser falso, y sería en esa prueba. Sin embargo, podríamos también catalogarlo como un error de tipo I, ya que no se observan diferencias a simple vista y nos arroja el resultado de rechazar la hipótesis nula de que no hay diferencias. \n",
    "\n",
    "De igual manera, vemos que realmente no hay diferencias significativas entre las proporciones de todos los grupos que fueron evaluados, por lo que también la probabilidad de obtener un error de tipo I (un falso positivo) es prácticamente nulo usando el nivel de significancia del .05, ya que no hay diferencias reales entre los grupos y tampoco obtuvimos un valor p menor que el nivel de significancia. "
   ]
  },
  {
   "cell_type": "markdown",
   "metadata": {},
   "source": [
    "<div class=\"alert alert-block alert-success\">\n",
    "<b>Comentario general (2da Iteracion)</b> <a class=“tocSkip”></a>\n",
    "\n",
    "Te felicito! Realizaste un muy buen análisis de los grupos de tratamiento entre los cambios obtenidos entre uno y otro respecto al funnel que el usuario debe seguir, tus conclusiones son muy acertadas y siempre argumentadas con los datos obtenidos a partir de tus cálculos. \n",
    "    \n",
    "No cabe duda que vas por excelente camino para convertirte en Data Analyst, saludos!\n",
    "</div>"
   ]
  }
 ],
 "metadata": {
  "kernelspec": {
   "display_name": "Python 3 (ipykernel)",
   "language": "python",
   "name": "python3"
  },
  "language_info": {
   "codemirror_mode": {
    "name": "ipython",
    "version": 3
   },
   "file_extension": ".py",
   "mimetype": "text/x-python",
   "name": "python",
   "nbconvert_exporter": "python",
   "pygments_lexer": "ipython3",
   "version": "3.9.23"
  }
 },
 "nbformat": 4,
 "nbformat_minor": 4
}
