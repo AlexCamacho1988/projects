{
 "cells": [
  {
   "cell_type": "markdown",
   "metadata": {},
   "source": [
    "Hola **Alejandro**!\n",
    "\n",
    "Soy **Patricio Requena** 👋. Es un placer ser el revisor de tu proyecto el día de hoy!\n",
    "\n",
    "Revisaré tu proyecto detenidamente con el objetivo de ayudarte a mejorar y perfeccionar tus habilidades. Durante mi revisión, identificaré áreas donde puedas hacer mejoras en tu código, señalando específicamente qué y cómo podrías ajustar para optimizar el rendimiento y la claridad de tu proyecto. Además, es importante para mí destacar los aspectos que has manejado excepcionalmente bien. Reconocer tus fortalezas te ayudará a entender qué técnicas y métodos están funcionando a tu favor y cómo puedes aplicarlos en futuras tareas. \n",
    "\n",
    "_**Recuerda que al final de este notebook encontrarás un comentario general de mi parte**_, empecemos!\n",
    "\n",
    "Encontrarás mis comentarios dentro de cajas verdes, amarillas o rojas, ⚠️ **por favor, no muevas, modifiques o borres mis comentarios** ⚠️:\n",
    "\n",
    "\n",
    "<div class=\"alert alert-block alert-success\">\n",
    "<b>Comentario del revisor</b> <a class=“tocSkip”></a>\n",
    "Si todo está perfecto.\n",
    "</div>\n",
    "\n",
    "<div class=\"alert alert-block alert-warning\">\n",
    "<b>Comentario del revisor</b> <a class=“tocSkip”></a>\n",
    "Si tu código está bien pero se puede mejorar o hay algún detalle que le hace falta.\n",
    "</div>\n",
    "\n",
    "<div class=\"alert alert-block alert-danger\">\n",
    "<b>Comentario del revisor</b> <a class=“tocSkip”></a>\n",
    "Si de pronto hace falta algo o existe algún problema con tu código o conclusiones.\n",
    "</div>\n",
    "\n",
    "Puedes responderme de esta forma:\n",
    "<div class=\"alert alert-block alert-info\">\n",
    "<b>Respuesta del estudiante</b> <a class=“tocSkip”></a>\n",
    "</div>"
   ]
  },
  {
   "cell_type": "markdown",
   "metadata": {},
   "source": [
    "## Objetivos del estudio ##"
   ]
  },
  {
   "cell_type": "markdown",
   "metadata": {},
   "source": [
    "El presente proyecto tiene como objetivo estudiar el comportamiento de conversión de clientes de una tienda en línea internacional por medio de 2 grupos de control A y B, y confirmar si los cambios realizados entre estos dos grupos tuvieron una mejora tanto en las vistas de las páginas del producto, el agregar artículos al carrito de compras, y compras realizadas. \n",
    "\n",
    "Podremos confirmar que hubo un aumento de estas conversiones si hubo un aumento del 10% para los usuarios que estén en la prueba de recommender_system_test.\n",
    "\n"
   ]
  },
  {
   "cell_type": "code",
   "execution_count": 37,
   "metadata": {},
   "outputs": [
    {
     "name": "stdout",
     "output_type": "stream",
     "text": [
      "                user_id  first_date     region   device\n",
      "0      D72A72121175D8BE  2020-12-07         EU       PC\n",
      "1      F1C668619DFE6E65  2020-12-07  N.America  Android\n",
      "2      2E1BF1D4C37EA01F  2020-12-07         EU       PC\n",
      "3      50734A22C0C63768  2020-12-07         EU   iPhone\n",
      "4      E1BDDCE0DAFA2679  2020-12-07  N.America   iPhone\n",
      "...                 ...         ...        ...      ...\n",
      "58698  1DB53B933257165D  2020-12-20         EU  Android\n",
      "58699  538643EB4527ED03  2020-12-20         EU      Mac\n",
      "58700  7ADEE837D5D8CBBD  2020-12-20         EU       PC\n",
      "58701  1C7D23927835213F  2020-12-20         EU   iPhone\n",
      "58702  8F04273BB2860229  2020-12-20         EU  Android\n",
      "\n",
      "[58703 rows x 4 columns]\n"
     ]
    }
   ],
   "source": [
    "import pandas as pd\n",
    "import scipy.stats as stats\n",
    "import datetime as dt\n",
    "import numpy as np\n",
    "import matplotlib.pyplot as plt\n",
    "import math as mth\n",
    "from scipy import stats as st\n",
    "\n",
    "events = pd.read_csv('/datasets/ab_project_marketing_events_us.csv')\n",
    "new_users = pd.read_csv('/datasets/final_ab_new_users_upd_us.csv')\n",
    "new_users_events = pd.read_csv('/datasets/final_ab_events_upd_us.csv')\n",
    "participants = pd.read_csv('/datasets/final_ab_participants_upd_us.csv')\n",
    "\n",
    "print(new_users)"
   ]
  },
  {
   "cell_type": "markdown",
   "metadata": {},
   "source": [
    "En este apartado, hacemos la lectura de los datos y ver cómo podemos optimizar la base de datos para tener toda la información en un solo Dataframe. En este caso, sabemos que tenemos que hacer el análisis de la prueba 'recommender_system_test' de la región de UE, por lo que lo ideal será fusionar en un solo dataframe los usuarios de esta prueba junto con el dataframe de los eventos por usuario utilizando la función merge()."
   ]
  },
  {
   "cell_type": "code",
   "execution_count": 2,
   "metadata": {},
   "outputs": [
    {
     "name": "stdout",
     "output_type": "stream",
     "text": [
      "                user_id group                  ab_test  first_date region  \\\n",
      "0      D1ABA3E2887B6A73     A  recommender_system_test  2020-12-07     EU   \n",
      "1      D1ABA3E2887B6A73     A  recommender_system_test  2020-12-07     EU   \n",
      "2      D1ABA3E2887B6A73     A  recommender_system_test  2020-12-07     EU   \n",
      "3      D1ABA3E2887B6A73     A  recommender_system_test  2020-12-07     EU   \n",
      "4      A7A3664BD6242119     A  recommender_system_test  2020-12-20     EU   \n",
      "...                 ...   ...                      ...         ...    ...   \n",
      "22669  80712ED4EA1B52A5     A  recommender_system_test  2020-12-14     EU   \n",
      "22670  80712ED4EA1B52A5     A  recommender_system_test  2020-12-14     EU   \n",
      "22671  80712ED4EA1B52A5     A  recommender_system_test  2020-12-14     EU   \n",
      "22672  80712ED4EA1B52A5     A  recommender_system_test  2020-12-14     EU   \n",
      "22673  80712ED4EA1B52A5     A  recommender_system_test  2020-12-14     EU   \n",
      "\n",
      "        device             event_dt    event_name  details  \n",
      "0           PC  2020-12-07 14:43:27      purchase    99.99  \n",
      "1           PC  2020-12-07 14:43:29  product_cart      NaN  \n",
      "2           PC  2020-12-07 14:43:27  product_page      NaN  \n",
      "3           PC  2020-12-07 14:43:27         login      NaN  \n",
      "4       iPhone  2020-12-20 15:46:06  product_page      NaN  \n",
      "...        ...                  ...           ...      ...  \n",
      "22669  Android  2020-12-15 20:10:06  product_page      NaN  \n",
      "22670  Android  2020-12-20 20:01:34  product_page      NaN  \n",
      "22671  Android  2020-12-14 05:48:50         login      NaN  \n",
      "22672  Android  2020-12-15 20:10:03         login      NaN  \n",
      "22673  Android  2020-12-20 20:01:32         login      NaN  \n",
      "\n",
      "[22674 rows x 9 columns]\n",
      "Empty DataFrame\n",
      "Columns: [group]\n",
      "Index: []\n"
     ]
    }
   ],
   "source": [
    "\n",
    "# Fusión de dataframes de particpantes de las pruebas y usuarios nuevos\n",
    "pre_merged_participants = participants.merge(new_users, on = 'user_id') \n",
    "\n",
    "# Filtrado de usuarios en la prueba recommender_system_test\n",
    "only_recommender = pre_merged_participants[pre_merged_participants['ab_test'] == 'recommender_system_test']\n",
    "\n",
    "# Filtrado de las pruebas de usuarios de la region de EU\n",
    "only_eu = only_recommender[only_recommender['region'] == 'EU']\n",
    "\n",
    "# Fusion para asignar a cada evento el grupo correspondiente y su prueba ab\n",
    "clean_merge = only_eu.merge(new_users_events, on = 'user_id')\n",
    "print(clean_merge)\n",
    "\n",
    "# Comprobación de que no haya usuarios en ambos grupos\n",
    "temp_group = clean_merge.groupby('user_id').agg({'group' : 'nunique'})\n",
    "print(temp_group[temp_group['group'] == 2])\n"
   ]
  },
  {
   "cell_type": "markdown",
   "metadata": {},
   "source": [
    "Para esta sección, se realizó la fusión de los dataframes de los usuarios nuevos de la región de EU con los eventos, así como se obtuvo un nuevo dataframe con solo los usuarios que estaban dentro de la prueba 'recommender_system_test' para no tener información de otras pruebas. Se realizó una comprobación de que los usuarios estuvieran asignados a un solo grupo por medio de la función 'groupby' y 'nunique'. Al arrojar que todos los usuarios solo pertenecen a un solo grupo, podremos proseguir a la conversión de datos con un número más reducido y mejor filtrado de los datos para hacer el análisis más eficaz. \n",
    "\n",
    "Hay que recalcar que los datos pueden no ser suficientes de acuerdo a los requisitos al inicio de la prueba, ya que se esperaba la participación de 6,000 usuarios y que estos fueran el 15% de los nuevos usuarios de la región de UE, así como también debían de ser de la prueba 'recommender_system_test', por lo que no se hará en este caso la selección del 15% de la audiencia de EU para llegar lo más cercano posible a los 6,000 participantes."
   ]
  },
  {
   "cell_type": "code",
   "execution_count": 3,
   "metadata": {},
   "outputs": [
    {
     "name": "stdout",
     "output_type": "stream",
     "text": [
      "<class 'pandas.core.frame.DataFrame'>\n",
      "Int64Index: 22674 entries, 0 to 22673\n",
      "Data columns (total 9 columns):\n",
      " #   Column      Non-Null Count  Dtype         \n",
      "---  ------      --------------  -----         \n",
      " 0   user_id     22674 non-null  object        \n",
      " 1   group       22674 non-null  object        \n",
      " 2   ab_test     22674 non-null  object        \n",
      " 3   first_date  22674 non-null  datetime64[ns]\n",
      " 4   region      22674 non-null  object        \n",
      " 5   device      22674 non-null  object        \n",
      " 6   event_dt    22674 non-null  datetime64[ns]\n",
      " 7   event_name  22674 non-null  object        \n",
      " 8   details     22674 non-null  float64       \n",
      "dtypes: datetime64[ns](2), float64(1), object(6)\n",
      "memory usage: 1.7+ MB\n",
      "None\n",
      "                user_id group                  ab_test first_date region  \\\n",
      "11421  894A2506B3A50D03     B  recommender_system_test 2020-12-07     EU   \n",
      "11418  894A2506B3A50D03     B  recommender_system_test 2020-12-07     EU   \n",
      "19841  8FC9D1BB3017BE66     B  recommender_system_test 2020-12-07     EU   \n",
      "19847  8FC9D1BB3017BE66     B  recommender_system_test 2020-12-07     EU   \n",
      "19845  8FC9D1BB3017BE66     B  recommender_system_test 2020-12-07     EU   \n",
      "...                 ...   ...                      ...        ...    ...   \n",
      "9415   BB3873E1AC6E7BC3     A  recommender_system_test 2020-12-20     EU   \n",
      "3757   75845C83258FBF73     B  recommender_system_test 2020-12-07     EU   \n",
      "3753   75845C83258FBF73     B  recommender_system_test 2020-12-07     EU   \n",
      "21998  DD4352CDCF8C3D57     B  recommender_system_test 2020-12-07     EU   \n",
      "21992  DD4352CDCF8C3D57     B  recommender_system_test 2020-12-07     EU   \n",
      "\n",
      "        device            event_dt    event_name  details  \n",
      "11421  Android 2020-12-07 00:05:57         login     1.00  \n",
      "11418  Android 2020-12-07 00:05:57  product_page     1.00  \n",
      "19841       PC 2020-12-07 00:07:47      purchase     4.99  \n",
      "19847       PC 2020-12-07 00:07:47         login     1.00  \n",
      "19845       PC 2020-12-07 00:07:48  product_page     1.00  \n",
      "...        ...                 ...           ...      ...  \n",
      "9415   Android 2020-12-29 23:38:29  product_page     1.00  \n",
      "3757   Android 2020-12-30 06:42:52         login     1.00  \n",
      "3753   Android 2020-12-30 06:42:52  product_cart     1.00  \n",
      "21998  Android 2020-12-30 12:42:56         login     1.00  \n",
      "21992  Android 2020-12-30 12:42:57  product_page     1.00  \n",
      "\n",
      "[22674 rows x 9 columns]\n"
     ]
    }
   ],
   "source": [
    "\n",
    "# Se convierten datos de la columna 'event_dt' y 'first_date' a datetime\n",
    "clean_merge['event_dt'] = pd.to_datetime(clean_merge['event_dt'])\n",
    "clean_merge['first_date'] = pd.to_datetime(clean_merge['first_date'])\n",
    "\n",
    "# Se remplazan los valores ausentes por el número 1 para que sean del mismo tipo que los valores de la columna\n",
    "clean_merge['details'].fillna(1, inplace = True)\n",
    "\n",
    "print(clean_merge.info())\n",
    "print(clean_merge.sort_values(by = 'event_dt'))\n",
    "\n"
   ]
  },
  {
   "cell_type": "markdown",
   "metadata": {},
   "source": [
    "Se convirtieron los datos de la columna de 'event_dt' y 'first_date' a tipo datetime para ir preparando los análisis más adelante. En cuanto a los datos ausentes, se procedió a llenar las celdas con datos o valores del mismo tipo que los que ya hay en la columna, en este caso sería valores tipo 'float' y se les asignó el valor de 1, ya que cada ingreso a la página cuenta como 1, así como cada evento de ingreso de productos al carrito."
   ]
  },
  {
   "cell_type": "markdown",
   "metadata": {},
   "source": [
    "<div class=\"alert alert-block alert-success\">\n",
    "<b>Comentario del revisor (1ra Iteracion)</b> <a class=“tocSkip”></a>\n",
    "\n",
    "Muy buen trabajo con la transformación de datos y la exploración inicial de los mismos, un dataset limpio es clave para una buena toma de decisiones en un experimento.\n",
    "</div>"
   ]
  },
  {
   "cell_type": "markdown",
   "metadata": {},
   "source": [
    "### Estudio de la conversión en las diferentes etapas del embudo ###"
   ]
  },
  {
   "cell_type": "code",
   "execution_count": 4,
   "metadata": {},
   "outputs": [
    {
     "name": "stdout",
     "output_type": "stream",
     "text": [
      "Promedio de visitas a la página del producto por grupo\n",
      "  group  avg_page_products\n",
      "0     A           2.992878\n",
      "1     B           2.630832\n",
      "--------------------------------\n",
      "Promedio de visitas a la página de agregar al carrito por grupo\n",
      "  group  avg_product_cart\n",
      "0     A          3.006394\n",
      "1     B          2.635246\n",
      "--------------------------------\n",
      "Promedio de número de compras por grupo\n",
      "  group  avg_purchases\n",
      "0     A       2.917167\n",
      "1     B       2.606426\n",
      "--------------------------------\n",
      "Promedio de gasto en compras por grupo \n",
      "  group  avg_spent\n",
      "0     A  22.800700\n",
      "1     B  22.362881\n",
      "  group  user_id\n",
      "0     A     2604\n",
      "1     B      877\n"
     ]
    }
   ],
   "source": [
    "#pageByUsersA = clean_merge[(clean_merge['group'] == 'A') & (clean_merge['event_name'] == 'product_page')].groupby('user_id', as_index = False).agg({'event_name': 'count'})\n",
    "#pageByUsersA.columns = ['user_id', 'product_page']\n",
    "\n",
    "#pageByUsersB = clean_merge[(clean_merge['group'] == 'B') & (clean_merge['event_name'] == 'product_page')].groupby('user_id', as_index = False).agg({'event_name': 'count'})\n",
    "#pageByUsersB.columns = ['user_id', 'product_page']\n",
    "\n",
    "grouped_pageByUsers = clean_merge[clean_merge['event_name'] == 'product_page'].groupby(['user_id', 'group'], as_index = False).agg({'event_name' : 'count'})\n",
    "avg_pageByUsers = grouped_pageByUsers.groupby('group', as_index = False).agg({'event_name' : 'mean'})\n",
    "avg_pageByUsers.columns = ['group', 'avg_page_products']\n",
    "\n",
    "\n",
    "#cartByUsersA = clean_merge[(clean_merge['group'] == 'A') & (clean_merge['event_name'] == 'product_cart')].groupby('user_id', as_index = False).agg({'event_name': 'count'})\n",
    "#cartByUsersA.columns = ['user_id', 'product_cart']\n",
    "\n",
    "#cartByUsersB = clean_merge[(clean_merge['group'] == 'B') & (clean_merge['event_name'] == 'product_cart')].groupby('user_id', as_index = False).agg({'event_name': 'count'})\n",
    "#cartByUsersB.columns = ['user_id', 'product_cart']\n",
    "\n",
    "grouped_cartByUsers = clean_merge[clean_merge['event_name'] == 'product_cart'].groupby(['user_id', 'group'], as_index = False).agg({'event_name' : 'count'})\n",
    "avg_cartByUsers = grouped_cartByUsers.groupby('group', as_index = False).agg({'event_name' : 'mean'})\n",
    "avg_cartByUsers.columns = ['group', 'avg_product_cart']\n",
    "\n",
    "\n",
    "\n",
    "\n",
    "#purchaseByUsersA = clean_merge[(clean_merge['group'] == 'A') & (clean_merge['event_name'] == 'purchase')].groupby('user_id', as_index = False).agg({'event_name': 'count'})\n",
    "#purchaseByUsersA.columns = ['user_id', 'purchases']\n",
    "\n",
    "#purchaseByUsersB = clean_merge[(clean_merge['group'] == 'B') & (clean_merge['event_name'] == 'purchase')].groupby('user_id', as_index = False).agg({'event_name': 'count'})\n",
    "#purchaseByUsersB.columns = ['user_id', 'purchases']\n",
    "\n",
    "\n",
    "\n",
    "grouped_purchasesByUsers = clean_merge[clean_merge['event_name'] == 'purchase'].groupby(['user_id', 'group'], as_index = False).agg({'event_name' : 'count'})\n",
    "avg_purchasesByUsers = grouped_purchasesByUsers.groupby('group', as_index = False).agg({'event_name' : 'mean'})\n",
    "avg_purchasesByUsers.columns = ['group', 'avg_purchases']\n",
    "\n",
    "\n",
    "total_purchasesByGroup = clean_merge[clean_merge['event_name'] == 'purchase'].groupby(['group'], as_index = False).agg({'details' : 'mean'})\n",
    "\n",
    "total_purchasesByGroup.columns = ['group', 'avg_spent']\n",
    "#print(pageByUsersA)\n",
    "#print(pageByUsersA['product_page'].mean())\n",
    "#print(pageByUsersB)\n",
    "#print(pageByUsersB['product_page'].mean())\n",
    "print('Promedio de visitas a la página del producto por grupo')\n",
    "print(avg_pageByUsers)\n",
    "print('--------------------------------')\n",
    "\n",
    "#print(cartByUsersA)\n",
    "#print(cartByUsersA['product_cart'].mean())\n",
    "#print(cartByUsersB)\n",
    "#print(cartByUsersB['product_cart'].mean())\n",
    "print('Promedio de visitas a la página de agregar al carrito por grupo')\n",
    "print(avg_cartByUsers)\n",
    "print('--------------------------------')\n",
    "\n",
    "#print(purchaseByUsersA)\n",
    "#print(purchaseByUsersA['purchases'].mean())\n",
    "#print(purchaseByUsersB)\n",
    "#print(purchaseByUsersB['purchases'].mean())\n",
    "print('Promedio de número de compras por grupo')\n",
    "print(avg_purchasesByUsers)\n",
    "print('--------------------------------')\n",
    "print('Promedio de gasto en compras por grupo ')\n",
    "print(total_purchasesByGroup)\n",
    "\n",
    "total_users_by_group = clean_merge.groupby('group', as_index = False).agg({'user_id': 'nunique'})\n",
    "print(total_users_by_group)\n",
    "#print(clean_merge[clean_merge['group'] == 'B'].groupby(['user_id']).count())"
   ]
  },
  {
   "cell_type": "code",
   "execution_count": 5,
   "metadata": {},
   "outputs": [
    {
     "data": {
      "image/png": "[encoded data removed]",
      "text/plain": [
       "<Figure size 400x800 with 5 Axes>"
      ]
     },
     "metadata": {},
     "output_type": "display_data"
    }
   ],
   "source": [
    "fig, axs = plt.subplots(5, 1, figsize = (4,8))\n",
    "axs[0].bar(avg_pageByUsers['group'], avg_pageByUsers['avg_page_products'] )\n",
    "axs[0].set_title('Promedio de visitas a la página del producto por grupo', fontsize=10)\n",
    "\n",
    "axs[1].bar(avg_cartByUsers['group'], avg_cartByUsers['avg_product_cart'] )\n",
    "axs[1].set_title('Promedio de visitas a la página de agregar al carrito por grupo', fontsize=10)\n",
    "\n",
    "axs[2].bar(avg_purchasesByUsers['group'], avg_purchasesByUsers['avg_purchases'] )\n",
    "axs[2].set_title('Promedio de número de compras por grupo', fontsize=10)\n",
    "\n",
    "axs[3].bar(total_purchasesByGroup['group'], total_purchasesByGroup['avg_spent'] )\n",
    "axs[3].set_title('Promedio de gasto por grupo', fontsize=10)\n",
    "\n",
    "axs[4].bar(total_users_by_group['group'], total_users_by_group['user_id'] )\n",
    "axs[4].set_title('Total de usuarios por grupo', fontsize=10)\n",
    "\n",
    "plt.tight_layout()"
   ]
  },
  {
   "cell_type": "markdown",
   "metadata": {},
   "source": [
    "Con los datos proporcionados de los usuarios que pertenecían a los grupos de prueba, vemos que para el grupo B hubo muy pocos usuarios para la prueba, 877 en comparación con el grupo A que tenía 2604 usuarios. A su vez, se obtuvo un promedio menor de conversiones en todas las etapas del embudo para los del grupo B. Se realizón por medio del promedio debido a la cantidad menor de usuarios para analizar en el grupo B. \n",
    "\n",
    "En los ejercicios anteriores se pudo confirmar que no hay usuarios que pertenezcan a ambos grupos, por lo que no hay un sesgo o información errónea en cuanto a la tendencia de los promedios. "
   ]
  },
  {
   "cell_type": "markdown",
   "metadata": {},
   "source": [
    "<div class=\"alert alert-block alert-success\">\n",
    "<b>Comentario del revisor (1ra Iteracion)</b> <a class=“tocSkip”></a>\n",
    "\n",
    "Buen trabajo con el cálculo de las conversiones! Al tratarse de una prueba AB el mostrar la gráfica con los resultados por grupo aporta mucho a comprender las diferencias de manera visual\n",
    "</div>"
   ]
  },
  {
   "cell_type": "code",
   "execution_count": 6,
   "metadata": {},
   "outputs": [],
   "source": [
    "# Conversión de las fechas para eliminar los apartados de la hora, minutos y segundos\n",
    "clean_merge['event_dt'] = clean_merge['event_dt'].dt.date\n"
   ]
  },
  {
   "cell_type": "code",
   "execution_count": 7,
   "metadata": {},
   "outputs": [
    {
     "name": "stdout",
     "output_type": "stream",
     "text": [
      "                user_id group                  ab_test first_date region  \\\n",
      "0      D1ABA3E2887B6A73     A  recommender_system_test 2020-12-07     EU   \n",
      "1      D1ABA3E2887B6A73     A  recommender_system_test 2020-12-07     EU   \n",
      "2      D1ABA3E2887B6A73     A  recommender_system_test 2020-12-07     EU   \n",
      "3      D1ABA3E2887B6A73     A  recommender_system_test 2020-12-07     EU   \n",
      "4      A7A3664BD6242119     A  recommender_system_test 2020-12-20     EU   \n",
      "...                 ...   ...                      ...        ...    ...   \n",
      "22669  80712ED4EA1B52A5     A  recommender_system_test 2020-12-14     EU   \n",
      "22670  80712ED4EA1B52A5     A  recommender_system_test 2020-12-14     EU   \n",
      "22671  80712ED4EA1B52A5     A  recommender_system_test 2020-12-14     EU   \n",
      "22672  80712ED4EA1B52A5     A  recommender_system_test 2020-12-14     EU   \n",
      "22673  80712ED4EA1B52A5     A  recommender_system_test 2020-12-14     EU   \n",
      "\n",
      "        device    event_dt    event_name  details  \n",
      "0           PC  2020-12-07      purchase    99.99  \n",
      "1           PC  2020-12-07  product_cart     1.00  \n",
      "2           PC  2020-12-07  product_page     1.00  \n",
      "3           PC  2020-12-07         login     1.00  \n",
      "4       iPhone  2020-12-20  product_page     1.00  \n",
      "...        ...         ...           ...      ...  \n",
      "22669  Android  2020-12-15  product_page     1.00  \n",
      "22670  Android  2020-12-20  product_page     1.00  \n",
      "22671  Android  2020-12-14         login     1.00  \n",
      "22672  Android  2020-12-15         login     1.00  \n",
      "22673  Android  2020-12-20         login     1.00  \n",
      "\n",
      "[22674 rows x 9 columns]\n"
     ]
    }
   ],
   "source": [
    "print(clean_merge)"
   ]
  },
  {
   "cell_type": "code",
   "execution_count": 8,
   "metadata": {},
   "outputs": [
    {
     "name": "stdout",
     "output_type": "stream",
     "text": [
      "      event_dt  user_id  group  ab_test  first_date  region  device  \\\n",
      "0   2020-12-07      674    674      674         674     674     674   \n",
      "1   2020-12-08      551    551      551         551     551     551   \n",
      "2   2020-12-09      709    709      709         709     709     709   \n",
      "3   2020-12-10      580    580      580         580     580     580   \n",
      "4   2020-12-11      517    517      517         517     517     517   \n",
      "5   2020-12-12      545    545      545         545     545     545   \n",
      "6   2020-12-13      472    472      472         472     472     472   \n",
      "7   2020-12-14     1263   1263     1263        1263    1263    1263   \n",
      "8   2020-12-15     1252   1252     1252        1252    1252    1252   \n",
      "9   2020-12-16     1376   1376     1376        1376    1376    1376   \n",
      "10  2020-12-17     1481   1481     1481        1481    1481    1481   \n",
      "11  2020-12-18     1503   1503     1503        1503    1503    1503   \n",
      "12  2020-12-19     1718   1718     1718        1718    1718    1718   \n",
      "13  2020-12-20     1743   1743     1743        1743    1743    1743   \n",
      "14  2020-12-21     2304   2304     2304        2304    2304    2304   \n",
      "15  2020-12-22     1421   1421     1421        1421    1421    1421   \n",
      "16  2020-12-23     1148   1148     1148        1148    1148    1148   \n",
      "17  2020-12-24      999    999      999         999     999     999   \n",
      "18  2020-12-26      693    693      693         693     693     693   \n",
      "19  2020-12-27      661    661      661         661     661     661   \n",
      "20  2020-12-28      574    574      574         574     574     574   \n",
      "21  2020-12-29      486    486      486         486     486     486   \n",
      "22  2020-12-30        4      4        4           4       4       4   \n",
      "\n",
      "    event_name  details  \n",
      "0          674      674  \n",
      "1          551      551  \n",
      "2          709      709  \n",
      "3          580      580  \n",
      "4          517      517  \n",
      "5          545      545  \n",
      "6          472      472  \n",
      "7         1263     1263  \n",
      "8         1252     1252  \n",
      "9         1376     1376  \n",
      "10        1481     1481  \n",
      "11        1503     1503  \n",
      "12        1718     1718  \n",
      "13        1743     1743  \n",
      "14        2304     2304  \n",
      "15        1421     1421  \n",
      "16        1148     1148  \n",
      "17         999      999  \n",
      "18         693      693  \n",
      "19         661      661  \n",
      "20         574      574  \n",
      "21         486      486  \n",
      "22           4        4  \n"
     ]
    },
    {
     "data": {
      "image/png": "[encoded data removed]",
      "text/plain": [
       "<Figure size 640x480 with 1 Axes>"
      ]
     },
     "metadata": {},
     "output_type": "display_data"
    }
   ],
   "source": [
    "events_by_date = clean_merge.groupby('event_dt', as_index = False).count()\n",
    "print(events_by_date)\n",
    "plt.bar(events_by_date['event_dt'], events_by_date['event_name'])\n",
    "plt.xticks([i for i in events_by_date['event_dt']], rotation = 90)\n",
    "plt.tight_layout()"
   ]
  },
  {
   "cell_type": "markdown",
   "metadata": {},
   "source": [
    "Observamos que la cantidad de eventos en la tienda en línea tuvo un repunte de actividades significativas el día 14 de diciembre y una baja de la misma mientras más se acercaba la fecha de navidad, el 25 de diciembre. Estos datos no coinciden con el supuesto de que habría un repunte de actividades 14 días después de la inscripción a la tienda, ya que esa tendencia debería de iniciar aproximadamente después del día 21 de diciembre. Estas observaciones parecen obedecer más a una alza en las compras debido a la cercanía de las fechas de navidad y están comprando regalos.\n",
    "\n",
    "Para iniciar la prueba A/B, debemos considerar que se estarán introduciendo datos que no concuerdan en la cantidad de usuarios, por lo que se deberá de tomar probablemente otras medidas estadísticas para comprobar los resultados. "
   ]
  },
  {
   "cell_type": "markdown",
   "metadata": {},
   "source": [
    "<div class=\"alert alert-block alert-warning\">\n",
    "<b>Comentario del revisor (1ra Iteracion)</b> <a class=“tocSkip”></a>\n",
    "\n",
    "Correcto, con esta gráfica se puede identificar la tendencia en la cantidad de eventos realizados a lo largo del tiempo. Cómo recomendación adicional, cuando se trate de analizar datos por fechas es mejor realizarlo en un gráfico de líneas, el gráfico de barras se utiliza cuando tienes pocos puntos en el eje horizontal para compararlos entre sí\n",
    "</div>"
   ]
  },
  {
   "cell_type": "markdown",
   "metadata": {},
   "source": [
    "## Evaluación de los resultados de la prueba A/B ##"
   ]
  },
  {
   "cell_type": "markdown",
   "metadata": {},
   "source": [
    "### Evaluación de las conversiones de visita y compra ###"
   ]
  },
  {
   "cell_type": "code",
   "execution_count": 9,
   "metadata": {},
   "outputs": [
    {
     "name": "stdout",
     "output_type": "stream",
     "text": [
      "0.49974\n",
      "-0.132\n"
     ]
    }
   ],
   "source": [
    "# Cantidad de ingresos a la página principal por usuario del grupo A y B\n",
    "logins_per_userA = (clean_merge[(clean_merge['group'] == 'A') & (clean_merge['event_name'] == 'login')].groupby('user_id').agg({'event_name' : 'count'}))\n",
    "logins_per_userB = (clean_merge[(clean_merge['group'] == 'B') & (clean_merge['event_name'] == 'login')].groupby('user_id').agg({'event_name' : 'count'}))\n",
    "\n",
    "# Cantidad de compras por usuario del grupo A\n",
    "purchaseByUsersA = clean_merge[(clean_merge['group'] == 'A') & (clean_merge['event_name'] == 'purchase')].groupby('user_id', as_index = False).agg({'event_name': 'count'})\n",
    "purchaseByUsersA.columns = ['user_id', 'purchases']\n",
    "\n",
    "# Cantidad de compras por usuario del grupo B\n",
    "purchaseByUsersB = clean_merge[(clean_merge['group'] == 'B') & (clean_merge['event_name'] == 'purchase')].groupby('user_id', as_index = False).agg({'event_name': 'count'})\n",
    "purchaseByUsersB.columns = ['user_id', 'purchases']\n",
    "\n",
    "\n",
    "sampleA =pd.concat([purchaseByUsersA['purchases'], pd.Series(0, index = np.arange(logins_per_userA['event_name'].sum() - len(purchaseByUsersA['purchases'])), name = 'purchasesA')], axis = 0)\n",
    "sampleB =pd.concat([purchaseByUsersB['purchases'], pd.Series(0, index = np.arange(logins_per_userB['event_name'].sum() - len(purchaseByUsersB['purchases'])), name = 'purchasesB')], axis = 0)\n",
    "#print(sampleA)\n",
    "#print(sampleB)\n",
    "\n",
    "print(\"{0:.5f}\".format(stats.mannwhitneyu(sampleA, sampleB)[1]))\n",
    "print('{0:.3f}'.format(sampleB.mean() / sampleA.mean() - 1))"
   ]
  },
  {
   "cell_type": "markdown",
   "metadata": {},
   "source": [
    "La prueba Man Whitney nos arroja un valor p de .49974, lo que es mayor que el valor alpha que típicamente usamos para considerar que dos muestras son iguales, el cual establecemos en .05 normalmente. En este caso, al ser mayor nuestro valor p que alpha, asumimos que no hay diferencia significativa en las conversiones de los visitantes del grupo A y el grupo B en las compras, por lo que no podemos rechazar la hipótesis nula de que son estadísticamente iguales.\n",
    "\n",
    "Sin embargo, como hemos podido inutir en el análisis exploratorio de datos anterior, los usuarios del grupo B han tenido menores conversión comparados con los del grupo A. En este caso, el grupo B ha tenido 13.2% menos conversiones que el grupo A."
   ]
  },
  {
   "cell_type": "code",
   "execution_count": 10,
   "metadata": {},
   "outputs": [
    {
     "name": "stdout",
     "output_type": "stream",
     "text": [
      "                user_id group                  ab_test first_date region  \\\n",
      "0      D1ABA3E2887B6A73     A  recommender_system_test 2020-12-07     EU   \n",
      "1      D1ABA3E2887B6A73     A  recommender_system_test 2020-12-07     EU   \n",
      "2      D1ABA3E2887B6A73     A  recommender_system_test 2020-12-07     EU   \n",
      "3      D1ABA3E2887B6A73     A  recommender_system_test 2020-12-07     EU   \n",
      "4      A7A3664BD6242119     A  recommender_system_test 2020-12-20     EU   \n",
      "...                 ...   ...                      ...        ...    ...   \n",
      "22669  80712ED4EA1B52A5     A  recommender_system_test 2020-12-14     EU   \n",
      "22670  80712ED4EA1B52A5     A  recommender_system_test 2020-12-14     EU   \n",
      "22671  80712ED4EA1B52A5     A  recommender_system_test 2020-12-14     EU   \n",
      "22672  80712ED4EA1B52A5     A  recommender_system_test 2020-12-14     EU   \n",
      "22673  80712ED4EA1B52A5     A  recommender_system_test 2020-12-14     EU   \n",
      "\n",
      "        device    event_dt    event_name  details  \n",
      "0           PC  2020-12-07      purchase    99.99  \n",
      "1           PC  2020-12-07  product_cart     1.00  \n",
      "2           PC  2020-12-07  product_page     1.00  \n",
      "3           PC  2020-12-07         login     1.00  \n",
      "4       iPhone  2020-12-20  product_page     1.00  \n",
      "...        ...         ...           ...      ...  \n",
      "22669  Android  2020-12-15  product_page     1.00  \n",
      "22670  Android  2020-12-20  product_page     1.00  \n",
      "22671  Android  2020-12-14         login     1.00  \n",
      "22672  Android  2020-12-15         login     1.00  \n",
      "22673  Android  2020-12-20         login     1.00  \n",
      "\n",
      "[22674 rows x 9 columns]\n"
     ]
    }
   ],
   "source": [
    "print(clean_merge)"
   ]
  },
  {
   "cell_type": "markdown",
   "metadata": {},
   "source": [
    "### Evaluación de los promedios de compra ###"
   ]
  },
  {
   "cell_type": "code",
   "execution_count": 11,
   "metadata": {},
   "outputs": [
    {
     "name": "stdout",
     "output_type": "stream",
     "text": [
      "0.716\n",
      "-0.019\n"
     ]
    }
   ],
   "source": [
    "total_purchases = clean_merge[(clean_merge['event_name'] == 'purchase') ]\n",
    "total_purchasesA = clean_merge[(clean_merge['event_name'] == 'purchase') & (clean_merge['group'] == 'A')]\n",
    "total_purchasesB = clean_merge[(clean_merge['event_name'] == 'purchase') & (clean_merge['group'] == 'B')]\n",
    "\n",
    "print('{0:.3f}'.format(stats.mannwhitneyu(total_purchasesA['details'], total_purchasesB['details'])[1]))\n",
    "print('{0:.3f}'.format(total_purchasesB['details'].mean()/total_purchasesA['details'].mean()-1))\n"
   ]
  },
  {
   "cell_type": "markdown",
   "metadata": {},
   "source": [
    "Al igual que en el ejercicio anterior, tenemos un valor p mayor al .05, por lo que no podemos rechazar la hipótesis nula y así podemos afirmar que no hay diferencia significativa entre el monto total gastado por los usuarios en los dos grupos, pero el grupo B sigue teniendo menores compras que los del grupo A. La tendencia está mostrando que los cambios realizados no han sido favorables para aumentar las tasas de conversión."
   ]
  },
  {
   "cell_type": "markdown",
   "metadata": {},
   "source": [
    "### Declaración de valores atípicos ### "
   ]
  },
  {
   "cell_type": "code",
   "execution_count": 12,
   "metadata": {},
   "outputs": [
    {
     "name": "stdout",
     "output_type": "stream",
     "text": [
      "Percentiles total compra: [ 99.99  99.99 499.99]\n",
      "Percentiles numeros de compras: [4. 5. 6.]\n"
     ]
    }
   ],
   "source": [
    "\n",
    "print('Percentiles total compra:', np.percentile(clean_merge[clean_merge['event_name'] == 'purchase']['details'], [90, 95, 99]))\n",
    "print('Percentiles numeros de compras:', np.percentile(clean_merge[clean_merge['event_name'] == 'purchase'].groupby('user_id', as_index = False).agg({'event_name' : 'count'})['event_name'], [90, 95, 99]))\n",
    "\n"
   ]
  },
  {
   "cell_type": "markdown",
   "metadata": {},
   "source": [
    "Estableceremos como compras atípicas valores arriba de 5 productos y compras de valores arriba de 300 USD."
   ]
  },
  {
   "cell_type": "markdown",
   "metadata": {},
   "source": [
    "### Evaluación usando datos sin valores atípicos ###"
   ]
  },
  {
   "cell_type": "code",
   "execution_count": 13,
   "metadata": {},
   "outputs": [
    {
     "name": "stdout",
     "output_type": "stream",
     "text": [
      "0.434\n",
      "-0.161\n"
     ]
    }
   ],
   "source": [
    "usersWithManyPurchases = pd.concat([purchaseByUsersA[purchaseByUsersA['purchases'] > 5]['user_id'], purchaseByUsersB[purchaseByUsersB['purchases'] > 5]['user_id']], axis = 0)\n",
    "usersWithExpensivePurchase = clean_merge[(clean_merge['details'] > 300) & (clean_merge['event_name'] == 'purchase') ]['user_id']\n",
    "abnormalUsers = pd.concat([usersWithManyPurchases, usersWithExpensivePurchase], axis = 0).drop_duplicates().sort_values()\n",
    "\n",
    "sampleAFiltered = pd.concat([purchaseByUsersA[np.logical_not(purchaseByUsersA['user_id'].isin(abnormalUsers))]['purchases'],pd.Series(0, index=np.arange(logins_per_userA['event_name'].sum() - len(purchaseByUsersA['purchases'])),name='purchasesA')],axis=0)\n",
    "\n",
    "sampleBFiltered = pd.concat([purchaseByUsersB[np.logical_not(purchaseByUsersB['user_id'].isin(abnormalUsers))]['purchases'],pd.Series(0, index=np.arange(logins_per_userB['event_name'].sum() - len(purchaseByUsersB['purchases'])),name='purchasesB')],axis=0)\n",
    "\n",
    "print(\"{0:.3f}\".format(stats.mannwhitneyu(sampleAFiltered, sampleBFiltered)[1]))\n",
    "print(\"{0:.3f}\".format(sampleBFiltered.mean()/sampleAFiltered.mean()-1))"
   ]
  },
  {
   "cell_type": "markdown",
   "metadata": {},
   "source": [
    "Observamos que modificando las muestras y quitando los usuarios con comportamientos de compra atípicos, no hubo cambios en los resultados, seguimos sin rechazar la hipótesis nula ya que el valor p es de .435, arriba de .05, para afirmar que no hay diferencia significativa en las muestras, y seguimos teniendo menos conversión en el grupo B en comparación con el grupo A."
   ]
  },
  {
   "cell_type": "code",
   "execution_count": 14,
   "metadata": {},
   "outputs": [
    {
     "name": "stdout",
     "output_type": "stream",
     "text": [
      "0.873\n",
      "-0.046\n"
     ]
    }
   ],
   "source": [
    "\n",
    "print(\"{0:.3f}\".format(stats.mannwhitneyu(total_purchases[np.logical_and(total_purchases['group']=='A', np.logical_not(total_purchases['user_id'].isin(abnormalUsers)))]['details'], total_purchases[np.logical_and(total_purchases['group']=='B',  np.logical_not(total_purchases['user_id'].isin(abnormalUsers)))]['details'])[1]))\n",
    "print(\"{0:.3f}\".format(total_purchases[np.logical_and(total_purchases['group']=='B', np.logical_not(total_purchases['user_id'].isin(abnormalUsers)))]['details'].mean() / total_purchases[np.logical_and(total_purchases['group']=='A', np.logical_not(total_purchases['user_id'].isin(abnormalUsers)))]['details'].mean() - 1)) "
   ]
  },
  {
   "cell_type": "markdown",
   "metadata": {},
   "source": [
    "Para finalizar las pruebas de Man Whitney, obtuvimos que aún eliminando los usuarios con compras atípicas, no hubo cambios con las pruebas anteriores respecto a la cantidad de dinero gastado por usuario y la tendencia siguió igual en decremento de las compras del grupo B en comparación con el grupo A. "
   ]
  },
  {
   "cell_type": "markdown",
   "metadata": {},
   "source": [
    "### Prueba Z para comprobar la diferencia estadística entre las proporciones ###"
   ]
  },
  {
   "cell_type": "code",
   "execution_count": 40,
   "metadata": {},
   "outputs": [
    {
     "name": "stdout",
     "output_type": "stream",
     "text": [
      "p-value:  0.00012198961229881178\n",
      "Rechazar la hipótesis nula: hay una diferencia significativa entre las proporciones\n"
     ]
    }
   ],
   "source": [
    "groupAUsers = clean_merge[clean_merge['group'] == 'A']\n",
    "groupBUsers = clean_merge[clean_merge['group'] == 'B']\n",
    "\n",
    "tempA = groupAUsers.groupby('event_name').count()\n",
    "loginsA = tempA.iloc[0,0]\n",
    "purchasesA = tempA.iloc[3,0]\n",
    "\n",
    "tempB = groupBUsers.groupby('event_name').count()\n",
    "loginsB = tempB.iloc[0,0]\n",
    "purchasesB = tempB.iloc[3,0]\n",
    "\n",
    "alpha = .05\n",
    "\n",
    "p1 = purchasesA/loginsA\n",
    "p2 = purchasesB/loginsB\n",
    "\n",
    "p_combined = (purchasesA + purchasesB) / (loginsA + loginsB)\n",
    "\n",
    "difference = p1 - p2\n",
    "\n",
    "z_value = difference / mth.sqrt(p_combined * (1 - p_combined) * (1/loginsA + 1/loginsB))\n",
    "\n",
    "distr = st.norm(0, 1) \n",
    "# escribe tu código aquí\n",
    "\n",
    "p_value = (1 - distr.cdf(abs(z_value))) * 2\n",
    "\n",
    "print('p-value: ', p_value)\n",
    "\n",
    "if (p_value < alpha):# escribe tu código aquí\n",
    "    print(\"Rechazar la hipótesis nula: hay una diferencia significativa entre las proporciones\")\n",
    "else:\n",
    "    print(\"No se pudo rechazar la hipótesis nula: no hay razón para pensar que las proporciones son diferentes\")"
   ]
  },
  {
   "cell_type": "markdown",
   "metadata": {},
   "source": [
    "Tal como intuimos en la sección del análisis exploratorio de los datos, observamos que hay un diferencia significativa entre las proporciones de los datos del grupo A y del grupo B, por lo que se podría requerir una mayor cantidad de tiempo para seguir reuniendo datos del grupo B."
   ]
  },
  {
   "cell_type": "markdown",
   "metadata": {},
   "source": [
    "<div class=\"alert alert-block alert-success\">\n",
    "<b>Comentario general (1ra Iteracion)</b> <a class=“tocSkip”></a>\n",
    "\n",
    "Muy bien, aplicar pruebas estadísticas sobre la conversión de cada evento ayuda a entender mejor en que etápa se ve más alterada la experiencia de los usuarios\n",
    "</div>"
   ]
  },
  {
   "cell_type": "markdown",
   "metadata": {},
   "source": [
    "## CONCLUSIONES ##"
   ]
  },
  {
   "cell_type": "markdown",
   "metadata": {},
   "source": [
    "Como pudimos ver en el Análisis Exploratorio de los Datos, hubo una falta de datos de los predecesor para poder nutrir con más información la base de datos para la prueba. Sin embargo, tanto en el Análisis de los datos y en la Prueba A/B con la información proporcionada, se veía una tendencia y comprobación de que no hubo una mejora en las tasas de conversiones del grupo B con respecto al grupo A. Tal vez esta fue la razón por la que el personal anterior dejó inconclusa la prueba por la tendencia que se veía, por lo que se sugiere realizar algunos cambios en la tienda en línea y generar otra prueba A/B con una nueva base de datos de después de implementar los cambios a la página."
   ]
  },
  {
   "cell_type": "markdown",
   "metadata": {},
   "source": [
    "<div class=\"alert alert-block alert-success\">\n",
    "<b>Comentario general (1ra Iteracion)</b> <a class=“tocSkip”></a>\n",
    "\n",
    "Hiciste un buen trabajo Alejandro, redactaste buenas conclusiones. Se nota tu conocimiento para realizar los análisis a partir de pruebas AB, esto será algo que encuentres muy seguido en un entorno laboral.\n",
    "    \n",
    "Siempre procura revisar las métricas calculadas por cada grupo para que se puedan ver las diferencias en cada paso. El objetivo en un AB Test siempre es entender el comportamiento de los dos grupos para ver que grupo tiene un mejor desempeño en cuanto a las métricas que le conviene a la empresa\n",
    "    \n",
    "Saludos.\n",
    "</div>"
   ]
  }
 ],
 "metadata": {
  "kernelspec": {
   "display_name": "Python 3 (ipykernel)",
   "language": "python",
   "name": "python3"
  },
  "language_info": {
   "codemirror_mode": {
    "name": "ipython",
    "version": 3
   },
   "file_extension": ".py",
   "mimetype": "text/x-python",
   "name": "python",
   "nbconvert_exporter": "python",
   "pygments_lexer": "ipython3",
   "version": "3.9.23"
  }
 },
 "nbformat": 4,
 "nbformat_minor": 4
}
